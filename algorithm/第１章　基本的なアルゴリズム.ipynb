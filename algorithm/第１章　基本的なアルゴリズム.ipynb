{
 "cells": [
  {
   "cell_type": "markdown",
   "metadata": {},
   "source": [
    "- [新・明解Pythonで学ぶアルゴリズムとデータ構造 柴田望洋](https://www.amazon.co.jp/新・明解Pythonで学ぶアルゴリズムとデータ構造-柴田-望洋-ebook/dp/B0834JWWZG/ref=sr_1_2?__mk_ja_JP=カタカナ&crid=3C192VR3DWPJH&keywords=python+アルゴリズム&qid=1585569327&s=digital-text&sprefix=python+%2Cdigital-text%2C304&sr=1-2)"
   ]
  },
  {
   "cell_type": "markdown",
   "metadata": {},
   "source": [
    "# 1. 基本的なアルゴリズム"
   ]
  },
  {
   "cell_type": "markdown",
   "metadata": {},
   "source": [
    "## 1.1. アルゴリズムとは"
   ]
  },
  {
   "cell_type": "markdown",
   "metadata": {},
   "source": [
    "### 3値の最大値"
   ]
  },
  {
   "cell_type": "code",
   "execution_count": 21,
   "metadata": {},
   "outputs": [
    {
     "name": "stdout",
     "output_type": "stream",
     "text": [
      "三つの整数の最大値を求めます。\n",
      "整数aの値：1\n",
      "整数bの値：2\n",
      "整数cの値：3\n",
      "最大値は3です。\n"
     ]
    }
   ],
   "source": [
    "# 三つの整数値を読み込んで最大値を求めて表示\n",
    "\n",
    "print('三つの整数の最大値を求めます。')\n",
    "a = int(input('整数aの値：'))\n",
    "b = int(input('整数bの値：'))\n",
    "c = int(input('整数cの値：'))\n",
    "\n",
    "maximum = a\n",
    "if b > maximum: maximum = b\n",
    "if c > maximum: maximum = c\n",
    "\n",
    "print(f'最大値は{maximum}です。')"
   ]
  },
  {
   "cell_type": "markdown",
   "metadata": {},
   "source": [
    "#### Column 1-1 キーボードからの文字列と数値の読み込み"
   ]
  },
  {
   "cell_type": "code",
   "execution_count": 22,
   "metadata": {},
   "outputs": [
    {
     "name": "stdout",
     "output_type": "stream",
     "text": [
      "お名前は：hoge\n",
      "こんにちはhogeさん\n"
     ]
    }
   ],
   "source": [
    "print('お名前は：', end='')\n",
    "name = input()\n",
    "print(f'こんにちは{name}さん')"
   ]
  },
  {
   "cell_type": "markdown",
   "metadata": {},
   "source": [
    "- [Pythonのf文字列（フォーマット済み文字列リテラル）の使い方](https://note.nkmk.me/python-f-strings/)  \n",
    "    \n",
    "    f文字列（f-strings）は文字列リテラルの前にfまたはFを置く（f'xxx', F'xxx'）。  \n",
    "    文字列中の置換フィールドに変数をそのまま指定できる。"
   ]
  },
  {
   "cell_type": "code",
   "execution_count": 23,
   "metadata": {},
   "outputs": [
    {
     "name": "stdout",
     "output_type": "stream",
     "text": [
      "お名前は：hoge\n"
     ]
    }
   ],
   "source": [
    "name = input('お名前は：')"
   ]
  },
  {
   "cell_type": "markdown",
   "metadata": {},
   "source": [
    "#### Column 1-2 if文の構文"
   ]
  },
  {
   "cell_type": "code",
   "execution_count": 45,
   "metadata": {},
   "outputs": [],
   "source": [
    "# 三つの整数値の最大値を求めて表示（すべての大小関係について確認）\n",
    "\n",
    "def max3(a, b, c):\n",
    "    '''a,b,cの最大値を求めて返却'''\n",
    "    maximum = a\n",
    "    if b > maximum: maximum = b\n",
    "    if c > maximum: maximum = c\n",
    "    return maximum"
   ]
  },
  {
   "cell_type": "code",
   "execution_count": 46,
   "metadata": {},
   "outputs": [
    {
     "name": "stdout",
     "output_type": "stream",
     "text": [
      "max3(3,2,1) = 3\n"
     ]
    }
   ],
   "source": [
    "print(f'max3(3,2,1) = {max3(3,2,1)}')"
   ]
  },
  {
   "cell_type": "markdown",
   "metadata": {},
   "source": [
    "#### Column 1-3 関数の返却値を関数呼び出し式の評価"
   ]
  },
  {
   "cell_type": "markdown",
   "metadata": {},
   "source": [
    "#### Column 1-4 スイートの記述"
   ]
  },
  {
   "cell_type": "code",
   "execution_count": 26,
   "metadata": {},
   "outputs": [
    {
     "name": "stdout",
     "output_type": "stream",
     "text": [
      "min: 1 max: 2\n"
     ]
    }
   ],
   "source": [
    "# 頭部の次の行に１レベル深くインデント\n",
    "a = 1\n",
    "b = 2\n",
    "\n",
    "if a < b:\n",
    "    min = a\n",
    "    max = b\n",
    "    print('min:',min,'max:',max)"
   ]
  },
  {
   "cell_type": "code",
   "execution_count": 27,
   "metadata": {},
   "outputs": [
    {
     "data": {
      "text/plain": [
       "(1, 2)"
      ]
     },
     "execution_count": 27,
     "metadata": {},
     "output_type": "execute_result"
    }
   ],
   "source": [
    "# スイートが単純文のみで構成される ==> ':'を使用\n",
    "# 単純文が複数 ==> ';'で区切る\n",
    "if a < b: min2 = a\n",
    "if a < b: min2 = a; max2 = b\n",
    "if a < b: min2 = a; max2 = b;\n",
    "\n",
    "min2,max2"
   ]
  },
  {
   "cell_type": "markdown",
   "metadata": {},
   "source": [
    "#### Column 1-5 3値の大小関係と中央値"
   ]
  },
  {
   "cell_type": "code",
   "execution_count": 28,
   "metadata": {
    "code_folding": []
   },
   "outputs": [],
   "source": [
    "# 3つの整数値を読み込んで中央値を求めて表示\n",
    "def med3(a, b, c):\n",
    "    '''a,b,cの中央値を求めて返却'''\n",
    "    if a >= b:\n",
    "        if b >= c:\n",
    "            return b\n",
    "        elif a <= c:\n",
    "            return a\n",
    "        else:\n",
    "            return c\n",
    "    elif a > c:\n",
    "        return a\n",
    "    elif b > c:\n",
    "        return c\n",
    "    else:\n",
    "        return b"
   ]
  },
  {
   "cell_type": "code",
   "execution_count": 29,
   "metadata": {},
   "outputs": [
    {
     "name": "stdout",
     "output_type": "stream",
     "text": [
      "三つの整数の中央値を求めます。\n",
      "整数aの値：1\n",
      "整数bの値：2\n",
      "整数cの値：3\n",
      "中央値は2です\n"
     ]
    }
   ],
   "source": [
    "print('三つの整数の中央値を求めます。')\n",
    "a = int(input('整数aの値：'))\n",
    "b = int(input('整数bの値：'))\n",
    "c = int(input('整数cの値：'))\n",
    "print(f'中央値は{med3(a,b,c)}です')"
   ]
  },
  {
   "cell_type": "code",
   "execution_count": 30,
   "metadata": {},
   "outputs": [],
   "source": [
    "# 3つの整数値を読み込んで中央値を求めて表示（別解）\n",
    "# ifとelifで同じような判定をしているため、効率が悪い\n",
    "def med3(a, b, c):\n",
    "    if (b >= a and c <= a) or (b <= a and c >= a):\n",
    "        return a\n",
    "    elif (a > b and c < b) or (a < b and c > b):\n",
    "        return b\n",
    "    return c"
   ]
  },
  {
   "cell_type": "markdown",
   "metadata": {},
   "source": [
    "### 条件判定と分岐"
   ]
  },
  {
   "cell_type": "code",
   "execution_count": 31,
   "metadata": {},
   "outputs": [
    {
     "name": "stdout",
     "output_type": "stream",
     "text": [
      "整数：1\n",
      "その値は正です。\n"
     ]
    }
   ],
   "source": [
    "# 読み込んだ整数値の符号を表示\n",
    "n = int(input('整数：'))\n",
    "\n",
    "if n > 0:\n",
    "    print('その値は正です。')\n",
    "elif n < 0:\n",
    "    print('その値は負です。')\n",
    "else:\n",
    "    print('その値は0です。')"
   ]
  },
  {
   "cell_type": "code",
   "execution_count": 32,
   "metadata": {},
   "outputs": [
    {
     "name": "stdout",
     "output_type": "stream",
     "text": [
      "整数：2\n",
      "B\n"
     ]
    }
   ],
   "source": [
    "# 整数値の判定（その１）\n",
    "n = int(input('整数：'))\n",
    "\n",
    "if n ==1:\n",
    "    print('A')\n",
    "elif n == 2:\n",
    "    print('B')\n",
    "else:\n",
    "    print('C')"
   ]
  },
  {
   "cell_type": "code",
   "execution_count": 33,
   "metadata": {},
   "outputs": [
    {
     "name": "stdout",
     "output_type": "stream",
     "text": [
      "整数：3\n",
      "C\n"
     ]
    }
   ],
   "source": [
    "# 整数値の判定（その２）\n",
    "\n",
    "n = int(input('整数：'))\n",
    "\n",
    "if n == 1:\n",
    "    print('A')\n",
    "elif n ==2:\n",
    "    print('B')\n",
    "elif n == 3:\n",
    "    print('C')"
   ]
  },
  {
   "cell_type": "code",
   "execution_count": 34,
   "metadata": {},
   "outputs": [
    {
     "name": "stdout",
     "output_type": "stream",
     "text": [
      "整数：2\n",
      "B\n"
     ]
    }
   ],
   "source": [
    "# 整数値の判定（その２の正体）\n",
    "\n",
    "n = int(input('整数：'))\n",
    "\n",
    "if n == 1:\n",
    "    print('A')\n",
    "elif n ==2:\n",
    "    print('B')\n",
    "elif n == 3:\n",
    "    print('C')\n",
    "# プログラムを４つに分岐するelseが隠れていた！\n",
    "else:\n",
    "    pass"
   ]
  },
  {
   "cell_type": "markdown",
   "metadata": {},
   "source": [
    "#### Column 1-6 演算子とオペランド"
   ]
  },
  {
   "cell_type": "code",
   "execution_count": 35,
   "metadata": {},
   "outputs": [
    {
     "data": {
      "text/plain": [
       "2"
      ]
     },
     "execution_count": 35,
     "metadata": {},
     "output_type": "execute_result"
    }
   ],
   "source": [
    "# 唯一の三項演算子　if 〜 else\n",
    "\n",
    "x = 1\n",
    "y = 2\n",
    "\n",
    "a = x if x > y else y\n",
    "\n",
    "a"
   ]
  },
  {
   "cell_type": "code",
   "execution_count": 36,
   "metadata": {},
   "outputs": [
    {
     "name": "stdout",
     "output_type": "stream",
     "text": [
      "cはゼロ\n"
     ]
    }
   ],
   "source": [
    "c = 0\n",
    "\n",
    "print('cはゼロ' if c == 0 else 'cは非ゼロ')"
   ]
  },
  {
   "cell_type": "markdown",
   "metadata": {},
   "source": [
    "#### フローチャート（流れ図）の記号"
   ]
  },
  {
   "cell_type": "markdown",
   "metadata": {},
   "source": [
    "## 1.2. 繰り返し"
   ]
  },
  {
   "cell_type": "markdown",
   "metadata": {},
   "source": [
    "### 1からnまでの整数の総和を求めるーwhile文"
   ]
  },
  {
   "cell_type": "code",
   "execution_count": 39,
   "metadata": {},
   "outputs": [
    {
     "name": "stdout",
     "output_type": "stream",
     "text": [
      "1からnまでの総和を求めます。\n",
      "ｎの値：5\n",
      "1から5までの総和は15です。\n"
     ]
    }
   ],
   "source": [
    "print('1からnまでの総和を求めます。')\n",
    "n = int(input('ｎの値：'))\n",
    "\n",
    "sum = 0\n",
    "i = 1\n",
    "\n",
    "while i <= n:\n",
    "    sum += i\n",
    "    i += 1\n",
    "print(f'1から{n}までの総和は{sum}です。')"
   ]
  },
  {
   "cell_type": "markdown",
   "metadata": {},
   "source": [
    "### 1からnまでの整数の総和を求めるーfor文"
   ]
  },
  {
   "cell_type": "code",
   "execution_count": 42,
   "metadata": {},
   "outputs": [
    {
     "name": "stdout",
     "output_type": "stream",
     "text": [
      "1からnまでの総和を求めます。\n",
      "nの値：4\n",
      "1から4までの総和は10です。\n"
     ]
    }
   ],
   "source": [
    "print('1からnまでの総和を求めます。')\n",
    "n = int(input('nの値：'))\n",
    "\n",
    "sum = 0\n",
    "\n",
    "for i in range(1, n+1):\n",
    "    sum += i    # sumに1を加える\n",
    "    \n",
    "print(f'1から{n}までの総和は{sum}です。')"
   ]
  },
  {
   "cell_type": "markdown",
   "metadata": {},
   "source": [
    "#### ガウスの方法"
   ]
  },
  {
   "cell_type": "code",
   "execution_count": 44,
   "metadata": {},
   "outputs": [
    {
     "name": "stdout",
     "output_type": "stream",
     "text": [
      "n = 2\n",
      "3\n"
     ]
    }
   ],
   "source": [
    "# 1からnまでの総和\n",
    "n = int(input('n = '))\n",
    "sum = n * (n + 1) // 2\n",
    "print(sum)"
   ]
  },
  {
   "cell_type": "markdown",
   "metadata": {},
   "source": [
    "#### Column 1-7 range関数"
   ]
  },
  {
   "cell_type": "code",
   "execution_count": 59,
   "metadata": {},
   "outputs": [
    {
     "name": "stdout",
     "output_type": "stream",
     "text": [
      "0 1 2 3 4 5 6 7 8 9 "
     ]
    }
   ],
   "source": [
    "# range(n) : 0以上n未満の整数を列挙\n",
    "for i in range(10):\n",
    "    print(i,end=' ')"
   ]
  },
  {
   "cell_type": "code",
   "execution_count": 60,
   "metadata": {},
   "outputs": [
    {
     "name": "stdout",
     "output_type": "stream",
     "text": [
      "1 2 3 4 "
     ]
    }
   ],
   "source": [
    "# range(a,b) : a以上b未満の整数を列挙\n",
    "for i in range(1,5):\n",
    "    print(i,end=' ')"
   ]
  },
  {
   "cell_type": "code",
   "execution_count": 61,
   "metadata": {},
   "outputs": [
    {
     "name": "stdout",
     "output_type": "stream",
     "text": [
      "1 3 5 7 9 "
     ]
    }
   ],
   "source": [
    "# range(a, b, step) : a以上b未満の整数をstep個おきに列挙\n",
    "for i in range(1, 11, 2):\n",
    "    print(i, end=' ')"
   ]
  },
  {
   "cell_type": "markdown",
   "metadata": {},
   "source": [
    "### 2個のソートと2値の交換ーfor文"
   ]
  },
  {
   "cell_type": "code",
   "execution_count": 62,
   "metadata": {},
   "outputs": [
    {
     "name": "stdout",
     "output_type": "stream",
     "text": [
      "aからbまでの総和を求める\n",
      "整数a：4\n",
      "整数b：8\n",
      "4から8までの総和は30です。\n"
     ]
    }
   ],
   "source": [
    "# aからbまでの総和を求める（for文）\n",
    "\n",
    "print('aからbまでの総和を求める')\n",
    "a = int(input('整数a：'))\n",
    "b = int(input('整数b：'))\n",
    "\n",
    "if a > b:\n",
    "    a, b = b, a\n",
    "    \n",
    "sum = 0\n",
    "for i in range(a, b + 1):\n",
    "    sum += i\n",
    "    \n",
    "print(f'{a}から{b}までの総和は{sum}です。')"
   ]
  },
  {
   "cell_type": "markdown",
   "metadata": {},
   "source": [
    "#### Column 1-8 2値の交換（その1）"
   ]
  },
  {
   "cell_type": "markdown",
   "metadata": {},
   "source": [
    "### 繰返しの過程における条件判定（その1）"
   ]
  },
  {
   "cell_type": "code",
   "execution_count": 63,
   "metadata": {},
   "outputs": [
    {
     "name": "stdout",
     "output_type": "stream",
     "text": [
      "aからbまでの総和を求めます。\n",
      "整数a : 3\n",
      "整数b : 8\n",
      "3 + 4 + 5 + 6 + 7 + 8 = 33\n"
     ]
    }
   ],
   "source": [
    "# aからbまでの総和を求める（求める過程の式も表示：その１）\n",
    "print('aからbまでの総和を求めます。')\n",
    "a = int(input('整数a : '))\n",
    "b = int(input('整数b : '))\n",
    "\n",
    "if a > b:\n",
    "    a, b = b, a\n",
    "    \n",
    "sum = 0\n",
    "for i in range(a, b + 1):\n",
    "    if i < b:\n",
    "        print(f'{i} + ', end='')\n",
    "    else:\n",
    "        print(f'{i} = ', end='')\n",
    "    sum += i\n",
    "    \n",
    "print(sum)"
   ]
  },
  {
   "cell_type": "code",
   "execution_count": 1,
   "metadata": {},
   "outputs": [
    {
     "name": "stdout",
     "output_type": "stream",
     "text": [
      "aからbまでの総和を求めます。\n",
      "整数a:7\n",
      "整数b:2\n",
      "2 + 3 + 4 + 5 + 6 + 7 = 27\n"
     ]
    }
   ],
   "source": [
    "# aからbまでの総和を求める（求める過程も表示：その２）\n",
    "\n",
    "print('aからbまでの総和を求めます。')\n",
    "a = int(input('整数a:'))\n",
    "b = int(input('整数b:'))\n",
    "\n",
    "if a > b:\n",
    "    a, b = b, a\n",
    "    \n",
    "sum = 0\n",
    "for i in range(a, b):\n",
    "    print(f'{i} + ', end='')\n",
    "    sum += i\n",
    "    \n",
    "print(f'{b} = ', end='')\n",
    "sum += b\n",
    "\n",
    "print(sum)"
   ]
  },
  {
   "cell_type": "markdown",
   "metadata": {},
   "source": [
    "#### Column 1-9 2値の交換（その２）"
   ]
  },
  {
   "cell_type": "markdown",
   "metadata": {},
   "source": [
    "a, b = b, aを知らなかったら・・・  \n",
    "a = t  \n",
    "a = b  \n",
    "b = t  \n",
    "と3行必要！"
   ]
  },
  {
   "cell_type": "markdown",
   "metadata": {},
   "source": [
    "### 繰返しの過程における条件判定（その２）"
   ]
  },
  {
   "cell_type": "markdown",
   "metadata": {},
   "source": [
    "#### 記号文字+と-を交互に表示（その１）"
   ]
  },
  {
   "cell_type": "code",
   "execution_count": 4,
   "metadata": {},
   "outputs": [
    {
     "name": "stdout",
     "output_type": "stream",
     "text": [
      "記号文字+と-を交互に表示します。\n",
      "全部で何個：5\n",
      "+-+-+\n"
     ]
    }
   ],
   "source": [
    "print('記号文字+と-を交互に表示します。')\n",
    "n = int(input('全部で何個：'))\n",
    "\n",
    "for i in range(n):\n",
    "    if i % 2:\n",
    "        print('-', end='')\n",
    "    else:\n",
    "        print('+', end='')\n",
    "print()"
   ]
  },
  {
   "cell_type": "code",
   "execution_count": 6,
   "metadata": {},
   "outputs": [
    {
     "data": {
      "text/plain": [
       "True"
      ]
     },
     "execution_count": 6,
     "metadata": {},
     "output_type": "execute_result"
    }
   ],
   "source": [
    "True == 1"
   ]
  },
  {
   "cell_type": "code",
   "execution_count": 7,
   "metadata": {},
   "outputs": [
    {
     "data": {
      "text/plain": [
       "True"
      ]
     },
     "execution_count": 7,
     "metadata": {},
     "output_type": "execute_result"
    }
   ],
   "source": [
    "False == 0"
   ]
  },
  {
   "cell_type": "markdown",
   "metadata": {},
   "source": [
    "#### 記号文字+と-を交互に表示（その２）"
   ]
  },
  {
   "cell_type": "code",
   "execution_count": 12,
   "metadata": {},
   "outputs": [
    {
     "name": "stdout",
     "output_type": "stream",
     "text": [
      "記号文字+と-を交互に表示します。\n",
      "全部で何個：9\n",
      "+-+-+-+-+"
     ]
    }
   ],
   "source": [
    "print('記号文字+と-を交互に表示します。')\n",
    "n = int(input('全部で何個：'))\n",
    "\n",
    "# n//2(nを2で割ったときの商)回 +- を表示する。\n",
    "for _ in range(n // 2):\n",
    "    print('+-', end='')\n",
    "    \n",
    "# n%2(nを2で割ったときの余りが1(if文でTrueになる))のとき、+を表示する。\n",
    "if n % 2:\n",
    "    print('+',end='')"
   ]
  },
  {
   "cell_type": "markdown",
   "metadata": {},
   "source": [
    "### 繰返しの過程における条件判定（その３）"
   ]
  },
  {
   "cell_type": "markdown",
   "metadata": {},
   "source": [
    "#### n個の記号文字*をw個ごとに繰返しながら表示（その１）"
   ]
  },
  {
   "cell_type": "code",
   "execution_count": 10,
   "metadata": {},
   "outputs": [
    {
     "name": "stdout",
     "output_type": "stream",
     "text": [
      "記号文字*を表示します。\n",
      "全部で何個：5\n",
      "何個ごとに改行：2\n",
      "**\n",
      "**\n",
      "*\n"
     ]
    }
   ],
   "source": [
    "print('記号文字*を表示します。')\n",
    "\n",
    "n = int(input('全部で何個：'))\n",
    "w = int(input('何個ごとに改行：'))\n",
    "\n",
    "for i in range(n):\n",
    "    print('*', end='')\n",
    "    # iの値をwで割った値がw-1になるときに改行\n",
    "    # 例）wが5のとき、iが4,9,14,･･･のとき\n",
    "    if i % w == w - 1:\n",
    "        print()\n",
    "\n",
    "if n % w:\n",
    "    print()"
   ]
  },
  {
   "cell_type": "markdown",
   "metadata": {},
   "source": [
    "#### n個の記号文字*をw個ごとに繰返しながら表示（その２）"
   ]
  },
  {
   "cell_type": "code",
   "execution_count": 3,
   "metadata": {},
   "outputs": [
    {
     "name": "stdout",
     "output_type": "stream",
     "text": [
      "記号文字*を表示します。\n",
      "全部で何個：15\n",
      "何個ごとに改行：3\n",
      "***\n",
      "***\n",
      "***\n",
      "***\n",
      "***\n"
     ]
    }
   ],
   "source": [
    "print('記号文字*を表示します。')\n",
    "n = int(input('全部で何個：'))\n",
    "w = int(input('何個ごとに改行：'))\n",
    "\n",
    "# w個の'*'の出力をn//w回行う→１行分の*の数×行数が出力される\n",
    "for _ in range(n // w):\n",
    "    print('*' * w)\n",
    "\n",
    "# 余りの*を出力\n",
    "rest = n % w\n",
    "if rest:\n",
    "    print('*' * rest)"
   ]
  },
  {
   "cell_type": "markdown",
   "metadata": {},
   "source": [
    "### 正の値の読み込み"
   ]
  },
  {
   "cell_type": "markdown",
   "metadata": {},
   "source": [
    "#### 1からnまでの総和を求める（nに正の整数値を読み込む）"
   ]
  },
  {
   "cell_type": "code",
   "execution_count": 11,
   "metadata": {},
   "outputs": [
    {
     "name": "stdout",
     "output_type": "stream",
     "text": [
      "1からnまでの総和を求めます。\n",
      "nの値：10\n",
      "1から10までの総和は55です。\n"
     ]
    }
   ],
   "source": [
    "print('1からnまでの総和を求めます。')\n",
    "\n",
    "while True:\n",
    "    n = int(input('nの値：'))\n",
    "    if n > 0:\n",
    "        break\n",
    "        \n",
    "sum = 0\n",
    "i = 1\n",
    "\n",
    "for i in range(1, n + 1):\n",
    "    sum += i\n",
    "    i += 1\n",
    "print(f'1から{n}までの総和は{sum}です。')"
   ]
  },
  {
   "cell_type": "markdown",
   "metadata": {},
   "source": [
    "#### Column 1-11 for分終了時のカウンタ用変数の値"
   ]
  },
  {
   "cell_type": "markdown",
   "metadata": {},
   "source": [
    "### 辺と面積が整数値である長方形"
   ]
  },
  {
   "cell_type": "markdown",
   "metadata": {},
   "source": [
    "#### 縦横が整数で面積がareaの長方形の辺の長さを列挙/約数の列挙"
   ]
  },
  {
   "cell_type": "code",
   "execution_count": 4,
   "metadata": {},
   "outputs": [
    {
     "name": "stdout",
     "output_type": "stream",
     "text": [
      "面積は60\n",
      "1×60\n",
      "2×30\n",
      "3×20\n",
      "4×15\n",
      "5×12\n",
      "6×10\n"
     ]
    }
   ],
   "source": [
    "area = int(input('面積は'))\n",
    "\n",
    "for i in range(1, area + 1):\n",
    "    # i*iがareaを超えるとfor文を強制終了する。\n",
    "    if i * i > area: break\n",
    "    # if文がTrueの場合後続部をスキップ\n",
    "    if area % i: continue\n",
    "    print(f'{i}×{area//i}')"
   ]
  },
  {
   "cell_type": "code",
   "execution_count": 10,
   "metadata": {},
   "outputs": [
    {
     "name": "stdout",
     "output_type": "stream",
     "text": [
      "乱数は何個：10\n",
      "76 37 12 97 59 14 37 62 71 94 \n",
      "乱数生産終了\n"
     ]
    }
   ],
   "source": [
    "# 10~99の乱数をn個作成\n",
    "import random\n",
    "n = int(input('乱数は何個：'))\n",
    "\n",
    "for _ in range(n):\n",
    "    r = random.randint(10, 99)\n",
    "    print(r, end=' ')\n",
    "    if r == 13:\n",
    "        print('\\n事情により中断します。')\n",
    "        break\n",
    "else:\n",
    "    print('\\n乱数生産終了')"
   ]
  },
  {
   "cell_type": "markdown",
   "metadata": {},
   "source": [
    "### 繰り返しのスキップと複数のrangeの走査"
   ]
  },
  {
   "cell_type": "markdown",
   "metadata": {},
   "source": [
    "#### 1から12までを8をスキップして繰り返す（その１）"
   ]
  },
  {
   "cell_type": "code",
   "execution_count": 16,
   "metadata": {},
   "outputs": [
    {
     "name": "stdout",
     "output_type": "stream",
     "text": [
      "1 2 3 4 5 6 7 9 10 11 12 "
     ]
    }
   ],
   "source": [
    "# \n",
    "for i in range(1,13):\n",
    "    if i == 8:\n",
    "        continue\n",
    "    print(i, end=' ')"
   ]
  },
  {
   "cell_type": "markdown",
   "metadata": {},
   "source": [
    "#### 1から12までを8をスキップして繰り返す（その２）"
   ]
  },
  {
   "cell_type": "code",
   "execution_count": 19,
   "metadata": {},
   "outputs": [
    {
     "name": "stdout",
     "output_type": "stream",
     "text": [
      "1 2 3 4 5 6 7 9 10 11 12 "
     ]
    }
   ],
   "source": [
    "# 事前にスキップする数値がわかっている場合\n",
    "for i in list(range(1,8)) + list(range(9,13)):\n",
    "    print(i, end=' ')"
   ]
  },
  {
   "cell_type": "markdown",
   "metadata": {},
   "source": [
    "#### Column 1-12 値比較演算子の連続適用とド・モルガンの法則"
   ]
  },
  {
   "cell_type": "code",
   "execution_count": 21,
   "metadata": {},
   "outputs": [
    {
     "name": "stdout",
     "output_type": "stream",
     "text": [
      "２桁の整数値を入力してください。\n",
      "値は：80\n",
      "読み込んだのは80です。\n"
     ]
    }
   ],
   "source": [
    "# ２桁の正の整数値（１〜９９）を読み込む\n",
    "print('２桁の整数値を入力してください。')\n",
    "\n",
    "while True:\n",
    "    no = int(input('値は：'))\n",
    "    if no >= 10 and no <= 99:\n",
    "        break\n",
    "print(f'読み込んだのは{no}です。')"
   ]
  },
  {
   "cell_type": "code",
   "execution_count": 22,
   "metadata": {},
   "outputs": [
    {
     "name": "stdout",
     "output_type": "stream",
     "text": [
      "２桁の整数値を入力してください。\n",
      "値は：99\n",
      "読み込んだのは99です。\n"
     ]
    }
   ],
   "source": [
    "# ２桁の正の整数値（１〜９９）を読み込む\n",
    "print('２桁の整数値を入力してください。')\n",
    "\n",
    "while True:\n",
    "    no = int(input('値は：'))\n",
    "    if not(no < 10 or no > 99):\n",
    "        break\n",
    "print(f'読み込んだのは{no}です。')"
   ]
  },
  {
   "cell_type": "markdown",
   "metadata": {},
   "source": [
    "### 構造化プログラミング"
   ]
  },
  {
   "cell_type": "markdown",
   "metadata": {},
   "source": [
    "### 多重ループ"
   ]
  },
  {
   "cell_type": "markdown",
   "metadata": {},
   "source": [
    "#### 九九の表"
   ]
  },
  {
   "cell_type": "code",
   "execution_count": 46,
   "metadata": {},
   "outputs": [
    {
     "name": "stdout",
     "output_type": "stream",
     "text": [
      "---------------------------\n",
      "  1  2  3  4  5  6  7  8  9\n",
      "  2  4  6  8 10 12 14 16 18\n",
      "  3  6  9 12 15 18 21 24 27\n",
      "  4  8 12 16 20 24 28 32 36\n",
      "  5 10 15 20 25 30 35 40 45\n",
      "  6 12 18 24 30 36 42 48 54\n",
      "  7 14 21 28 35 42 49 56 63\n",
      "  8 16 24 32 40 48 56 64 72\n",
      "  9 18 27 36 45 54 63 72 81\n",
      "---------------------------\n"
     ]
    }
   ],
   "source": [
    "print('-'*27)\n",
    "\n",
    "# 行ループ\n",
    "for i in range(1, 10):\n",
    "    # 列ループ\n",
    "    for j in range(1, 10):\n",
    "        # {:3} {:>3}：(右寄せ)3桁で表記\n",
    "        print(f'{i*j:>3}',end='')\n",
    "    # jのループが終わったら改行\n",
    "    print()\n",
    "print('-'*27)"
   ]
  },
  {
   "cell_type": "markdown",
   "metadata": {},
   "source": [
    "#### Column 1-13 乱数を生成するrandom.randint関数"
   ]
  },
  {
   "cell_type": "code",
   "execution_count": 47,
   "metadata": {},
   "outputs": [
    {
     "data": {
      "text/plain": [
       "62"
      ]
     },
     "execution_count": 47,
     "metadata": {},
     "output_type": "execute_result"
    }
   ],
   "source": [
    "# random.randint(a, b)：a以上b以下の整数値から無作為に１つを抽出\n",
    "random.randint(1,100)"
   ]
  },
  {
   "cell_type": "markdown",
   "metadata": {},
   "source": [
    "#### 直角三角形の表示"
   ]
  },
  {
   "cell_type": "code",
   "execution_count": 48,
   "metadata": {},
   "outputs": [
    {
     "name": "stdout",
     "output_type": "stream",
     "text": [
      "左下直角の二等辺三角形\n",
      "短辺の長さ：5\n",
      "*\n",
      "**\n",
      "***\n",
      "****\n",
      "*****\n"
     ]
    }
   ],
   "source": [
    "# 左下側が直角の二等辺三角形を表示\n",
    "print('左下直角の二等辺三角形')\n",
    "n = int(input('短辺の長さ：'))\n",
    "\n",
    "for i in range(n): # 1〜n-1をiに代入\n",
    "    for j in range(i + 1): # 1〜i+1(n+1)をjに代入\n",
    "        print('*', end='') # i+1(n+1)個の*をprint\n",
    "    print() # 改行"
   ]
  },
  {
   "cell_type": "code",
   "execution_count": 2,
   "metadata": {},
   "outputs": [
    {
     "name": "stdout",
     "output_type": "stream",
     "text": [
      "右下直角の二等辺三角形\n",
      "短辺の長さ：4\n",
      "   *\n",
      "  **\n",
      " ***\n",
      "****\n"
     ]
    }
   ],
   "source": [
    "# 右下側が直角の二等辺三角形を表示\n",
    "\n",
    "print('右下直角の二等辺三角形')\n",
    "n = int(input('短辺の長さ：'))\n",
    "\n",
    "# _にスペースと*を入れる／合計n個になる\n",
    "for i in range(n):\n",
    "    for _ in range(n - 1 - i): # n-1-i個のスペースを左から入れる\n",
    "        print(' ', end='')\n",
    "    for _ in range(i + 1): # i+1個のスペースをスペースの後に入れる\n",
    "        print('*', end='')\n",
    "    print() # 改行"
   ]
  },
  {
   "cell_type": "markdown",
   "metadata": {},
   "source": [
    "#### Column 1-14 Pythonの変数について"
   ]
  },
  {
   "cell_type": "code",
   "execution_count": 4,
   "metadata": {},
   "outputs": [
    {
     "name": "stdout",
     "output_type": "stream",
     "text": [
      "id(1) = 4425155712\n",
      "id(n) = 4425155712\n",
      "id(x) = 4425155712\n"
     ]
    }
   ],
   "source": [
    "# 識別番号を表示\n",
    "n = 1\n",
    "\n",
    "def put_id():\n",
    "    x = 1\n",
    "    print(f'id(x) = {id(x)}')\n",
    "    \n",
    "print(f'id(1) = {id(1)}')\n",
    "print(f'id(n) = {id(n)}')\n",
    "put_id()"
   ]
  },
  {
   "cell_type": "code",
   "execution_count": 6,
   "metadata": {},
   "outputs": [
    {
     "name": "stdout",
     "output_type": "stream",
     "text": [
      "i =   1 id(i) = 4425155712\n",
      "i =   2 id(i) = 4425155744\n",
      "i =   3 id(i) = 4425155776\n",
      "i =   4 id(i) = 4425155808\n",
      "i =   5 id(i) = 4425155840\n",
      "i =   6 id(i) = 4425155872\n",
      "i =   7 id(i) = 4425155904\n",
      "i =   8 id(i) = 4425155936\n",
      "i =   9 id(i) = 4425155968\n",
      "i =  10 id(i) = 4425156000\n"
     ]
    }
   ],
   "source": [
    "# 1から100まで繰返して表示\n",
    "for i in range(1, 11):\n",
    "    print(f'i = {i:3} id(i) = {id(i)}')"
   ]
  }
 ],
 "metadata": {
  "kernelspec": {
   "display_name": "Python 3",
   "language": "python",
   "name": "python3"
  },
  "language_info": {
   "codemirror_mode": {
    "name": "ipython",
    "version": 3
   },
   "file_extension": ".py",
   "mimetype": "text/x-python",
   "name": "python",
   "nbconvert_exporter": "python",
   "pygments_lexer": "ipython3",
   "version": "3.7.6"
  },
  "toc": {
   "base_numbering": 1,
   "nav_menu": {},
   "number_sections": false,
   "sideBar": true,
   "skip_h1_title": false,
   "title_cell": "Table of Contents",
   "title_sidebar": "Contents",
   "toc_cell": false,
   "toc_position": {
    "height": "calc(100% - 180px)",
    "left": "10px",
    "top": "150px",
    "width": "256px"
   },
   "toc_section_display": true,
   "toc_window_display": true
  }
 },
 "nbformat": 4,
 "nbformat_minor": 4
}
