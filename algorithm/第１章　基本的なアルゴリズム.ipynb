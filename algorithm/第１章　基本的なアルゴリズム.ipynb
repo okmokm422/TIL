{
 "cells": [
  {
   "cell_type": "markdown",
   "metadata": {},
   "source": [
    "- [新・明解Pythonで学ぶアルゴリズムとデータ構造 柴田望洋](https://www.amazon.co.jp/新・明解Pythonで学ぶアルゴリズムとデータ構造-柴田-望洋-ebook/dp/B0834JWWZG/ref=sr_1_2?__mk_ja_JP=カタカナ&crid=3C192VR3DWPJH&keywords=python+アルゴリズム&qid=1585569327&s=digital-text&sprefix=python+%2Cdigital-text%2C304&sr=1-2)"
   ]
  },
  {
   "cell_type": "markdown",
   "metadata": {},
   "source": [
    "# 1. 基本的なアルゴリズム"
   ]
  },
  {
   "cell_type": "markdown",
   "metadata": {},
   "source": [
    "## 1.1. アルゴリズムとは"
   ]
  },
  {
   "cell_type": "markdown",
   "metadata": {},
   "source": [
    "### 3値の最大値"
   ]
  },
  {
   "cell_type": "code",
   "execution_count": 1,
   "metadata": {},
   "outputs": [
    {
     "name": "stdout",
     "output_type": "stream",
     "text": [
      "三つの整数の最大値を求めます。\n",
      "整数aの値：1\n",
      "整数bの値：2\n",
      "整数cの値：3\n",
      "最大値は3です。\n"
     ]
    }
   ],
   "source": [
    "# 三つの整数値を読み込んで最大値を求めて表示\n",
    "\n",
    "print('三つの整数の最大値を求めます。')\n",
    "a = int(input('整数aの値：'))\n",
    "b = int(input('整数bの値：'))\n",
    "c = int(input('整数cの値：'))\n",
    "\n",
    "maximum = a\n",
    "if b > maximum: maximum = b\n",
    "if c > maximum: maximum = c\n",
    "\n",
    "print(f'最大値は{maximum}です。')"
   ]
  },
  {
   "cell_type": "markdown",
   "metadata": {},
   "source": [
    "#### Column 1-1 キーボードからの文字列と数値の読み込み"
   ]
  },
  {
   "cell_type": "code",
   "execution_count": 2,
   "metadata": {},
   "outputs": [
    {
     "name": "stdout",
     "output_type": "stream",
     "text": [
      "お名前は：abc\n",
      "こんにちはabcさん\n"
     ]
    }
   ],
   "source": [
    "print('お名前は：', end='')\n",
    "name = input()\n",
    "print(f'こんにちは{name}さん')"
   ]
  },
  {
   "cell_type": "markdown",
   "metadata": {},
   "source": [
    "- [Pythonのf文字列（フォーマット済み文字列リテラル）の使い方](https://note.nkmk.me/python-f-strings/)  \n",
    "    \n",
    "    f文字列（f-strings）は文字列リテラルの前にfまたはFを置く（f'xxx', F'xxx'）。  \n",
    "    文字列中の置換フィールドに変数をそのまま指定できる。"
   ]
  },
  {
   "cell_type": "code",
   "execution_count": 3,
   "metadata": {},
   "outputs": [
    {
     "name": "stdout",
     "output_type": "stream",
     "text": [
      "お名前は：abc\n"
     ]
    }
   ],
   "source": [
    "name = input('お名前は：')"
   ]
  },
  {
   "cell_type": "markdown",
   "metadata": {},
   "source": [
    "#### Column 1-2 if文の構文"
   ]
  },
  {
   "cell_type": "code",
   "execution_count": 4,
   "metadata": {},
   "outputs": [],
   "source": [
    "# 三つの整数値の最大値を求めて表示（すべての大小関係について確認）\n",
    "\n",
    "def max3(a, b, c):\n",
    "    '''a,b,cの最大値を求めて返却'''\n",
    "    maximum = a\n",
    "    if b > maximum: maximum = b\n",
    "    if c > maximum: maximum = c\n",
    "    return maximum"
   ]
  },
  {
   "cell_type": "code",
   "execution_count": 5,
   "metadata": {},
   "outputs": [
    {
     "name": "stdout",
     "output_type": "stream",
     "text": [
      "max3(3,2,1) = 3\n",
      "max3(3,2,2) = 5\n"
     ]
    }
   ],
   "source": [
    "print(f'max3(3,2,1) = {max(3,2,1)}')\n",
    "print(f'max3(3,2,2) = {max(5,5,5)}')"
   ]
  },
  {
   "cell_type": "markdown",
   "metadata": {},
   "source": [
    "#### Column 1-3 関数の返却値を関数呼び出し式の評価"
   ]
  },
  {
   "cell_type": "markdown",
   "metadata": {},
   "source": [
    "#### Column 1-4 スイートの記述"
   ]
  },
  {
   "cell_type": "code",
   "execution_count": 10,
   "metadata": {},
   "outputs": [
    {
     "name": "stdout",
     "output_type": "stream",
     "text": [
      "min: 1 max: 2\n"
     ]
    }
   ],
   "source": [
    "# 頭部の次の行に１レベル深くインデント\n",
    "a = 1\n",
    "b = 2\n",
    "\n",
    "if a < b:\n",
    "    min = a\n",
    "    max = b\n",
    "    print('min:',min,'max:',max)"
   ]
  },
  {
   "cell_type": "code",
   "execution_count": 11,
   "metadata": {},
   "outputs": [
    {
     "data": {
      "text/plain": [
       "(1, 2)"
      ]
     },
     "execution_count": 11,
     "metadata": {},
     "output_type": "execute_result"
    }
   ],
   "source": [
    "# スイートが単純文のみで構成される ==> ':'を使用\n",
    "# 単純文が複数 ==> ';'で区切る\n",
    "if a < b: min2 = a\n",
    "if a < b: min2 = a; max2 = b\n",
    "if a < b: min2 = a; max2 = b;\n",
    "\n",
    "min2,max2"
   ]
  },
  {
   "cell_type": "markdown",
   "metadata": {},
   "source": [
    "#### Column 1-5 3値の大小関係と中央値"
   ]
  },
  {
   "cell_type": "code",
   "execution_count": 14,
   "metadata": {
    "code_folding": []
   },
   "outputs": [],
   "source": [
    "# 3つの整数値を読み込んで中央値を求めて表示\n",
    "def med3(a, b, c):\n",
    "    '''a,b,cの中央値を求めて返却'''\n",
    "    if a >= b:\n",
    "        if b >= c:\n",
    "            return b\n",
    "        elif a <= c:\n",
    "            return a\n",
    "        else:\n",
    "            return c\n",
    "    elif a > c:\n",
    "        return a\n",
    "    elif b > c:\n",
    "        return c\n",
    "    else:\n",
    "        return b"
   ]
  },
  {
   "cell_type": "code",
   "execution_count": 13,
   "metadata": {},
   "outputs": [
    {
     "name": "stdout",
     "output_type": "stream",
     "text": [
      "三つの整数の中央値を求めます。\n",
      "整数aの値：1\n",
      "整数bの値：2\n",
      "整数cの値：3\n",
      "中央値は2です\n"
     ]
    }
   ],
   "source": [
    "print('三つの整数の中央値を求めます。')\n",
    "a = int(input('整数aの値：'))\n",
    "b = int(input('整数bの値：'))\n",
    "c = int(input('整数cの値：'))\n",
    "print(f'中央値は{med3(a,b,c)}です')"
   ]
  },
  {
   "cell_type": "code",
   "execution_count": 15,
   "metadata": {},
   "outputs": [],
   "source": [
    "# 3つの整数値を読み込んで中央値を求めて表示（別解）\n",
    "# ifとelifで同じような判定をしているため、効率が悪い\n",
    "def med3(a, b, c):\n",
    "    if (b >= a and c <= a) or (b <= a and c >= a):\n",
    "        return a\n",
    "    elif (a > b and c < b) or (a < b and c > b):\n",
    "        return b\n",
    "    return c"
   ]
  },
  {
   "cell_type": "markdown",
   "metadata": {},
   "source": [
    "### 条件判定と分岐"
   ]
  },
  {
   "cell_type": "code",
   "execution_count": 17,
   "metadata": {},
   "outputs": [
    {
     "name": "stdout",
     "output_type": "stream",
     "text": [
      "整数：1\n",
      "その値は正です。\n"
     ]
    }
   ],
   "source": [
    "# 読み込んだ整数値の符号を表示\n",
    "n = int(input('整数：'))\n",
    "\n",
    "if n > 0:\n",
    "    print('その値は正です。')\n",
    "elif n < 0:\n",
    "    print('その値は負です。')\n",
    "else:\n",
    "    print('その値は0です。')"
   ]
  },
  {
   "cell_type": "code",
   "execution_count": 18,
   "metadata": {},
   "outputs": [
    {
     "name": "stdout",
     "output_type": "stream",
     "text": [
      "整数：0\n",
      "C\n"
     ]
    }
   ],
   "source": [
    "# 整数値の判定（その１）\n",
    "n = int(input('整数：'))\n",
    "\n",
    "if n ==1:\n",
    "    print('A')\n",
    "elif n == 2:\n",
    "    print('B')\n",
    "else:\n",
    "    print('C')"
   ]
  },
  {
   "cell_type": "code",
   "execution_count": 19,
   "metadata": {},
   "outputs": [
    {
     "name": "stdout",
     "output_type": "stream",
     "text": [
      "整数：4\n"
     ]
    }
   ],
   "source": [
    "# 整数値の判定（その２）\n",
    "\n",
    "n = int(input('整数：'))\n",
    "\n",
    "if n == 1:\n",
    "    print('A')\n",
    "elif n ==2:\n",
    "    print('B')\n",
    "elif n == 3:\n",
    "    print('C')"
   ]
  },
  {
   "cell_type": "code",
   "execution_count": 20,
   "metadata": {},
   "outputs": [
    {
     "name": "stdout",
     "output_type": "stream",
     "text": [
      "整数：4\n"
     ]
    }
   ],
   "source": [
    "# 整数値の判定（その２の正体）\n",
    "\n",
    "n = int(input('整数：'))\n",
    "\n",
    "if n == 1:\n",
    "    print('A')\n",
    "elif n ==2:\n",
    "    print('B')\n",
    "elif n == 3:\n",
    "    print('C')\n",
    "# プログラムを４つに分岐するelseが隠れていた！\n",
    "else:\n",
    "    pass"
   ]
  },
  {
   "cell_type": "markdown",
   "metadata": {},
   "source": [
    "#### Column 1-6 演算子とオペランド"
   ]
  },
  {
   "cell_type": "code",
   "execution_count": 23,
   "metadata": {},
   "outputs": [
    {
     "data": {
      "text/plain": [
       "2"
      ]
     },
     "execution_count": 23,
     "metadata": {},
     "output_type": "execute_result"
    }
   ],
   "source": [
    "# 唯一の三項演算子　if 〜 else\n",
    "\n",
    "x = 1\n",
    "y = 2\n",
    "\n",
    "a = x if x > y else y\n",
    "\n",
    "a"
   ]
  },
  {
   "cell_type": "code",
   "execution_count": 24,
   "metadata": {},
   "outputs": [
    {
     "name": "stdout",
     "output_type": "stream",
     "text": [
      "cはゼロ\n"
     ]
    }
   ],
   "source": [
    "c = 0\n",
    "\n",
    "print('cはゼロ' if c == 0 else 'cは非ゼロ')"
   ]
  },
  {
   "cell_type": "markdown",
   "metadata": {},
   "source": [
    "### フローチャート（流れ図）の記号"
   ]
  },
  {
   "cell_type": "markdown",
   "metadata": {},
   "source": [
    "## 1.2. 繰り返し"
   ]
  },
  {
   "cell_type": "code",
   "execution_count": null,
   "metadata": {},
   "outputs": [],
   "source": []
  },
  {
   "cell_type": "code",
   "execution_count": null,
   "metadata": {},
   "outputs": [],
   "source": []
  },
  {
   "cell_type": "code",
   "execution_count": null,
   "metadata": {},
   "outputs": [],
   "source": []
  },
  {
   "cell_type": "code",
   "execution_count": null,
   "metadata": {},
   "outputs": [],
   "source": []
  },
  {
   "cell_type": "code",
   "execution_count": null,
   "metadata": {},
   "outputs": [],
   "source": []
  },
  {
   "cell_type": "code",
   "execution_count": null,
   "metadata": {},
   "outputs": [],
   "source": []
  }
 ],
 "metadata": {
  "kernelspec": {
   "display_name": "Python 3",
   "language": "python",
   "name": "python3"
  },
  "language_info": {
   "codemirror_mode": {
    "name": "ipython",
    "version": 3
   },
   "file_extension": ".py",
   "mimetype": "text/x-python",
   "name": "python",
   "nbconvert_exporter": "python",
   "pygments_lexer": "ipython3",
   "version": "3.7.7"
  },
  "toc": {
   "base_numbering": 1,
   "nav_menu": {},
   "number_sections": false,
   "sideBar": true,
   "skip_h1_title": false,
   "title_cell": "Table of Contents",
   "title_sidebar": "Contents",
   "toc_cell": false,
   "toc_position": {
    "height": "calc(100% - 180px)",
    "left": "10px",
    "top": "150px",
    "width": "256px"
   },
   "toc_section_display": true,
   "toc_window_display": true
  }
 },
 "nbformat": 4,
 "nbformat_minor": 4
}
