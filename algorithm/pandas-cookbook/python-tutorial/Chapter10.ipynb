{
 "cells": [
  {
   "cell_type": "markdown",
   "metadata": {},
   "source": [
    "# 10. 標準ライブラリミニツアー"
   ]
  },
  {
   "cell_type": "markdown",
   "metadata": {},
   "source": [
    "## 10.1. OSへのインタフェース"
   ]
  },
  {
   "cell_type": "markdown",
   "metadata": {},
   "source": [
    "### reprlibモジュール"
   ]
  },
  {
   "cell_type": "markdown",
   "metadata": {},
   "source": [
    "- オペレーティングシステムと対話する[osモジュール](https://docs.python.org/ja/3/library/os.html#module-os)\n",
    "\n",
    "- [repr(object)](https://docs.python.org/ja/3/library/functions.html#repr)"
   ]
  },
  {
   "cell_type": "code",
   "execution_count": 4,
   "metadata": {},
   "outputs": [
    {
     "data": {
      "text/plain": [
       "\"{'a', 'c', 'd', 'e', 'f', 'g', ...}\""
      ]
     },
     "execution_count": 4,
     "metadata": {},
     "output_type": "execute_result"
    }
   ],
   "source": [
    "import reprlib\n",
    "reprlib.repr(set('supercalifragilisticexpialidocious'))"
   ]
  },
  {
   "cell_type": "code",
   "execution_count": 7,
   "metadata": {},
   "outputs": [
    {
     "data": {
      "text/plain": [
       "\"'aaabbbcccddd'\""
      ]
     },
     "execution_count": 7,
     "metadata": {},
     "output_type": "execute_result"
    }
   ],
   "source": [
    "r = reprlib.repr('aaabbbcccddd')\n",
    "r"
   ]
  },
  {
   "cell_type": "code",
   "execution_count": 8,
   "metadata": {},
   "outputs": [
    {
     "data": {
      "text/plain": [
       "str"
      ]
     },
     "execution_count": 8,
     "metadata": {},
     "output_type": "execute_result"
    }
   ],
   "source": [
    "type(r)"
   ]
  },
  {
   "cell_type": "markdown",
   "metadata": {},
   "source": [
    "- [Pythonのstr( )とrepr( )の使い分け](https://gammasoft.jp/blog/use-diffence-str-and-repr-python/)  \n",
    "    repr()は引数付きのコンストラクタ（または初期化子）を文字列で返してくれる関数  \n",
    "    再び元のオブジェクトに戻せる文字列に変換する"
   ]
  },
  {
   "cell_type": "code",
   "execution_count": 13,
   "metadata": {},
   "outputs": [
    {
     "data": {
      "text/plain": [
       "datetime.date(2020, 4, 7)"
      ]
     },
     "execution_count": 13,
     "metadata": {},
     "output_type": "execute_result"
    }
   ],
   "source": [
    "import datetime\n",
    "today = datetime.date.today()\n",
    "today"
   ]
  },
  {
   "cell_type": "code",
   "execution_count": 10,
   "metadata": {},
   "outputs": [
    {
     "data": {
      "text/plain": [
       "'2020-04-07'"
      ]
     },
     "execution_count": 10,
     "metadata": {},
     "output_type": "execute_result"
    }
   ],
   "source": [
    "str(today)"
   ]
  },
  {
   "cell_type": "code",
   "execution_count": 12,
   "metadata": {},
   "outputs": [
    {
     "data": {
      "text/plain": [
       "'datetime.date(2020, 4, 7)'"
      ]
     },
     "execution_count": 12,
     "metadata": {},
     "output_type": "execute_result"
    }
   ],
   "source": [
    "repr(today)"
   ]
  },
  {
   "cell_type": "markdown",
   "metadata": {},
   "source": [
    "#### evalとは\n",
    "    引数の文字列をPythonの式として実行する関数"
   ]
  },
  {
   "cell_type": "code",
   "execution_count": 15,
   "metadata": {},
   "outputs": [
    {
     "data": {
      "text/plain": [
       "15"
      ]
     },
     "execution_count": 15,
     "metadata": {},
     "output_type": "execute_result"
    }
   ],
   "source": [
    "eval('3*5')"
   ]
  },
  {
   "cell_type": "markdown",
   "metadata": {},
   "source": [
    "### pprintモジュール"
   ]
  },
  {
   "cell_type": "code",
   "execution_count": 28,
   "metadata": {},
   "outputs": [],
   "source": [
    "import pprint"
   ]
  },
  {
   "cell_type": "code",
   "execution_count": 29,
   "metadata": {},
   "outputs": [
    {
     "data": {
      "text/plain": [
       "[[[['black', 'cyan'], 'white', ['green', 'red']],\n",
       "  [['magenta', 'yellow'], 'blue']]]"
      ]
     },
     "execution_count": 29,
     "metadata": {},
     "output_type": "execute_result"
    }
   ],
   "source": [
    "t = [[\n",
    "    [['black', 'cyan'], 'white', ['green', 'red']], \n",
    "    [['magenta', 'yellow'], 'blue']\n",
    "    ]]\n",
    "t"
   ]
  },
  {
   "cell_type": "code",
   "execution_count": 27,
   "metadata": {},
   "outputs": [
    {
     "name": "stdout",
     "output_type": "stream",
     "text": [
      "[[[['black', 'cyan'],\n",
      "   'white',\n",
      "   ['green', 'red']],\n",
      "  [['magenta', 'yellow'],\n",
      "   'blue']]]\n"
     ]
    }
   ],
   "source": [
    "pprint.pprint(t, width=30)"
   ]
  },
  {
   "cell_type": "markdown",
   "metadata": {},
   "source": [
    "- [Pythonのpprintの使い方（リストや辞書を整形して出力）](https://note.nkmk.me/python-pprint-pretty-print/)  \n",
    "    pprintモジュールを使うと、リスト（list型）や辞書（dict型）などのオブジェクトをきれいに整形して出力・表示したり、  \n",
    "    文字列（str型オブジェクト）に変換したりすることができる。\n",
    "    \n",
    "    引数widthを使うと、出力する幅を設定できる。（デフォルトはwidth）  \n",
    "    改行されるのはリストや辞書の要素ごと。\n",
    "    \n",
    "    辞書の要素はキーの順番でソートされる。"
   ]
  },
  {
   "cell_type": "code",
   "execution_count": 30,
   "metadata": {},
   "outputs": [],
   "source": [
    "l = [{'Name': 'Alice XXX', 'Age': 40, 'Points': [80, 20]}, \n",
    "     {'Name': 'Bob YYY', 'Age': 20, 'Points': [90, 10]},\n",
    "     {'Name': 'Charlie ZZZ', 'Age': 30, 'Points': [70, 30]}]"
   ]
  },
  {
   "cell_type": "code",
   "execution_count": 31,
   "metadata": {},
   "outputs": [
    {
     "name": "stdout",
     "output_type": "stream",
     "text": [
      "[{'Name': 'Alice XXX', 'Age': 40, 'Points': [80, 20]}, {'Name': 'Bob YYY', 'Age': 20, 'Points': [90, 10]}, {'Name': 'Charlie ZZZ', 'Age': 30, 'Points': [70, 30]}]\n"
     ]
    }
   ],
   "source": [
    "print(l)"
   ]
  },
  {
   "cell_type": "code",
   "execution_count": 33,
   "metadata": {},
   "outputs": [
    {
     "name": "stdout",
     "output_type": "stream",
     "text": [
      "[{'Age': 40, 'Name': 'Alice XXX', 'Points': [80, 20]},\n",
      " {'Age': 20, 'Name': 'Bob YYY', 'Points': [90, 10]},\n",
      " {'Age': 30, 'Name': 'Charlie ZZZ', 'Points': [70, 30]}]\n"
     ]
    }
   ],
   "source": [
    "# リストの要素ごとに改行\n",
    "pprint.pprint(l)"
   ]
  },
  {
   "cell_type": "markdown",
   "metadata": {},
   "source": [
    "#### 出力幅（文字数）を指定: 引数width"
   ]
  },
  {
   "cell_type": "code",
   "execution_count": 34,
   "metadata": {},
   "outputs": [
    {
     "name": "stdout",
     "output_type": "stream",
     "text": [
      "[{'Age': 40,\n",
      "  'Name': 'Alice XXX',\n",
      "  'Points': [80, 20]},\n",
      " {'Age': 20,\n",
      "  'Name': 'Bob YYY',\n",
      "  'Points': [90, 10]},\n",
      " {'Age': 30,\n",
      "  'Name': 'Charlie ZZZ',\n",
      "  'Points': [70, 30]}]\n"
     ]
    }
   ],
   "source": [
    "# 一行の文字数を指定する引数width\n",
    "pprint.pprint(l, width=40)"
   ]
  },
  {
   "cell_type": "code",
   "execution_count": 35,
   "metadata": {},
   "outputs": [
    {
     "name": "stdout",
     "output_type": "stream",
     "text": [
      "[{'Age': 40, 'Name': 'Alice XXX', 'Points': [80, 20]}, {'Age': 20, 'Name': 'Bob YYY', 'Points': [90, 10]}, {'Age': 30, 'Name': 'Charlie ZZZ', 'Points': [70, 30]}]\n"
     ]
    }
   ],
   "source": [
    "# 大きい文字を入れると改行されない\n",
    "pprint.pprint(l, width=200)"
   ]
  },
  {
   "cell_type": "code",
   "execution_count": 36,
   "metadata": {},
   "outputs": [
    {
     "name": "stdout",
     "output_type": "stream",
     "text": [
      "[{'Age': 40,\n",
      "  'Name': 'Alice '\n",
      "          'XXX',\n",
      "  'Points': [80,\n",
      "             20]},\n",
      " {'Age': 20,\n",
      "  'Name': 'Bob '\n",
      "          'YYY',\n",
      "  'Points': [90,\n",
      "             10]},\n",
      " {'Age': 30,\n",
      "  'Name': 'Charlie '\n",
      "          'ZZZ',\n",
      "  'Points': [70,\n",
      "             30]}]\n"
     ]
    }
   ],
   "source": [
    "# 小さい数字を入れると、要素ごとに改行される\n",
    "pprint.pprint(l, width=1)"
   ]
  },
  {
   "cell_type": "markdown",
   "metadata": {},
   "source": [
    "#### 出力する要素の深さを指定: 引数depth"
   ]
  },
  {
   "cell_type": "code",
   "execution_count": 37,
   "metadata": {},
   "outputs": [
    {
     "name": "stdout",
     "output_type": "stream",
     "text": [
      "[{...}, {...}, {...}]\n"
     ]
    }
   ],
   "source": [
    "# depthで要素の深さを指定\n",
    "pprint.pprint(l, depth=1)"
   ]
  },
  {
   "cell_type": "code",
   "execution_count": 40,
   "metadata": {},
   "outputs": [
    {
     "name": "stdout",
     "output_type": "stream",
     "text": [
      "[{'Age': 40, 'Name': 'Alice XXX', 'Points': [80, 20]},\n",
      " {'Age': 20, 'Name': 'Bob YYY', 'Points': [90, 10]},\n",
      " {'Age': 30, 'Name': 'Charlie ZZZ', 'Points': [70, 30]}]\n"
     ]
    }
   ],
   "source": [
    "# デフォルトはdepth=None\n",
    "pprint.pprint(l)"
   ]
  },
  {
   "cell_type": "code",
   "execution_count": 38,
   "metadata": {},
   "outputs": [
    {
     "name": "stdout",
     "output_type": "stream",
     "text": [
      "[{'Age': 40, 'Name': 'Alice XXX', 'Points': [...]},\n",
      " {'Age': 20, 'Name': 'Bob YYY', 'Points': [...]},\n",
      " {'Age': 30, 'Name': 'Charlie ZZZ', 'Points': [...]}]\n"
     ]
    }
   ],
   "source": [
    "pprint.pprint(l, depth=)"
   ]
  },
  {
   "cell_type": "code",
   "execution_count": 39,
   "metadata": {},
   "outputs": [
    {
     "name": "stdout",
     "output_type": "stream",
     "text": [
      "[{'Age': 40,\n",
      "  'Name': 'Alice XXX',\n",
      "  'Points': [...]},\n",
      " {'Age': 20,\n",
      "  'Name': 'Bob YYY',\n",
      "  'Points': [...]},\n",
      " {'Age': 30,\n",
      "  'Name': 'Charlie ZZZ',\n",
      "  'Points': [...]}]\n"
     ]
    }
   ],
   "source": [
    "# depthとwidth両方を指定\n",
    "pprint.pprint(l, depth=2, width=40)"
   ]
  },
  {
   "cell_type": "markdown",
   "metadata": {},
   "source": [
    "#### インデント幅を指定: 引数indent"
   ]
  },
  {
   "cell_type": "code",
   "execution_count": 41,
   "metadata": {},
   "outputs": [
    {
     "name": "stdout",
     "output_type": "stream",
     "text": [
      "[   {   'Age': 40,\n",
      "        'Name': 'Alice '\n",
      "                'XXX',\n",
      "        'Points': [   80,\n",
      "                      20]},\n",
      "    {   'Age': 20,\n",
      "        'Name': 'Bob '\n",
      "                'YYY',\n",
      "        'Points': [   90,\n",
      "                      10]},\n",
      "    {   'Age': 30,\n",
      "        'Name': 'Charlie '\n",
      "                'ZZZ',\n",
      "        'Points': [   70,\n",
      "                      30]}]\n"
     ]
    }
   ],
   "source": [
    "pprint.pprint(l, width=4, indent=4)"
   ]
  },
  {
   "cell_type": "markdown",
   "metadata": {},
   "source": [
    "#### 改行を最小限にする: 引数compact"
   ]
  },
  {
   "cell_type": "code",
   "execution_count": 43,
   "metadata": {},
   "outputs": [
    {
     "data": {
      "text/plain": [
       "[[0, 1, 2, 3, 4, 5, 6, 7, 8, 9],\n",
       " [100, 101, 102, 103, 104, 105, 106, 107, 108, 109]]"
      ]
     },
     "execution_count": 43,
     "metadata": {},
     "output_type": "execute_result"
    }
   ],
   "source": [
    "l_long = [list(range(10)), list(range(100, 110))]\n",
    "l_long"
   ]
  },
  {
   "cell_type": "code",
   "execution_count": 44,
   "metadata": {},
   "outputs": [
    {
     "name": "stdout",
     "output_type": "stream",
     "text": [
      "[[0, 1, 2, 3, 4, 5, 6, 7, 8, 9],\n",
      " [100,\n",
      "  101,\n",
      "  102,\n",
      "  103,\n",
      "  104,\n",
      "  105,\n",
      "  106,\n",
      "  107,\n",
      "  108,\n",
      "  109]]\n"
     ]
    }
   ],
   "source": [
    "pprint.pprint(l_long, width=40)"
   ]
  },
  {
   "cell_type": "code",
   "execution_count": 46,
   "metadata": {},
   "outputs": [
    {
     "name": "stdout",
     "output_type": "stream",
     "text": [
      "[[0, 1, 2, 3, 4, 5, 6, 7, 8, 9],\n",
      " [100, 101, 102, 103, 104, 105, 106,\n",
      "  107, 108, 109]]\n"
     ]
    }
   ],
   "source": [
    "# 出力幅widthに収まらない分だけが改行される\n",
    "pprint.pprint(l_long, width=40, compact=True)"
   ]
  },
  {
   "cell_type": "markdown",
   "metadata": {},
   "source": [
    "#### 文字列に変換: pprint.pformat()"
   ]
  },
  {
   "cell_type": "markdown",
   "metadata": {},
   "source": [
    "辞書やリストはstr()で文字列（str型）に変換できる。\n",
    "\n",
    "この場合、通常のprint()関数での出力のようにリストや辞書の要素が改行されることなく1行の文字列となる。"
   ]
  },
  {
   "cell_type": "code",
   "execution_count": 61,
   "metadata": {},
   "outputs": [
    {
     "name": "stdout",
     "output_type": "stream",
     "text": [
      "<class 'list'>\n",
      "[{'Name': 'Alice XXX', 'Age': 40, 'Points': [80, 20]}, {'Name': 'Bob YYY', 'Age': 20, 'Points': [90, 10]}, {'Name': 'Charlie ZZZ', 'Age': 30, 'Points': [70, 30]}]\n"
     ]
    }
   ],
   "source": [
    "print(type(l))\n",
    "print(l)"
   ]
  },
  {
   "cell_type": "code",
   "execution_count": 56,
   "metadata": {},
   "outputs": [
    {
     "name": "stdout",
     "output_type": "stream",
     "text": [
      "[{'Name': 'Alice XXX', 'Age': 40, 'Points': [80, 20]}, {'Name': 'Bob YYY', 'Age': 20, 'Points': [90, 10]}, {'Name': 'Charlie ZZZ', 'Age': 30, 'Points': [70, 30]}]\n"
     ]
    }
   ],
   "source": [
    "s_normal = str(l)\n",
    "print(s_normal)"
   ]
  },
  {
   "cell_type": "code",
   "execution_count": 57,
   "metadata": {},
   "outputs": [
    {
     "name": "stdout",
     "output_type": "stream",
     "text": [
      "<class 'str'>\n"
     ]
    }
   ],
   "source": [
    "print(type(s_normal))"
   ]
  },
  {
   "cell_type": "code",
   "execution_count": 58,
   "metadata": {},
   "outputs": [
    {
     "name": "stdout",
     "output_type": "stream",
     "text": [
      "[{'Age': 40, 'Name': 'Alice XXX', 'Points': [80, 20]},\n",
      " {'Age': 20, 'Name': 'Bob YYY', 'Points': [90, 10]},\n",
      " {'Age': 30, 'Name': 'Charlie ZZZ', 'Points': [70, 30]}]\n"
     ]
    }
   ],
   "source": [
    "# pprint.pformat()を使うと適宜改行が挿入されて整形された文字列（str型オブジェクト）として取得できる\n",
    "s_pp = pprint.pformat(l)\n",
    "print(s_pp)"
   ]
  },
  {
   "cell_type": "code",
   "execution_count": 59,
   "metadata": {},
   "outputs": [
    {
     "name": "stdout",
     "output_type": "stream",
     "text": [
      "<class 'str'>\n"
     ]
    }
   ],
   "source": [
    "print(type(s_pp))"
   ]
  },
  {
   "cell_type": "code",
   "execution_count": 62,
   "metadata": {},
   "outputs": [
    {
     "name": "stdout",
     "output_type": "stream",
     "text": [
      "[ { 'Age': 40,\n",
      "    'Name': 'Alice XXX',\n",
      "    'Points': [...]},\n",
      "  { 'Age': 20,\n",
      "    'Name': 'Bob YYY',\n",
      "    'Points': [...]},\n",
      "  { 'Age': 30,\n",
      "    'Name': 'Charlie ZZZ',\n",
      "    'Points': [...]}]\n"
     ]
    }
   ],
   "source": [
    "s_pp = pprint.pformat(l, depth=2, width=40, indent=2)\n",
    "print(s_pp)"
   ]
  },
  {
   "cell_type": "code",
   "execution_count": 63,
   "metadata": {},
   "outputs": [
    {
     "data": {
      "text/plain": [
       "\"[ { 'Age': 40,\\n    'Name': 'Alice XXX',\\n    'Points': [...]},\\n  { 'Age': 20,\\n    'Name': 'Bob YYY',\\n    'Points': [...]},\\n  { 'Age': 30,\\n    'Name': 'Charlie ZZZ',\\n    'Points': [...]}]\""
      ]
     },
     "execution_count": 63,
     "metadata": {},
     "output_type": "execute_result"
    }
   ],
   "source": [
    "s_pp"
   ]
  },
  {
   "cell_type": "markdown",
   "metadata": {},
   "source": [
    "##### pprintは二次元配列（リストのリスト）を表示する場合に使うと便利。"
   ]
  },
  {
   "cell_type": "code",
   "execution_count": 69,
   "metadata": {},
   "outputs": [
    {
     "data": {
      "text/plain": [
       "[[0, 1, 2, 3, 4, 5, 6, 7, 8, 9],\n",
       " [0, 1, 2, 3, 4, 5, 6, 7, 8, 9],\n",
       " [0, 1, 2, 3, 4, 5, 6, 7, 8, 9]]"
      ]
     },
     "execution_count": 69,
     "metadata": {},
     "output_type": "execute_result"
    }
   ],
   "source": [
    "l_2d = [list(range(10)), list(range(10)), list(range(10))]\n",
    "l_2d"
   ]
  },
  {
   "cell_type": "code",
   "execution_count": 70,
   "metadata": {},
   "outputs": [
    {
     "name": "stdout",
     "output_type": "stream",
     "text": [
      "[[0, 1, 2, 3, 4, 5, 6, 7, 8, 9], [0, 1, 2, 3, 4, 5, 6, 7, 8, 9], [0, 1, 2, 3, 4, 5, 6, 7, 8, 9]]\n"
     ]
    }
   ],
   "source": [
    "print(l_2d)"
   ]
  },
  {
   "cell_type": "code",
   "execution_count": 71,
   "metadata": {},
   "outputs": [
    {
     "name": "stdout",
     "output_type": "stream",
     "text": [
      "[[0, 1, 2, 3, 4, 5, 6, 7, 8, 9],\n",
      " [0, 1, 2, 3, 4, 5, 6, 7, 8, 9],\n",
      " [0, 1, 2, 3, 4, 5, 6, 7, 8, 9]]\n"
     ]
    }
   ],
   "source": [
    "pprint.pprint(l_2d)"
   ]
  },
  {
   "cell_type": "code",
   "execution_count": 80,
   "metadata": {},
   "outputs": [
    {
     "data": {
      "text/plain": [
       "[[0, 1, 2], [3, 4, 5], [6, 7, 8]]"
      ]
     },
     "execution_count": 80,
     "metadata": {},
     "output_type": "execute_result"
    }
   ],
   "source": [
    "# 要素数が少ない場合\n",
    "l_2d = [[0, 1, 2], [3, 4, 5], [6, 7, 8]]\n",
    "l_2d"
   ]
  },
  {
   "cell_type": "code",
   "execution_count": 81,
   "metadata": {},
   "outputs": [
    {
     "name": "stdout",
     "output_type": "stream",
     "text": [
      "[[0, 1, 2], [3, 4, 5], [6, 7, 8]]\n"
     ]
    }
   ],
   "source": [
    "print(l_2d)"
   ]
  },
  {
   "cell_type": "code",
   "execution_count": 82,
   "metadata": {},
   "outputs": [
    {
     "name": "stdout",
     "output_type": "stream",
     "text": [
      "[[0, 1, 2], [3, 4, 5], [6, 7, 8]]\n"
     ]
    }
   ],
   "source": [
    "# デフォルトの出力幅width=80に収まるので改行されない。\n",
    "pprint.pprint(l_2d)"
   ]
  },
  {
   "cell_type": "code",
   "execution_count": 83,
   "metadata": {},
   "outputs": [
    {
     "name": "stdout",
     "output_type": "stream",
     "text": [
      "[[0, 1, 2],\n",
      " [3, 4, 5],\n",
      " [6, 7, 8]]\n"
     ]
    }
   ],
   "source": [
    "# widthの指定\n",
    "pprint.pprint(l_2d,width=20)"
   ]
  },
  {
   "cell_type": "code",
   "execution_count": 84,
   "metadata": {},
   "outputs": [
    {
     "name": "stdout",
     "output_type": "stream",
     "text": [
      "[[0, 1, 2],\n",
      " [3, 4, 5],\n",
      " [6, 7, 8]]\n"
     ]
    }
   ],
   "source": [
    "# 文字列として取得したい場合はpprint.pformat()\n",
    "s = pprint.pformat(l_2d, width=20)\n",
    "print(s)"
   ]
  },
  {
   "cell_type": "code",
   "execution_count": 85,
   "metadata": {},
   "outputs": [
    {
     "name": "stdout",
     "output_type": "stream",
     "text": [
      "<class 'str'>\n"
     ]
    }
   ],
   "source": [
    "print(type(s))"
   ]
  },
  {
   "cell_type": "markdown",
   "metadata": {},
   "source": [
    "### textwrap モジュール\n",
    "\n",
    "段落で構成された文章を、指定したスクリーン幅にぴったり収まるように調整する。"
   ]
  },
  {
   "cell_type": "code",
   "execution_count": 86,
   "metadata": {},
   "outputs": [],
   "source": [
    "import textwrap\n",
    "doc = \"The wrap() method is just like fill() except that it returns a list of strings instead of one big string with newlines to separate the wrapped lines.\""
   ]
  },
  {
   "cell_type": "code",
   "execution_count": 87,
   "metadata": {},
   "outputs": [
    {
     "name": "stdout",
     "output_type": "stream",
     "text": [
      "The wrap() method is just like fill()\n",
      "except that it returns a list of strings\n",
      "instead of one big string with newlines\n",
      "to separate the wrapped lines.\n"
     ]
    }
   ],
   "source": [
    "print(textwrap.fill(doc, width=40))"
   ]
  },
  {
   "cell_type": "markdown",
   "metadata": {},
   "source": [
    "- [Pythonで文字列を折り返し・切り詰めして整形するtextwrap](https://note.nkmk.me/python-textwrap-wrap-fill-shorten/)  \n",
    "    Pythonで文字列を任意の文字数で折り返し（改行）、切り詰め（省略）して整形するには、  \n",
    "    標準ライブラリのtextwrapモジュールを使う。"
   ]
  },
  {
   "cell_type": "markdown",
   "metadata": {},
   "source": [
    "#### 文字列を折り返し（改行）: wrap(), fill()"
   ]
  },
  {
   "cell_type": "markdown",
   "metadata": {},
   "source": [
    "##### wrap()　して　'n'.join(list)　する"
   ]
  },
  {
   "cell_type": "code",
   "execution_count": 88,
   "metadata": {},
   "outputs": [],
   "source": [
    "s = \"Python can be easy to pick up whether you're a first time programmer or you're experienced with other languages\""
   ]
  },
  {
   "cell_type": "code",
   "execution_count": 89,
   "metadata": {},
   "outputs": [
    {
     "name": "stdout",
     "output_type": "stream",
     "text": [
      "['Python can be easy to pick up whether', \"you're a first time programmer or you're\", 'experienced with other languages']\n"
     ]
    }
   ],
   "source": [
    "s_wrap_list = textwrap.wrap(s, 40)\n",
    "print(s_wrap_list)"
   ]
  },
  {
   "cell_type": "code",
   "execution_count": 90,
   "metadata": {},
   "outputs": [
    {
     "data": {
      "text/plain": [
       "\"you're a first time programmer or you're\""
      ]
     },
     "execution_count": 90,
     "metadata": {},
     "output_type": "execute_result"
    }
   ],
   "source": [
    "s_wrap_list[1]"
   ]
  },
  {
   "cell_type": "code",
   "execution_count": 92,
   "metadata": {},
   "outputs": [],
   "source": [
    "# '\\n'.join(list)とすると改行コード\\nで改行された文字列が取得できる。\n",
    "n = '\\n'.join(s_wrap_list)"
   ]
  },
  {
   "cell_type": "code",
   "execution_count": 93,
   "metadata": {},
   "outputs": [
    {
     "data": {
      "text/plain": [
       "\"Python can be easy to pick up whether\\nyou're a first time programmer or you're\\nexperienced with other languages\""
      ]
     },
     "execution_count": 93,
     "metadata": {},
     "output_type": "execute_result"
    }
   ],
   "source": [
    "n"
   ]
  },
  {
   "cell_type": "code",
   "execution_count": null,
   "metadata": {},
   "outputs": [],
   "source": [
    "print(n)"
   ]
  },
  {
   "cell_type": "markdown",
   "metadata": {},
   "source": [
    "##### fill(list, width=)　を使う"
   ]
  },
  {
   "cell_type": "code",
   "execution_count": 98,
   "metadata": {},
   "outputs": [
    {
     "name": "stdout",
     "output_type": "stream",
     "text": [
      "Python can be easy to pick up\n",
      "whether you're a first time\n",
      "programmer or you're\n",
      "experienced with other\n",
      "languages\n"
     ]
    }
   ],
   "source": [
    "# 関数fill()は、改行された文字列を返す。\n",
    "# 上の例のようにwrap()のあとで'\\n'.join(list)するのと同じ。\n",
    "print(textwrap.fill(s, 40))"
   ]
  },
  {
   "cell_type": "code",
   "execution_count": 97,
   "metadata": {},
   "outputs": [
    {
     "name": "stdout",
     "output_type": "stream",
     "text": [
      "['Python can be easy to pick up whether', \"you're a first time programmer or [...]\"]\n"
     ]
    }
   ],
   "source": [
    "# 引数max_lineを指定すると、それ以降の行数は省略される。\n",
    "print(textwrap.wrap(s, 40, max_lines=2))"
   ]
  },
  {
   "cell_type": "code",
   "execution_count": 99,
   "metadata": {},
   "outputs": [
    {
     "name": "stdout",
     "output_type": "stream",
     "text": [
      "Python can be easy to pick up whether\n",
      "you're a first time programmer or [...]\n"
     ]
    }
   ],
   "source": [
    "print(textwrap.fill(s, 40, max_lines=2))"
   ]
  },
  {
   "cell_type": "code",
   "execution_count": 101,
   "metadata": {},
   "outputs": [
    {
     "name": "stdout",
     "output_type": "stream",
     "text": [
      "Python can be easy to pick up whether\n",
      "you're a first time programmer or ~\n"
     ]
    }
   ],
   "source": [
    "# 省略の際表示される[...]は任意も文字列に置き換えることができる\n",
    "print(textwrap.fill(s, 40, max_lines=2, placeholder=' ~'))"
   ]
  },
  {
   "cell_type": "code",
   "execution_count": 102,
   "metadata": {},
   "outputs": [
    {
     "name": "stdout",
     "output_type": "stream",
     "text": [
      "  Python can be easy to pick up whether\n",
      "you're a first time programmer or ~\n"
     ]
    }
   ],
   "source": [
    "# 引数initial_indentで最初の行の先頭に加えられる文字列を指定できる。\n",
    "# 段落の最初に字下げしたい場合などに使う。\n",
    "print(textwrap.fill(s, 40, max_lines=2, placeholder=' ~', initial_indent='  '))"
   ]
  },
  {
   "cell_type": "markdown",
   "metadata": {},
   "source": [
    "##### 注意点: 全角半角"
   ]
  },
  {
   "cell_type": "code",
   "execution_count": 103,
   "metadata": {},
   "outputs": [
    {
     "name": "stdout",
     "output_type": "stream",
     "text": [
      "あいうえお、かきくけこ、\n",
      "12345,67890,\n",
      "さしすせそ、abcde\n"
     ]
    }
   ],
   "source": [
    "# textwrapでは半角も全角も一文字としてみなされる。\n",
    "s = 'あいうえお、かきくけこ、12345,67890, さしすせそ、abcde'\n",
    "print(textwrap.fill(s, 12))"
   ]
  },
  {
   "cell_type": "markdown",
   "metadata": {},
   "source": [
    "#### 文字列を切り詰め（省略）: shorten()"
   ]
  },
  {
   "cell_type": "code",
   "execution_count": 104,
   "metadata": {},
   "outputs": [],
   "source": [
    "s = 'Python is powerful'"
   ]
  },
  {
   "cell_type": "code",
   "execution_count": 117,
   "metadata": {},
   "outputs": [
    {
     "data": {
      "text/plain": [
       "18"
      ]
     },
     "execution_count": 117,
     "metadata": {},
     "output_type": "execute_result"
    }
   ],
   "source": [
    "len(s)"
   ]
  },
  {
   "cell_type": "code",
   "execution_count": 118,
   "metadata": {},
   "outputs": [
    {
     "name": "stdout",
     "output_type": "stream",
     "text": [
      "Python [...]\n"
     ]
    }
   ],
   "source": [
    "# 任意の文字数に収まるように単語単位で省略される。\n",
    "print(textwrap.shorten(s, 12))"
   ]
  },
  {
   "cell_type": "code",
   "execution_count": 120,
   "metadata": {},
   "outputs": [
    {
     "data": {
      "text/plain": [
       "12"
      ]
     },
     "execution_count": 120,
     "metadata": {},
     "output_type": "execute_result"
    }
   ],
   "source": [
    "len(textwrap.shorten(s, 12))"
   ]
  },
  {
   "cell_type": "code",
   "execution_count": 119,
   "metadata": {},
   "outputs": [
    {
     "name": "stdout",
     "output_type": "stream",
     "text": [
      "Python is ~\n"
     ]
    }
   ],
   "source": [
    "print(textwrap.shorten(s, 12, placeholder=' ~'))"
   ]
  },
  {
   "cell_type": "code",
   "execution_count": 122,
   "metadata": {},
   "outputs": [
    {
     "data": {
      "text/plain": [
       "11"
      ]
     },
     "execution_count": 122,
     "metadata": {},
     "output_type": "execute_result"
    }
   ],
   "source": [
    "len(textwrap.shorten(s, 12, placeholder=' ~'))"
   ]
  },
  {
   "cell_type": "code",
   "execution_count": 123,
   "metadata": {},
   "outputs": [
    {
     "name": "stdout",
     "output_type": "stream",
     "text": [
      "[...]\n"
     ]
    }
   ],
   "source": [
    "# 日本語の文字列の場合、単語に分割できないのでうまく省略できない。\n",
    "s = 'Pythonについて。Pythonは汎用のプログラミング言語である。'\n",
    "print(textwrap.shorten(s,20))"
   ]
  },
  {
   "cell_type": "code",
   "execution_count": 126,
   "metadata": {},
   "outputs": [
    {
     "data": {
      "text/plain": [
       "'Pythonについて。P...'"
      ]
     },
     "execution_count": 126,
     "metadata": {},
     "output_type": "execute_result"
    }
   ],
   "source": [
    "# 単語単位ではなく、文字数だけ考慮して省略する場合\n",
    "s_short = s[:12] + '...'\n",
    "s_short"
   ]
  },
  {
   "cell_type": "markdown",
   "metadata": {},
   "source": [
    "#### TextWrapperオブジェクト"
   ]
  },
  {
   "cell_type": "markdown",
   "metadata": {},
   "source": [
    "決まった設定で何度もwrap()やfill() を行う場合は、TextWrapperオブジェクトを生成しておくと効率が良い。"
   ]
  },
  {
   "cell_type": "code",
   "execution_count": 128,
   "metadata": {},
   "outputs": [],
   "source": [
    "wrapper = textwrap.TextWrapper(width=30, max_lines=3, placeholder=' ~', initial_indent='  ')"
   ]
  },
  {
   "cell_type": "code",
   "execution_count": 130,
   "metadata": {},
   "outputs": [],
   "source": [
    "s = \"Python can be easy to pick up whether you're a first time programmer or you're experienced with other languages\""
   ]
  },
  {
   "cell_type": "code",
   "execution_count": 131,
   "metadata": {},
   "outputs": [
    {
     "name": "stdout",
     "output_type": "stream",
     "text": [
      "['  Python can be easy to pick', \"up whether you're a first time\", \"programmer or you're ~\"]\n"
     ]
    }
   ],
   "source": [
    "print(wrapper.wrap(s))"
   ]
  },
  {
   "cell_type": "code",
   "execution_count": 132,
   "metadata": {},
   "outputs": [
    {
     "name": "stdout",
     "output_type": "stream",
     "text": [
      "  Python can be easy to pick\n",
      "up whether you're a first time\n",
      "programmer or you're ~\n"
     ]
    }
   ],
   "source": [
    "print(wrapper.fill(s))"
   ]
  },
  {
   "cell_type": "markdown",
   "metadata": {},
   "source": [
    "### locale モジュール"
   ]
  },
  {
   "cell_type": "markdown",
   "metadata": {},
   "source": [
    "- [Pythonで日付から曜日や月を文字列（日本語や英語など）で取得](https://note.nkmk.me/python-datetime-day-locale-function/)"
   ]
  },
  {
   "cell_type": "code",
   "execution_count": 155,
   "metadata": {},
   "outputs": [],
   "source": [
    "import locale"
   ]
  },
  {
   "cell_type": "code",
   "execution_count": 156,
   "metadata": {},
   "outputs": [
    {
     "data": {
      "text/plain": [
       "'ja_JP.UTF-8'"
      ]
     },
     "execution_count": 156,
     "metadata": {},
     "output_type": "execute_result"
    }
   ],
   "source": [
    "locale.setlocale(locale.LC_TIME, 'ja_JP.UTF-8')"
   ]
  },
  {
   "cell_type": "code",
   "execution_count": 157,
   "metadata": {},
   "outputs": [
    {
     "name": "stdout",
     "output_type": "stream",
     "text": [
      "('ja_JP', 'UTF-8')\n"
     ]
    }
   ],
   "source": [
    "print(locale.getlocale(locale.LC_TIME))"
   ]
  },
  {
   "cell_type": "code",
   "execution_count": 158,
   "metadata": {},
   "outputs": [],
   "source": [
    "conv = locale.localeconv()"
   ]
  },
  {
   "cell_type": "code",
   "execution_count": 159,
   "metadata": {},
   "outputs": [],
   "source": [
    "x = 1234567.8"
   ]
  },
  {
   "cell_type": "code",
   "execution_count": 166,
   "metadata": {},
   "outputs": [
    {
     "ename": "SyntaxError",
     "evalue": "positional argument follows keyword argument (<ipython-input-166-332ace4e7baa>, line 1)",
     "output_type": "error",
     "traceback": [
      "\u001b[0;36m  File \u001b[0;32m\"<ipython-input-166-332ace4e7baa>\"\u001b[0;36m, line \u001b[0;32m1\u001b[0m\n\u001b[0;31m    locale.format(x, grouping=True,\"{:,d}\")\u001b[0m\n\u001b[0m                                  ^\u001b[0m\n\u001b[0;31mSyntaxError\u001b[0m\u001b[0;31m:\u001b[0m positional argument follows keyword argument\n"
     ]
    }
   ],
   "source": [
    "locale.format(\"%d\", x, grouping=True)"
   ]
  },
  {
   "cell_type": "code",
   "execution_count": null,
   "metadata": {},
   "outputs": [],
   "source": [
    "locale.format_string(\"%s%.*f\", (conv['currency_symbol'],conv['frac_digits'], x), grouping=True)"
   ]
  },
  {
   "cell_type": "code",
   "execution_count": null,
   "metadata": {},
   "outputs": [],
   "source": []
  }
 ],
 "metadata": {
  "kernelspec": {
   "display_name": "Python 3",
   "language": "python",
   "name": "python3"
  },
  "language_info": {
   "codemirror_mode": {
    "name": "ipython",
    "version": 3
   },
   "file_extension": ".py",
   "mimetype": "text/x-python",
   "name": "python",
   "nbconvert_exporter": "python",
   "pygments_lexer": "ipython3",
   "version": "3.7.7"
  },
  "toc": {
   "base_numbering": 1,
   "nav_menu": {},
   "number_sections": false,
   "sideBar": true,
   "skip_h1_title": false,
   "title_cell": "Table of Contents",
   "title_sidebar": "Contents",
   "toc_cell": false,
   "toc_position": {
    "height": "calc(100% - 180px)",
    "left": "10px",
    "top": "150px",
    "width": "179px"
   },
   "toc_section_display": true,
   "toc_window_display": true
  }
 },
 "nbformat": 4,
 "nbformat_minor": 4
}
