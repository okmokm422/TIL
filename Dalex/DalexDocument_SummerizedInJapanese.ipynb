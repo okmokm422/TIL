{
 "cells": [
  {
   "cell_type": "markdown",
   "metadata": {},
   "source": [
    "[Dalex Document link](https://pbiecek.github.io/ema/)"
   ]
  },
  {
   "cell_type": "markdown",
   "metadata": {
    "toc": true
   },
   "source": [
    "<h1>Table of Contents<span class=\"tocSkip\"></span></h1>\n",
    "<div class=\"toc\"><ul class=\"toc-item\"><li><span><a href=\"#1.-Introduction\" data-toc-modified-id=\"1.-Introduction-1\">1. Introduction</a></span><ul class=\"toc-item\"><li><span><a href=\"#1.1-Notes-to-readers\" data-toc-modified-id=\"1.1-Notes-to-readers-1.1\">1.1 Notes to readers</a></span></li><li><span><a href=\"#1.2-The-aim-of-the\" data-toc-modified-id=\"1.2-The-aim-of-the-1.2\">1.2 The aim of the</a></span></li><li><span><a href=\"#1.3- A-bit-of-philosophy:-three-laws-of-model-explanation\" data-toc-modified-id=\"1.3- A-bit-of-philosophy:-three-laws-of-model-explanation-1.3\">1.3  A bit of philosophy: three laws of model explanation</a></span></li><li><span><a href=\"#1.4- The-structure-of-this-book\" data-toc-modified-id=\"1.4- The-structure-of-this-book-1.4\">1.4  The structure of this book</a></span></li><li><span><a href=\"#1.5- Terminology\" data-toc-modified-id=\"1.5- Terminology-1.5\">1.5  Terminology</a></span></li><li><span><a href=\"#1.6 -Glass-box-models-vs. black-box-models\" data-toc-modified-id=\"1.6 -Glass-box-models-vs. black-box-models-1.6\">1.6  Glass-box models vs. black-box models</a></span></li><li><span><a href=\"#1.7 -Model-agnostic-vs. model-specific-approach\" data-toc-modified-id=\"1.7 -Model-agnostic-vs. model-specific-approach-1.7\">1.7  Model-agnostic vs. model-specific approach</a></span></li><li><span><a href=\"#1.8- What-is-in-this-book-and-what-is-not\" data-toc-modified-id=\"1.8- What-is-in-this-book-and-what-is-not-1.8\">1.8  What is in this book and what is not</a></span></li><li><span><a href=\"#1.9- Acknowledgements\" data-toc-modified-id=\"1.9- Acknowledgements-1.9\">1.9  Acknowledgements</a></span></li></ul></li><li><span><a href=\"#2 -Model-Development\" data-toc-modified-id=\"2 -Model-Development-2\">2  Model Development</a></span><ul class=\"toc-item\"><li><span><a href=\"#2.1 Introduction\" data-toc-modified-id=\"2.1 Introduction-2.1\">2.1 Introduction</a></span></li><li><span><a href=\"#2.2-The-Process\" data-toc-modified-id=\"2.2-The-Process-2.2\">2.2 The Process</a></span></li><li><span><a href=\"#2.3-Notation\" data-toc-modified-id=\"2.3-Notation-2.3\">2.3 Notation</a></span></li><li><span><a href=\"#2.4-Data-exploration\" data-toc-modified-id=\"2.4-Data-exploration-2.4\">2.4 Data exploration</a></span></li><li><span><a href=\"#2.5-Model-training\" data-toc-modified-id=\"2.5-Model-training-2.5\">2.5 Model training</a></span></li><li><span><a href=\"#2.6-Model-understanding\" data-toc-modified-id=\"2.6-Model-understanding-2.6\">2.6 Model understanding</a></span></li></ul></li></ul></div>"
   ]
  },
  {
   "cell_type": "markdown",
   "metadata": {},
   "source": [
    "# 1. Introduction\n",
    "\n",
    "## 1.1 Notes to readers \n",
    "\n",
    " Feedback can be given at the GitHub repo https://github.com/pbiecek/ema/issues. \n",
    "\n",
    "## 1.2 The aim of the  \n",
    "\n",
    "- 複雑なモデルはブラックボックスになってしまう。数千の説明変数がどのように予測に寄与しているかを理解するのは難しいか、不可能だ。複雑なモデルが期待したどおりに振る舞うとは限らない。\n",
    "\n",
    "- Cathy O’Neilは「ビックデータへの盲信はやめるべきだ」と主張する。\n",
    "    [Cathy O'Neil: The era of blind faith in big data must end ](https://www.ted.com/talks/cathy_o_neil_the_era_of_blind_faith_in_big_data_must_end)\n",
    "\n",
    "- \n",
    "\n",
    "- There is a growing number of examples of predictive models with performance that deteriorated over time or became biased in some sense. \n",
    "\n",
    "- A reaction to some of these examples and problems are new regulations, like the General Data Protection Regulation (Gdpr 2018). \n",
    "\n",
    "- the ,,Right to Explanation’’, i.e., the right to be provided an explanation for an output of an automated algorithm (Goodman and Flaxman 2016).  \n",
    "\n",
    "\n",
    " 【モデルに偏重し、ドメイン知識や統計的仮説検定が軽視されているのではないか？】 \n",
    "\n",
    "- Machine learning exploits the tradeoff between availability of data and domain knowledge. Flexible models can use massive data to learn good features and filter out bad ones. The effort is shifted from a deep understanding of the domain towards computationally heavy training of models.  \n",
    "\n",
    "## 1.3  A bit of philosophy: three laws of model explanation \n",
    "\n",
    " \n",
    "\n",
    "【モデルの説明で重要なこと： \n",
    "\n",
    "予測を裏付けるデータ自体の信憑性、予測に影響する説明変数は何か、説明変数が変化した場合の予測を推定できるか】 \n",
    "\n",
    "we propose three requirements that any predictive model should fulfill: \n",
    "Prediction’s validation. \n",
    "For every prediction of a model, one should be able to verify how strong is the evidence that confirms the prediction. \n",
    "Prediction’s justification. \n",
    "For every prediction of a model, one should be able to understand which variables affect the prediction and to what extent. \n",
    "Prediction’s speculation. \n",
    "\n",
    "For every prediction of a model, one should be able to understand how the model prediction would change if input variables changed. \n",
    "\n",
    "## 1.4  The structure of this book \n",
    "\n",
    "【各章の内容】 \n",
    "\n",
    "## 1.5  Terminology \n",
    "\n",
    " 【機械学習と統計の専門用語の違い】 \n",
    "\n",
    "## 1.6  Glass-box models vs. black-box models \n",
    "\n",
    "【black modelの説明変数は多すぎる。シンプルなglass modelを目指すべき。】 \n",
    "\n",
    "- A ,,glass-box’’ (sometimes called white-box or transparent-box) model, which is opposite to a ,,black-box’’ one, is a model that is easy to understand (though maybe not by every person). It has a simple structure and a limited number of coefficients. \n",
    "\n",
    " - in the case of a model with a clear structure and a limited number of coefficients, we can easily link changes in model predictions with changes in particular explanatory variables. This, in turn, may allow us to challenge the model against domain knowledge  \n",
    "\n",
    "## 1.7  Model-agnostic vs. model-specific approach \n",
    "\n",
    "【異なるモデルの優位性を比較するのは難しい→モデル構造に依存しないアプローチが必要】 \n",
    "\n",
    "【p次元のベクトルを説明変数にし、単一のスコアや確率（実数）を返すモデルを想定してDalexを作成。】 \n",
    "\n",
    " - in our book we focus on model-agnostic techniques. In particular, we prefer not to assume anything about the model structure, as we may be dealing with a black-box model with an unspecified structure. \n",
    "\n",
    "- we will assume that the model operates on p-dimensional vector of variables/features and, for a single observation, it returns a single value (score/probability) which is a real number.  \n",
    "\n",
    "## 1.8  What is in this book and what is not \n",
    "\n",
    "- 本の内容\n",
    "\n",
    "## 1.9  Acknowledgements \n",
    "\n",
    "- 謝辞、参考文献"
   ]
  },
  {
   "cell_type": "markdown",
   "metadata": {},
   "source": [
    "# 2  Model Development \n",
    "\n",
    "## 2.1 Introduction \n",
    "\n",
    "- 2章で説明すること：train済モデルを診断する前に、何を実行する必要があるか\n",
    "\n",
    "## 2.2 The Process \n",
    "\n",
    "【モデル構築の手順】 \n",
    "\n",
    "- 最も有名なモデル開発の方法はCRISP-DM (Chapman et al. 1999) 。\n",
    "    ビジネスに対する理解→データに対する理解→データ収集→モデリング→評価→デプロイ\n",
    "- この本ではModel Development Process (Biecek 2019)を利用。\n",
    "    問題の定式化、簡易なモデル化、チューニング、メンテナンス、終了（decommissioning. \n",
    "\n",
    "## 2.3 Notation \n",
    "\n",
    "【数学表記の説明】 \n",
    "\n",
    "## 2.4 Data exploration \n",
    "\n",
    "【データ可視化】の説明 \n",
    "\n",
    "## 2.5 Model training \n",
    "\n",
    "## 2.6 Model understanding \n",
    "\n",
    "- モデルのトレーニングでは、ほとんどのアルゴリズムで以下の問題を解いている。   \n",
    "    $\\hat\\theta = \\arg \\underset{\\theta \\in \\Theta}{\\min}  L (y, f_\\theta(X)) + \\lambda(\\theta)$  \n",
    "    モデルパラメータの$\\theta$ $=$ 損失関数$L (y, f_\\theta(X))$を最小化する$y,X$の集合 $＋$  モデルの複雑さを抑える正則化項$\\lambda(\\theta)$"
   ]
  },
  {
   "cell_type": "markdown",
   "metadata": {},
   "source": []
  },
  {
   "cell_type": "code",
   "execution_count": null,
   "metadata": {},
   "outputs": [],
   "source": []
  }
 ],
 "metadata": {
  "kernelspec": {
   "display_name": "Python 3",
   "language": "python",
   "name": "python3"
  },
  "language_info": {
   "codemirror_mode": {
    "name": "ipython",
    "version": 3
   },
   "file_extension": ".py",
   "mimetype": "text/x-python",
   "name": "python",
   "nbconvert_exporter": "python",
   "pygments_lexer": "ipython3",
   "version": "3.7.6"
  },
  "toc": {
   "base_numbering": 1,
   "nav_menu": {},
   "number_sections": false,
   "sideBar": true,
   "skip_h1_title": false,
   "title_cell": "Table of Contents",
   "title_sidebar": "Contents",
   "toc_cell": true,
   "toc_position": {},
   "toc_section_display": true,
   "toc_window_display": true
  }
 },
 "nbformat": 4,
 "nbformat_minor": 4
}
