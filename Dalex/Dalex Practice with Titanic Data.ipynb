{
 "cells": [
  {
   "cell_type": "markdown",
   "metadata": {},
   "source": [
    "# Dalexの練習"
   ]
  },
  {
   "cell_type": "code",
   "execution_count": 6,
   "metadata": {},
   "outputs": [],
   "source": [
    "import dalex as dx\n",
    "\n",
    "import pandas as pd\n",
    "import numpy as np\n",
    "\n",
    "from sklearn.neural_network import MLPClassifier\n",
    "from sklearn.preprocessing import StandardScaler, OneHotEncoder\n",
    "from sklearn.impute import SimpleImputer\n",
    "from sklearn.pipeline import Pipeline\n",
    "from sklearn.compose import ColumnTransformer\n",
    "\n",
    "import warnings\n",
    "warnings.filterwarnings('ignore')"
   ]
  },
  {
   "cell_type": "markdown",
   "metadata": {},
   "source": [
    "# データセット準備"
   ]
  },
  {
   "cell_type": "code",
   "execution_count": 7,
   "metadata": {},
   "outputs": [],
   "source": [
    "data = dx.datasets.load_titanic()\n",
    "\n",
    "X = data.drop(columns='survived')\n",
    "y = data.survived"
   ]
  },
  {
   "cell_type": "code",
   "execution_count": 8,
   "metadata": {},
   "outputs": [
    {
     "data": {
      "text/html": [
       "<div>\n",
       "<style scoped>\n",
       "    .dataframe tbody tr th:only-of-type {\n",
       "        vertical-align: middle;\n",
       "    }\n",
       "\n",
       "    .dataframe tbody tr th {\n",
       "        vertical-align: top;\n",
       "    }\n",
       "\n",
       "    .dataframe thead th {\n",
       "        text-align: right;\n",
       "    }\n",
       "</style>\n",
       "<table border=\"1\" class=\"dataframe\">\n",
       "  <thead>\n",
       "    <tr style=\"text-align: right;\">\n",
       "      <th></th>\n",
       "      <th>gender</th>\n",
       "      <th>age</th>\n",
       "      <th>class</th>\n",
       "      <th>embarked</th>\n",
       "      <th>fare</th>\n",
       "      <th>sibsp</th>\n",
       "      <th>parch</th>\n",
       "      <th>survived</th>\n",
       "    </tr>\n",
       "  </thead>\n",
       "  <tbody>\n",
       "    <tr>\n",
       "      <th>0</th>\n",
       "      <td>male</td>\n",
       "      <td>42.0</td>\n",
       "      <td>3rd</td>\n",
       "      <td>Southampton</td>\n",
       "      <td>7.1100</td>\n",
       "      <td>0</td>\n",
       "      <td>0</td>\n",
       "      <td>0</td>\n",
       "    </tr>\n",
       "    <tr>\n",
       "      <th>1</th>\n",
       "      <td>male</td>\n",
       "      <td>13.0</td>\n",
       "      <td>3rd</td>\n",
       "      <td>Southampton</td>\n",
       "      <td>20.0500</td>\n",
       "      <td>0</td>\n",
       "      <td>2</td>\n",
       "      <td>0</td>\n",
       "    </tr>\n",
       "    <tr>\n",
       "      <th>2</th>\n",
       "      <td>male</td>\n",
       "      <td>16.0</td>\n",
       "      <td>3rd</td>\n",
       "      <td>Southampton</td>\n",
       "      <td>20.0500</td>\n",
       "      <td>1</td>\n",
       "      <td>1</td>\n",
       "      <td>0</td>\n",
       "    </tr>\n",
       "    <tr>\n",
       "      <th>3</th>\n",
       "      <td>female</td>\n",
       "      <td>39.0</td>\n",
       "      <td>3rd</td>\n",
       "      <td>Southampton</td>\n",
       "      <td>20.0500</td>\n",
       "      <td>1</td>\n",
       "      <td>1</td>\n",
       "      <td>1</td>\n",
       "    </tr>\n",
       "    <tr>\n",
       "      <th>4</th>\n",
       "      <td>female</td>\n",
       "      <td>16.0</td>\n",
       "      <td>3rd</td>\n",
       "      <td>Southampton</td>\n",
       "      <td>7.1300</td>\n",
       "      <td>0</td>\n",
       "      <td>0</td>\n",
       "      <td>1</td>\n",
       "    </tr>\n",
       "    <tr>\n",
       "      <th>5</th>\n",
       "      <td>male</td>\n",
       "      <td>25.0</td>\n",
       "      <td>3rd</td>\n",
       "      <td>Southampton</td>\n",
       "      <td>7.1300</td>\n",
       "      <td>0</td>\n",
       "      <td>0</td>\n",
       "      <td>1</td>\n",
       "    </tr>\n",
       "    <tr>\n",
       "      <th>6</th>\n",
       "      <td>male</td>\n",
       "      <td>30.0</td>\n",
       "      <td>2nd</td>\n",
       "      <td>Cherbourg</td>\n",
       "      <td>24.0000</td>\n",
       "      <td>1</td>\n",
       "      <td>0</td>\n",
       "      <td>0</td>\n",
       "    </tr>\n",
       "    <tr>\n",
       "      <th>7</th>\n",
       "      <td>female</td>\n",
       "      <td>28.0</td>\n",
       "      <td>2nd</td>\n",
       "      <td>Cherbourg</td>\n",
       "      <td>24.0000</td>\n",
       "      <td>1</td>\n",
       "      <td>0</td>\n",
       "      <td>1</td>\n",
       "    </tr>\n",
       "    <tr>\n",
       "      <th>8</th>\n",
       "      <td>male</td>\n",
       "      <td>27.0</td>\n",
       "      <td>3rd</td>\n",
       "      <td>Cherbourg</td>\n",
       "      <td>18.1509</td>\n",
       "      <td>0</td>\n",
       "      <td>0</td>\n",
       "      <td>1</td>\n",
       "    </tr>\n",
       "    <tr>\n",
       "      <th>9</th>\n",
       "      <td>male</td>\n",
       "      <td>20.0</td>\n",
       "      <td>3rd</td>\n",
       "      <td>Southampton</td>\n",
       "      <td>7.1806</td>\n",
       "      <td>0</td>\n",
       "      <td>0</td>\n",
       "      <td>1</td>\n",
       "    </tr>\n",
       "  </tbody>\n",
       "</table>\n",
       "</div>"
      ],
      "text/plain": [
       "   gender   age class     embarked     fare  sibsp  parch  survived\n",
       "0    male  42.0   3rd  Southampton   7.1100      0      0         0\n",
       "1    male  13.0   3rd  Southampton  20.0500      0      2         0\n",
       "2    male  16.0   3rd  Southampton  20.0500      1      1         0\n",
       "3  female  39.0   3rd  Southampton  20.0500      1      1         1\n",
       "4  female  16.0   3rd  Southampton   7.1300      0      0         1\n",
       "5    male  25.0   3rd  Southampton   7.1300      0      0         1\n",
       "6    male  30.0   2nd    Cherbourg  24.0000      1      0         0\n",
       "7  female  28.0   2nd    Cherbourg  24.0000      1      0         1\n",
       "8    male  27.0   3rd    Cherbourg  18.1509      0      0         1\n",
       "9    male  20.0   3rd  Southampton   7.1806      0      0         1"
      ]
     },
     "execution_count": 8,
     "metadata": {},
     "output_type": "execute_result"
    }
   ],
   "source": [
    "data.head(10)"
   ]
  },
  {
   "cell_type": "markdown",
   "metadata": {},
   "source": [
    "# 前処理、学習"
   ]
  },
  {
   "cell_type": "code",
   "execution_count": 13,
   "metadata": {},
   "outputs": [],
   "source": [
    "numerical_features = ['age', 'fare', 'sibsp', 'parch']\n",
    "numerical_transformer = Pipeline(\n",
    "    steps=[\n",
    "        ('imputer', SimpleImputer(strategy='median')),\n",
    "        ('scaler', StandardScaler())\n",
    "    ]\n",
    ")\n",
    "\n",
    "categorical_features = ['gender', 'class',  'embarked']\n",
    "categorical_transformer = Pipeline(\n",
    "    steps=[\n",
    "        ('imputer', SimpleImputer(strategy='constant', fill_value='missing')),\n",
    "        ('onehot', OneHotEncoder(handle_unknown='ignore'))\n",
    "    ]\n",
    ")\n",
    "\n",
    "preprocessor = ColumnTransformer(\n",
    "    transformers=[\n",
    "      ('num', numerical_transformer, numerical_features), \n",
    "        ('cat', categorical_transformer, categorical_features)\n",
    "    ]\n",
    ")\n",
    "\n",
    "classifier = MLPClassifier(hidden_layer_sizes=(150,100,50), max_iter=500, random_state=0)\n",
    "\n",
    "clf = Pipeline(steps=[('preprocessor', preprocessor),\n",
    "                      ('classifier', classifier)])"
   ]
  },
  {
   "cell_type": "code",
   "execution_count": 14,
   "metadata": {},
   "outputs": [
    {
     "data": {
      "text/plain": [
       "Pipeline(memory=None,\n",
       "         steps=[('preprocessor',\n",
       "                 ColumnTransformer(n_jobs=None, remainder='drop',\n",
       "                                   sparse_threshold=0.3,\n",
       "                                   transformer_weights=None,\n",
       "                                   transformers=[('num',\n",
       "                                                  Pipeline(memory=None,\n",
       "                                                           steps=[('imputer',\n",
       "                                                                   SimpleImputer(add_indicator=False,\n",
       "                                                                                 copy=True,\n",
       "                                                                                 fill_value=None,\n",
       "                                                                                 missing_values=nan,\n",
       "                                                                                 strategy='median',\n",
       "                                                                                 verbose=0)),\n",
       "                                                                  ('scaler',\n",
       "                                                                   StandardScaler(copy=True,\n",
       "                                                                                  with_mean...\n",
       "                               batch_size='auto', beta_1=0.9, beta_2=0.999,\n",
       "                               early_stopping=False, epsilon=1e-08,\n",
       "                               hidden_layer_sizes=(150, 100, 50),\n",
       "                               learning_rate='constant',\n",
       "                               learning_rate_init=0.001, max_fun=15000,\n",
       "                               max_iter=500, momentum=0.9, n_iter_no_change=10,\n",
       "                               nesterovs_momentum=True, power_t=0.5,\n",
       "                               random_state=0, shuffle=True, solver='adam',\n",
       "                               tol=0.0001, validation_fraction=0.1,\n",
       "                               verbose=False, warm_start=False))],\n",
       "         verbose=False)"
      ]
     },
     "execution_count": 14,
     "metadata": {},
     "output_type": "execute_result"
    }
   ],
   "source": [
    "clf.fit(X, y)"
   ]
  },
  {
   "cell_type": "markdown",
   "metadata": {},
   "source": [
    "# DalexのExplainerに学習済みモデルを入れる"
   ]
  },
  {
   "cell_type": "code",
   "execution_count": 16,
   "metadata": {},
   "outputs": [
    {
     "name": "stdout",
     "output_type": "stream",
     "text": [
      "Preparation of a new explainer is initiated\n",
      "\n",
      "  -> data              : 2207 rows 7 cols\n",
      "  -> target variable   : Argument 'y' was a pandas.Series. Converted to a numpy.ndarray.\n",
      "  -> target variable   : 2207 values\n",
      "  -> model_class       : sklearn.pipeline.Pipeline (default)\n",
      "  -> label             : Titanic MLP Pipline\n",
      "  -> predict function  : <function yhat_proba_default at 0x1a27ccc9e0> will be used (default)\n",
      "  -> predicted values  : min = 2.7205375671318314e-06, mean = 0.3367353380775521, max = 0.9999999997383016\n",
      "  -> residual function : difference between y and yhat (default)\n",
      "  -> residuals         : min = -0.921242269825129, mean = -0.01457856417632874, max = 0.9751663054089054\n",
      "  -> model_info        : package sklearn\n",
      "\n",
      "A new explainer has been created!\n"
     ]
    }
   ],
   "source": [
    "exp = dx.Explainer(clf, X, y, label = 'Titanic MLP Pipline')"
   ]
  },
  {
   "cell_type": "markdown",
   "metadata": {},
   "source": [
    "# Dalexで可視化"
   ]
  },
  {
   "cell_type": "code",
   "execution_count": 23,
   "metadata": {},
   "outputs": [],
   "source": [
    "# johnデータ作成\n",
    "john = pd.DataFrame({'gender':['male'],\n",
    "                    'age':[25],\n",
    "                    'class':['1st'],\n",
    "                    'embarked':['Southanmton'],\n",
    "                    'fare':[72],\n",
    "                    'sibsp':[0],\n",
    "                    'parch':[0]},\n",
    "                   index=['John'])"
   ]
  },
  {
   "cell_type": "code",
   "execution_count": 24,
   "metadata": {},
   "outputs": [],
   "source": [
    "# maryデータ作成\n",
    "mary = pd.DataFrame({'gender': ['female'],\n",
    "                     'age': [35],\n",
    "                     'class': ['3st'],\n",
    "                     'embarked': ['Cherbourg'],\n",
    "                     'fare': [25],\n",
    "                     'sibsp': [0],\n",
    "                     'parch': [0]},\n",
    "                     index = ['Mary'])"
   ]
  },
  {
   "cell_type": "code",
   "execution_count": 25,
   "metadata": {},
   "outputs": [
    {
     "data": {
      "text/plain": [
       "array([0.09901118])"
      ]
     },
     "execution_count": 25,
     "metadata": {},
     "output_type": "execute_result"
    }
   ],
   "source": [
    "# johnデータで予測\n",
    "exp.predict(john)"
   ]
  },
  {
   "cell_type": "code",
   "execution_count": 26,
   "metadata": {},
   "outputs": [
    {
     "data": {
      "text/plain": [
       "array([0.97830209])"
      ]
     },
     "execution_count": 26,
     "metadata": {},
     "output_type": "execute_result"
    }
   ],
   "source": [
    "# maryデータで予測\n",
    "exp.predict(mary)"
   ]
  },
  {
   "cell_type": "markdown",
   "metadata": {},
   "source": [
    "# SHAPを確認"
   ]
  },
  {
   "cell_type": "code",
   "execution_count": 27,
   "metadata": {},
   "outputs": [],
   "source": [
    "sh_john = exp.predict_parts(john, type='shap', B=10)\n",
    "sh_mary = exp.predict_parts(mary, type='shap', B=10)"
   ]
  },
  {
   "cell_type": "code",
   "execution_count": 28,
   "metadata": {},
   "outputs": [
    {
     "data": {
      "text/html": [
       "<div>\n",
       "<style scoped>\n",
       "    .dataframe tbody tr th:only-of-type {\n",
       "        vertical-align: middle;\n",
       "    }\n",
       "\n",
       "    .dataframe tbody tr th {\n",
       "        vertical-align: top;\n",
       "    }\n",
       "\n",
       "    .dataframe thead th {\n",
       "        text-align: right;\n",
       "    }\n",
       "</style>\n",
       "<table border=\"1\" class=\"dataframe\">\n",
       "  <thead>\n",
       "    <tr style=\"text-align: right;\">\n",
       "      <th></th>\n",
       "      <th>variable</th>\n",
       "      <th>contribution</th>\n",
       "      <th>variable_name</th>\n",
       "      <th>variable_value</th>\n",
       "      <th>sign</th>\n",
       "      <th>label</th>\n",
       "      <th>B</th>\n",
       "    </tr>\n",
       "  </thead>\n",
       "  <tbody>\n",
       "    <tr>\n",
       "      <th>3</th>\n",
       "      <td>age = 25.0</td>\n",
       "      <td>-0.010024</td>\n",
       "      <td>age</td>\n",
       "      <td>25</td>\n",
       "      <td>-1.0</td>\n",
       "      <td>John</td>\n",
       "      <td>0</td>\n",
       "    </tr>\n",
       "    <tr>\n",
       "      <th>6</th>\n",
       "      <td>class = 1st</td>\n",
       "      <td>-0.103544</td>\n",
       "      <td>class</td>\n",
       "      <td>1st</td>\n",
       "      <td>-1.0</td>\n",
       "      <td>John</td>\n",
       "      <td>0</td>\n",
       "    </tr>\n",
       "    <tr>\n",
       "      <th>1</th>\n",
       "      <td>embarked = Southanmton</td>\n",
       "      <td>-0.003777</td>\n",
       "      <td>embarked</td>\n",
       "      <td>Southanmton</td>\n",
       "      <td>-1.0</td>\n",
       "      <td>John</td>\n",
       "      <td>0</td>\n",
       "    </tr>\n",
       "    <tr>\n",
       "      <th>5</th>\n",
       "      <td>fare = 72.0</td>\n",
       "      <td>-0.064419</td>\n",
       "      <td>fare</td>\n",
       "      <td>72</td>\n",
       "      <td>-1.0</td>\n",
       "      <td>John</td>\n",
       "      <td>0</td>\n",
       "    </tr>\n",
       "    <tr>\n",
       "      <th>4</th>\n",
       "      <td>gender = male</td>\n",
       "      <td>-0.041953</td>\n",
       "      <td>gender</td>\n",
       "      <td>male</td>\n",
       "      <td>-1.0</td>\n",
       "      <td>John</td>\n",
       "      <td>0</td>\n",
       "    </tr>\n",
       "    <tr>\n",
       "      <th>0</th>\n",
       "      <td>parch = 0.0</td>\n",
       "      <td>-0.006476</td>\n",
       "      <td>parch</td>\n",
       "      <td>0</td>\n",
       "      <td>-1.0</td>\n",
       "      <td>John</td>\n",
       "      <td>0</td>\n",
       "    </tr>\n",
       "    <tr>\n",
       "      <th>2</th>\n",
       "      <td>sibsp = 0.0</td>\n",
       "      <td>-0.007531</td>\n",
       "      <td>sibsp</td>\n",
       "      <td>0</td>\n",
       "      <td>-1.0</td>\n",
       "      <td>John</td>\n",
       "      <td>0</td>\n",
       "    </tr>\n",
       "  </tbody>\n",
       "</table>\n",
       "</div>"
      ],
      "text/plain": [
       "                 variable  contribution variable_name variable_value  sign  \\\n",
       "3              age = 25.0     -0.010024           age             25  -1.0   \n",
       "6             class = 1st     -0.103544         class            1st  -1.0   \n",
       "1  embarked = Southanmton     -0.003777      embarked    Southanmton  -1.0   \n",
       "5             fare = 72.0     -0.064419          fare             72  -1.0   \n",
       "4           gender = male     -0.041953        gender           male  -1.0   \n",
       "0             parch = 0.0     -0.006476         parch              0  -1.0   \n",
       "2             sibsp = 0.0     -0.007531         sibsp              0  -1.0   \n",
       "\n",
       "  label  B  \n",
       "3  John  0  \n",
       "6  John  0  \n",
       "1  John  0  \n",
       "5  John  0  \n",
       "4  John  0  \n",
       "0  John  0  \n",
       "2  John  0  "
      ]
     },
     "execution_count": 28,
     "metadata": {},
     "output_type": "execute_result"
    }
   ],
   "source": [
    "# johnの場合\n",
    "sh_john.result.label = 'John'\n",
    "sh_john.result.loc[sh_john.result.B == 0, ]"
   ]
  },
  {
   "cell_type": "code",
   "execution_count": 32,
   "metadata": {},
   "outputs": [
    {
     "data": {
      "application/vnd.plotly.v1+json": {
       "config": {
        "displaylogo": false,
        "modeBarButtonsToRemove": [
         "sendDataToCloud",
         "lasso2d",
         "autoScale2d",
         "select2d",
         "zoom2d",
         "pan2d",
         "zoomIn2d",
         "zoomOut2d",
         "resetScale2d",
         "toggleSpikelines",
         "hoverCompareCartesian",
         "hoverClosestCartesian"
        ],
        "plotlyServerURL": "https://plot.ly",
        "staticPlot": false
       },
       "data": [
        {
         "base": 0.3367353380775521,
         "hoverinfo": "text",
         "hoverlabel": {
          "bgcolor": "rgba(0,0,0,0.8)"
         },
         "hovertext": [
          "Average response: 0.337<br>Prediction: 0.099<br>class = 1st<br>decreases average response <br>by 0.104",
          "Average response: 0.337<br>Prediction: 0.099<br>fare = 72.0<br>decreases average response <br>by 0.064",
          "Average response: 0.337<br>Prediction: 0.099<br>gender = male<br>decreases average response <br>by 0.042",
          "Average response: 0.337<br>Prediction: 0.099<br>age = 25.0<br>decreases average response <br>by 0.01",
          "Average response: 0.337<br>Prediction: 0.099<br>sibsp = 0.0<br>decreases average response <br>by 0.008",
          "Average response: 0.337<br>Prediction: 0.099<br>parch = 0.0<br>decreases average response <br>by 0.006",
          "Average response: 0.337<br>Prediction: 0.099<br>embarked = Southanmton<br>decreases average response <br>by 0.004"
         ],
         "marker": {
          "color": [
           "#f05a71",
           "#f05a71",
           "#f05a71",
           "#f05a71",
           "#f05a71",
           "#f05a71",
           "#f05a71"
          ]
         },
         "orientation": "h",
         "showlegend": false,
         "text": [
          "-0.104",
          "-0.064",
          "-0.042",
          "-0.01",
          "-0.008",
          "-0.006",
          "-0.004"
         ],
         "textposition": "outside",
         "type": "bar",
         "x": [
          -0.104,
          -0.064,
          -0.042,
          -0.01,
          -0.008,
          -0.006,
          -0.004
         ],
         "xaxis": "x",
         "y": [
          "class = 1st",
          "fare = 72.0",
          "gender = male",
          "age = 25.0",
          "sibsp = 0.0",
          "parch = 0.0",
          "embarked = Southanmton"
         ],
         "yaxis": "y"
        }
       ],
       "layout": {
        "annotations": [
         {
          "font": {
           "size": 16
          },
          "showarrow": false,
          "text": "John",
          "x": 0.5,
          "xanchor": "center",
          "xref": "paper",
          "y": 1,
          "yanchor": "bottom",
          "yref": "paper"
         },
         {
          "font": {
           "size": 16
          },
          "showarrow": false,
          "text": "contribution",
          "x": 0.5,
          "xanchor": "center",
          "xref": "paper",
          "y": 0,
          "yanchor": "top",
          "yref": "paper",
          "yshift": -30
         }
        ],
        "font": {
         "color": "#371ea3"
        },
        "height": 329,
        "margin": {
         "b": 71,
         "r": 30,
         "t": 78
        },
        "shapes": [
         {
          "line": {
           "color": "#371ea3",
           "dash": "dot",
           "width": 1.5
          },
          "type": "line",
          "x0": 0.3367353380775521,
          "x1": 0.3367353380775521,
          "xref": "x",
          "y0": 0,
          "y1": 6,
          "yref": "y"
         }
        ],
        "template": {
         "data": {
          "scatter": [
           {
            "type": "scatter"
           }
          ]
         }
        },
        "title": {
         "text": "Shapley Values",
         "x": 0.15
        },
        "xaxis": {
         "anchor": "y",
         "automargin": true,
         "domain": [
          0,
          1
         ],
         "fixedrange": true,
         "gridwidth": 2,
         "range": [
          0.21773533807755216,
          0.34773533807755214
         ],
         "tickcolor": "white",
         "ticklen": 3,
         "ticks": "outside",
         "type": "linear",
         "zeroline": false
        },
        "yaxis": {
         "anchor": "x",
         "automargin": true,
         "autorange": "reversed",
         "domain": [
          0,
          1
         ],
         "fixedrange": true,
         "gridwidth": 2,
         "tickcolor": "white",
         "ticklen": 10,
         "ticks": "outside",
         "type": "category"
        }
       }
      },
      "text/html": [
       "<div>\n",
       "        \n",
       "        \n",
       "            <div id=\"351a1d6c-4297-4983-a3b7-5aafc9d1d06c\" class=\"plotly-graph-div\" style=\"height:329.0px; width:100%;\"></div>\n",
       "            <script type=\"text/javascript\">\n",
       "                require([\"plotly\"], function(Plotly) {\n",
       "                    window.PLOTLYENV=window.PLOTLYENV || {};\n",
       "                    \n",
       "                if (document.getElementById(\"351a1d6c-4297-4983-a3b7-5aafc9d1d06c\")) {\n",
       "                    Plotly.newPlot(\n",
       "                        '351a1d6c-4297-4983-a3b7-5aafc9d1d06c',\n",
       "                        [{\"base\": 0.3367353380775521, \"hoverinfo\": \"text\", \"hoverlabel\": {\"bgcolor\": \"rgba(0,0,0,0.8)\"}, \"hovertext\": [\"Average response: 0.337<br>Prediction: 0.099<br>class = 1st<br>decreases average response <br>by 0.104\", \"Average response: 0.337<br>Prediction: 0.099<br>fare = 72.0<br>decreases average response <br>by 0.064\", \"Average response: 0.337<br>Prediction: 0.099<br>gender = male<br>decreases average response <br>by 0.042\", \"Average response: 0.337<br>Prediction: 0.099<br>age = 25.0<br>decreases average response <br>by 0.01\", \"Average response: 0.337<br>Prediction: 0.099<br>sibsp = 0.0<br>decreases average response <br>by 0.008\", \"Average response: 0.337<br>Prediction: 0.099<br>parch = 0.0<br>decreases average response <br>by 0.006\", \"Average response: 0.337<br>Prediction: 0.099<br>embarked = Southanmton<br>decreases average response <br>by 0.004\"], \"marker\": {\"color\": [\"#f05a71\", \"#f05a71\", \"#f05a71\", \"#f05a71\", \"#f05a71\", \"#f05a71\", \"#f05a71\"]}, \"orientation\": \"h\", \"showlegend\": false, \"text\": [\"-0.104\", \"-0.064\", \"-0.042\", \"-0.01\", \"-0.008\", \"-0.006\", \"-0.004\"], \"textposition\": \"outside\", \"type\": \"bar\", \"x\": [-0.104, -0.064, -0.042, -0.01, -0.008, -0.006, -0.004], \"xaxis\": \"x\", \"y\": [\"class = 1st\", \"fare = 72.0\", \"gender = male\", \"age = 25.0\", \"sibsp = 0.0\", \"parch = 0.0\", \"embarked = Southanmton\"], \"yaxis\": \"y\"}],\n",
       "                        {\"annotations\": [{\"font\": {\"size\": 16}, \"showarrow\": false, \"text\": \"John\", \"x\": 0.5, \"xanchor\": \"center\", \"xref\": \"paper\", \"y\": 1.0, \"yanchor\": \"bottom\", \"yref\": \"paper\"}, {\"font\": {\"size\": 16}, \"showarrow\": false, \"text\": \"contribution\", \"x\": 0.5, \"xanchor\": \"center\", \"xref\": \"paper\", \"y\": 0, \"yanchor\": \"top\", \"yref\": \"paper\", \"yshift\": -30}], \"font\": {\"color\": \"#371ea3\"}, \"height\": 329.0, \"margin\": {\"b\": 71, \"r\": 30, \"t\": 78}, \"shapes\": [{\"line\": {\"color\": \"#371ea3\", \"dash\": \"dot\", \"width\": 1.5}, \"type\": \"line\", \"x0\": 0.3367353380775521, \"x1\": 0.3367353380775521, \"xref\": \"x\", \"y0\": 0, \"y1\": 6, \"yref\": \"y\"}], \"template\": {\"data\": {\"scatter\": [{\"type\": \"scatter\"}]}}, \"title\": {\"text\": \"Shapley Values\", \"x\": 0.15}, \"xaxis\": {\"anchor\": \"y\", \"automargin\": true, \"domain\": [0.0, 1.0], \"fixedrange\": true, \"gridwidth\": 2, \"range\": [0.21773533807755216, 0.34773533807755214], \"tickcolor\": \"white\", \"ticklen\": 3, \"ticks\": \"outside\", \"type\": \"linear\", \"zeroline\": false}, \"yaxis\": {\"anchor\": \"x\", \"automargin\": true, \"autorange\": \"reversed\", \"domain\": [0.0, 1.0], \"fixedrange\": true, \"gridwidth\": 2, \"tickcolor\": \"white\", \"ticklen\": 10, \"ticks\": \"outside\", \"type\": \"category\"}},\n",
       "                        {\"displaylogo\": false, \"staticPlot\": false, \"modeBarButtonsToRemove\": [\"sendDataToCloud\", \"lasso2d\", \"autoScale2d\", \"select2d\", \"zoom2d\", \"pan2d\", \"zoomIn2d\", \"zoomOut2d\", \"resetScale2d\", \"toggleSpikelines\", \"hoverCompareCartesian\", \"hoverClosestCartesian\"], \"responsive\": true}\n",
       "                    ).then(function(){\n",
       "                            \n",
       "var gd = document.getElementById('351a1d6c-4297-4983-a3b7-5aafc9d1d06c');\n",
       "var x = new MutationObserver(function (mutations, observer) {{\n",
       "        var display = window.getComputedStyle(gd).display;\n",
       "        if (!display || display === 'none') {{\n",
       "            console.log([gd, 'removed!']);\n",
       "            Plotly.purge(gd);\n",
       "            observer.disconnect();\n",
       "        }}\n",
       "}});\n",
       "\n",
       "// Listen for the removal of the full notebook cells\n",
       "var notebookContainer = gd.closest('#notebook-container');\n",
       "if (notebookContainer) {{\n",
       "    x.observe(notebookContainer, {childList: true});\n",
       "}}\n",
       "\n",
       "// Listen for the clearing of the current output cell\n",
       "var outputEl = gd.closest('.output');\n",
       "if (outputEl) {{\n",
       "    x.observe(outputEl, {childList: true});\n",
       "}}\n",
       "\n",
       "                        })\n",
       "                };\n",
       "                });\n",
       "            </script>\n",
       "        </div>"
      ]
     },
     "metadata": {},
     "output_type": "display_data"
    }
   ],
   "source": [
    "#john可視化\n",
    "sh_john.plot(bar_width = 20)"
   ]
  },
  {
   "cell_type": "code",
   "execution_count": 30,
   "metadata": {},
   "outputs": [
    {
     "data": {
      "text/html": [
       "<div>\n",
       "<style scoped>\n",
       "    .dataframe tbody tr th:only-of-type {\n",
       "        vertical-align: middle;\n",
       "    }\n",
       "\n",
       "    .dataframe tbody tr th {\n",
       "        vertical-align: top;\n",
       "    }\n",
       "\n",
       "    .dataframe thead th {\n",
       "        text-align: right;\n",
       "    }\n",
       "</style>\n",
       "<table border=\"1\" class=\"dataframe\">\n",
       "  <thead>\n",
       "    <tr style=\"text-align: right;\">\n",
       "      <th></th>\n",
       "      <th>variable</th>\n",
       "      <th>contribution</th>\n",
       "      <th>variable_name</th>\n",
       "      <th>variable_value</th>\n",
       "      <th>sign</th>\n",
       "      <th>label</th>\n",
       "      <th>B</th>\n",
       "    </tr>\n",
       "  </thead>\n",
       "  <tbody>\n",
       "    <tr>\n",
       "      <th>1</th>\n",
       "      <td>age = 35.0</td>\n",
       "      <td>0.069448</td>\n",
       "      <td>age</td>\n",
       "      <td>35</td>\n",
       "      <td>1.0</td>\n",
       "      <td>Mary</td>\n",
       "      <td>0</td>\n",
       "    </tr>\n",
       "    <tr>\n",
       "      <th>4</th>\n",
       "      <td>class = 3st</td>\n",
       "      <td>0.174596</td>\n",
       "      <td>class</td>\n",
       "      <td>3st</td>\n",
       "      <td>1.0</td>\n",
       "      <td>Mary</td>\n",
       "      <td>0</td>\n",
       "    </tr>\n",
       "    <tr>\n",
       "      <th>2</th>\n",
       "      <td>embarked = Cherbourg</td>\n",
       "      <td>0.078625</td>\n",
       "      <td>embarked</td>\n",
       "      <td>Cherbourg</td>\n",
       "      <td>1.0</td>\n",
       "      <td>Mary</td>\n",
       "      <td>0</td>\n",
       "    </tr>\n",
       "    <tr>\n",
       "      <th>3</th>\n",
       "      <td>fare = 25.0</td>\n",
       "      <td>0.051631</td>\n",
       "      <td>fare</td>\n",
       "      <td>25</td>\n",
       "      <td>1.0</td>\n",
       "      <td>Mary</td>\n",
       "      <td>0</td>\n",
       "    </tr>\n",
       "    <tr>\n",
       "      <th>6</th>\n",
       "      <td>gender = female</td>\n",
       "      <td>0.121247</td>\n",
       "      <td>gender</td>\n",
       "      <td>female</td>\n",
       "      <td>1.0</td>\n",
       "      <td>Mary</td>\n",
       "      <td>0</td>\n",
       "    </tr>\n",
       "    <tr>\n",
       "      <th>5</th>\n",
       "      <td>parch = 0.0</td>\n",
       "      <td>0.035425</td>\n",
       "      <td>parch</td>\n",
       "      <td>0</td>\n",
       "      <td>1.0</td>\n",
       "      <td>Mary</td>\n",
       "      <td>0</td>\n",
       "    </tr>\n",
       "    <tr>\n",
       "      <th>0</th>\n",
       "      <td>sibsp = 0.0</td>\n",
       "      <td>0.110595</td>\n",
       "      <td>sibsp</td>\n",
       "      <td>0</td>\n",
       "      <td>1.0</td>\n",
       "      <td>Mary</td>\n",
       "      <td>0</td>\n",
       "    </tr>\n",
       "  </tbody>\n",
       "</table>\n",
       "</div>"
      ],
      "text/plain": [
       "               variable  contribution variable_name variable_value  sign  \\\n",
       "1            age = 35.0      0.069448           age             35   1.0   \n",
       "4           class = 3st      0.174596         class            3st   1.0   \n",
       "2  embarked = Cherbourg      0.078625      embarked      Cherbourg   1.0   \n",
       "3           fare = 25.0      0.051631          fare             25   1.0   \n",
       "6       gender = female      0.121247        gender         female   1.0   \n",
       "5           parch = 0.0      0.035425         parch              0   1.0   \n",
       "0           sibsp = 0.0      0.110595         sibsp              0   1.0   \n",
       "\n",
       "  label  B  \n",
       "1  Mary  0  \n",
       "4  Mary  0  \n",
       "2  Mary  0  \n",
       "3  Mary  0  \n",
       "6  Mary  0  \n",
       "5  Mary  0  \n",
       "0  Mary  0  "
      ]
     },
     "execution_count": 30,
     "metadata": {},
     "output_type": "execute_result"
    }
   ],
   "source": [
    "# maryの場合\n",
    "sh_mary.result.label = 'Mary'\n",
    "sh_mary.result.loc[sh_mary.result.B == 0, ]"
   ]
  },
  {
   "cell_type": "code",
   "execution_count": 33,
   "metadata": {},
   "outputs": [
    {
     "data": {
      "application/vnd.plotly.v1+json": {
       "config": {
        "displaylogo": false,
        "modeBarButtonsToRemove": [
         "sendDataToCloud",
         "lasso2d",
         "autoScale2d",
         "select2d",
         "zoom2d",
         "pan2d",
         "zoomIn2d",
         "zoomOut2d",
         "resetScale2d",
         "toggleSpikelines",
         "hoverCompareCartesian",
         "hoverClosestCartesian"
        ],
        "plotlyServerURL": "https://plot.ly",
        "staticPlot": false
       },
       "data": [
        {
         "base": 0.3367353380775521,
         "hoverinfo": "text",
         "hoverlabel": {
          "bgcolor": "rgba(0,0,0,0.8)"
         },
         "hovertext": [
          "Average response: 0.337<br>Prediction: 0.978<br>class = 3st<br>increases average response <br>by 0.175",
          "Average response: 0.337<br>Prediction: 0.978<br>gender = female<br>increases average response <br>by 0.121",
          "Average response: 0.337<br>Prediction: 0.978<br>sibsp = 0.0<br>increases average response <br>by 0.111",
          "Average response: 0.337<br>Prediction: 0.978<br>embarked = Cherbourg<br>increases average response <br>by 0.079",
          "Average response: 0.337<br>Prediction: 0.978<br>age = 35.0<br>increases average response <br>by 0.069",
          "Average response: 0.337<br>Prediction: 0.978<br>fare = 25.0<br>increases average response <br>by 0.052",
          "Average response: 0.337<br>Prediction: 0.978<br>parch = 0.0<br>increases average response <br>by 0.035"
         ],
         "marker": {
          "color": [
           "#8bdcbe",
           "#8bdcbe",
           "#8bdcbe",
           "#8bdcbe",
           "#8bdcbe",
           "#8bdcbe",
           "#8bdcbe"
          ]
         },
         "orientation": "h",
         "showlegend": false,
         "text": [
          "+0.175",
          "+0.121",
          "+0.111",
          "+0.079",
          "+0.069",
          "+0.052",
          "+0.035"
         ],
         "textposition": "outside",
         "type": "bar",
         "x": [
          0.175,
          0.121,
          0.111,
          0.079,
          0.069,
          0.052,
          0.035
         ],
         "xaxis": "x",
         "y": [
          "class = 3st",
          "gender = female",
          "sibsp = 0.0",
          "embarked = Cherbourg",
          "age = 35.0",
          "fare = 25.0",
          "parch = 0.0"
         ],
         "yaxis": "y"
        }
       ],
       "layout": {
        "annotations": [
         {
          "font": {
           "size": 16
          },
          "showarrow": false,
          "text": "Mary",
          "x": 0.5,
          "xanchor": "center",
          "xref": "paper",
          "y": 1,
          "yanchor": "bottom",
          "yref": "paper"
         },
         {
          "font": {
           "size": 16
          },
          "showarrow": false,
          "text": "contribution",
          "x": 0.5,
          "xanchor": "center",
          "xref": "paper",
          "y": 0,
          "yanchor": "top",
          "yref": "paper",
          "yshift": -30
         }
        ],
        "font": {
         "color": "#371ea3"
        },
        "height": 329,
        "margin": {
         "b": 71,
         "r": 30,
         "t": 78
        },
        "shapes": [
         {
          "line": {
           "color": "#371ea3",
           "dash": "dot",
           "width": 1.5
          },
          "type": "line",
          "x0": 0.3367353380775521,
          "x1": 0.3367353380775521,
          "xref": "x",
          "y0": 0,
          "y1": 6,
          "yref": "y"
         }
        ],
        "template": {
         "data": {
          "scatter": [
           {
            "type": "scatter"
           }
          ]
         }
        },
        "title": {
         "text": "Shapley Values",
         "x": 0.15
        },
        "xaxis": {
         "anchor": "y",
         "automargin": true,
         "domain": [
          0,
          1
         ],
         "fixedrange": true,
         "gridwidth": 2,
         "range": [
          0.3507353380775521,
          0.5327353380775521
         ],
         "tickcolor": "white",
         "ticklen": 3,
         "ticks": "outside",
         "type": "linear",
         "zeroline": false
        },
        "yaxis": {
         "anchor": "x",
         "automargin": true,
         "autorange": "reversed",
         "domain": [
          0,
          1
         ],
         "fixedrange": true,
         "gridwidth": 2,
         "tickcolor": "white",
         "ticklen": 10,
         "ticks": "outside",
         "type": "category"
        }
       }
      },
      "text/html": [
       "<div>\n",
       "        \n",
       "        \n",
       "            <div id=\"0f0ab5f9-7f5b-48a5-95cf-c993c5e19568\" class=\"plotly-graph-div\" style=\"height:329.0px; width:100%;\"></div>\n",
       "            <script type=\"text/javascript\">\n",
       "                require([\"plotly\"], function(Plotly) {\n",
       "                    window.PLOTLYENV=window.PLOTLYENV || {};\n",
       "                    \n",
       "                if (document.getElementById(\"0f0ab5f9-7f5b-48a5-95cf-c993c5e19568\")) {\n",
       "                    Plotly.newPlot(\n",
       "                        '0f0ab5f9-7f5b-48a5-95cf-c993c5e19568',\n",
       "                        [{\"base\": 0.3367353380775521, \"hoverinfo\": \"text\", \"hoverlabel\": {\"bgcolor\": \"rgba(0,0,0,0.8)\"}, \"hovertext\": [\"Average response: 0.337<br>Prediction: 0.978<br>class = 3st<br>increases average response <br>by 0.175\", \"Average response: 0.337<br>Prediction: 0.978<br>gender = female<br>increases average response <br>by 0.121\", \"Average response: 0.337<br>Prediction: 0.978<br>sibsp = 0.0<br>increases average response <br>by 0.111\", \"Average response: 0.337<br>Prediction: 0.978<br>embarked = Cherbourg<br>increases average response <br>by 0.079\", \"Average response: 0.337<br>Prediction: 0.978<br>age = 35.0<br>increases average response <br>by 0.069\", \"Average response: 0.337<br>Prediction: 0.978<br>fare = 25.0<br>increases average response <br>by 0.052\", \"Average response: 0.337<br>Prediction: 0.978<br>parch = 0.0<br>increases average response <br>by 0.035\"], \"marker\": {\"color\": [\"#8bdcbe\", \"#8bdcbe\", \"#8bdcbe\", \"#8bdcbe\", \"#8bdcbe\", \"#8bdcbe\", \"#8bdcbe\"]}, \"orientation\": \"h\", \"showlegend\": false, \"text\": [\"+0.175\", \"+0.121\", \"+0.111\", \"+0.079\", \"+0.069\", \"+0.052\", \"+0.035\"], \"textposition\": \"outside\", \"type\": \"bar\", \"x\": [0.175, 0.121, 0.111, 0.079, 0.069, 0.052, 0.035], \"xaxis\": \"x\", \"y\": [\"class = 3st\", \"gender = female\", \"sibsp = 0.0\", \"embarked = Cherbourg\", \"age = 35.0\", \"fare = 25.0\", \"parch = 0.0\"], \"yaxis\": \"y\"}],\n",
       "                        {\"annotations\": [{\"font\": {\"size\": 16}, \"showarrow\": false, \"text\": \"Mary\", \"x\": 0.5, \"xanchor\": \"center\", \"xref\": \"paper\", \"y\": 1.0, \"yanchor\": \"bottom\", \"yref\": \"paper\"}, {\"font\": {\"size\": 16}, \"showarrow\": false, \"text\": \"contribution\", \"x\": 0.5, \"xanchor\": \"center\", \"xref\": \"paper\", \"y\": 0, \"yanchor\": \"top\", \"yref\": \"paper\", \"yshift\": -30}], \"font\": {\"color\": \"#371ea3\"}, \"height\": 329.0, \"margin\": {\"b\": 71, \"r\": 30, \"t\": 78}, \"shapes\": [{\"line\": {\"color\": \"#371ea3\", \"dash\": \"dot\", \"width\": 1.5}, \"type\": \"line\", \"x0\": 0.3367353380775521, \"x1\": 0.3367353380775521, \"xref\": \"x\", \"y0\": 0, \"y1\": 6, \"yref\": \"y\"}], \"template\": {\"data\": {\"scatter\": [{\"type\": \"scatter\"}]}}, \"title\": {\"text\": \"Shapley Values\", \"x\": 0.15}, \"xaxis\": {\"anchor\": \"y\", \"automargin\": true, \"domain\": [0.0, 1.0], \"fixedrange\": true, \"gridwidth\": 2, \"range\": [0.3507353380775521, 0.5327353380775521], \"tickcolor\": \"white\", \"ticklen\": 3, \"ticks\": \"outside\", \"type\": \"linear\", \"zeroline\": false}, \"yaxis\": {\"anchor\": \"x\", \"automargin\": true, \"autorange\": \"reversed\", \"domain\": [0.0, 1.0], \"fixedrange\": true, \"gridwidth\": 2, \"tickcolor\": \"white\", \"ticklen\": 10, \"ticks\": \"outside\", \"type\": \"category\"}},\n",
       "                        {\"displaylogo\": false, \"staticPlot\": false, \"modeBarButtonsToRemove\": [\"sendDataToCloud\", \"lasso2d\", \"autoScale2d\", \"select2d\", \"zoom2d\", \"pan2d\", \"zoomIn2d\", \"zoomOut2d\", \"resetScale2d\", \"toggleSpikelines\", \"hoverCompareCartesian\", \"hoverClosestCartesian\"], \"responsive\": true}\n",
       "                    ).then(function(){\n",
       "                            \n",
       "var gd = document.getElementById('0f0ab5f9-7f5b-48a5-95cf-c993c5e19568');\n",
       "var x = new MutationObserver(function (mutations, observer) {{\n",
       "        var display = window.getComputedStyle(gd).display;\n",
       "        if (!display || display === 'none') {{\n",
       "            console.log([gd, 'removed!']);\n",
       "            Plotly.purge(gd);\n",
       "            observer.disconnect();\n",
       "        }}\n",
       "}});\n",
       "\n",
       "// Listen for the removal of the full notebook cells\n",
       "var notebookContainer = gd.closest('#notebook-container');\n",
       "if (notebookContainer) {{\n",
       "    x.observe(notebookContainer, {childList: true});\n",
       "}}\n",
       "\n",
       "// Listen for the clearing of the current output cell\n",
       "var outputEl = gd.closest('.output');\n",
       "if (outputEl) {{\n",
       "    x.observe(outputEl, {childList: true});\n",
       "}}\n",
       "\n",
       "                        })\n",
       "                };\n",
       "                });\n",
       "            </script>\n",
       "        </div>"
      ]
     },
     "metadata": {},
     "output_type": "display_data"
    }
   ],
   "source": [
    "sh_mary.plot(bar_width = 20)"
   ]
  },
  {
   "cell_type": "code",
   "execution_count": null,
   "metadata": {},
   "outputs": [],
   "source": []
  }
 ],
 "metadata": {
  "kernelspec": {
   "display_name": "Python 3",
   "language": "python",
   "name": "python3"
  },
  "language_info": {
   "codemirror_mode": {
    "name": "ipython",
    "version": 3
   },
   "file_extension": ".py",
   "mimetype": "text/x-python",
   "name": "python",
   "nbconvert_exporter": "python",
   "pygments_lexer": "ipython3",
   "version": "3.7.6"
  },
  "toc": {
   "base_numbering": 1,
   "nav_menu": {},
   "number_sections": false,
   "sideBar": true,
   "skip_h1_title": false,
   "title_cell": "Table of Contents",
   "title_sidebar": "Contents",
   "toc_cell": false,
   "toc_position": {
    "height": "calc(100% - 180px)",
    "left": "10px",
    "top": "150px",
    "width": "141px"
   },
   "toc_section_display": true,
   "toc_window_display": false
  }
 },
 "nbformat": 4,
 "nbformat_minor": 4
}
