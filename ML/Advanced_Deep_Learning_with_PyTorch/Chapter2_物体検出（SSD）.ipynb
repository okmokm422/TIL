{
 "cells": [
  {
   "cell_type": "markdown",
   "metadata": {},
   "source": [
    "# 第２章 物体検出（SSD）　"
   ]
  },
  {
   "cell_type": "markdown",
   "metadata": {},
   "source": [
    "## 2-1 物体検出とは"
   ]
  },
  {
   "cell_type": "markdown",
   "metadata": {},
   "source": [
    "### 物体検出の概要"
   ]
  },
  {
   "cell_type": "markdown",
   "metadata": {},
   "source": [
    "- 物体検出とは  \n",
    "    １枚の画像に含まれている複数の物体に対して、物体の領域と物体名を特定するタスク。\n",
    "\n",
    "- バウンディングボックス（Bounding box）  \n",
    "    物体の位置を示す枠\n",
    "\n",
    "- confidence  \n",
    "    検出の確信度（１が一番大きい）"
   ]
  },
  {
   "cell_type": "markdown",
   "metadata": {},
   "source": [
    "### 物体検出タスクのインプットとアウトプット"
   ]
  },
  {
   "cell_type": "markdown",
   "metadata": {},
   "source": [
    "- インプット：画像  \n",
    "    \n",
    "    \n",
    "- アウトプット  \n",
    "    - バウンディングボックスの位置と大きさ情報\n",
    "    - 物体のラベル情報\n",
    "    - 検出の信頼度＝confidence\n",
    "\n",
    "\n",
    "- ssdアルゴリズム   \n",
    "    - バウンディングボックスの形  \n",
    "        中心のx座標をcx、中心のy座標をcy、幅w、高さh\n",
    "        \n",
    "    - ラベル情報\n",
    "        クラスの数＋背景１"
   ]
  },
  {
   "cell_type": "markdown",
   "metadata": {},
   "source": [
    "### VOCデータセットとは"
   ]
  },
  {
   "cell_type": "markdown",
   "metadata": {},
   "source": [
    "- 使用するデータセット\n",
    "    - VOC２０１２データセット。\n",
    "    - クラス２０種類（＋背景１）、訓練データ5717枚、検証データ5823枚\n",
    "\n",
    "\n",
    "- アノテーションデータ\n",
    "    - 画像ごとにxml形式のファイルで提供されている。\n",
    "    - 長方形の左端のxmin座標、上端のymin座標、右端のxmax座標、下端のymax座標。"
   ]
  },
  {
   "cell_type": "markdown",
   "metadata": {},
   "source": [
    "### SSDによる物体検出の流れ"
   ]
  },
  {
   "cell_type": "markdown",
   "metadata": {},
   "source": [
    "- 流れ  \n",
    "    1. 画像をリサイズ\n",
    "    2. デフォルトボックス8732個を容易\n",
    "    3. 画像をSSDのネットワークに入力\n",
    "    4. 信頼度上位のデフォルトボックスを抽出\n",
    "    5. オフセット情報による修正と被りの除去\n",
    "    6. 一定の信頼度以上のものを最終出力に\n",
    "\n",
    "\n",
    "- SSD300／SSD512  \n",
    "    入力画像を300ピクセル／512ピクセルにリサイズする。\n",
    "\n",
    "- デフォルトボックス  \n",
    "    あらかじめ容易してある定型的な長方形\n",
    "    \n",
    "- オフセット情報  \n",
    "    この長方形がどう変化すればバウンディングボックスになるのかという出力情報。  \n",
    "    $(\\Delta cx, \\Delta cy, \\Delta w, \\Delta h )$\n",
    "    \n",
    "- バウンディングボックスの情報  \n",
    "    $cx = cx\\_d(1+0.1\\Delta cx)$    \n",
    "    $cy = cy\\_d(1+0.1\\Delta cy)$  \n",
    "    $w = w\\_d\\times \\exp(0.2\\Delta w)$  \n",
    "    $h = h\\_d\\times \\exp(0.2\\Delta h)$  "
   ]
  },
  {
   "cell_type": "markdown",
   "metadata": {},
   "source": [
    "## 2-2 Datasetの実装"
   ]
  },
  {
   "cell_type": "code",
   "execution_count": 1,
   "metadata": {},
   "outputs": [
    {
     "name": "stdout",
     "output_type": "stream",
     "text": [
      "Collecting opencv-python\n",
      "  Downloading opencv_python-4.3.0.36-cp37-cp37m-manylinux2014_x86_64.whl (43.7 MB)\n",
      "\u001b[K     |████████████████████████████████| 43.7 MB 13.4 MB/s eta 0:00:01   |▋                               | 849 kB 4.1 MB/s eta 0:00:11     |███████▋                        | 10.4 MB 6.1 MB/s eta 0:00:06\n",
      "\u001b[?25hRequirement already satisfied: numpy>=1.14.5 in /opt/anaconda3/lib/python3.7/site-packages (from opencv-python) (1.18.1)\n",
      "Installing collected packages: opencv-python\n",
      "Successfully installed opencv-python-4.3.0.36\n"
     ]
    }
   ],
   "source": [
    "!pip install opencv-python"
   ]
  },
  {
   "cell_type": "code",
   "execution_count": null,
   "metadata": {},
   "outputs": [],
   "source": []
  }
 ],
 "metadata": {
  "kernelspec": {
   "display_name": "Python 3",
   "language": "python",
   "name": "python3"
  },
  "language_info": {
   "codemirror_mode": {
    "name": "ipython",
    "version": 3
   },
   "file_extension": ".py",
   "mimetype": "text/x-python",
   "name": "python",
   "nbconvert_exporter": "python",
   "pygments_lexer": "ipython3",
   "version": "3.7.6"
  },
  "latex_envs": {
   "LaTeX_envs_menu_present": true,
   "autoclose": false,
   "autocomplete": true,
   "bibliofile": "biblio.bib",
   "cite_by": "apalike",
   "current_citInitial": 1,
   "eqLabelWithNumbers": true,
   "eqNumInitial": 1,
   "hotkeys": {
    "equation": "Ctrl-E",
    "itemize": "Ctrl-I"
   },
   "labels_anchors": false,
   "latex_user_defs": false,
   "report_style_numbering": false,
   "user_envs_cfg": false
  },
  "toc": {
   "base_numbering": 1,
   "nav_menu": {},
   "number_sections": true,
   "sideBar": true,
   "skip_h1_title": false,
   "title_cell": "Table of Contents",
   "title_sidebar": "Contents",
   "toc_cell": false,
   "toc_position": {},
   "toc_section_display": true,
   "toc_window_display": false
  }
 },
 "nbformat": 4,
 "nbformat_minor": 4
}
