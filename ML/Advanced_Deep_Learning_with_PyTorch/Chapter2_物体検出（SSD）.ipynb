{
 "cells": [
  {
   "cell_type": "markdown",
   "metadata": {},
   "source": [
    "# 第２章 物体検出（SSD）　"
   ]
  },
  {
   "cell_type": "markdown",
   "metadata": {},
   "source": [
    "## 2-1 物体検出とは"
   ]
  },
  {
   "cell_type": "markdown",
   "metadata": {},
   "source": [
    "### 物体検出の概要"
   ]
  },
  {
   "cell_type": "markdown",
   "metadata": {},
   "source": [
    "- 物体検出とは  \n",
    "    １枚の画像に含まれている複数の物体に対して、物体の領域と物体名を特定するタスク。\n",
    "\n",
    "- バウンディングボックス（Bounding box）  \n",
    "    物体の位置を示す枠\n",
    "\n",
    "- confidence  \n",
    "    検出の確信度（１が一番大きい）"
   ]
  },
  {
   "cell_type": "markdown",
   "metadata": {},
   "source": [
    "### 物体検出タスクのインプットとアウトプット"
   ]
  },
  {
   "cell_type": "markdown",
   "metadata": {},
   "source": [
    "- インプット：画像  \n",
    "    \n",
    "    \n",
    "- アウトプット  \n",
    "    - バウンディングボックスの位置と大きさ情報\n",
    "    - 物体のラベル情報\n",
    "    - 検出の信頼度＝confidence\n",
    "\n",
    "\n",
    "- ssdアルゴリズム   \n",
    "    - バウンディングボックスの形  \n",
    "        中心のx座標をcx、中心のy座標をcy、幅w、高さh\n",
    "        \n",
    "    - ラベル情報\n",
    "        クラスの数＋背景１"
   ]
  },
  {
   "cell_type": "markdown",
   "metadata": {},
   "source": [
    "### VOCデータセットとは"
   ]
  },
  {
   "cell_type": "markdown",
   "metadata": {},
   "source": [
    "- 使用するデータセット\n",
    "    - VOC２０１２データセット。\n",
    "    - クラス２０種類（＋背景１）、訓練データ5717枚、検証データ5823枚\n",
    "\n",
    "\n",
    "- アノテーションデータ\n",
    "    - 画像ごとにxml形式のファイルで提供されている。\n",
    "    - 長方形の左端のxmin座標、上端のymin座標、右端のxmax座標、下端のymax座標。"
   ]
  },
  {
   "cell_type": "markdown",
   "metadata": {},
   "source": [
    "### SSDによる物体検出の流れ"
   ]
  },
  {
   "cell_type": "markdown",
   "metadata": {},
   "source": [
    "- 流れ  \n",
    "    1. 画像をリサイズ\n",
    "    2. デフォルトボックス8732個を容易\n",
    "    3. 画像をSSDのネットワークに入力\n",
    "    4. 信頼度上位のデフォルトボックスを抽出\n",
    "    5. オフセット情報による修正と被りの除去\n",
    "    6. 一定の信頼度以上のものを最終出力に\n",
    "\n",
    "\n",
    "- SSD300／SSD512  \n",
    "    入力画像を300ピクセル／512ピクセルにリサイズする。\n",
    "\n",
    "- デフォルトボックス  \n",
    "    あらかじめ容易してある定型的な長方形\n",
    "    \n",
    "- オフセット情報  \n",
    "    この長方形がどう変化すればバウンディングボックスになるのかという出力情報。  \n",
    "    $(\\Delta cx, \\Delta cy, \\Delta w, \\Delta h )$\n",
    "    \n",
    "- バウンディングボックスの情報  \n",
    "    $cx = cx\\_d(1+0.1\\Delta cx)$    \n",
    "    $cy = cy\\_d(1+0.1\\Delta cy)$  \n",
    "    $w = w\\_d\\times \\exp(0.2\\Delta w)$  \n",
    "    $h = h\\_d\\times \\exp(0.2\\Delta h)$  "
   ]
  },
  {
   "cell_type": "markdown",
   "metadata": {},
   "source": [
    "## 2-2 Datasetの実装"
   ]
  },
  {
   "cell_type": "code",
   "execution_count": 1,
   "metadata": {},
   "outputs": [],
   "source": [
    "import os.path as osp\n",
    "import random\n",
    "import xml.etree.ElementTree as ET\n",
    "\n",
    "import cv2\n",
    "import matplotlib.pyplot as plt\n",
    "import numpy as np\n",
    "import torch\n",
    "import torch.utils.data as data\n",
    "\n",
    "%matplotlib inline"
   ]
  },
  {
   "cell_type": "code",
   "execution_count": 2,
   "metadata": {},
   "outputs": [],
   "source": [
    "# シードの固定\n",
    "torch.manual_seed(1234)\n",
    "np.random.seed(1234)\n",
    "random.seed(1234)"
   ]
  },
  {
   "cell_type": "markdown",
   "metadata": {},
   "source": [
    "### 画像データ、アノテーションデータへのファイルパスのリストを作成"
   ]
  },
  {
   "cell_type": "code",
   "execution_count": 3,
   "metadata": {},
   "outputs": [],
   "source": [
    "# 学習、検証の画像データとアノテーションデータへのファイルパスリストを作成する。\n",
    "\n",
    "def make_datapath_list(rootpath):\n",
    "    '''\n",
    "    データへのパスを格納したリストを作成する。\n",
    "    \n",
    "    Parameters\n",
    "    ----------\n",
    "    rootpath : str\n",
    "        データフォルダへのパス\n",
    "    \n",
    "    Returns\n",
    "    -------\n",
    "    ret : train_img_list, train_anno_list, val_img_list, val_anno_list\n",
    "        データへのパスを格納したリスト\n",
    "    '''\n",
    "    \n",
    "    # 画像ファイルとアノテーションファイルへのパスのテンプレートを作成\n",
    "    imgpath_template = osp.join(rootpath, 'JPEGImages', '%s.jpg')\n",
    "    annopath_template = osp.join(rootpath, 'Anotations', '%s.xml')\n",
    "    \n",
    "    # 訓練と検証、それぞれのファイルのID（ファイル名）を取得する\n",
    "    train_id_names = osp.join(rootpath + 'ImageSets/Main/train.txt')\n",
    "    val_id_names = osp.join(rootpath + 'ImageSets/Main/val.txt')\n",
    "    \n",
    "    # 訓練データの画像ファイルとアノテーションファイルへのパスリストを作成\n",
    "    train_img_list = list()\n",
    "    train_anno_list = list()\n",
    "    \n",
    "    for line in open(train_id_names):\n",
    "        file_id = line.strip() # 空白スペースと改行を削除\n",
    "        img_path = (imgpath_template % file_id) # 画像のパス\n",
    "        anno_path  = (annopath_template % file_id) # アノテーションのパス\n",
    "        train_img_list.append(img_path) # リストに追加\n",
    "        train_anno_list.append(anno_path) # リストに追加\n",
    "        \n",
    "    # 検証データの画像ファイルとアノテーションファイルへのパスリストを作成\n",
    "    val_img_list = list()\n",
    "    val_anno_list = list()\n",
    "    \n",
    "    for line in open(val_id_names):\n",
    "        file_id = line.strip() # 空白スペースと改行を削除\n",
    "        img_path = (imgpath_template % file_id) # 画像のパス\n",
    "        anno_path = (annopath_template % file_id) # アノテーションのパス\n",
    "        val_img_list.append(img_path)\n",
    "        val_anno_list.append(anno_path)\n",
    "        \n",
    "    return train_img_list, train_anno_list, val_img_list, val_anno_list"
   ]
  },
  {
   "cell_type": "code",
   "execution_count": 4,
   "metadata": {},
   "outputs": [],
   "source": [
    "# ファイルパスへのリストを作成\n",
    "rootpath = './data/VOCdevkit/VOC2012/'\n",
    "train_img_list, train_anno_list, val_img_list, val_anno_list = make_datapath_list(rootpath)"
   ]
  },
  {
   "cell_type": "code",
   "execution_count": 5,
   "metadata": {},
   "outputs": [
    {
     "name": "stdout",
     "output_type": "stream",
     "text": [
      "./data/VOCdevkit/VOC2012/JPEGImages/2008_000008.jpg\n"
     ]
    }
   ],
   "source": [
    "# 動作確認\n",
    "print(train_img_list[0])"
   ]
  },
  {
   "cell_type": "markdown",
   "metadata": {},
   "source": [
    "### xml形式のアノテーションデータをリストに変換"
   ]
  },
  {
   "cell_type": "markdown",
   "metadata": {},
   "source": [
    "-　xmlデータ形式のアノテーションデータをPythonのリスト型に変換する"
   ]
  },
  {
   "cell_type": "markdown",
   "metadata": {},
   "source": [
    "- [xml.etree.ElementTree](https://docs.python.org/ja/3/library/xml.etree.elementtree.html)  \n",
    "    ファイルを読み込むことでxmlデータをインポートすることができる。\n",
    "- [.xml【拡張子】とは](https://wa3.i-3-i.info/word11856.html)\n",
    "- [ルート要素](https://www.atmarkit.co.jp/aig/01xml/rootelement.html)\n",
    "- []()"
   ]
  },
  {
   "cell_type": "code",
   "execution_count": null,
   "metadata": {},
   "outputs": [],
   "source": [
    "# xml形式のアノテーションをリスト形式に変換するクラス\n",
    "\n",
    "class Anno_xml2list(object):\n",
    "    '''\n",
    "    １枚の画像に対する「xml形式のアノテーションデータ」を、画像サイズで規格化してからリスト形式に変換する。\n",
    "    \n",
    "    Attributes\n",
    "    ----------\n",
    "    classes : リスト\n",
    "        VOCのクラス名を格納したリスト\n",
    "    '''\n",
    "    \n",
    "    def __init__(self, classes):\n",
    "        \n",
    "        self.classes = classes\n",
    "    \n",
    "    def __call__(self, xml_path, width, height):\n",
    "        '''\n",
    "        1枚の画像に対する「xml形式のアノテーションデータ」を、\n",
    "        画像サイズで規格化してからリスト形式に変換する。\n",
    "        \n",
    "        Parameters\n",
    "        ----------\n",
    "        xml_path : str\n",
    "            xmlファイルへのパス\n",
    "        width : int\n",
    "            対象画像の幅\n",
    "        height :　int\n",
    "            対象画像の高さ\n",
    "        \n",
    "        Returns\n",
    "        -------\n",
    "        ret : [[xmin, ymin, xmax, ymax, label_ind], ...]\n",
    "            物体のアノテーションデータを格納したリスト。\n",
    "            画像内に存在する物体数文のだけ要素を持つ。\n",
    "        '''\n",
    "        \n",
    "        # 画像内のすべての物体のアノテーションリストをこのリストに格納する。\n",
    "        ret = []\n",
    "        \n",
    "        # xmlファイルを読み込む\n",
    "        xml = ET.parse(xml_path).getroot()\n",
    "        \n",
    "        # 画像内にある物体（object）の数だけループする\n",
    "        for obj in xml.iter('object'):\n",
    "            \n",
    "            # アノテーションで検知がdifficultに設定されているものは除外\n",
    "            difficult = int(obj.find('difficult').text())\n",
    "            \n",
    "            # 一つの物体に対するアノテーションを格納するリスト\n",
    "            bindbox = []\n",
    "            \n",
    "            name = obj.find('name').text.lower().strip() # 物体名\n",
    "            bbox = obj.find('bndbox') # バウンディングボックスの情報\n",
    "            \n",
    "            # アノテーションの xmin, ymim, xmax, ymax を取得し、0~1に規格化\n",
    "            pts = ['xmin', 'ymin', 'xmax', 'ymax']\n",
    "            \n",
    "            for pt in (pts):\n",
    "                # VOCは原点が(1, 1)なので1を引き算して(0, 0)に\n",
    "                cur_pixel = int(bbox.find(pt).text) - 1\n",
    "                \n",
    "                # 幅、高さで規格化\n",
    "                if pt == 'xmin' or pt == 'xmax': # x方向のときは幅で割り算\n",
    "                    cur_pixel /= width\n",
    "                else: # y方向のときは高さで割り算"
   ]
  },
  {
   "cell_type": "code",
   "execution_count": null,
   "metadata": {},
   "outputs": [],
   "source": []
  },
  {
   "cell_type": "code",
   "execution_count": null,
   "metadata": {},
   "outputs": [],
   "source": []
  },
  {
   "cell_type": "code",
   "execution_count": null,
   "metadata": {},
   "outputs": [],
   "source": []
  }
 ],
 "metadata": {
  "kernelspec": {
   "display_name": "Python 3",
   "language": "python",
   "name": "python3"
  },
  "language_info": {
   "codemirror_mode": {
    "name": "ipython",
    "version": 3
   },
   "file_extension": ".py",
   "mimetype": "text/x-python",
   "name": "python",
   "nbconvert_exporter": "python",
   "pygments_lexer": "ipython3",
   "version": "3.7.6"
  },
  "latex_envs": {
   "LaTeX_envs_menu_present": true,
   "autoclose": false,
   "autocomplete": true,
   "bibliofile": "biblio.bib",
   "cite_by": "apalike",
   "current_citInitial": 1,
   "eqLabelWithNumbers": true,
   "eqNumInitial": 1,
   "hotkeys": {
    "equation": "Ctrl-E",
    "itemize": "Ctrl-I"
   },
   "labels_anchors": false,
   "latex_user_defs": false,
   "report_style_numbering": false,
   "user_envs_cfg": false
  },
  "toc": {
   "base_numbering": 1,
   "nav_menu": {},
   "number_sections": true,
   "sideBar": true,
   "skip_h1_title": false,
   "title_cell": "Table of Contents",
   "title_sidebar": "Contents",
   "toc_cell": false,
   "toc_position": {},
   "toc_section_display": true,
   "toc_window_display": false
  }
 },
 "nbformat": 4,
 "nbformat_minor": 4
}
