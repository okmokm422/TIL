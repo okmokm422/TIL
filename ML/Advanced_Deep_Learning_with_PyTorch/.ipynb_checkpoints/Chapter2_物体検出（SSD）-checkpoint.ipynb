{
 "cells": [
  {
   "cell_type": "markdown",
   "metadata": {},
   "source": [
    "# 第２章 物体検出（SSD）　"
   ]
  },
  {
   "cell_type": "markdown",
   "metadata": {},
   "source": [
    "## 2-1 物体検出とは"
   ]
  },
  {
   "cell_type": "markdown",
   "metadata": {},
   "source": [
    "### 物体検出の概要"
   ]
  },
  {
   "cell_type": "markdown",
   "metadata": {},
   "source": [
    "- 物体検出とは  \n",
    "    １枚の画像に含まれている複数の物体に対して、物体の領域と物体名を特定するタスク。\n",
    "\n",
    "- バウンディングボックス（Bounding box）  \n",
    "    物体の位置を示す枠\n",
    "\n",
    "- confidence  \n",
    "    検出の確信度（１が一番大きい）"
   ]
  },
  {
   "cell_type": "markdown",
   "metadata": {},
   "source": [
    "### 物体検出タスクのインプットとアウトプット"
   ]
  },
  {
   "cell_type": "markdown",
   "metadata": {},
   "source": [
    "- インプット：画像  \n",
    "    \n",
    "    \n",
    "- アウトプット  \n",
    "    - バウンディングボックスの位置と大きさ情報\n",
    "    - 物体のラベル情報\n",
    "    - 検出の信頼度＝confidence\n",
    "\n",
    "\n",
    "- ssdアルゴリズム   \n",
    "    - バウンディングボックスの形  \n",
    "        中心のx座標をcx、中心のy座標をcy、幅w、高さh\n",
    "        \n",
    "    - ラベル情報\n",
    "        クラスの数＋背景１"
   ]
  },
  {
   "cell_type": "markdown",
   "metadata": {},
   "source": [
    "### VOCデータセットとは"
   ]
  },
  {
   "cell_type": "markdown",
   "metadata": {},
   "source": [
    "- 使用するデータセット\n",
    "    - VOC２０１２データセット。\n",
    "    - クラス２０種類（＋背景１）、訓練データ5717枚、検証データ5823枚\n",
    "\n",
    "\n",
    "- アノテーションデータ\n",
    "    - 画像ごとにxml形式のファイルで提供されている。\n",
    "    - 長方形の左端のxmin座標、上端のymin座標、右端のxmax座標、下端のymax座標。"
   ]
  },
  {
   "cell_type": "markdown",
   "metadata": {},
   "source": [
    "### SSDによる物体検出の流れ"
   ]
  },
  {
   "cell_type": "markdown",
   "metadata": {},
   "source": [
    "- 流れ  \n",
    "    1. 画像をリサイズ\n",
    "    2. デフォルトボックス8732個を容易\n",
    "    3. 画像をSSDのネットワークに入力\n",
    "    4. 信頼度上位のデフォルトボックスを抽出\n",
    "    5. オフセット情報による修正と被りの除去\n",
    "    6. 一定の信頼度以上のものを最終出力に\n",
    "\n",
    "\n",
    "- SSD300／SSD512  \n",
    "    入力画像を300ピクセル／512ピクセルにリサイズする。\n",
    "\n",
    "- デフォルトボックス  \n",
    "    あらかじめ容易してある定型的な長方形\n",
    "    \n",
    "- オフセット情報  \n",
    "    この長方形がどう変化すればバウンディングボックスになるのかという出力情報。  \n",
    "    $(\\Delta cx, \\Delta cy, \\Delta w, \\Delta h )$\n",
    "    \n",
    "- バウンディングボックスの情報  \n",
    "    $cx = cx\\_d(1+0.1\\Delta cx)$    \n",
    "    $cy = cy\\_d(1+0.1\\Delta cy)$  \n",
    "    $w = w\\_d\\times \\exp(0.2\\Delta w)$  \n",
    "    $h = h\\_d\\times \\exp(0.2\\Delta h)$  "
   ]
  },
  {
   "cell_type": "markdown",
   "metadata": {},
   "source": [
    "## 2-2 Datasetの実装"
   ]
  },
  {
   "cell_type": "code",
   "execution_count": 3,
   "metadata": {},
   "outputs": [],
   "source": [
    "import os.path as osp\n",
    "import random\n",
    "import xml.etree.ElementTree as ET\n",
    "\n",
    "import cv2\n",
    "import matplotlib.pyplot as plt\n",
    "import numpy as np\n",
    "import torch\n",
    "import torch.utils.data as data\n",
    "\n",
    "%matplotlib inline"
   ]
  },
  {
   "cell_type": "code",
   "execution_count": 4,
   "metadata": {},
   "outputs": [],
   "source": [
    "# シードの固定\n",
    "torch.manual_seed(1234)\n",
    "np.random.seed(1234)\n",
    "random.seed(1234)"
   ]
  },
  {
   "cell_type": "markdown",
   "metadata": {},
   "source": [
    "### 画像データ、アノテーションデータへのファイルパスのリストを作成"
   ]
  },
  {
   "cell_type": "code",
   "execution_count": 7,
   "metadata": {},
   "outputs": [],
   "source": [
    "# 学習、検証の画像データとアノテーションデータへのファイルパスリストを作成する。\n",
    "\n",
    "def make_datapath_list(rootpath):\n",
    "    '''\n",
    "    データへのパスを格納したリストを作成する。\n",
    "    \n",
    "    Parameters\n",
    "    ----------\n",
    "    rootpath : str\n",
    "        データフォルダへのパス\n",
    "    \n",
    "    Returns\n",
    "    -------\n",
    "    ret : train_img_list, train_anno_list, val_img_list, val_anno_list\n",
    "        データへのパスを格納したリスト\n",
    "    '''\n",
    "    \n",
    "    # 画像ファイルとアノテーションファイルへのパスのテンプレートを作成\n",
    "    imgpath_template = osp.join(rootpath, 'JPEGImages', '%s.jpg')\n",
    "    annopath_template = osp.join(rootpath, 'Anotations', '%s.xml')\n",
    "    \n",
    "    # 訓練と検証、それぞれのファイルのID（ファイル名）を取得する\n",
    "    train_id_names = osp.join(rootpath + 'ImageSets/Main/train.txt')\n",
    "    val_id_images = osp.join(rootpath + 'ImageSets/Main/val.txt')\n",
    "    \n",
    "    # 訓練データの画像ファイルとアノテーションファイルへのパスリストを作成\n",
    "    train_img_list = list()\n",
    "    train_anno_list = list()\n",
    "    \n",
    "    for line in open(train_id_names):\n",
    "        file_id = line.strip() # 空白スペースと改行を削除\n",
    "        img_path = (imgpath_template % file_id) # 画像のパス\n",
    "        anno_path  = (annopath_template % file_id) # アノテーションのパス\n",
    "        train_img_list.append(img_path) # リストに追加\n",
    "        train_anno_list.append(anno_path) # リストに追加\n",
    "        \n",
    "    # 検証データの画像ファイルとアノテーションファイルへのパスリストを作成\n",
    "    val_img_list = list()\n",
    "    val_anno_list = list()\n",
    "    \n",
    "    for line in open(val_id_names):\n",
    "        file_id = line.strip() # 空白スペースと改行を削除\n",
    "        img_path = (imgpath_template % file_id) # 画像のパス\n",
    "        anno_path = (annopath_template % file_id) # アノテーションのパス\n",
    "        val_img_list.append(img_path)\n",
    "        val_anno_list.append(anno_path)\n",
    "        \n",
    "    return train_img_list, train_anno_list, val_img_list, val_anno_list"
   ]
  },
  {
   "cell_type": "code",
   "execution_count": 8,
   "metadata": {},
   "outputs": [
    {
     "ename": "FileNotFoundError",
     "evalue": "[Errno 2] No such file or directory: './data/VOCdevkit/VOC2012/ImageSets/Main/train.txt'",
     "output_type": "error",
     "traceback": [
      "\u001b[0;31m---------------------------------------------------------------------------\u001b[0m",
      "\u001b[0;31mFileNotFoundError\u001b[0m                         Traceback (most recent call last)",
      "\u001b[0;32m<ipython-input-8-b58ac02e524e>\u001b[0m in \u001b[0;36m<module>\u001b[0;34m\u001b[0m\n\u001b[1;32m      1\u001b[0m \u001b[0;31m# ファイルパスへのリストを作成\u001b[0m\u001b[0;34m\u001b[0m\u001b[0;34m\u001b[0m\u001b[0;34m\u001b[0m\u001b[0m\n\u001b[1;32m      2\u001b[0m \u001b[0mrootpath\u001b[0m \u001b[0;34m=\u001b[0m \u001b[0;34m'./data/VOCdevkit/VOC2012/'\u001b[0m\u001b[0;34m\u001b[0m\u001b[0;34m\u001b[0m\u001b[0m\n\u001b[0;32m----> 3\u001b[0;31m \u001b[0mtrain_img_list\u001b[0m\u001b[0;34m,\u001b[0m \u001b[0mtrain_anno_list\u001b[0m\u001b[0;34m,\u001b[0m \u001b[0mval_img_list\u001b[0m\u001b[0;34m,\u001b[0m \u001b[0mval_anno_list\u001b[0m \u001b[0;34m=\u001b[0m \u001b[0mmake_datapath_list\u001b[0m\u001b[0;34m(\u001b[0m\u001b[0mrootpath\u001b[0m\u001b[0;34m)\u001b[0m\u001b[0;34m\u001b[0m\u001b[0;34m\u001b[0m\u001b[0m\n\u001b[0m",
      "\u001b[0;32m<ipython-input-7-7633ec4f7a57>\u001b[0m in \u001b[0;36mmake_datapath_list\u001b[0;34m(rootpath)\u001b[0m\n\u001b[1;32m     28\u001b[0m     \u001b[0mtrain_anno_list\u001b[0m \u001b[0;34m=\u001b[0m \u001b[0mlist\u001b[0m\u001b[0;34m(\u001b[0m\u001b[0;34m)\u001b[0m\u001b[0;34m\u001b[0m\u001b[0;34m\u001b[0m\u001b[0m\n\u001b[1;32m     29\u001b[0m \u001b[0;34m\u001b[0m\u001b[0m\n\u001b[0;32m---> 30\u001b[0;31m     \u001b[0;32mfor\u001b[0m \u001b[0mline\u001b[0m \u001b[0;32min\u001b[0m \u001b[0mopen\u001b[0m\u001b[0;34m(\u001b[0m\u001b[0mtrain_id_names\u001b[0m\u001b[0;34m)\u001b[0m\u001b[0;34m:\u001b[0m\u001b[0;34m\u001b[0m\u001b[0;34m\u001b[0m\u001b[0m\n\u001b[0m\u001b[1;32m     31\u001b[0m         \u001b[0mfile_id\u001b[0m \u001b[0;34m=\u001b[0m \u001b[0mline\u001b[0m\u001b[0;34m.\u001b[0m\u001b[0mstrip\u001b[0m\u001b[0;34m(\u001b[0m\u001b[0;34m)\u001b[0m \u001b[0;31m# 空白スペースと改行を削除\u001b[0m\u001b[0;34m\u001b[0m\u001b[0;34m\u001b[0m\u001b[0m\n\u001b[1;32m     32\u001b[0m         \u001b[0mimg_path\u001b[0m \u001b[0;34m=\u001b[0m \u001b[0;34m(\u001b[0m\u001b[0mimgpath_template\u001b[0m \u001b[0;34m%\u001b[0m \u001b[0mfile_id\u001b[0m\u001b[0;34m)\u001b[0m \u001b[0;31m# 画像のパス\u001b[0m\u001b[0;34m\u001b[0m\u001b[0;34m\u001b[0m\u001b[0m\n",
      "\u001b[0;31mFileNotFoundError\u001b[0m: [Errno 2] No such file or directory: './data/VOCdevkit/VOC2012/ImageSets/Main/train.txt'"
     ]
    }
   ],
   "source": [
    "# ファイルパスへのリストを作成\n",
    "rootpath = './data/VOCdevkit/VOC2012/'\n",
    "train_img_list, train_anno_list, val_img_list, val_anno_list = make_datapath_list(rootpath)"
   ]
  },
  {
   "cell_type": "code",
   "execution_count": null,
   "metadata": {},
   "outputs": [],
   "source": []
  },
  {
   "cell_type": "code",
   "execution_count": null,
   "metadata": {},
   "outputs": [],
   "source": []
  },
  {
   "cell_type": "code",
   "execution_count": null,
   "metadata": {},
   "outputs": [],
   "source": []
  },
  {
   "cell_type": "code",
   "execution_count": null,
   "metadata": {},
   "outputs": [],
   "source": []
  },
  {
   "cell_type": "code",
   "execution_count": null,
   "metadata": {},
   "outputs": [],
   "source": []
  },
  {
   "cell_type": "code",
   "execution_count": null,
   "metadata": {},
   "outputs": [],
   "source": []
  }
 ],
 "metadata": {
  "kernelspec": {
   "display_name": "Python 3",
   "language": "python",
   "name": "python3"
  },
  "language_info": {
   "codemirror_mode": {
    "name": "ipython",
    "version": 3
   },
   "file_extension": ".py",
   "mimetype": "text/x-python",
   "name": "python",
   "nbconvert_exporter": "python",
   "pygments_lexer": "ipython3",
   "version": "3.7.6"
  },
  "latex_envs": {
   "LaTeX_envs_menu_present": true,
   "autoclose": false,
   "autocomplete": true,
   "bibliofile": "biblio.bib",
   "cite_by": "apalike",
   "current_citInitial": 1,
   "eqLabelWithNumbers": true,
   "eqNumInitial": 1,
   "hotkeys": {
    "equation": "Ctrl-E",
    "itemize": "Ctrl-I"
   },
   "labels_anchors": false,
   "latex_user_defs": false,
   "report_style_numbering": false,
   "user_envs_cfg": false
  },
  "toc": {
   "base_numbering": 1,
   "nav_menu": {},
   "number_sections": true,
   "sideBar": true,
   "skip_h1_title": false,
   "title_cell": "Table of Contents",
   "title_sidebar": "Contents",
   "toc_cell": false,
   "toc_position": {},
   "toc_section_display": true,
   "toc_window_display": false
  }
 },
 "nbformat": 4,
 "nbformat_minor": 4
}
