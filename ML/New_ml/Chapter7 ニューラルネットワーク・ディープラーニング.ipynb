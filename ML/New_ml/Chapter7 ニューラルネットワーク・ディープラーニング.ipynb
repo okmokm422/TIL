{
 "cells": [
  {
   "cell_type": "markdown",
   "metadata": {},
   "source": [
    "## 7.1 ニューロンモデル"
   ]
  },
  {
   "cell_type": "markdown",
   "metadata": {},
   "source": [
    "ニューラルネットワークはニューロンモデルを単位として構築される。"
   ]
  },
  {
   "cell_type": "markdown",
   "metadata": {},
   "source": [
    "### 7.1.1 神経細胞"
   ]
  },
  {
   "cell_type": "markdown",
   "metadata": {},
   "source": [
    "シナプス伝達強度が高いと、膜電位が閾値を超えて次の神経細胞にパルスが伝達される。"
   ]
  },
  {
   "cell_type": "markdown",
   "metadata": {},
   "source": [
    "### 7.1.2 ニューロンモデル"
   ]
  },
  {
   "cell_type": "markdown",
   "metadata": {},
   "source": [
    "- 出力は入力総和の平面を活性化関数に通したもの。\n",
    "- 出力2クラスの分類：シグモイド関数  \n",
    "    出力3クラスの分類：ソフトマックス関数"
   ]
  },
  {
   "cell_type": "markdown",
   "metadata": {},
   "source": [
    "## 7.2 ニューラルネットワークモデル"
   ]
  },
  {
   "cell_type": "markdown",
   "metadata": {},
   "source": [
    "### 7.2.1 ２層フィードフォワードニューラルネット"
   ]
  },
  {
   "cell_type": "markdown",
   "metadata": {},
   "source": [
    "- ニューラルネットワークモデル  \n",
    "    ニューロンの集合体のモデル\n",
    "- フィードフォワードニューラルネット  \n",
    "    信号が一方向のみに流れるモデル\n",
    "- ダミーニューロン：バイアス項"
   ]
  },
  {
   "cell_type": "markdown",
   "metadata": {},
   "source": [
    "### 7.2.2 ２層フィードフォワードニューラルネットの実装"
   ]
  },
  {
   "cell_type": "code",
   "execution_count": 87,
   "metadata": {},
   "outputs": [],
   "source": [
    "import numpy as np"
   ]
  },
  {
   "cell_type": "code",
   "execution_count": 88,
   "metadata": {},
   "outputs": [],
   "source": [
    "# データ生成\n",
    "np.random.seed(seed=1) # 乱数を固定\n",
    "N = 200 # データの数\n",
    "K = 3 # 分布の数\n",
    "T = np.zeros((N,3), dtype=np.uint8)\n",
    "X = np.zeros((N,2))\n",
    "X_range0 = [-3, 3] # X0の範囲、表示用\n",
    "X_range1 = [-3, 3] # X1の範囲、表示用\n",
    "Mu = np.array([[-.5, -.5], [.5, 1.0], [1, -.5]]) # 分布の中心\n",
    "Sig = np.array([[.7, .7], [.8, .3], [.3, .8]]) # 分布の分散\n",
    "Pi = np.array([0.4, 0.8, 1]) # 各分布への割合\n",
    "\n",
    "'''\n",
    "np.random.randで0~1の乱数生成、wkに代入\n",
    "→wkがPiより小さいか確認\n",
    "→ゼロ行列であるT[n,k]に1を代入\n",
    "→代入したらループを出てまた新たな乱数を生成\n",
    "'''\n",
    "for n in range(N):\n",
    "    wk = np.random.rand()\n",
    "    for k in range(K):\n",
    "        if wk < Pi[k]:\n",
    "            T[n, k] = 1\n",
    "            break\n",
    "    '''\n",
    "    テストデータを生成\n",
    "    T[n,:]==1→0か１\n",
    "    Sig[T[n, :] == 1, k]→Sig[0~1, 0~2]\n",
    "    Mu[T[n, :] == 1, k]→Mu[0~1, 0~2]\n",
    "    '''\n",
    "    for k in range(2):\n",
    "        X[n, k] = np.random.randn() * Sig[T[n, :] == 1, k] + Mu[T[n, :] == 1, k]"
   ]
  },
  {
   "cell_type": "code",
   "execution_count": 89,
   "metadata": {},
   "outputs": [],
   "source": [
    "# ２分類のデータをテスト・訓練データに分割\n",
    "TrainingRatio = 0.5\n",
    "X_n_training = int(N * TrainingRatio)\n",
    "X_train = X[:X_n_training, :]\n",
    "X_test = X[X_n_training:, :]\n",
    "T_train = T[:X_n_training, :]\n",
    "T_test = T[X_n_training: ,:]"
   ]
  },
  {
   "cell_type": "code",
   "execution_count": 90,
   "metadata": {},
   "outputs": [],
   "source": [
    "# データを'class_data.npz'に保存\n",
    "np.savez('class_data.npz', X_train=X_train, T_train=T_train, X_test=X_test, T_test=T_test, X_range0=X_range0, X_range1=X_range1)"
   ]
  },
  {
   "cell_type": "code",
   "execution_count": 91,
   "metadata": {},
   "outputs": [],
   "source": [
    "import matplotlib.pyplot as plt\n",
    "%matplotlib inline\n",
    "\n",
    "# データの図示\n",
    "def Show_data(x, t):\n",
    "    wk, n = t.shape\n",
    "    c = [[0, 0, 0], [.5, .5, .5], [1, 1, 1]]\n",
    "    for i in range(n):\n",
    "        plt.plot(x[t[:, i]==1, 0], x[t[:, i] == 1, 1], linestyle='none', marker='o', markeredgecolor='black', color=c[i], alpha=0.8)\n",
    "    plt.grid(True)"
   ]
  },
  {
   "cell_type": "code",
   "execution_count": 92,
   "metadata": {},
   "outputs": [
    {
     "data": {
      "image/png": "[encoded data removed]",
      "text/plain": [
       "<Figure size 576x266.4 with 2 Axes>"
      ]
     },
     "metadata": {
      "needs_background": "light"
     },
     "output_type": "display_data"
    }
   ],
   "source": [
    "plt.figure(1, figsize=(8, 3.7))\n",
    "plt.subplot(1, 2, 1)\n",
    "Show_data(X_train, T_train)\n",
    "plt.xlim(X_range0)\n",
    "plt.ylim(X_range1)\n",
    "plt.title('Training Data')\n",
    "plt.subplot(1, 2, 2)\n",
    "Show_data(X_test, T_test)\n",
    "plt.xlim(X_range0)\n",
    "plt.ylim(X_range1)\n",
    "plt.title('Test Data')\n",
    "plt.show()"
   ]
  },
  {
   "cell_type": "markdown",
   "metadata": {},
   "source": [
    "- ３クラス分類問題を解いていく。  \n",
    "- FNN  \n",
    "    2層のフィードフォワードニューラルネットワークを定義する関数  \n",
    "    入力xに対してyを出力  "
   ]
  },
  {
   "cell_type": "code",
   "execution_count": 93,
   "metadata": {},
   "outputs": [],
   "source": [
    "# シグモイド関数\n",
    "def Sigmoid(x):\n",
    "    y = 1 / (1 + np.exp(-x))\n",
    "    return y"
   ]
  },
  {
   "cell_type": "code",
   "execution_count": 94,
   "metadata": {},
   "outputs": [],
   "source": [
    "# ネットワーク\n",
    "'''\n",
    "x：入力データ\n",
    "N、D：入力データの次元\n",
    "wv：重み\n",
    "M：中間層の数\n",
    "K：出力yの次元\n",
    "'''\n",
    "def FNN(wv, M, K, x):\n",
    "    N, D = x.shape  # 次元入力\n",
    "    \n",
    "    w = wv[:M * (D + 1)]  # 中間層ニューロンへの重み\n",
    "    w = w.reshape(M,(D + 1))\n",
    "    \n",
    "    v = wv[M * (D + 1):]  # 出力層ニューロンへの重み\n",
    "    v = v.reshape(K, (M + 1))\n",
    "    \n",
    "    b = np.zeros((N, M + 1))  # 中間層ニューロンへの入力総和\n",
    "    z = np.zeros((N, M + 1))  # 中間層ニューロンの出力\n",
    "    \n",
    "    a = np.zeros((N, K)) # 出力層ニューロンの入力総和\n",
    "    y = np.zeros((N, K))  # 出力層ニューロンの出力\n",
    "    \n",
    "    for n in range(N):\n",
    "        for m in range(M):\n",
    "            # 中間層の計算\n",
    "            b[n, m] = np.dot(w[m, :], np.r_[x[n, :], 1])\n",
    "            z[n, m] = Sigmoid(b[n, m])\n",
    "        # 出力層の計算\n",
    "        z[n, M] = 1  # ダミーニューロン\n",
    "        wkz = 0\n",
    "        for k in range(K):\n",
    "            a[n, k] = np.dot(v[k, :], z[n, :])\n",
    "            wkz = wkz + np.exp(a[n, k])\n",
    "        for k in range(K):\n",
    "            y[n, k] = np.exp(a[n, k]) / wkz\n",
    "    return y, a, z, b"
   ]
  },
  {
   "cell_type": "code",
   "execution_count": 95,
   "metadata": {},
   "outputs": [
    {
     "data": {
      "text/plain": [
       "(array([[0.33333333, 0.33333333, 0.33333333],\n",
       "        [0.33333333, 0.33333333, 0.33333333]]),\n",
       " array([[2.6971835 , 2.6971835 , 2.6971835 ],\n",
       "        [1.49172649, 1.49172649, 1.49172649]]),\n",
       " array([[0.84859175, 0.84859175, 1.        ],\n",
       "        [0.24586324, 0.24586324, 1.        ]]),\n",
       " array([[ 1.72359839,  1.72359839,  0.        ],\n",
       "        [-1.12079826, -1.12079826,  0.        ]]))"
      ]
     },
     "execution_count": 95,
     "metadata": {},
     "output_type": "execute_result"
    }
   ],
   "source": [
    "# test\n",
    "WV = np.ones(15)\n",
    "M = 2\n",
    "K = 3\n",
    "FNN(WV, M, K, X_train[:2, :])"
   ]
  },
  {
   "cell_type": "markdown",
   "metadata": {},
   "source": [
    "### 7.2.3 数値微分法"
   ]
  },
  {
   "cell_type": "code",
   "execution_count": 96,
   "metadata": {},
   "outputs": [],
   "source": [
    "# 平均交差エントロピー誤差\n",
    "def CE_FNN(wv, M, K, x, t):\n",
    "    N, D = x.shape\n",
    "    y, a, z, b = FNN(wv, M, K, x)\n",
    "    ce = -np.dot(t.reshape(-1), np.log(y.reshape(-1))) / N\n",
    "    return ce"
   ]
  },
  {
   "cell_type": "code",
   "execution_count": 97,
   "metadata": {},
   "outputs": [
    {
     "data": {
      "text/plain": [
       "1.0986122886681098"
      ]
     },
     "execution_count": 97,
     "metadata": {},
     "output_type": "execute_result"
    }
   ],
   "source": [
    "WV = np.ones(15)\n",
    "M = 2\n",
    "K = 3\n",
    "CE_FNN(WV, M, K, X_train[:2, :], T_train[:2, :])"
   ]
  },
  {
   "cell_type": "markdown",
   "metadata": {},
   "source": [
    "勾配法を使って誤差関数の解を求めるために、近似で微分値を求める"
   ]
  },
  {
   "cell_type": "code",
   "execution_count": 98,
   "metadata": {},
   "outputs": [],
   "source": [
    "# 数値微分\n",
    "def dCE_FNN_num(wv, M, K, x, t):\n",
    "    epsilon = 0.001\n",
    "    dwv = np.zeros_like(wv)\n",
    "    for iwv in range(len(wv)):\n",
    "        wv_modified = wv.copy()\n",
    "        '''x*からマイナスε地点の誤差'''\n",
    "        wv_modified[iwv] = wv[iwv] - epsilon\n",
    "        mse1 = CE_FNN(wv_modified, M, K, x, t)\n",
    "        '''x*からプラスε地点の誤差'''\n",
    "        wv_modified[iwv] = wv[iwv] + epsilon\n",
    "        mse2 = CE_FNN(wv_modified, M, K, x, t)\n",
    "        '''近似式'''\n",
    "        dwv[iwv] = (mse2 - mse1) / (2 * epsilon)\n",
    "    return dwv"
   ]
  },
  {
   "cell_type": "code",
   "execution_count": 99,
   "metadata": {},
   "outputs": [],
   "source": [
    "# dWV（２層の重みを偏微分）の表示\n",
    "def Show_WV(wv, M):\n",
    "    N = wv.shape[0]\n",
    "    plt.bar(range(1, M * 3 + 1), wv[:M * 3], align='center', color='black')\n",
    "    plt.bar(range(M * 3 + 1, N + 1), wv[M * 3:], align='center', color='cornflowerblue')\n",
    "    plt.xticks(range(1, N + 1))\n",
    "    plt.xlim(0, N + 1)"
   ]
  },
  {
   "cell_type": "code",
   "execution_count": 100,
   "metadata": {},
   "outputs": [
    {
     "name": "stdout",
     "output_type": "stream",
     "text": [
      "[ 0.0884813   0.19157999 -0.05139799  0.01281536 -0.14468029 -0.14242768\n",
      " -0.02992012  0.01351315 -0.11115648 -0.10104422 -0.09427964 -0.46855603\n",
      "  0.13096434  0.08076649  0.57971252]\n"
     ]
    },
    {
     "data": {
      "image/png": "[encoded data removed]",
      "text/plain": [
       "<Figure size 360x216 with 1 Axes>"
      ]
     },
     "metadata": {
      "needs_background": "light"
     },
     "output_type": "display_data"
    }
   ],
   "source": [
    "# 値の入力\n",
    "M = 2\n",
    "K = 3\n",
    "nWV = M * 3 + K * (M + 1)\n",
    "np.random.seed(1)\n",
    "WV = np.random.normal(0, 1, nWV)\n",
    "dWV = dCE_FNN_num(WV, M, K, X_train[:2, :], T_train[:2, :])\n",
    "print(dWV)\n",
    "plt.figure(1, figsize=(5, 3))\n",
    "Show_WV(dWV, M)\n",
    "plt.show()"
   ]
  },
  {
   "cell_type": "markdown",
   "metadata": {},
   "source": [
    "### 7.2.4 数値微分法による勾配法"
   ]
  },
  {
   "cell_type": "code",
   "execution_count": 101,
   "metadata": {},
   "outputs": [],
   "source": [
    "import time"
   ]
  },
  {
   "cell_type": "code",
   "execution_count": 102,
   "metadata": {},
   "outputs": [],
   "source": [
    "# 数値微分を使った勾配法で学習誤差を求める\n",
    "def Fit_FNN_num(wv_init, M, K, x_train, t_train, x_test, t_test, n, alpha):\n",
    "    wv = wv_init\n",
    "    err_train = np.zeros(n)\n",
    "    err_test = np.zeros(n)\n",
    "    wv_hist = np.zeros((n, len(wv_init)))\n",
    "    for i in range(n):\n",
    "        wv = wv - alpha * dCE_FNN_num(wv, M , K, x_train, t_train)\n",
    "        err_train[i] = CE_FNN(wv, M, K, x_train, t_train)\n",
    "        err_test[i] = CE_FNN(wv, M, K, x_test, t_test)\n",
    "        wv_hist[i, :] = wv\n",
    "    return wv, wv_hist, err_train, err_test"
   ]
  },
  {
   "cell_type": "code",
   "execution_count": 103,
   "metadata": {},
   "outputs": [
    {
     "name": "stdout",
     "output_type": "stream",
     "text": [
      "Calculation time:139.660 sec\n"
     ]
    }
   ],
   "source": [
    "# 数値入力\n",
    "startTime = time.time()\n",
    "M = 2\n",
    "K = 3\n",
    "np.random.seed(1)\n",
    "WV_init = np.random.normal(0, 0.01, M * 3 + K * (M + 1))\n",
    "N_step = 1000\n",
    "alpha = 0.5\n",
    "WV, WV_hist, Err_train, Err_test = Fit_FNN_num(WV_init, M, K, X_train, T_train, X_test, T_test, N_step, alpha)\n",
    "calculation_time = time.time() - startTime\n",
    "print('Calculation time:{0:.3f} sec'.format(calculation_time))"
   ]
  },
  {
   "cell_type": "code",
   "execution_count": 104,
   "metadata": {},
   "outputs": [
    {
     "data": {
      "image/png": "[encoded data removed]",
      "text/plain": [
       "<Figure size 216x216 with 1 Axes>"
      ]
     },
     "metadata": {
      "needs_background": "light"
     },
     "output_type": "display_data"
    }
   ],
   "source": [
    "# 学習誤差の表示\n",
    "plt.figure(1, figsize=(3, 3))\n",
    "plt.plot(Err_train, 'black', label='training')\n",
    "plt.plot(Err_test, 'cornflowerblue', label='test')\n",
    "plt.legend()\n",
    "plt.show()"
   ]
  },
  {
   "cell_type": "code",
   "execution_count": 105,
   "metadata": {},
   "outputs": [
    {
     "data": {
      "image/png": "[encoded data removed]",
      "text/plain": [
       "<Figure size 216x216 with 1 Axes>"
      ]
     },
     "metadata": {
      "needs_background": "light"
     },
     "output_type": "display_data"
    }
   ],
   "source": [
    "# 重みの時間発展の表示\n",
    "plt.figure(1, figsize=(3,3))\n",
    "plt.plot(WV_hist[:, : M  * 3], 'black')\n",
    "plt.plot(WV_hist[:, M * 3], 'cornflowerblue')\n",
    "plt.show()"
   ]
  },
  {
   "cell_type": "code",
   "execution_count": 112,
   "metadata": {},
   "outputs": [],
   "source": [
    "境界線表示関数\n",
    "def show_FNN(wv, M, K):\n",
    "    xn = 60 # 等高線表示の解像度\n",
    "    x0 = np.linspace(X_range0[0], X_range0[1], xn)\n",
    "    x1 = np.linspace(X_range1[0], X_range1[1], xn)\n",
    "    xx0, xx1 = np.meshgrid(x0, x1)\n",
    "    x = np.c_[np.reshape(xx0, xn * xn, 1), np.reshape(xx1, xn *xn, 1)] # 配列の結合\n",
    "    y, a, z, b = FNN(wv, M, K, x)\n",
    "    plt.figure(1, figuresize=(4,4))\n",
    "    for ic in range(K):\n",
    "        f = y[:, ic]\n",
    "        f = f.reshape(xn, xn)\n",
    "        f = f.T\n",
    "        cont = plt.contour(xx0, xx1, f, levels=[0.5, 0.9], colors=['cornflowerblue', 'black'])\n",
    "        cont.clabel(fmt='%.1f',fontsize=9)\n",
    "    plt.xlim(X_range0)\n",
    "    plt.ylim(X_range1)"
   ]
  },
  {
   "cell_type": "code",
   "execution_count": 114,
   "metadata": {},
   "outputs": [
    {
     "ename": "ValueError",
     "evalue": "Non-string object detected for the array ordering. Please pass in 'C', 'F', 'A', or 'K' instead",
     "output_type": "error",
     "traceback": [
      "\u001b[0;31m---------------------------------------------------------------------------\u001b[0m",
      "\u001b[0;31mValueError\u001b[0m                                Traceback (most recent call last)",
      "\u001b[0;32m<ipython-input-114-7b044aae52f1>\u001b[0m in \u001b[0;36m<module>\u001b[0;34m\u001b[0m\n\u001b[1;32m      6\u001b[0m \u001b[0mplt\u001b[0m\u001b[0;34m.\u001b[0m\u001b[0mfigure\u001b[0m\u001b[0;34m(\u001b[0m\u001b[0;36m1\u001b[0m\u001b[0;34m,\u001b[0m \u001b[0mfigsize\u001b[0m\u001b[0;34m=\u001b[0m\u001b[0;34m(\u001b[0m\u001b[0;36m3\u001b[0m\u001b[0;34m,\u001b[0m \u001b[0;36m3\u001b[0m\u001b[0;34m)\u001b[0m\u001b[0;34m)\u001b[0m\u001b[0;34m\u001b[0m\u001b[0;34m\u001b[0m\u001b[0m\n\u001b[1;32m      7\u001b[0m \u001b[0mShow_data\u001b[0m\u001b[0;34m(\u001b[0m\u001b[0mX_test\u001b[0m\u001b[0;34m,\u001b[0m \u001b[0mT_test\u001b[0m\u001b[0;34m)\u001b[0m\u001b[0;34m\u001b[0m\u001b[0;34m\u001b[0m\u001b[0m\n\u001b[0;32m----> 8\u001b[0;31m \u001b[0mshow_FNN\u001b[0m\u001b[0;34m(\u001b[0m\u001b[0mWV\u001b[0m\u001b[0;34m,\u001b[0m \u001b[0mM\u001b[0m\u001b[0;34m,\u001b[0m \u001b[0mK\u001b[0m\u001b[0;34m)\u001b[0m\u001b[0;34m\u001b[0m\u001b[0;34m\u001b[0m\u001b[0m\n\u001b[0m\u001b[1;32m      9\u001b[0m \u001b[0mplt\u001b[0m\u001b[0;34m.\u001b[0m\u001b[0mshow\u001b[0m\u001b[0;34m(\u001b[0m\u001b[0;34m)\u001b[0m\u001b[0;34m\u001b[0m\u001b[0;34m\u001b[0m\u001b[0m\n",
      "\u001b[0;32m<ipython-input-112-7201247184b9>\u001b[0m in \u001b[0;36mshow_FNN\u001b[0;34m(wv, M, K)\u001b[0m\n\u001b[1;32m     22\u001b[0m     \u001b[0mx1\u001b[0m \u001b[0;34m=\u001b[0m \u001b[0mnp\u001b[0m\u001b[0;34m.\u001b[0m\u001b[0mlinspace\u001b[0m\u001b[0;34m(\u001b[0m\u001b[0mX_range1\u001b[0m\u001b[0;34m[\u001b[0m\u001b[0;36m0\u001b[0m\u001b[0;34m]\u001b[0m\u001b[0;34m,\u001b[0m \u001b[0mX_range1\u001b[0m\u001b[0;34m[\u001b[0m\u001b[0;36m1\u001b[0m\u001b[0;34m]\u001b[0m\u001b[0;34m,\u001b[0m \u001b[0mxn\u001b[0m\u001b[0;34m)\u001b[0m\u001b[0;34m\u001b[0m\u001b[0;34m\u001b[0m\u001b[0m\n\u001b[1;32m     23\u001b[0m     \u001b[0mxx0\u001b[0m\u001b[0;34m,\u001b[0m \u001b[0mxx1\u001b[0m \u001b[0;34m=\u001b[0m \u001b[0mnp\u001b[0m\u001b[0;34m.\u001b[0m\u001b[0mmeshgrid\u001b[0m\u001b[0;34m(\u001b[0m\u001b[0mx0\u001b[0m\u001b[0;34m,\u001b[0m \u001b[0mx1\u001b[0m\u001b[0;34m)\u001b[0m\u001b[0;34m\u001b[0m\u001b[0;34m\u001b[0m\u001b[0m\n\u001b[0;32m---> 24\u001b[0;31m     \u001b[0mx\u001b[0m \u001b[0;34m=\u001b[0m \u001b[0mnp\u001b[0m\u001b[0;34m.\u001b[0m\u001b[0mc_\u001b[0m\u001b[0;34m[\u001b[0m\u001b[0mnp\u001b[0m\u001b[0;34m.\u001b[0m\u001b[0mreshape\u001b[0m\u001b[0;34m(\u001b[0m\u001b[0mxx0\u001b[0m\u001b[0;34m,\u001b[0m \u001b[0mxn\u001b[0m \u001b[0;34m*\u001b[0m \u001b[0mxn\u001b[0m\u001b[0;34m,\u001b[0m \u001b[0;36m1\u001b[0m\u001b[0;34m)\u001b[0m\u001b[0;34m,\u001b[0m \u001b[0mnp\u001b[0m\u001b[0;34m.\u001b[0m\u001b[0mreshape\u001b[0m\u001b[0;34m(\u001b[0m\u001b[0mxx1\u001b[0m\u001b[0;34m,\u001b[0m \u001b[0mxn\u001b[0m \u001b[0;34m*\u001b[0m \u001b[0mxn\u001b[0m\u001b[0;34m,\u001b[0m \u001b[0;36m1\u001b[0m\u001b[0;34m)\u001b[0m\u001b[0;34m]\u001b[0m\u001b[0;34m\u001b[0m\u001b[0;34m\u001b[0m\u001b[0m\n\u001b[0m\u001b[1;32m     25\u001b[0m     \u001b[0my\u001b[0m\u001b[0;34m,\u001b[0m \u001b[0ma\u001b[0m\u001b[0;34m,\u001b[0m \u001b[0mz\u001b[0m\u001b[0;34m,\u001b[0m \u001b[0mb\u001b[0m \u001b[0;34m=\u001b[0m \u001b[0mFNN\u001b[0m\u001b[0;34m(\u001b[0m\u001b[0mwv\u001b[0m\u001b[0;34m,\u001b[0m \u001b[0mM\u001b[0m\u001b[0;34m,\u001b[0m \u001b[0mK\u001b[0m\u001b[0;34m,\u001b[0m \u001b[0mx\u001b[0m\u001b[0;34m)\u001b[0m\u001b[0;34m\u001b[0m\u001b[0;34m\u001b[0m\u001b[0m\n\u001b[1;32m     26\u001b[0m     \u001b[0mplt\u001b[0m\u001b[0;34m.\u001b[0m\u001b[0mfigure\u001b[0m\u001b[0;34m(\u001b[0m\u001b[0;36m1\u001b[0m\u001b[0;34m,\u001b[0m \u001b[0mfigsize\u001b[0m \u001b[0;34m=\u001b[0m \u001b[0;34m(\u001b[0m\u001b[0;36m4\u001b[0m\u001b[0;34m,\u001b[0m \u001b[0;36m4\u001b[0m\u001b[0;34m)\u001b[0m\u001b[0;34m)\u001b[0m\u001b[0;34m\u001b[0m\u001b[0;34m\u001b[0m\u001b[0m\n",
      "\u001b[0;32m<__array_function__ internals>\u001b[0m in \u001b[0;36mreshape\u001b[0;34m(*args, **kwargs)\u001b[0m\n",
      "\u001b[0;32m~/opt/anaconda3/lib/python3.7/site-packages/numpy/core/fromnumeric.py\u001b[0m in \u001b[0;36mreshape\u001b[0;34m(a, newshape, order)\u001b[0m\n\u001b[1;32m    299\u001b[0m            [5, 6]])\n\u001b[1;32m    300\u001b[0m     \"\"\"\n\u001b[0;32m--> 301\u001b[0;31m     \u001b[0;32mreturn\u001b[0m \u001b[0m_wrapfunc\u001b[0m\u001b[0;34m(\u001b[0m\u001b[0ma\u001b[0m\u001b[0;34m,\u001b[0m \u001b[0;34m'reshape'\u001b[0m\u001b[0;34m,\u001b[0m \u001b[0mnewshape\u001b[0m\u001b[0;34m,\u001b[0m \u001b[0morder\u001b[0m\u001b[0;34m=\u001b[0m\u001b[0morder\u001b[0m\u001b[0;34m)\u001b[0m\u001b[0;34m\u001b[0m\u001b[0;34m\u001b[0m\u001b[0m\n\u001b[0m\u001b[1;32m    302\u001b[0m \u001b[0;34m\u001b[0m\u001b[0m\n\u001b[1;32m    303\u001b[0m \u001b[0;34m\u001b[0m\u001b[0m\n",
      "\u001b[0;32m~/opt/anaconda3/lib/python3.7/site-packages/numpy/core/fromnumeric.py\u001b[0m in \u001b[0;36m_wrapfunc\u001b[0;34m(obj, method, *args, **kwds)\u001b[0m\n\u001b[1;32m     59\u001b[0m \u001b[0;34m\u001b[0m\u001b[0m\n\u001b[1;32m     60\u001b[0m     \u001b[0;32mtry\u001b[0m\u001b[0;34m:\u001b[0m\u001b[0;34m\u001b[0m\u001b[0;34m\u001b[0m\u001b[0m\n\u001b[0;32m---> 61\u001b[0;31m         \u001b[0;32mreturn\u001b[0m \u001b[0mbound\u001b[0m\u001b[0;34m(\u001b[0m\u001b[0;34m*\u001b[0m\u001b[0margs\u001b[0m\u001b[0;34m,\u001b[0m \u001b[0;34m**\u001b[0m\u001b[0mkwds\u001b[0m\u001b[0;34m)\u001b[0m\u001b[0;34m\u001b[0m\u001b[0;34m\u001b[0m\u001b[0m\n\u001b[0m\u001b[1;32m     62\u001b[0m     \u001b[0;32mexcept\u001b[0m \u001b[0mTypeError\u001b[0m\u001b[0;34m:\u001b[0m\u001b[0;34m\u001b[0m\u001b[0;34m\u001b[0m\u001b[0m\n\u001b[1;32m     63\u001b[0m         \u001b[0;31m# A TypeError occurs if the object does have such a method in its\u001b[0m\u001b[0;34m\u001b[0m\u001b[0;34m\u001b[0m\u001b[0;34m\u001b[0m\u001b[0m\n",
      "\u001b[0;31mValueError\u001b[0m: Non-string object detected for the array ordering. Please pass in 'C', 'F', 'A', or 'K' instead"
     ]
    },
    {
     "data": {
      "image/png": "[encoded data removed]",
      "text/plain": [
       "<Figure size 216x216 with 1 Axes>"
      ]
     },
     "metadata": {
      "needs_background": "light"
     },
     "output_type": "display_data"
    }
   ],
   "source": [
    "plt.figure(1, figsize=(3,3))\n",
    "Show_data(X_test, T_test)\n",
    "show_FNN(WV, M, K)\n",
    "plt.show()"
   ]
  },
  {
   "cell_type": "code",
   "execution_count": null,
   "metadata": {},
   "outputs": [],
   "source": []
  }
 ],
 "metadata": {
  "kernelspec": {
   "display_name": "Python 3",
   "language": "python",
   "name": "python3"
  },
  "language_info": {
   "codemirror_mode": {
    "name": "ipython",
    "version": 3
   },
   "file_extension": ".py",
   "mimetype": "text/x-python",
   "name": "python",
   "nbconvert_exporter": "python",
   "pygments_lexer": "ipython3",
   "version": "3.7.6"
  },
  "latex_envs": {
   "LaTeX_envs_menu_present": true,
   "autoclose": false,
   "autocomplete": true,
   "bibliofile": "biblio.bib",
   "cite_by": "apalike",
   "current_citInitial": 1,
   "eqLabelWithNumbers": true,
   "eqNumInitial": 1,
   "hotkeys": {
    "equation": "Ctrl-E",
    "itemize": "Ctrl-I"
   },
   "labels_anchors": false,
   "latex_user_defs": false,
   "report_style_numbering": false,
   "user_envs_cfg": false
  },
  "toc": {
   "base_numbering": 1,
   "nav_menu": {},
   "number_sections": false,
   "sideBar": true,
   "skip_h1_title": false,
   "title_cell": "Table of Contents",
   "title_sidebar": "Contents",
   "toc_cell": false,
   "toc_position": {
    "height": "calc(100% - 180px)",
    "left": "10px",
    "top": "150px",
    "width": "284px"
   },
   "toc_section_display": true,
   "toc_window_display": true
  }
 },
 "nbformat": 4,
 "nbformat_minor": 4
}
