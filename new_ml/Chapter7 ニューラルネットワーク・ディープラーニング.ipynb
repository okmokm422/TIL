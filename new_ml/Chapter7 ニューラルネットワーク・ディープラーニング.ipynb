{
 "cells": [
  {
   "cell_type": "markdown",
   "metadata": {},
   "source": [
    "## 7.1 ニューロンモデル"
   ]
  },
  {
   "cell_type": "markdown",
   "metadata": {},
   "source": [
    "ニューラルネットワークはニューロンモデルを単位として構築される。"
   ]
  },
  {
   "cell_type": "markdown",
   "metadata": {},
   "source": [
    "### 7.1.1 神経細胞"
   ]
  },
  {
   "cell_type": "markdown",
   "metadata": {},
   "source": [
    "シナプス伝達強度が高いと、膜電位が閾値を超えて次の神経細胞にパルスが伝達される。"
   ]
  },
  {
   "cell_type": "markdown",
   "metadata": {},
   "source": [
    "### 7.1.2 ニューロンモデル"
   ]
  },
  {
   "cell_type": "markdown",
   "metadata": {},
   "source": [
    "- 出力は入力総和の平面を活性化関数に通したもの。\n",
    "- 出力2クラスの分類：シグモイド関数  \n",
    "    出力3クラスの分類：ソフトマックス関数"
   ]
  },
  {
   "cell_type": "markdown",
   "metadata": {},
   "source": [
    "## 7.2 ニューラルネットワークモデル"
   ]
  },
  {
   "cell_type": "markdown",
   "metadata": {},
   "source": [
    "### 7.2.1 ２層フィードフォワードニューラルネット"
   ]
  },
  {
   "cell_type": "markdown",
   "metadata": {},
   "source": [
    "- ニューラルネットワークモデル  \n",
    "    ニューロンの集合体のモデル\n",
    "- フィードフォワードニューラルネット  \n",
    "    信号が一方向のみに流れるモデル\n",
    "- ダミーニューロン：バイアス項"
   ]
  },
  {
   "cell_type": "markdown",
   "metadata": {},
   "source": [
    "### 7.2.2 ２層フィードフォワードニューラルネットの実装"
   ]
  },
  {
   "cell_type": "code",
   "execution_count": 2,
   "metadata": {},
   "outputs": [],
   "source": [
    "import numpy as np"
   ]
  },
  {
   "cell_type": "code",
   "execution_count": 18,
   "metadata": {},
   "outputs": [],
   "source": [
    "# データ生成\n",
    "np.random.seed(seed=1) # 乱数を固定\n",
    "N = 200 # データの数\n",
    "K = 3 # 分布の数\n",
    "T = np.zeros((N,3), dtype=np.uint8)\n",
    "X = np.zeros((N,2))\n",
    "X_range0 = [-3, 3] # X0の範囲、表示用\n",
    "X_range1 = [-3, 3] # X1の範囲、表示用\n",
    "Mu = np.array([[-.5, -.5], [.5, 1.0], [1, -.5]]) # 分布の中心\n",
    "Sig = np.array([[.7, .7], [.8, .3], [.3, .8]]) # 分布の分散\n",
    "Pi = np.array([0.4, 0.8, 1]) # 各分布への割合\n",
    "\n",
    "'''\n",
    "np.random.randで0~1の乱数生成、wkに代入\n",
    "→wkがPiより小さいか確認\n",
    "→ゼロ行列であるT[n,k]に1を代入\n",
    "→代入したらループを出てまた新たな乱数を生成\n",
    "'''\n",
    "for n in range(N):\n",
    "    wk = np.random.rand()\n",
    "    for k in range(K):\n",
    "        if wk < Pi[k]:\n",
    "            T[n, k] = 1\n",
    "            break\n",
    "    '''\n",
    "    テストデータを生成\n",
    "    T[n,:]==1→0か１\n",
    "    Sig[T[n, :] == 1, k]→Sig[0~1, 0~2]\n",
    "    Mu[T[n, :] == 1, k]→Mu[0~1, 0~2]\n",
    "    '''\n",
    "    for k in range(2):\n",
    "        X[n, k] = np.random.randn() * Sig[T[n, :] == 1, k] + Mu[T[n, :] == 1, k]"
   ]
  },
  {
   "cell_type": "code",
   "execution_count": 28,
   "metadata": {},
   "outputs": [],
   "source": [
    "# ２分類のデータをテスト・訓練データに分割\n",
    "TrainingRatio = 0.5\n",
    "X_n_training = int(N * TrainingRatio)\n",
    "X_train = X[:X_n_training, :]\n",
    "X_test = X[X_n_training:, :]\n",
    "T_train = T[:X_n_training, :]\n",
    "T_test = T[X_n_training: ,:]"
   ]
  },
  {
   "cell_type": "code",
   "execution_count": 29,
   "metadata": {},
   "outputs": [],
   "source": [
    "# データを'class_data.npz'に保存\n",
    "np.savez('class_data.npz', X_train=X_train, T_train=T_train, X_test=X_test, T_test=T_test, X_range0=X_range0, X_range1=X_range1)"
   ]
  },
  {
   "cell_type": "code",
   "execution_count": 30,
   "metadata": {},
   "outputs": [],
   "source": [
    "import matplotlib.pyplot as plt\n",
    "%matplotlib inline\n",
    "\n",
    "# データの図示\n",
    "def Show_data(x, t):\n",
    "    wk, n = t.shape\n",
    "    c = [[0, 0, 0], [.5, .5, .5], [1, 1, 1]]\n",
    "    for i in range(n):\n",
    "        plt.plot(x[t[:, i]==1, 0], x[t[:, i] == 1, 1], linestyle='none', marker='o', markeredgecolor='black', color=c[i], alpha=0.8)\n",
    "    plt.grid(True)"
   ]
  },
  {
   "cell_type": "code",
   "execution_count": 31,
   "metadata": {},
   "outputs": [
    {
     "data": {
      "image/png": "[encoded data removed]",
      "text/plain": [
       "<Figure size 576x266.4 with 2 Axes>"
      ]
     },
     "metadata": {
      "needs_background": "light"
     },
     "output_type": "display_data"
    }
   ],
   "source": [
    "plt.figure(1, figsize=(8, 3.7))\n",
    "plt.subplot(1, 2, 1)\n",
    "Show_data(X_train, T_train)\n",
    "plt.xlim(X_range0)\n",
    "plt.ylim(X_range1)\n",
    "plt.title('Training Data')\n",
    "plt.subplot(1, 2, 2)\n",
    "Show_data(X_test, T_test)\n",
    "plt.xlim(X_range0)\n",
    "plt.ylim(X_range1)\n",
    "plt.title('Test Data')\n",
    "plt.show()"
   ]
  },
  {
   "cell_type": "code",
   "execution_count": null,
   "metadata": {},
   "outputs": [],
   "source": []
  }
 ],
 "metadata": {
  "kernelspec": {
   "display_name": "Python 3",
   "language": "python",
   "name": "python3"
  },
  "language_info": {
   "codemirror_mode": {
    "name": "ipython",
    "version": 3
   },
   "file_extension": ".py",
   "mimetype": "text/x-python",
   "name": "python",
   "nbconvert_exporter": "python",
   "pygments_lexer": "ipython3",
   "version": "3.7.6"
  },
  "toc": {
   "base_numbering": 1,
   "nav_menu": {},
   "number_sections": false,
   "sideBar": true,
   "skip_h1_title": false,
   "title_cell": "Table of Contents",
   "title_sidebar": "Contents",
   "toc_cell": false,
   "toc_position": {},
   "toc_section_display": true,
   "toc_window_display": true
  }
 },
 "nbformat": 4,
 "nbformat_minor": 4
}
