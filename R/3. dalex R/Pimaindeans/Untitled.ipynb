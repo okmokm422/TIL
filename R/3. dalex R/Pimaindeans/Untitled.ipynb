{
 "cells": [
  {
   "cell_type": "code",
   "execution_count": 39,
   "metadata": {},
   "outputs": [],
   "source": [
    "import pandas as pd, numpy as np\n",
    "\n",
    "import dalex as dx # version 0.2.0\n",
    "\n",
    "from sklearn.neural_network import MLPClassifier\n",
    "from lightgbm import LGBMClassifier\n",
    "from sklearn.preprocessing import StandardScaler, OneHotEncoder\n",
    "from sklearn.impute import SimpleImputer\n",
    "from sklearn.pipeline import Pipeline\n",
    "from sklearn.compose import ColumnTransformer\n",
    "from sklearn.model_selection import train_test_split\n",
    "from keras.models import Sequential\n",
    "from keras.layers import Dense, Dropout\n",
    "\n",
    "import warnings\n",
    "warnings.filterwarnings('ignore')\n",
    "from keras.wrappers.scikit_learn import KerasClassifier"
   ]
  },
  {
   "cell_type": "code",
   "execution_count": 40,
   "metadata": {},
   "outputs": [],
   "source": [
    "df = pd.read_csv('diabetes.csv')"
   ]
  },
  {
   "cell_type": "code",
   "execution_count": 41,
   "metadata": {},
   "outputs": [],
   "source": [
    "df.loc[(df[\"Glucose\"]==0) & (df[\"Outcome\"]==0), \"Glucose\"] = np.nan\n",
    "df.loc[(df[\"Glucose\"]==0) & (df[\"Outcome\"]==1), \"Glucose\"] = np.nan\n",
    "df = df.dropna()\n",
    "df.loc[(df[\"BloodPressure\"]==0) & (df[\"Outcome\"]==0), \"BloodPressure\"] = np.nan\n",
    "df.loc[(df[\"BloodPressure\"]==0) & (df[\"Outcome\"]==1), \"BloodPressure\"] = np.nan\n",
    "df = df.dropna()\n",
    "df = df.drop(columns='SkinThickness')\n",
    "df = df.drop(columns='Insulin')\n",
    "df.loc[(df[\"BMI\"]==0) & (df[\"Outcome\"]==0), \"BMI\"] = np.nan\n",
    "df.loc[(df[\"BMI\"]==0) & (df[\"Outcome\"]==1), \"BMI\"] = np.nan\n",
    "df = df.dropna()"
   ]
  },
  {
   "cell_type": "code",
   "execution_count": 42,
   "metadata": {},
   "outputs": [],
   "source": [
    "X = df.drop(columns='Outcome')\n",
    "y = df.Outcome"
   ]
  },
  {
   "cell_type": "code",
   "execution_count": 43,
   "metadata": {},
   "outputs": [],
   "source": [
    "X_train, X_test, y_train, y_test = train_test_split(X, y, test_size=0.2, stratify=y)"
   ]
  },
  {
   "cell_type": "code",
   "execution_count": 44,
   "metadata": {},
   "outputs": [],
   "source": [
    "numerical_features = ['Pregnancies', 'Glucose', 'BloodPressure', 'BMI', 'DiabetesPedigreeFunction', 'Age']\n",
    "numerical_transformer = Pipeline(\n",
    "    steps=[\n",
    "        ('imputer', SimpleImputer(strategy='median')),\n",
    "        ('scaler', StandardScaler())\n",
    "    ]\n",
    ")\n",
    "\n",
    "categorical_features = []\n",
    "categorical_transformer = Pipeline(\n",
    "    steps=[\n",
    "        ('imputer', SimpleImputer(strategy='constant', fill_value='missing')),\n",
    "        ('onehot', OneHotEncoder(handle_unknown='ignore'))\n",
    "    ]\n",
    ")\n",
    "\n",
    "preprocessor = ColumnTransformer(\n",
    "    transformers=[\n",
    "        ('num', numerical_transformer, numerical_features),\n",
    "        ('cat', categorical_transformer, categorical_features)\n",
    "    ]\n",
    ")"
   ]
  },
  {
   "cell_type": "code",
   "execution_count": 45,
   "metadata": {},
   "outputs": [],
   "source": [
    "mlpclassifier = MLPClassifier(hidden_layer_sizes=(150,100,50), max_iter=500, random_state=0)"
   ]
  },
  {
   "cell_type": "code",
   "execution_count": 46,
   "metadata": {},
   "outputs": [],
   "source": [
    "#適当にモデル作成\n",
    "def create_model():\n",
    "    model = Sequential()\n",
    "    model.add(Dense(32, activation='relu', input_dim=6, kernel_initializer='glorot_normal'))\n",
    "    model.add(Dropout(0.1))\n",
    "    model.add(Dense(16, activation='relu', input_dim=32, kernel_initializer='glorot_normal'))\n",
    "    model.add(Dropout(0.1))\n",
    "    model.add(Dense(8, activation='relu', input_dim=16, kernel_initializer='glorot_normal'))\n",
    "    model.add(Dense(4, activation='relu', input_dim=8, kernel_initializer='glorot_normal'))\n",
    "    model.add(Dense(1, activation='sigmoid', input_dim=4, kernel_initializer='glorot_normal'))\n",
    "    model.compile(loss='binary_crossentropy', optimizer='adam', metrics =['accuracy'])\n",
    "    return model\n",
    "\n",
    "# kerasclassifierを使う(predict_probaによる予測を2列で返すため)\n",
    "kerasclassifier = KerasClassifier(build_fn=create_model, epochs=200, nb_epoch=20, batch_size = 32,\n",
    "                          verbose=False)"
   ]
  },
  {
   "cell_type": "code",
   "execution_count": 47,
   "metadata": {},
   "outputs": [],
   "source": [
    "lgbmclassifier = LGBMClassifier(objective='binary', num_leaves = 8,\n",
    "                     num_iteration = 40, n_estimetors = 701, \n",
    "                     min_data_in_leaf = 6, min_child_weight = 0.01,\n",
    "                     learning_rate = 0.1)"
   ]
  },
  {
   "cell_type": "code",
   "execution_count": 48,
   "metadata": {},
   "outputs": [],
   "source": [
    "clf_mlp = Pipeline(steps=[\n",
    "                      ('preprocessor', preprocessor),\n",
    "                      ('classifier', mlpclassifier)\n",
    "])                      \n",
    "\n",
    "clf_keras = Pipeline(steps=[\n",
    "                      ('preprocessor', preprocessor),\n",
    "                      ('classifier', kerasclassifier)\n",
    "])\n",
    "\n",
    "clf_lgbm = Pipeline(steps=[\n",
    "                      ('preprocessor', preprocessor),\n",
    "                      ('classifier', lgbmclassifier)\n",
    "])"
   ]
  },
  {
   "cell_type": "code",
   "execution_count": 49,
   "metadata": {},
   "outputs": [
    {
     "data": {
      "text/plain": [
       "Pipeline(steps=[('preprocessor',\n",
       "                 ColumnTransformer(transformers=[('num',\n",
       "                                                  Pipeline(steps=[('imputer',\n",
       "                                                                   SimpleImputer(strategy='median')),\n",
       "                                                                  ('scaler',\n",
       "                                                                   StandardScaler())]),\n",
       "                                                  ['Pregnancies', 'Glucose',\n",
       "                                                   'BloodPressure', 'BMI',\n",
       "                                                   'DiabetesPedigreeFunction',\n",
       "                                                   'Age']),\n",
       "                                                 ('cat',\n",
       "                                                  Pipeline(steps=[('imputer',\n",
       "                                                                   SimpleImputer(fill_value='missing',\n",
       "                                                                                 strategy='constant')),\n",
       "                                                                  ('onehot',\n",
       "                                                                   OneHotEncoder(handle_unknown='ignore'))]),\n",
       "                                                  [])])),\n",
       "                ('classifier',\n",
       "                 LGBMClassifier(min_child_weight=0.01, min_data_in_leaf=6,\n",
       "                                n_estimetors=701, num_iteration=40,\n",
       "                                num_leaves=8, objective='binary'))])"
      ]
     },
     "execution_count": 49,
     "metadata": {},
     "output_type": "execute_result"
    }
   ],
   "source": [
    "clf_mlp.fit(X_train, y_train)\n",
    "clf_keras.fit(X_train, y_train)\n",
    "clf_lgbm.fit(X_train, y_train)"
   ]
  },
  {
   "cell_type": "code",
   "execution_count": 50,
   "metadata": {},
   "outputs": [
    {
     "name": "stdout",
     "output_type": "stream",
     "text": [
      "Preparation of a new explainer is initiated\n",
      "\n",
      "  -> data              : 145 rows 6 cols\n",
      "  -> target variable   : Argument 'y' was a pandas.Series. Converted to a numpy.ndarray.\n",
      "  -> target variable   : 145 values\n",
      "  -> model_class       : sklearn.pipeline.Pipeline (default)\n",
      "  -> label             : PimaIndians MLP Pipeline\n",
      "  -> predict function  : <function yhat_proba_default at 0x7f628bbaa3b0> will be used (default)\n",
      "  -> predicted values  : min = 3.05e-13, mean = 0.369, max = 1.0\n",
      "  -> residual function : difference between y and yhat (default)\n",
      "  -> residuals         : min = -1.0, mean = -0.0244, max = 1.0\n",
      "  -> model_info        : package sklearn\n",
      "\n",
      "A new explainer has been created!\n",
      "Preparation of a new explainer is initiated\n",
      "\n",
      "  -> data              : 145 rows 6 cols\n",
      "  -> target variable   : Argument 'y' was a pandas.Series. Converted to a numpy.ndarray.\n",
      "  -> target variable   : 145 values\n",
      "  -> model_class       : sklearn.pipeline.Pipeline (default)\n",
      "  -> label             : PimaIndians Keras Pipeline\n",
      "  -> predict function  : <function yhat_proba_default at 0x7f628bbaa3b0> will be used (default)\n",
      "  -> predicted values  : min = 0.000102, mean = 0.38, max = 1.0\n",
      "  -> residual function : difference between y and yhat (default)\n",
      "  -> residuals         : min = -1.0, mean = -0.0348, max = 0.988\n",
      "  -> model_info        : package sklearn\n",
      "\n",
      "A new explainer has been created!\n",
      "Preparation of a new explainer is initiated\n",
      "\n",
      "  -> data              : 145 rows 6 cols\n",
      "  -> target variable   : Argument 'y' was a pandas.Series. Converted to a numpy.ndarray.\n",
      "  -> target variable   : 145 values\n",
      "  -> model_class       : sklearn.pipeline.Pipeline (default)\n",
      "  -> label             : PimaIndians LightGBM Pipeline\n",
      "  -> predict function  : <function yhat_proba_default at 0x7f628bbaa3b0> will be used (default)\n",
      "  -> predicted values  : min = 0.0138, mean = 0.395, max = 0.933\n",
      "  -> residual function : difference between y and yhat (default)\n",
      "  -> residuals         : min = -0.929, mean = -0.0506, max = 0.902\n",
      "  -> model_info        : package sklearn\n",
      "\n",
      "A new explainer has been created!\n"
     ]
    }
   ],
   "source": [
    "exp_mlp = dx.Explainer(clf_mlp, X_test, y_test, label = \"PimaIndians MLP Pipeline\")\n",
    "exp_keras = dx.Explainer(clf_keras, X_test, y_test, label = \"PimaIndians Keras Pipeline\")\n",
    "exp_lgbm = dx.Explainer(clf_lgbm, X_test, y_test, label = \"PimaIndians LightGBM Pipeline\")"
   ]
  },
  {
   "cell_type": "code",
   "execution_count": 51,
   "metadata": {},
   "outputs": [
    {
     "data": {
      "text/html": [
       "<div>\n",
       "<style scoped>\n",
       "    .dataframe tbody tr th:only-of-type {\n",
       "        vertical-align: middle;\n",
       "    }\n",
       "\n",
       "    .dataframe tbody tr th {\n",
       "        vertical-align: top;\n",
       "    }\n",
       "\n",
       "    .dataframe thead th {\n",
       "        text-align: right;\n",
       "    }\n",
       "</style>\n",
       "<table border=\"1\" class=\"dataframe\">\n",
       "  <thead>\n",
       "    <tr style=\"text-align: right;\">\n",
       "      <th></th>\n",
       "      <th>Pregnancies</th>\n",
       "      <th>Glucose</th>\n",
       "      <th>BloodPressure</th>\n",
       "      <th>BMI</th>\n",
       "      <th>DiabetesPedigreeFunction</th>\n",
       "      <th>Age</th>\n",
       "    </tr>\n",
       "  </thead>\n",
       "  <tbody>\n",
       "    <tr>\n",
       "      <th>129</th>\n",
       "      <td>0</td>\n",
       "      <td>105.0</td>\n",
       "      <td>84.0</td>\n",
       "      <td>27.9</td>\n",
       "      <td>0.741</td>\n",
       "      <td>62</td>\n",
       "    </tr>\n",
       "    <tr>\n",
       "      <th>160</th>\n",
       "      <td>4</td>\n",
       "      <td>151.0</td>\n",
       "      <td>90.0</td>\n",
       "      <td>29.7</td>\n",
       "      <td>0.294</td>\n",
       "      <td>36</td>\n",
       "    </tr>\n",
       "    <tr>\n",
       "      <th>362</th>\n",
       "      <td>5</td>\n",
       "      <td>103.0</td>\n",
       "      <td>108.0</td>\n",
       "      <td>39.2</td>\n",
       "      <td>0.305</td>\n",
       "      <td>65</td>\n",
       "    </tr>\n",
       "    <tr>\n",
       "      <th>636</th>\n",
       "      <td>5</td>\n",
       "      <td>104.0</td>\n",
       "      <td>74.0</td>\n",
       "      <td>28.8</td>\n",
       "      <td>0.153</td>\n",
       "      <td>48</td>\n",
       "    </tr>\n",
       "    <tr>\n",
       "      <th>76</th>\n",
       "      <td>7</td>\n",
       "      <td>62.0</td>\n",
       "      <td>78.0</td>\n",
       "      <td>32.6</td>\n",
       "      <td>0.391</td>\n",
       "      <td>41</td>\n",
       "    </tr>\n",
       "    <tr>\n",
       "      <th>...</th>\n",
       "      <td>...</td>\n",
       "      <td>...</td>\n",
       "      <td>...</td>\n",
       "      <td>...</td>\n",
       "      <td>...</td>\n",
       "      <td>...</td>\n",
       "    </tr>\n",
       "    <tr>\n",
       "      <th>660</th>\n",
       "      <td>10</td>\n",
       "      <td>162.0</td>\n",
       "      <td>84.0</td>\n",
       "      <td>27.7</td>\n",
       "      <td>0.182</td>\n",
       "      <td>54</td>\n",
       "    </tr>\n",
       "    <tr>\n",
       "      <th>194</th>\n",
       "      <td>8</td>\n",
       "      <td>85.0</td>\n",
       "      <td>55.0</td>\n",
       "      <td>24.4</td>\n",
       "      <td>0.136</td>\n",
       "      <td>42</td>\n",
       "    </tr>\n",
       "    <tr>\n",
       "      <th>135</th>\n",
       "      <td>2</td>\n",
       "      <td>125.0</td>\n",
       "      <td>60.0</td>\n",
       "      <td>33.8</td>\n",
       "      <td>0.088</td>\n",
       "      <td>31</td>\n",
       "    </tr>\n",
       "    <tr>\n",
       "      <th>624</th>\n",
       "      <td>2</td>\n",
       "      <td>108.0</td>\n",
       "      <td>64.0</td>\n",
       "      <td>30.8</td>\n",
       "      <td>0.158</td>\n",
       "      <td>21</td>\n",
       "    </tr>\n",
       "    <tr>\n",
       "      <th>231</th>\n",
       "      <td>6</td>\n",
       "      <td>134.0</td>\n",
       "      <td>80.0</td>\n",
       "      <td>46.2</td>\n",
       "      <td>0.238</td>\n",
       "      <td>46</td>\n",
       "    </tr>\n",
       "  </tbody>\n",
       "</table>\n",
       "<p>579 rows × 6 columns</p>\n",
       "</div>"
      ],
      "text/plain": [
       "     Pregnancies  Glucose  BloodPressure   BMI  DiabetesPedigreeFunction  Age\n",
       "129            0    105.0           84.0  27.9                     0.741   62\n",
       "160            4    151.0           90.0  29.7                     0.294   36\n",
       "362            5    103.0          108.0  39.2                     0.305   65\n",
       "636            5    104.0           74.0  28.8                     0.153   48\n",
       "76             7     62.0           78.0  32.6                     0.391   41\n",
       "..           ...      ...            ...   ...                       ...  ...\n",
       "660           10    162.0           84.0  27.7                     0.182   54\n",
       "194            8     85.0           55.0  24.4                     0.136   42\n",
       "135            2    125.0           60.0  33.8                     0.088   31\n",
       "624            2    108.0           64.0  30.8                     0.158   21\n",
       "231            6    134.0           80.0  46.2                     0.238   46\n",
       "\n",
       "[579 rows x 6 columns]"
      ]
     },
     "execution_count": 51,
     "metadata": {},
     "output_type": "execute_result"
    }
   ],
   "source": [
    "X_train"
   ]
  },
  {
   "cell_type": "code",
   "execution_count": 52,
   "metadata": {},
   "outputs": [
    {
     "data": {
      "text/html": [
       "<div>\n",
       "<style scoped>\n",
       "    .dataframe tbody tr th:only-of-type {\n",
       "        vertical-align: middle;\n",
       "    }\n",
       "\n",
       "    .dataframe tbody tr th {\n",
       "        vertical-align: top;\n",
       "    }\n",
       "\n",
       "    .dataframe thead th {\n",
       "        text-align: right;\n",
       "    }\n",
       "</style>\n",
       "<table border=\"1\" class=\"dataframe\">\n",
       "  <thead>\n",
       "    <tr style=\"text-align: right;\">\n",
       "      <th></th>\n",
       "      <th>Pregnancies</th>\n",
       "      <th>Glucose</th>\n",
       "      <th>BloodPressure</th>\n",
       "      <th>BMI</th>\n",
       "      <th>DiabetesPedigreeFunction</th>\n",
       "      <th>Age</th>\n",
       "    </tr>\n",
       "  </thead>\n",
       "  <tbody>\n",
       "    <tr>\n",
       "      <th>rks</th>\n",
       "      <td>6</td>\n",
       "      <td>148</td>\n",
       "      <td>72</td>\n",
       "      <td>33.6</td>\n",
       "      <td>0.627</td>\n",
       "      <td>50</td>\n",
       "    </tr>\n",
       "  </tbody>\n",
       "</table>\n",
       "</div>"
      ],
      "text/plain": [
       "     Pregnancies  Glucose  BloodPressure   BMI  DiabetesPedigreeFunction  Age\n",
       "rks            6      148             72  33.6                     0.627   50"
      ]
     },
     "execution_count": 52,
     "metadata": {},
     "output_type": "execute_result"
    }
   ],
   "source": [
    "rks =  pd.DataFrame({'Pregnancies' : 6,\n",
    "         'Glucose' : 148,\n",
    "         'BloodPressure' : 72,\n",
    "         'BMI': 33.6,\n",
    "         'DiabetesPedigreeFunction' : 0.627, \n",
    "         'Age' : 50},\n",
    "                   index=['rks'])\n",
    "rks"
   ]
  },
  {
   "cell_type": "code",
   "execution_count": 53,
   "metadata": {},
   "outputs": [
    {
     "name": "stdout",
     "output_type": "stream",
     "text": [
      "Preparation of a new explainer is initiated\n",
      "\n",
      "  -> data              : 145 rows 6 cols\n",
      "  -> target variable   : Argument 'y' was a pandas.Series. Converted to a numpy.ndarray.\n",
      "  -> target variable   : 145 values\n",
      "  -> model_class       : sklearn.pipeline.Pipeline (default)\n",
      "  -> label             : PimaIndians MLP Pipeline\n",
      "  -> predict function  : <function yhat_proba_default at 0x7f628bbaa3b0> will be used (default)\n",
      "  -> predicted values  : min = 3.05e-13, mean = 0.369, max = 1.0\n",
      "  -> residual function : difference between y and yhat (default)\n",
      "  -> residuals         : min = -1.0, mean = -0.0244, max = 1.0\n",
      "  -> model_info        : package sklearn\n",
      "\n",
      "A new explainer has been created!\n"
     ]
    }
   ],
   "source": [
    "exp_mlp = dx.Explainer(clf_mlp, X_test, y_test, label = \"PimaIndians MLP Pipeline\")"
   ]
  },
  {
   "cell_type": "code",
   "execution_count": 55,
   "metadata": {},
   "outputs": [
    {
     "name": "stderr",
     "output_type": "stream",
     "text": [
      "Calculating ceteris paribus: 100%|██████████| 6/6 [00:00<00:00, 53.29it/s]\n"
     ]
    },
    {
     "data": {
      "application/vnd.plotly.v1+json": {
       "config": {
        "displaylogo": false,
        "modeBarButtonsToRemove": [
         "sendDataToCloud",
         "lasso2d",
         "autoScale2d",
         "select2d",
         "zoom2d",
         "pan2d",
         "zoomIn2d",
         "zoomOut2d",
         "resetScale2d",
         "toggleSpikelines",
         "hoverCompareCartesian",
         "hoverClosestCartesian"
        ],
        "plotlyServerURL": "https://plot.ly",
        "staticPlot": false,
        "toImageButtonOptions": {
         "height": null,
         "width": null
        }
       },
       "data": [
        {
         "customdata": [
          [
           "</br>id: rks</br>prediction: 0.999</br>Pregnancies: 0.0</br></br>Glucose: 148.0</br>BloodPressure: 72.0</br>BMI: 33.6</br>DiabetesPedigreeFunction: 0.627</br>Age: 50.0</br>"
          ],
          [
           "</br>id: rks</br>prediction: 0.999</br>Pregnancies: 0.13</br></br>Glucose: 148.0</br>BloodPressure: 72.0</br>BMI: 33.6</br>DiabetesPedigreeFunction: 0.627</br>Age: 50.0</br>"
          ],
          [
           "</br>id: rks</br>prediction: 0.999</br>Pregnancies: 0.26</br></br>Glucose: 148.0</br>BloodPressure: 72.0</br>BMI: 33.6</br>DiabetesPedigreeFunction: 0.627</br>Age: 50.0</br>"
          ],
          [
           "</br>id: rks</br>prediction: 0.999</br>Pregnancies: 0.39</br></br>Glucose: 148.0</br>BloodPressure: 72.0</br>BMI: 33.6</br>DiabetesPedigreeFunction: 0.627</br>Age: 50.0</br>"
          ],
          [
           "</br>id: rks</br>prediction: 0.998</br>Pregnancies: 0.52</br></br>Glucose: 148.0</br>BloodPressure: 72.0</br>BMI: 33.6</br>DiabetesPedigreeFunction: 0.627</br>Age: 50.0</br>"
          ],
          [
           "</br>id: rks</br>prediction: 0.998</br>Pregnancies: 0.65</br></br>Glucose: 148.0</br>BloodPressure: 72.0</br>BMI: 33.6</br>DiabetesPedigreeFunction: 0.627</br>Age: 50.0</br>"
          ],
          [
           "</br>id: rks</br>prediction: 0.998</br>Pregnancies: 0.78</br></br>Glucose: 148.0</br>BloodPressure: 72.0</br>BMI: 33.6</br>DiabetesPedigreeFunction: 0.627</br>Age: 50.0</br>"
          ],
          [
           "</br>id: rks</br>prediction: 0.997</br>Pregnancies: 0.91</br></br>Glucose: 148.0</br>BloodPressure: 72.0</br>BMI: 33.6</br>DiabetesPedigreeFunction: 0.627</br>Age: 50.0</br>"
          ],
          [
           "</br>id: rks</br>prediction: 0.997</br>Pregnancies: 1.04</br></br>Glucose: 148.0</br>BloodPressure: 72.0</br>BMI: 33.6</br>DiabetesPedigreeFunction: 0.627</br>Age: 50.0</br>"
          ],
          [
           "</br>id: rks</br>prediction: 0.997</br>Pregnancies: 1.17</br></br>Glucose: 148.0</br>BloodPressure: 72.0</br>BMI: 33.6</br>DiabetesPedigreeFunction: 0.627</br>Age: 50.0</br>"
          ],
          [
           "</br>id: rks</br>prediction: 0.997</br>Pregnancies: 1.3</br></br>Glucose: 148.0</br>BloodPressure: 72.0</br>BMI: 33.6</br>DiabetesPedigreeFunction: 0.627</br>Age: 50.0</br>"
          ],
          [
           "</br>id: rks</br>prediction: 0.997</br>Pregnancies: 1.4300000000000002</br></br>Glucose: 148.0</br>BloodPressure: 72.0</br>BMI: 33.6</br>DiabetesPedigreeFunction: 0.627</br>Age: 50.0</br>"
          ],
          [
           "</br>id: rks</br>prediction: 0.996</br>Pregnancies: 1.56</br></br>Glucose: 148.0</br>BloodPressure: 72.0</br>BMI: 33.6</br>DiabetesPedigreeFunction: 0.627</br>Age: 50.0</br>"
          ],
          [
           "</br>id: rks</br>prediction: 0.996</br>Pregnancies: 1.69</br></br>Glucose: 148.0</br>BloodPressure: 72.0</br>BMI: 33.6</br>DiabetesPedigreeFunction: 0.627</br>Age: 50.0</br>"
          ],
          [
           "</br>id: rks</br>prediction: 0.995</br>Pregnancies: 1.82</br></br>Glucose: 148.0</br>BloodPressure: 72.0</br>BMI: 33.6</br>DiabetesPedigreeFunction: 0.627</br>Age: 50.0</br>"
          ],
          [
           "</br>id: rks</br>prediction: 0.994</br>Pregnancies: 1.9500000000000002</br></br>Glucose: 148.0</br>BloodPressure: 72.0</br>BMI: 33.6</br>DiabetesPedigreeFunction: 0.627</br>Age: 50.0</br>"
          ],
          [
           "</br>id: rks</br>prediction: 0.992</br>Pregnancies: 2.08</br></br>Glucose: 148.0</br>BloodPressure: 72.0</br>BMI: 33.6</br>DiabetesPedigreeFunction: 0.627</br>Age: 50.0</br>"
          ],
          [
           "</br>id: rks</br>prediction: 0.991</br>Pregnancies: 2.21</br></br>Glucose: 148.0</br>BloodPressure: 72.0</br>BMI: 33.6</br>DiabetesPedigreeFunction: 0.627</br>Age: 50.0</br>"
          ],
          [
           "</br>id: rks</br>prediction: 0.989</br>Pregnancies: 2.34</br></br>Glucose: 148.0</br>BloodPressure: 72.0</br>BMI: 33.6</br>DiabetesPedigreeFunction: 0.627</br>Age: 50.0</br>"
          ],
          [
           "</br>id: rks</br>prediction: 0.987</br>Pregnancies: 2.47</br></br>Glucose: 148.0</br>BloodPressure: 72.0</br>BMI: 33.6</br>DiabetesPedigreeFunction: 0.627</br>Age: 50.0</br>"
          ],
          [
           "</br>id: rks</br>prediction: 0.985</br>Pregnancies: 2.6</br></br>Glucose: 148.0</br>BloodPressure: 72.0</br>BMI: 33.6</br>DiabetesPedigreeFunction: 0.627</br>Age: 50.0</br>"
          ],
          [
           "</br>id: rks</br>prediction: 0.983</br>Pregnancies: 2.73</br></br>Glucose: 148.0</br>BloodPressure: 72.0</br>BMI: 33.6</br>DiabetesPedigreeFunction: 0.627</br>Age: 50.0</br>"
          ],
          [
           "</br>id: rks</br>prediction: 0.981</br>Pregnancies: 2.8600000000000003</br></br>Glucose: 148.0</br>BloodPressure: 72.0</br>BMI: 33.6</br>DiabetesPedigreeFunction: 0.627</br>Age: 50.0</br>"
          ],
          [
           "</br>id: rks</br>prediction: 0.98</br>Pregnancies: 2.99</br></br>Glucose: 148.0</br>BloodPressure: 72.0</br>BMI: 33.6</br>DiabetesPedigreeFunction: 0.627</br>Age: 50.0</br>"
          ],
          [
           "</br>id: rks</br>prediction: 0.979</br>Pregnancies: 3.12</br></br>Glucose: 148.0</br>BloodPressure: 72.0</br>BMI: 33.6</br>DiabetesPedigreeFunction: 0.627</br>Age: 50.0</br>"
          ],
          [
           "</br>id: rks</br>prediction: 0.978</br>Pregnancies: 3.25</br></br>Glucose: 148.0</br>BloodPressure: 72.0</br>BMI: 33.6</br>DiabetesPedigreeFunction: 0.627</br>Age: 50.0</br>"
          ],
          [
           "</br>id: rks</br>prediction: 0.978</br>Pregnancies: 3.38</br></br>Glucose: 148.0</br>BloodPressure: 72.0</br>BMI: 33.6</br>DiabetesPedigreeFunction: 0.627</br>Age: 50.0</br>"
          ],
          [
           "</br>id: rks</br>prediction: 0.977</br>Pregnancies: 3.5100000000000002</br></br>Glucose: 148.0</br>BloodPressure: 72.0</br>BMI: 33.6</br>DiabetesPedigreeFunction: 0.627</br>Age: 50.0</br>"
          ],
          [
           "</br>id: rks</br>prediction: 0.977</br>Pregnancies: 3.64</br></br>Glucose: 148.0</br>BloodPressure: 72.0</br>BMI: 33.6</br>DiabetesPedigreeFunction: 0.627</br>Age: 50.0</br>"
          ],
          [
           "</br>id: rks</br>prediction: 0.976</br>Pregnancies: 3.77</br></br>Glucose: 148.0</br>BloodPressure: 72.0</br>BMI: 33.6</br>DiabetesPedigreeFunction: 0.627</br>Age: 50.0</br>"
          ],
          [
           "</br>id: rks</br>prediction: 0.974</br>Pregnancies: 3.9000000000000004</br></br>Glucose: 148.0</br>BloodPressure: 72.0</br>BMI: 33.6</br>DiabetesPedigreeFunction: 0.627</br>Age: 50.0</br>"
          ],
          [
           "</br>id: rks</br>prediction: 0.973</br>Pregnancies: 4.03</br></br>Glucose: 148.0</br>BloodPressure: 72.0</br>BMI: 33.6</br>DiabetesPedigreeFunction: 0.627</br>Age: 50.0</br>"
          ],
          [
           "</br>id: rks</br>prediction: 0.971</br>Pregnancies: 4.16</br></br>Glucose: 148.0</br>BloodPressure: 72.0</br>BMI: 33.6</br>DiabetesPedigreeFunction: 0.627</br>Age: 50.0</br>"
          ],
          [
           "</br>id: rks</br>prediction: 0.97</br>Pregnancies: 4.29</br></br>Glucose: 148.0</br>BloodPressure: 72.0</br>BMI: 33.6</br>DiabetesPedigreeFunction: 0.627</br>Age: 50.0</br>"
          ],
          [
           "</br>id: rks</br>prediction: 0.969</br>Pregnancies: 4.42</br></br>Glucose: 148.0</br>BloodPressure: 72.0</br>BMI: 33.6</br>DiabetesPedigreeFunction: 0.627</br>Age: 50.0</br>"
          ],
          [
           "</br>id: rks</br>prediction: 0.969</br>Pregnancies: 4.55</br></br>Glucose: 148.0</br>BloodPressure: 72.0</br>BMI: 33.6</br>DiabetesPedigreeFunction: 0.627</br>Age: 50.0</br>"
          ],
          [
           "</br>id: rks</br>prediction: 0.968</br>Pregnancies: 4.68</br></br>Glucose: 148.0</br>BloodPressure: 72.0</br>BMI: 33.6</br>DiabetesPedigreeFunction: 0.627</br>Age: 50.0</br>"
          ],
          [
           "</br>id: rks</br>prediction: 0.966</br>Pregnancies: 4.8100000000000005</br></br>Glucose: 148.0</br>BloodPressure: 72.0</br>BMI: 33.6</br>DiabetesPedigreeFunction: 0.627</br>Age: 50.0</br>"
          ],
          [
           "</br>id: rks</br>prediction: 0.964</br>Pregnancies: 4.94</br></br>Glucose: 148.0</br>BloodPressure: 72.0</br>BMI: 33.6</br>DiabetesPedigreeFunction: 0.627</br>Age: 50.0</br>"
          ],
          [
           "</br>id: rks</br>prediction: 0.962</br>Pregnancies: 5.07</br></br>Glucose: 148.0</br>BloodPressure: 72.0</br>BMI: 33.6</br>DiabetesPedigreeFunction: 0.627</br>Age: 50.0</br>"
          ],
          [
           "</br>id: rks</br>prediction: 0.96</br>Pregnancies: 5.2</br></br>Glucose: 148.0</br>BloodPressure: 72.0</br>BMI: 33.6</br>DiabetesPedigreeFunction: 0.627</br>Age: 50.0</br>"
          ],
          [
           "</br>id: rks</br>prediction: 0.961</br>Pregnancies: 5.33</br></br>Glucose: 148.0</br>BloodPressure: 72.0</br>BMI: 33.6</br>DiabetesPedigreeFunction: 0.627</br>Age: 50.0</br>"
          ],
          [
           "</br>id: rks</br>prediction: 0.962</br>Pregnancies: 5.46</br></br>Glucose: 148.0</br>BloodPressure: 72.0</br>BMI: 33.6</br>DiabetesPedigreeFunction: 0.627</br>Age: 50.0</br>"
          ],
          [
           "</br>id: rks</br>prediction: 0.964</br>Pregnancies: 5.59</br></br>Glucose: 148.0</br>BloodPressure: 72.0</br>BMI: 33.6</br>DiabetesPedigreeFunction: 0.627</br>Age: 50.0</br>"
          ],
          [
           "</br>id: rks</br>prediction: 0.967</br>Pregnancies: 5.720000000000001</br></br>Glucose: 148.0</br>BloodPressure: 72.0</br>BMI: 33.6</br>DiabetesPedigreeFunction: 0.627</br>Age: 50.0</br>"
          ],
          [
           "</br>id: rks</br>prediction: 0.97</br>Pregnancies: 5.8500000000000005</br></br>Glucose: 148.0</br>BloodPressure: 72.0</br>BMI: 33.6</br>DiabetesPedigreeFunction: 0.627</br>Age: 50.0</br>"
          ],
          [
           "</br>id: rks</br>prediction: 0.972</br>Pregnancies: 5.98</br></br>Glucose: 148.0</br>BloodPressure: 72.0</br>BMI: 33.6</br>DiabetesPedigreeFunction: 0.627</br>Age: 50.0</br>"
          ],
          [
           "</br>id: rks</br>prediction: 0.972</br>Pregnancies: 6.0</br></br>Glucose: 148.0</br>BloodPressure: 72.0</br>BMI: 33.6</br>DiabetesPedigreeFunction: 0.627</br>Age: 50.0</br>"
          ],
          [
           "</br>id: rks</br>prediction: 0.973</br>Pregnancies: 6.11</br></br>Glucose: 148.0</br>BloodPressure: 72.0</br>BMI: 33.6</br>DiabetesPedigreeFunction: 0.627</br>Age: 50.0</br>"
          ],
          [
           "</br>id: rks</br>prediction: 0.974</br>Pregnancies: 6.24</br></br>Glucose: 148.0</br>BloodPressure: 72.0</br>BMI: 33.6</br>DiabetesPedigreeFunction: 0.627</br>Age: 50.0</br>"
          ],
          [
           "</br>id: rks</br>prediction: 0.974</br>Pregnancies: 6.37</br></br>Glucose: 148.0</br>BloodPressure: 72.0</br>BMI: 33.6</br>DiabetesPedigreeFunction: 0.627</br>Age: 50.0</br>"
          ],
          [
           "</br>id: rks</br>prediction: 0.976</br>Pregnancies: 6.5</br></br>Glucose: 148.0</br>BloodPressure: 72.0</br>BMI: 33.6</br>DiabetesPedigreeFunction: 0.627</br>Age: 50.0</br>"
          ],
          [
           "</br>id: rks</br>prediction: 0.978</br>Pregnancies: 6.63</br></br>Glucose: 148.0</br>BloodPressure: 72.0</br>BMI: 33.6</br>DiabetesPedigreeFunction: 0.627</br>Age: 50.0</br>"
          ],
          [
           "</br>id: rks</br>prediction: 0.98</br>Pregnancies: 6.76</br></br>Glucose: 148.0</br>BloodPressure: 72.0</br>BMI: 33.6</br>DiabetesPedigreeFunction: 0.627</br>Age: 50.0</br>"
          ],
          [
           "</br>id: rks</br>prediction: 0.98</br>Pregnancies: 6.890000000000001</br></br>Glucose: 148.0</br>BloodPressure: 72.0</br>BMI: 33.6</br>DiabetesPedigreeFunction: 0.627</br>Age: 50.0</br>"
          ],
          [
           "</br>id: rks</br>prediction: 0.98</br>Pregnancies: 7.0200000000000005</br></br>Glucose: 148.0</br>BloodPressure: 72.0</br>BMI: 33.6</br>DiabetesPedigreeFunction: 0.627</br>Age: 50.0</br>"
          ],
          [
           "</br>id: rks</br>prediction: 0.98</br>Pregnancies: 7.15</br></br>Glucose: 148.0</br>BloodPressure: 72.0</br>BMI: 33.6</br>DiabetesPedigreeFunction: 0.627</br>Age: 50.0</br>"
          ],
          [
           "</br>id: rks</br>prediction: 0.982</br>Pregnancies: 7.28</br></br>Glucose: 148.0</br>BloodPressure: 72.0</br>BMI: 33.6</br>DiabetesPedigreeFunction: 0.627</br>Age: 50.0</br>"
          ],
          [
           "</br>id: rks</br>prediction: 0.983</br>Pregnancies: 7.41</br></br>Glucose: 148.0</br>BloodPressure: 72.0</br>BMI: 33.6</br>DiabetesPedigreeFunction: 0.627</br>Age: 50.0</br>"
          ],
          [
           "</br>id: rks</br>prediction: 0.985</br>Pregnancies: 7.54</br></br>Glucose: 148.0</br>BloodPressure: 72.0</br>BMI: 33.6</br>DiabetesPedigreeFunction: 0.627</br>Age: 50.0</br>"
          ],
          [
           "</br>id: rks</br>prediction: 0.987</br>Pregnancies: 7.67</br></br>Glucose: 148.0</br>BloodPressure: 72.0</br>BMI: 33.6</br>DiabetesPedigreeFunction: 0.627</br>Age: 50.0</br>"
          ],
          [
           "</br>id: rks</br>prediction: 0.988</br>Pregnancies: 7.800000000000001</br></br>Glucose: 148.0</br>BloodPressure: 72.0</br>BMI: 33.6</br>DiabetesPedigreeFunction: 0.627</br>Age: 50.0</br>"
          ],
          [
           "</br>id: rks</br>prediction: 0.989</br>Pregnancies: 7.930000000000001</br></br>Glucose: 148.0</br>BloodPressure: 72.0</br>BMI: 33.6</br>DiabetesPedigreeFunction: 0.627</br>Age: 50.0</br>"
          ],
          [
           "</br>id: rks</br>prediction: 0.991</br>Pregnancies: 8.06</br></br>Glucose: 148.0</br>BloodPressure: 72.0</br>BMI: 33.6</br>DiabetesPedigreeFunction: 0.627</br>Age: 50.0</br>"
          ],
          [
           "</br>id: rks</br>prediction: 0.993</br>Pregnancies: 8.19</br></br>Glucose: 148.0</br>BloodPressure: 72.0</br>BMI: 33.6</br>DiabetesPedigreeFunction: 0.627</br>Age: 50.0</br>"
          ],
          [
           "</br>id: rks</br>prediction: 0.994</br>Pregnancies: 8.32</br></br>Glucose: 148.0</br>BloodPressure: 72.0</br>BMI: 33.6</br>DiabetesPedigreeFunction: 0.627</br>Age: 50.0</br>"
          ],
          [
           "</br>id: rks</br>prediction: 0.995</br>Pregnancies: 8.450000000000001</br></br>Glucose: 148.0</br>BloodPressure: 72.0</br>BMI: 33.6</br>DiabetesPedigreeFunction: 0.627</br>Age: 50.0</br>"
          ],
          [
           "</br>id: rks</br>prediction: 0.996</br>Pregnancies: 8.58</br></br>Glucose: 148.0</br>BloodPressure: 72.0</br>BMI: 33.6</br>DiabetesPedigreeFunction: 0.627</br>Age: 50.0</br>"
          ],
          [
           "</br>id: rks</br>prediction: 0.996</br>Pregnancies: 8.71</br></br>Glucose: 148.0</br>BloodPressure: 72.0</br>BMI: 33.6</br>DiabetesPedigreeFunction: 0.627</br>Age: 50.0</br>"
          ],
          [
           "</br>id: rks</br>prediction: 0.997</br>Pregnancies: 8.84</br></br>Glucose: 148.0</br>BloodPressure: 72.0</br>BMI: 33.6</br>DiabetesPedigreeFunction: 0.627</br>Age: 50.0</br>"
          ],
          [
           "</br>id: rks</br>prediction: 0.998</br>Pregnancies: 8.97</br></br>Glucose: 148.0</br>BloodPressure: 72.0</br>BMI: 33.6</br>DiabetesPedigreeFunction: 0.627</br>Age: 50.0</br>"
          ],
          [
           "</br>id: rks</br>prediction: 0.998</br>Pregnancies: 9.1</br></br>Glucose: 148.0</br>BloodPressure: 72.0</br>BMI: 33.6</br>DiabetesPedigreeFunction: 0.627</br>Age: 50.0</br>"
          ],
          [
           "</br>id: rks</br>prediction: 0.999</br>Pregnancies: 9.23</br></br>Glucose: 148.0</br>BloodPressure: 72.0</br>BMI: 33.6</br>DiabetesPedigreeFunction: 0.627</br>Age: 50.0</br>"
          ],
          [
           "</br>id: rks</br>prediction: 0.999</br>Pregnancies: 9.36</br></br>Glucose: 148.0</br>BloodPressure: 72.0</br>BMI: 33.6</br>DiabetesPedigreeFunction: 0.627</br>Age: 50.0</br>"
          ],
          [
           "</br>id: rks</br>prediction: 0.999</br>Pregnancies: 9.49</br></br>Glucose: 148.0</br>BloodPressure: 72.0</br>BMI: 33.6</br>DiabetesPedigreeFunction: 0.627</br>Age: 50.0</br>"
          ],
          [
           "</br>id: rks</br>prediction: 0.999</br>Pregnancies: 9.620000000000001</br></br>Glucose: 148.0</br>BloodPressure: 72.0</br>BMI: 33.6</br>DiabetesPedigreeFunction: 0.627</br>Age: 50.0</br>"
          ],
          [
           "</br>id: rks</br>prediction: 0.999</br>Pregnancies: 9.75</br></br>Glucose: 148.0</br>BloodPressure: 72.0</br>BMI: 33.6</br>DiabetesPedigreeFunction: 0.627</br>Age: 50.0</br>"
          ],
          [
           "</br>id: rks</br>prediction: 1.0</br>Pregnancies: 9.88</br></br>Glucose: 148.0</br>BloodPressure: 72.0</br>BMI: 33.6</br>DiabetesPedigreeFunction: 0.627</br>Age: 50.0</br>"
          ],
          [
           "</br>id: rks</br>prediction: 1.0</br>Pregnancies: 10.01</br></br>Glucose: 148.0</br>BloodPressure: 72.0</br>BMI: 33.6</br>DiabetesPedigreeFunction: 0.627</br>Age: 50.0</br>"
          ],
          [
           "</br>id: rks</br>prediction: 1.0</br>Pregnancies: 10.14</br></br>Glucose: 148.0</br>BloodPressure: 72.0</br>BMI: 33.6</br>DiabetesPedigreeFunction: 0.627</br>Age: 50.0</br>"
          ],
          [
           "</br>id: rks</br>prediction: 1.0</br>Pregnancies: 10.27</br></br>Glucose: 148.0</br>BloodPressure: 72.0</br>BMI: 33.6</br>DiabetesPedigreeFunction: 0.627</br>Age: 50.0</br>"
          ],
          [
           "</br>id: rks</br>prediction: 1.0</br>Pregnancies: 10.4</br></br>Glucose: 148.0</br>BloodPressure: 72.0</br>BMI: 33.6</br>DiabetesPedigreeFunction: 0.627</br>Age: 50.0</br>"
          ],
          [
           "</br>id: rks</br>prediction: 1.0</br>Pregnancies: 10.530000000000001</br></br>Glucose: 148.0</br>BloodPressure: 72.0</br>BMI: 33.6</br>DiabetesPedigreeFunction: 0.627</br>Age: 50.0</br>"
          ],
          [
           "</br>id: rks</br>prediction: 1.0</br>Pregnancies: 10.66</br></br>Glucose: 148.0</br>BloodPressure: 72.0</br>BMI: 33.6</br>DiabetesPedigreeFunction: 0.627</br>Age: 50.0</br>"
          ],
          [
           "</br>id: rks</br>prediction: 1.0</br>Pregnancies: 10.790000000000001</br></br>Glucose: 148.0</br>BloodPressure: 72.0</br>BMI: 33.6</br>DiabetesPedigreeFunction: 0.627</br>Age: 50.0</br>"
          ],
          [
           "</br>id: rks</br>prediction: 1.0</br>Pregnancies: 10.92</br></br>Glucose: 148.0</br>BloodPressure: 72.0</br>BMI: 33.6</br>DiabetesPedigreeFunction: 0.627</br>Age: 50.0</br>"
          ],
          [
           "</br>id: rks</br>prediction: 1.0</br>Pregnancies: 11.05</br></br>Glucose: 148.0</br>BloodPressure: 72.0</br>BMI: 33.6</br>DiabetesPedigreeFunction: 0.627</br>Age: 50.0</br>"
          ],
          [
           "</br>id: rks</br>prediction: 1.0</br>Pregnancies: 11.18</br></br>Glucose: 148.0</br>BloodPressure: 72.0</br>BMI: 33.6</br>DiabetesPedigreeFunction: 0.627</br>Age: 50.0</br>"
          ],
          [
           "</br>id: rks</br>prediction: 1.0</br>Pregnancies: 11.31</br></br>Glucose: 148.0</br>BloodPressure: 72.0</br>BMI: 33.6</br>DiabetesPedigreeFunction: 0.627</br>Age: 50.0</br>"
          ],
          [
           "</br>id: rks</br>prediction: 1.0</br>Pregnancies: 11.440000000000001</br></br>Glucose: 148.0</br>BloodPressure: 72.0</br>BMI: 33.6</br>DiabetesPedigreeFunction: 0.627</br>Age: 50.0</br>"
          ],
          [
           "</br>id: rks</br>prediction: 1.0</br>Pregnancies: 11.57</br></br>Glucose: 148.0</br>BloodPressure: 72.0</br>BMI: 33.6</br>DiabetesPedigreeFunction: 0.627</br>Age: 50.0</br>"
          ],
          [
           "</br>id: rks</br>prediction: 1.0</br>Pregnancies: 11.700000000000001</br></br>Glucose: 148.0</br>BloodPressure: 72.0</br>BMI: 33.6</br>DiabetesPedigreeFunction: 0.627</br>Age: 50.0</br>"
          ],
          [
           "</br>id: rks</br>prediction: 1.0</br>Pregnancies: 11.83</br></br>Glucose: 148.0</br>BloodPressure: 72.0</br>BMI: 33.6</br>DiabetesPedigreeFunction: 0.627</br>Age: 50.0</br>"
          ],
          [
           "</br>id: rks</br>prediction: 1.0</br>Pregnancies: 11.96</br></br>Glucose: 148.0</br>BloodPressure: 72.0</br>BMI: 33.6</br>DiabetesPedigreeFunction: 0.627</br>Age: 50.0</br>"
          ],
          [
           "</br>id: rks</br>prediction: 1.0</br>Pregnancies: 12.09</br></br>Glucose: 148.0</br>BloodPressure: 72.0</br>BMI: 33.6</br>DiabetesPedigreeFunction: 0.627</br>Age: 50.0</br>"
          ],
          [
           "</br>id: rks</br>prediction: 1.0</br>Pregnancies: 12.22</br></br>Glucose: 148.0</br>BloodPressure: 72.0</br>BMI: 33.6</br>DiabetesPedigreeFunction: 0.627</br>Age: 50.0</br>"
          ],
          [
           "</br>id: rks</br>prediction: 1.0</br>Pregnancies: 12.35</br></br>Glucose: 148.0</br>BloodPressure: 72.0</br>BMI: 33.6</br>DiabetesPedigreeFunction: 0.627</br>Age: 50.0</br>"
          ],
          [
           "</br>id: rks</br>prediction: 1.0</br>Pregnancies: 12.48</br></br>Glucose: 148.0</br>BloodPressure: 72.0</br>BMI: 33.6</br>DiabetesPedigreeFunction: 0.627</br>Age: 50.0</br>"
          ],
          [
           "</br>id: rks</br>prediction: 1.0</br>Pregnancies: 12.610000000000001</br></br>Glucose: 148.0</br>BloodPressure: 72.0</br>BMI: 33.6</br>DiabetesPedigreeFunction: 0.627</br>Age: 50.0</br>"
          ],
          [
           "</br>id: rks</br>prediction: 1.0</br>Pregnancies: 12.74</br></br>Glucose: 148.0</br>BloodPressure: 72.0</br>BMI: 33.6</br>DiabetesPedigreeFunction: 0.627</br>Age: 50.0</br>"
          ],
          [
           "</br>id: rks</br>prediction: 1.0</br>Pregnancies: 12.870000000000001</br></br>Glucose: 148.0</br>BloodPressure: 72.0</br>BMI: 33.6</br>DiabetesPedigreeFunction: 0.627</br>Age: 50.0</br>"
          ],
          [
           "</br>id: rks</br>prediction: 1.0</br>Pregnancies: 13.0</br></br>Glucose: 148.0</br>BloodPressure: 72.0</br>BMI: 33.6</br>DiabetesPedigreeFunction: 0.627</br>Age: 50.0</br>"
          ]
         ],
         "hovertemplate": "%{customdata[0]}<extra></extra>",
         "legendgroup": "PimaIndians MLP Pipeline",
         "line": {
          "color": "#46bac2",
          "dash": "solid",
          "width": 2
         },
         "mode": "lines",
         "name": "PimaIndians MLP Pipeline",
         "opacity": 1,
         "orientation": "v",
         "showlegend": true,
         "type": "scatter",
         "x": [
          0,
          0.13,
          0.26,
          0.39,
          0.52,
          0.65,
          0.78,
          0.91,
          1.04,
          1.17,
          1.3,
          1.4300000000000002,
          1.56,
          1.69,
          1.82,
          1.9500000000000002,
          2.08,
          2.21,
          2.34,
          2.47,
          2.6,
          2.73,
          2.8600000000000003,
          2.99,
          3.12,
          3.25,
          3.38,
          3.5100000000000002,
          3.64,
          3.77,
          3.9000000000000004,
          4.03,
          4.16,
          4.29,
          4.42,
          4.55,
          4.68,
          4.8100000000000005,
          4.94,
          5.07,
          5.2,
          5.33,
          5.46,
          5.59,
          5.720000000000001,
          5.8500000000000005,
          5.98,
          6,
          6.11,
          6.24,
          6.37,
          6.5,
          6.63,
          6.76,
          6.890000000000001,
          7.0200000000000005,
          7.15,
          7.28,
          7.41,
          7.54,
          7.67,
          7.800000000000001,
          7.930000000000001,
          8.06,
          8.19,
          8.32,
          8.450000000000001,
          8.58,
          8.71,
          8.84,
          8.97,
          9.1,
          9.23,
          9.36,
          9.49,
          9.620000000000001,
          9.75,
          9.88,
          10.01,
          10.14,
          10.27,
          10.4,
          10.530000000000001,
          10.66,
          10.790000000000001,
          10.92,
          11.05,
          11.18,
          11.31,
          11.440000000000001,
          11.57,
          11.700000000000001,
          11.83,
          11.96,
          12.09,
          12.22,
          12.35,
          12.48,
          12.610000000000001,
          12.74,
          12.870000000000001,
          13
         ],
         "xaxis": "x",
         "y": [
          0.999131450782161,
          0.9989724844102149,
          0.9987861116982168,
          0.9985627785517036,
          0.9982673383548728,
          0.9979469077122387,
          0.9976570185254284,
          0.9973743492669309,
          0.9971578591205708,
          0.9969285908787661,
          0.9967275440208176,
          0.9965866151393213,
          0.9962622232904448,
          0.9956190228965771,
          0.9946081558484098,
          0.9935002680080102,
          0.9923509756653531,
          0.9910003046095275,
          0.9893272002191109,
          0.9873420033308947,
          0.9854261887466792,
          0.9834817944831068,
          0.9812445766028883,
          0.9799451882639516,
          0.9785953630673132,
          0.9775290121285723,
          0.977625631234256,
          0.9773361410787204,
          0.976655016724063,
          0.9756015404483613,
          0.9744241368680089,
          0.9730744746489883,
          0.9714081749220177,
          0.9703398387842341,
          0.9693627035589508,
          0.9687275349627655,
          0.9679615652153987,
          0.9660123387913852,
          0.9637237785701109,
          0.9615744269149261,
          0.9604900694359213,
          0.9607092224721387,
          0.961598283055227,
          0.9639654749824476,
          0.9674559319806241,
          0.9700024074434707,
          0.9719513541808478,
          0.9721836813115706,
          0.9730171021899823,
          0.9736983669177238,
          0.9741569682718111,
          0.9757003939401433,
          0.9779274455475808,
          0.9795130231817888,
          0.9801929022971794,
          0.9801723418749018,
          0.980096087422363,
          0.981657383165318,
          0.9831679997342233,
          0.9850459495951587,
          0.9866880499571125,
          0.9881304794750475,
          0.9894643317594927,
          0.9912206061570005,
          0.992512846010136,
          0.9935500862113549,
          0.9945719675781458,
          0.9955258638638042,
          0.9963783135774347,
          0.9971207509616581,
          0.997755290147328,
          0.9982789741559042,
          0.9986452908865514,
          0.9989206322270122,
          0.9991430356489613,
          0.9993253890638288,
          0.9994651698843113,
          0.9995814327021367,
          0.9996737125954082,
          0.9997465830158797,
          0.9998041321919877,
          0.9998488462057079,
          0.9998840362787751,
          0.9999120972875073,
          0.999933368519836,
          0.9999494926701565,
          0.9999616259984239,
          0.9999710116595366,
          0.9999781690170845,
          0.9999832392442564,
          0.9999868852698994,
          0.9999895057138977,
          0.9999915585820369,
          0.9999932098755534,
          0.9999945381480567,
          0.9999955942468302,
          0.9999964351701507,
          0.999997115587432,
          0.9999976674784682,
          0.9999981126280814,
          0.9999984705038744,
          0.9999987605207978
         ],
         "yaxis": "y"
        },
        {
         "customdata": [
          [
           "</br>id: rks</br>prediction: 0.972</br>Pregnancies: 6.0</br></br>Glucose: 148.0</br>BloodPressure: 72.0</br>BMI: 33.6</br>DiabetesPedigreeFunction: 0.627</br>Age: 50.0</br>"
          ]
         ],
         "hovertemplate": "%{customdata[0]}<extra></extra>",
         "legendgroup": "",
         "marker": {
          "color": "#371ea3",
          "size": 10,
          "symbol": "circle"
         },
         "mode": "markers",
         "name": "",
         "opacity": 1,
         "orientation": "v",
         "showlegend": false,
         "type": "scatter",
         "x": [
          6
         ],
         "xaxis": "x",
         "y": [
          0.9721836813115706
         ],
         "yaxis": "y"
        }
       ],
       "layout": {
        "annotations": [
         {
          "font": {
           "size": 13
          },
          "showarrow": false,
          "text": "Pregnancies",
          "x": 0.5,
          "xanchor": "center",
          "xref": "paper",
          "y": 1,
          "yanchor": "bottom",
          "yref": "paper"
         },
         {
          "font": {
           "size": 13
          },
          "showarrow": false,
          "text": "prediction",
          "textangle": -90,
          "x": -0.07,
          "xref": "paper",
          "y": 0.5,
          "yref": "paper"
         }
        ],
        "font": {
         "color": "#371ea3"
        },
        "height": 489,
        "hoverlabel": {
         "bgcolor": "rgba(0,0,0,0.8)"
        },
        "hovermode": "closest",
        "legend": {
         "font": {
          "size": 11
         },
         "itemsizing": "constant",
         "orientation": "h",
         "title": {
          "font": {
           "size": 12
          },
          "text": "label"
         },
         "tracegroupgap": 0,
         "x": 1,
         "xanchor": "right",
         "y": 1.0613496932515338,
         "yanchor": "bottom"
        },
        "margin": {
         "b": 71,
         "r": 30,
         "t": 78
        },
        "template": {
         "data": {
          "scatter": [
           {
            "type": "scatter"
           }
          ]
         }
        },
        "title": {
         "font": {
          "size": 16
         },
         "text": "Ceteris Paribus Profiles",
         "x": 0.15
        },
        "xaxis": {
         "anchor": "y",
         "automargin": true,
         "domain": [
          0,
          1
         ],
         "fixedrange": true,
         "gridwidth": 2,
         "showticklabels": true,
         "tickcolor": "white",
         "ticklen": 3,
         "ticks": "outside",
         "title": {
          "text": ""
         },
         "type": "linear",
         "zeroline": false
        },
        "yaxis": {
         "anchor": "x",
         "automargin": true,
         "domain": [
          0,
          1
         ],
         "fixedrange": true,
         "gridwidth": 2,
         "range": [
          0.9565392003274337,
          1.0039496296292856
         ],
         "tickcolor": "white",
         "ticklen": 3,
         "ticks": "outside",
         "title": {
          "text": ""
         },
         "type": "linear",
         "zeroline": false
        }
       }
      },
      "text/html": [
       "<div>\n",
       "        \n",
       "        \n",
       "            <div id=\"4af69e1c-4332-4527-b9ac-d28155c3f536\" class=\"plotly-graph-div\" style=\"height:489px; width:100%;\"></div>\n",
       "            <script type=\"text/javascript\">\n",
       "                require([\"plotly\"], function(Plotly) {\n",
       "                    window.PLOTLYENV=window.PLOTLYENV || {};\n",
       "                    \n",
       "                if (document.getElementById(\"4af69e1c-4332-4527-b9ac-d28155c3f536\")) {\n",
       "                    Plotly.newPlot(\n",
       "                        '4af69e1c-4332-4527-b9ac-d28155c3f536',\n",
       "                        [{\"customdata\": [[\"</br>id: rks</br>prediction: 0.999</br>Pregnancies: 0.0</br></br>Glucose: 148.0</br>BloodPressure: 72.0</br>BMI: 33.6</br>DiabetesPedigreeFunction: 0.627</br>Age: 50.0</br>\"], [\"</br>id: rks</br>prediction: 0.999</br>Pregnancies: 0.13</br></br>Glucose: 148.0</br>BloodPressure: 72.0</br>BMI: 33.6</br>DiabetesPedigreeFunction: 0.627</br>Age: 50.0</br>\"], [\"</br>id: rks</br>prediction: 0.999</br>Pregnancies: 0.26</br></br>Glucose: 148.0</br>BloodPressure: 72.0</br>BMI: 33.6</br>DiabetesPedigreeFunction: 0.627</br>Age: 50.0</br>\"], [\"</br>id: rks</br>prediction: 0.999</br>Pregnancies: 0.39</br></br>Glucose: 148.0</br>BloodPressure: 72.0</br>BMI: 33.6</br>DiabetesPedigreeFunction: 0.627</br>Age: 50.0</br>\"], [\"</br>id: rks</br>prediction: 0.998</br>Pregnancies: 0.52</br></br>Glucose: 148.0</br>BloodPressure: 72.0</br>BMI: 33.6</br>DiabetesPedigreeFunction: 0.627</br>Age: 50.0</br>\"], [\"</br>id: rks</br>prediction: 0.998</br>Pregnancies: 0.65</br></br>Glucose: 148.0</br>BloodPressure: 72.0</br>BMI: 33.6</br>DiabetesPedigreeFunction: 0.627</br>Age: 50.0</br>\"], [\"</br>id: rks</br>prediction: 0.998</br>Pregnancies: 0.78</br></br>Glucose: 148.0</br>BloodPressure: 72.0</br>BMI: 33.6</br>DiabetesPedigreeFunction: 0.627</br>Age: 50.0</br>\"], [\"</br>id: rks</br>prediction: 0.997</br>Pregnancies: 0.91</br></br>Glucose: 148.0</br>BloodPressure: 72.0</br>BMI: 33.6</br>DiabetesPedigreeFunction: 0.627</br>Age: 50.0</br>\"], [\"</br>id: rks</br>prediction: 0.997</br>Pregnancies: 1.04</br></br>Glucose: 148.0</br>BloodPressure: 72.0</br>BMI: 33.6</br>DiabetesPedigreeFunction: 0.627</br>Age: 50.0</br>\"], [\"</br>id: rks</br>prediction: 0.997</br>Pregnancies: 1.17</br></br>Glucose: 148.0</br>BloodPressure: 72.0</br>BMI: 33.6</br>DiabetesPedigreeFunction: 0.627</br>Age: 50.0</br>\"], [\"</br>id: rks</br>prediction: 0.997</br>Pregnancies: 1.3</br></br>Glucose: 148.0</br>BloodPressure: 72.0</br>BMI: 33.6</br>DiabetesPedigreeFunction: 0.627</br>Age: 50.0</br>\"], [\"</br>id: rks</br>prediction: 0.997</br>Pregnancies: 1.4300000000000002</br></br>Glucose: 148.0</br>BloodPressure: 72.0</br>BMI: 33.6</br>DiabetesPedigreeFunction: 0.627</br>Age: 50.0</br>\"], [\"</br>id: rks</br>prediction: 0.996</br>Pregnancies: 1.56</br></br>Glucose: 148.0</br>BloodPressure: 72.0</br>BMI: 33.6</br>DiabetesPedigreeFunction: 0.627</br>Age: 50.0</br>\"], [\"</br>id: rks</br>prediction: 0.996</br>Pregnancies: 1.69</br></br>Glucose: 148.0</br>BloodPressure: 72.0</br>BMI: 33.6</br>DiabetesPedigreeFunction: 0.627</br>Age: 50.0</br>\"], [\"</br>id: rks</br>prediction: 0.995</br>Pregnancies: 1.82</br></br>Glucose: 148.0</br>BloodPressure: 72.0</br>BMI: 33.6</br>DiabetesPedigreeFunction: 0.627</br>Age: 50.0</br>\"], [\"</br>id: rks</br>prediction: 0.994</br>Pregnancies: 1.9500000000000002</br></br>Glucose: 148.0</br>BloodPressure: 72.0</br>BMI: 33.6</br>DiabetesPedigreeFunction: 0.627</br>Age: 50.0</br>\"], [\"</br>id: rks</br>prediction: 0.992</br>Pregnancies: 2.08</br></br>Glucose: 148.0</br>BloodPressure: 72.0</br>BMI: 33.6</br>DiabetesPedigreeFunction: 0.627</br>Age: 50.0</br>\"], [\"</br>id: rks</br>prediction: 0.991</br>Pregnancies: 2.21</br></br>Glucose: 148.0</br>BloodPressure: 72.0</br>BMI: 33.6</br>DiabetesPedigreeFunction: 0.627</br>Age: 50.0</br>\"], [\"</br>id: rks</br>prediction: 0.989</br>Pregnancies: 2.34</br></br>Glucose: 148.0</br>BloodPressure: 72.0</br>BMI: 33.6</br>DiabetesPedigreeFunction: 0.627</br>Age: 50.0</br>\"], [\"</br>id: rks</br>prediction: 0.987</br>Pregnancies: 2.47</br></br>Glucose: 148.0</br>BloodPressure: 72.0</br>BMI: 33.6</br>DiabetesPedigreeFunction: 0.627</br>Age: 50.0</br>\"], [\"</br>id: rks</br>prediction: 0.985</br>Pregnancies: 2.6</br></br>Glucose: 148.0</br>BloodPressure: 72.0</br>BMI: 33.6</br>DiabetesPedigreeFunction: 0.627</br>Age: 50.0</br>\"], [\"</br>id: rks</br>prediction: 0.983</br>Pregnancies: 2.73</br></br>Glucose: 148.0</br>BloodPressure: 72.0</br>BMI: 33.6</br>DiabetesPedigreeFunction: 0.627</br>Age: 50.0</br>\"], [\"</br>id: rks</br>prediction: 0.981</br>Pregnancies: 2.8600000000000003</br></br>Glucose: 148.0</br>BloodPressure: 72.0</br>BMI: 33.6</br>DiabetesPedigreeFunction: 0.627</br>Age: 50.0</br>\"], [\"</br>id: rks</br>prediction: 0.98</br>Pregnancies: 2.99</br></br>Glucose: 148.0</br>BloodPressure: 72.0</br>BMI: 33.6</br>DiabetesPedigreeFunction: 0.627</br>Age: 50.0</br>\"], [\"</br>id: rks</br>prediction: 0.979</br>Pregnancies: 3.12</br></br>Glucose: 148.0</br>BloodPressure: 72.0</br>BMI: 33.6</br>DiabetesPedigreeFunction: 0.627</br>Age: 50.0</br>\"], [\"</br>id: rks</br>prediction: 0.978</br>Pregnancies: 3.25</br></br>Glucose: 148.0</br>BloodPressure: 72.0</br>BMI: 33.6</br>DiabetesPedigreeFunction: 0.627</br>Age: 50.0</br>\"], [\"</br>id: rks</br>prediction: 0.978</br>Pregnancies: 3.38</br></br>Glucose: 148.0</br>BloodPressure: 72.0</br>BMI: 33.6</br>DiabetesPedigreeFunction: 0.627</br>Age: 50.0</br>\"], [\"</br>id: rks</br>prediction: 0.977</br>Pregnancies: 3.5100000000000002</br></br>Glucose: 148.0</br>BloodPressure: 72.0</br>BMI: 33.6</br>DiabetesPedigreeFunction: 0.627</br>Age: 50.0</br>\"], [\"</br>id: rks</br>prediction: 0.977</br>Pregnancies: 3.64</br></br>Glucose: 148.0</br>BloodPressure: 72.0</br>BMI: 33.6</br>DiabetesPedigreeFunction: 0.627</br>Age: 50.0</br>\"], [\"</br>id: rks</br>prediction: 0.976</br>Pregnancies: 3.77</br></br>Glucose: 148.0</br>BloodPressure: 72.0</br>BMI: 33.6</br>DiabetesPedigreeFunction: 0.627</br>Age: 50.0</br>\"], [\"</br>id: rks</br>prediction: 0.974</br>Pregnancies: 3.9000000000000004</br></br>Glucose: 148.0</br>BloodPressure: 72.0</br>BMI: 33.6</br>DiabetesPedigreeFunction: 0.627</br>Age: 50.0</br>\"], [\"</br>id: rks</br>prediction: 0.973</br>Pregnancies: 4.03</br></br>Glucose: 148.0</br>BloodPressure: 72.0</br>BMI: 33.6</br>DiabetesPedigreeFunction: 0.627</br>Age: 50.0</br>\"], [\"</br>id: rks</br>prediction: 0.971</br>Pregnancies: 4.16</br></br>Glucose: 148.0</br>BloodPressure: 72.0</br>BMI: 33.6</br>DiabetesPedigreeFunction: 0.627</br>Age: 50.0</br>\"], [\"</br>id: rks</br>prediction: 0.97</br>Pregnancies: 4.29</br></br>Glucose: 148.0</br>BloodPressure: 72.0</br>BMI: 33.6</br>DiabetesPedigreeFunction: 0.627</br>Age: 50.0</br>\"], [\"</br>id: rks</br>prediction: 0.969</br>Pregnancies: 4.42</br></br>Glucose: 148.0</br>BloodPressure: 72.0</br>BMI: 33.6</br>DiabetesPedigreeFunction: 0.627</br>Age: 50.0</br>\"], [\"</br>id: rks</br>prediction: 0.969</br>Pregnancies: 4.55</br></br>Glucose: 148.0</br>BloodPressure: 72.0</br>BMI: 33.6</br>DiabetesPedigreeFunction: 0.627</br>Age: 50.0</br>\"], [\"</br>id: rks</br>prediction: 0.968</br>Pregnancies: 4.68</br></br>Glucose: 148.0</br>BloodPressure: 72.0</br>BMI: 33.6</br>DiabetesPedigreeFunction: 0.627</br>Age: 50.0</br>\"], [\"</br>id: rks</br>prediction: 0.966</br>Pregnancies: 4.8100000000000005</br></br>Glucose: 148.0</br>BloodPressure: 72.0</br>BMI: 33.6</br>DiabetesPedigreeFunction: 0.627</br>Age: 50.0</br>\"], [\"</br>id: rks</br>prediction: 0.964</br>Pregnancies: 4.94</br></br>Glucose: 148.0</br>BloodPressure: 72.0</br>BMI: 33.6</br>DiabetesPedigreeFunction: 0.627</br>Age: 50.0</br>\"], [\"</br>id: rks</br>prediction: 0.962</br>Pregnancies: 5.07</br></br>Glucose: 148.0</br>BloodPressure: 72.0</br>BMI: 33.6</br>DiabetesPedigreeFunction: 0.627</br>Age: 50.0</br>\"], [\"</br>id: rks</br>prediction: 0.96</br>Pregnancies: 5.2</br></br>Glucose: 148.0</br>BloodPressure: 72.0</br>BMI: 33.6</br>DiabetesPedigreeFunction: 0.627</br>Age: 50.0</br>\"], [\"</br>id: rks</br>prediction: 0.961</br>Pregnancies: 5.33</br></br>Glucose: 148.0</br>BloodPressure: 72.0</br>BMI: 33.6</br>DiabetesPedigreeFunction: 0.627</br>Age: 50.0</br>\"], [\"</br>id: rks</br>prediction: 0.962</br>Pregnancies: 5.46</br></br>Glucose: 148.0</br>BloodPressure: 72.0</br>BMI: 33.6</br>DiabetesPedigreeFunction: 0.627</br>Age: 50.0</br>\"], [\"</br>id: rks</br>prediction: 0.964</br>Pregnancies: 5.59</br></br>Glucose: 148.0</br>BloodPressure: 72.0</br>BMI: 33.6</br>DiabetesPedigreeFunction: 0.627</br>Age: 50.0</br>\"], [\"</br>id: rks</br>prediction: 0.967</br>Pregnancies: 5.720000000000001</br></br>Glucose: 148.0</br>BloodPressure: 72.0</br>BMI: 33.6</br>DiabetesPedigreeFunction: 0.627</br>Age: 50.0</br>\"], [\"</br>id: rks</br>prediction: 0.97</br>Pregnancies: 5.8500000000000005</br></br>Glucose: 148.0</br>BloodPressure: 72.0</br>BMI: 33.6</br>DiabetesPedigreeFunction: 0.627</br>Age: 50.0</br>\"], [\"</br>id: rks</br>prediction: 0.972</br>Pregnancies: 5.98</br></br>Glucose: 148.0</br>BloodPressure: 72.0</br>BMI: 33.6</br>DiabetesPedigreeFunction: 0.627</br>Age: 50.0</br>\"], [\"</br>id: rks</br>prediction: 0.972</br>Pregnancies: 6.0</br></br>Glucose: 148.0</br>BloodPressure: 72.0</br>BMI: 33.6</br>DiabetesPedigreeFunction: 0.627</br>Age: 50.0</br>\"], [\"</br>id: rks</br>prediction: 0.973</br>Pregnancies: 6.11</br></br>Glucose: 148.0</br>BloodPressure: 72.0</br>BMI: 33.6</br>DiabetesPedigreeFunction: 0.627</br>Age: 50.0</br>\"], [\"</br>id: rks</br>prediction: 0.974</br>Pregnancies: 6.24</br></br>Glucose: 148.0</br>BloodPressure: 72.0</br>BMI: 33.6</br>DiabetesPedigreeFunction: 0.627</br>Age: 50.0</br>\"], [\"</br>id: rks</br>prediction: 0.974</br>Pregnancies: 6.37</br></br>Glucose: 148.0</br>BloodPressure: 72.0</br>BMI: 33.6</br>DiabetesPedigreeFunction: 0.627</br>Age: 50.0</br>\"], [\"</br>id: rks</br>prediction: 0.976</br>Pregnancies: 6.5</br></br>Glucose: 148.0</br>BloodPressure: 72.0</br>BMI: 33.6</br>DiabetesPedigreeFunction: 0.627</br>Age: 50.0</br>\"], [\"</br>id: rks</br>prediction: 0.978</br>Pregnancies: 6.63</br></br>Glucose: 148.0</br>BloodPressure: 72.0</br>BMI: 33.6</br>DiabetesPedigreeFunction: 0.627</br>Age: 50.0</br>\"], [\"</br>id: rks</br>prediction: 0.98</br>Pregnancies: 6.76</br></br>Glucose: 148.0</br>BloodPressure: 72.0</br>BMI: 33.6</br>DiabetesPedigreeFunction: 0.627</br>Age: 50.0</br>\"], [\"</br>id: rks</br>prediction: 0.98</br>Pregnancies: 6.890000000000001</br></br>Glucose: 148.0</br>BloodPressure: 72.0</br>BMI: 33.6</br>DiabetesPedigreeFunction: 0.627</br>Age: 50.0</br>\"], [\"</br>id: rks</br>prediction: 0.98</br>Pregnancies: 7.0200000000000005</br></br>Glucose: 148.0</br>BloodPressure: 72.0</br>BMI: 33.6</br>DiabetesPedigreeFunction: 0.627</br>Age: 50.0</br>\"], [\"</br>id: rks</br>prediction: 0.98</br>Pregnancies: 7.15</br></br>Glucose: 148.0</br>BloodPressure: 72.0</br>BMI: 33.6</br>DiabetesPedigreeFunction: 0.627</br>Age: 50.0</br>\"], [\"</br>id: rks</br>prediction: 0.982</br>Pregnancies: 7.28</br></br>Glucose: 148.0</br>BloodPressure: 72.0</br>BMI: 33.6</br>DiabetesPedigreeFunction: 0.627</br>Age: 50.0</br>\"], [\"</br>id: rks</br>prediction: 0.983</br>Pregnancies: 7.41</br></br>Glucose: 148.0</br>BloodPressure: 72.0</br>BMI: 33.6</br>DiabetesPedigreeFunction: 0.627</br>Age: 50.0</br>\"], [\"</br>id: rks</br>prediction: 0.985</br>Pregnancies: 7.54</br></br>Glucose: 148.0</br>BloodPressure: 72.0</br>BMI: 33.6</br>DiabetesPedigreeFunction: 0.627</br>Age: 50.0</br>\"], [\"</br>id: rks</br>prediction: 0.987</br>Pregnancies: 7.67</br></br>Glucose: 148.0</br>BloodPressure: 72.0</br>BMI: 33.6</br>DiabetesPedigreeFunction: 0.627</br>Age: 50.0</br>\"], [\"</br>id: rks</br>prediction: 0.988</br>Pregnancies: 7.800000000000001</br></br>Glucose: 148.0</br>BloodPressure: 72.0</br>BMI: 33.6</br>DiabetesPedigreeFunction: 0.627</br>Age: 50.0</br>\"], [\"</br>id: rks</br>prediction: 0.989</br>Pregnancies: 7.930000000000001</br></br>Glucose: 148.0</br>BloodPressure: 72.0</br>BMI: 33.6</br>DiabetesPedigreeFunction: 0.627</br>Age: 50.0</br>\"], [\"</br>id: rks</br>prediction: 0.991</br>Pregnancies: 8.06</br></br>Glucose: 148.0</br>BloodPressure: 72.0</br>BMI: 33.6</br>DiabetesPedigreeFunction: 0.627</br>Age: 50.0</br>\"], [\"</br>id: rks</br>prediction: 0.993</br>Pregnancies: 8.19</br></br>Glucose: 148.0</br>BloodPressure: 72.0</br>BMI: 33.6</br>DiabetesPedigreeFunction: 0.627</br>Age: 50.0</br>\"], [\"</br>id: rks</br>prediction: 0.994</br>Pregnancies: 8.32</br></br>Glucose: 148.0</br>BloodPressure: 72.0</br>BMI: 33.6</br>DiabetesPedigreeFunction: 0.627</br>Age: 50.0</br>\"], [\"</br>id: rks</br>prediction: 0.995</br>Pregnancies: 8.450000000000001</br></br>Glucose: 148.0</br>BloodPressure: 72.0</br>BMI: 33.6</br>DiabetesPedigreeFunction: 0.627</br>Age: 50.0</br>\"], [\"</br>id: rks</br>prediction: 0.996</br>Pregnancies: 8.58</br></br>Glucose: 148.0</br>BloodPressure: 72.0</br>BMI: 33.6</br>DiabetesPedigreeFunction: 0.627</br>Age: 50.0</br>\"], [\"</br>id: rks</br>prediction: 0.996</br>Pregnancies: 8.71</br></br>Glucose: 148.0</br>BloodPressure: 72.0</br>BMI: 33.6</br>DiabetesPedigreeFunction: 0.627</br>Age: 50.0</br>\"], [\"</br>id: rks</br>prediction: 0.997</br>Pregnancies: 8.84</br></br>Glucose: 148.0</br>BloodPressure: 72.0</br>BMI: 33.6</br>DiabetesPedigreeFunction: 0.627</br>Age: 50.0</br>\"], [\"</br>id: rks</br>prediction: 0.998</br>Pregnancies: 8.97</br></br>Glucose: 148.0</br>BloodPressure: 72.0</br>BMI: 33.6</br>DiabetesPedigreeFunction: 0.627</br>Age: 50.0</br>\"], [\"</br>id: rks</br>prediction: 0.998</br>Pregnancies: 9.1</br></br>Glucose: 148.0</br>BloodPressure: 72.0</br>BMI: 33.6</br>DiabetesPedigreeFunction: 0.627</br>Age: 50.0</br>\"], [\"</br>id: rks</br>prediction: 0.999</br>Pregnancies: 9.23</br></br>Glucose: 148.0</br>BloodPressure: 72.0</br>BMI: 33.6</br>DiabetesPedigreeFunction: 0.627</br>Age: 50.0</br>\"], [\"</br>id: rks</br>prediction: 0.999</br>Pregnancies: 9.36</br></br>Glucose: 148.0</br>BloodPressure: 72.0</br>BMI: 33.6</br>DiabetesPedigreeFunction: 0.627</br>Age: 50.0</br>\"], [\"</br>id: rks</br>prediction: 0.999</br>Pregnancies: 9.49</br></br>Glucose: 148.0</br>BloodPressure: 72.0</br>BMI: 33.6</br>DiabetesPedigreeFunction: 0.627</br>Age: 50.0</br>\"], [\"</br>id: rks</br>prediction: 0.999</br>Pregnancies: 9.620000000000001</br></br>Glucose: 148.0</br>BloodPressure: 72.0</br>BMI: 33.6</br>DiabetesPedigreeFunction: 0.627</br>Age: 50.0</br>\"], [\"</br>id: rks</br>prediction: 0.999</br>Pregnancies: 9.75</br></br>Glucose: 148.0</br>BloodPressure: 72.0</br>BMI: 33.6</br>DiabetesPedigreeFunction: 0.627</br>Age: 50.0</br>\"], [\"</br>id: rks</br>prediction: 1.0</br>Pregnancies: 9.88</br></br>Glucose: 148.0</br>BloodPressure: 72.0</br>BMI: 33.6</br>DiabetesPedigreeFunction: 0.627</br>Age: 50.0</br>\"], [\"</br>id: rks</br>prediction: 1.0</br>Pregnancies: 10.01</br></br>Glucose: 148.0</br>BloodPressure: 72.0</br>BMI: 33.6</br>DiabetesPedigreeFunction: 0.627</br>Age: 50.0</br>\"], [\"</br>id: rks</br>prediction: 1.0</br>Pregnancies: 10.14</br></br>Glucose: 148.0</br>BloodPressure: 72.0</br>BMI: 33.6</br>DiabetesPedigreeFunction: 0.627</br>Age: 50.0</br>\"], [\"</br>id: rks</br>prediction: 1.0</br>Pregnancies: 10.27</br></br>Glucose: 148.0</br>BloodPressure: 72.0</br>BMI: 33.6</br>DiabetesPedigreeFunction: 0.627</br>Age: 50.0</br>\"], [\"</br>id: rks</br>prediction: 1.0</br>Pregnancies: 10.4</br></br>Glucose: 148.0</br>BloodPressure: 72.0</br>BMI: 33.6</br>DiabetesPedigreeFunction: 0.627</br>Age: 50.0</br>\"], [\"</br>id: rks</br>prediction: 1.0</br>Pregnancies: 10.530000000000001</br></br>Glucose: 148.0</br>BloodPressure: 72.0</br>BMI: 33.6</br>DiabetesPedigreeFunction: 0.627</br>Age: 50.0</br>\"], [\"</br>id: rks</br>prediction: 1.0</br>Pregnancies: 10.66</br></br>Glucose: 148.0</br>BloodPressure: 72.0</br>BMI: 33.6</br>DiabetesPedigreeFunction: 0.627</br>Age: 50.0</br>\"], [\"</br>id: rks</br>prediction: 1.0</br>Pregnancies: 10.790000000000001</br></br>Glucose: 148.0</br>BloodPressure: 72.0</br>BMI: 33.6</br>DiabetesPedigreeFunction: 0.627</br>Age: 50.0</br>\"], [\"</br>id: rks</br>prediction: 1.0</br>Pregnancies: 10.92</br></br>Glucose: 148.0</br>BloodPressure: 72.0</br>BMI: 33.6</br>DiabetesPedigreeFunction: 0.627</br>Age: 50.0</br>\"], [\"</br>id: rks</br>prediction: 1.0</br>Pregnancies: 11.05</br></br>Glucose: 148.0</br>BloodPressure: 72.0</br>BMI: 33.6</br>DiabetesPedigreeFunction: 0.627</br>Age: 50.0</br>\"], [\"</br>id: rks</br>prediction: 1.0</br>Pregnancies: 11.18</br></br>Glucose: 148.0</br>BloodPressure: 72.0</br>BMI: 33.6</br>DiabetesPedigreeFunction: 0.627</br>Age: 50.0</br>\"], [\"</br>id: rks</br>prediction: 1.0</br>Pregnancies: 11.31</br></br>Glucose: 148.0</br>BloodPressure: 72.0</br>BMI: 33.6</br>DiabetesPedigreeFunction: 0.627</br>Age: 50.0</br>\"], [\"</br>id: rks</br>prediction: 1.0</br>Pregnancies: 11.440000000000001</br></br>Glucose: 148.0</br>BloodPressure: 72.0</br>BMI: 33.6</br>DiabetesPedigreeFunction: 0.627</br>Age: 50.0</br>\"], [\"</br>id: rks</br>prediction: 1.0</br>Pregnancies: 11.57</br></br>Glucose: 148.0</br>BloodPressure: 72.0</br>BMI: 33.6</br>DiabetesPedigreeFunction: 0.627</br>Age: 50.0</br>\"], [\"</br>id: rks</br>prediction: 1.0</br>Pregnancies: 11.700000000000001</br></br>Glucose: 148.0</br>BloodPressure: 72.0</br>BMI: 33.6</br>DiabetesPedigreeFunction: 0.627</br>Age: 50.0</br>\"], [\"</br>id: rks</br>prediction: 1.0</br>Pregnancies: 11.83</br></br>Glucose: 148.0</br>BloodPressure: 72.0</br>BMI: 33.6</br>DiabetesPedigreeFunction: 0.627</br>Age: 50.0</br>\"], [\"</br>id: rks</br>prediction: 1.0</br>Pregnancies: 11.96</br></br>Glucose: 148.0</br>BloodPressure: 72.0</br>BMI: 33.6</br>DiabetesPedigreeFunction: 0.627</br>Age: 50.0</br>\"], [\"</br>id: rks</br>prediction: 1.0</br>Pregnancies: 12.09</br></br>Glucose: 148.0</br>BloodPressure: 72.0</br>BMI: 33.6</br>DiabetesPedigreeFunction: 0.627</br>Age: 50.0</br>\"], [\"</br>id: rks</br>prediction: 1.0</br>Pregnancies: 12.22</br></br>Glucose: 148.0</br>BloodPressure: 72.0</br>BMI: 33.6</br>DiabetesPedigreeFunction: 0.627</br>Age: 50.0</br>\"], [\"</br>id: rks</br>prediction: 1.0</br>Pregnancies: 12.35</br></br>Glucose: 148.0</br>BloodPressure: 72.0</br>BMI: 33.6</br>DiabetesPedigreeFunction: 0.627</br>Age: 50.0</br>\"], [\"</br>id: rks</br>prediction: 1.0</br>Pregnancies: 12.48</br></br>Glucose: 148.0</br>BloodPressure: 72.0</br>BMI: 33.6</br>DiabetesPedigreeFunction: 0.627</br>Age: 50.0</br>\"], [\"</br>id: rks</br>prediction: 1.0</br>Pregnancies: 12.610000000000001</br></br>Glucose: 148.0</br>BloodPressure: 72.0</br>BMI: 33.6</br>DiabetesPedigreeFunction: 0.627</br>Age: 50.0</br>\"], [\"</br>id: rks</br>prediction: 1.0</br>Pregnancies: 12.74</br></br>Glucose: 148.0</br>BloodPressure: 72.0</br>BMI: 33.6</br>DiabetesPedigreeFunction: 0.627</br>Age: 50.0</br>\"], [\"</br>id: rks</br>prediction: 1.0</br>Pregnancies: 12.870000000000001</br></br>Glucose: 148.0</br>BloodPressure: 72.0</br>BMI: 33.6</br>DiabetesPedigreeFunction: 0.627</br>Age: 50.0</br>\"], [\"</br>id: rks</br>prediction: 1.0</br>Pregnancies: 13.0</br></br>Glucose: 148.0</br>BloodPressure: 72.0</br>BMI: 33.6</br>DiabetesPedigreeFunction: 0.627</br>Age: 50.0</br>\"]], \"hovertemplate\": \"%{customdata[0]}<extra></extra>\", \"legendgroup\": \"PimaIndians MLP Pipeline\", \"line\": {\"color\": \"#46bac2\", \"dash\": \"solid\", \"width\": 2}, \"mode\": \"lines\", \"name\": \"PimaIndians MLP Pipeline\", \"opacity\": 1, \"orientation\": \"v\", \"showlegend\": true, \"type\": \"scatter\", \"x\": [0.0, 0.13, 0.26, 0.39, 0.52, 0.65, 0.78, 0.91, 1.04, 1.17, 1.3, 1.4300000000000002, 1.56, 1.69, 1.82, 1.9500000000000002, 2.08, 2.21, 2.34, 2.47, 2.6, 2.73, 2.8600000000000003, 2.99, 3.12, 3.25, 3.38, 3.5100000000000002, 3.64, 3.77, 3.9000000000000004, 4.03, 4.16, 4.29, 4.42, 4.55, 4.68, 4.8100000000000005, 4.94, 5.07, 5.2, 5.33, 5.46, 5.59, 5.720000000000001, 5.8500000000000005, 5.98, 6.0, 6.11, 6.24, 6.37, 6.5, 6.63, 6.76, 6.890000000000001, 7.0200000000000005, 7.15, 7.28, 7.41, 7.54, 7.67, 7.800000000000001, 7.930000000000001, 8.06, 8.19, 8.32, 8.450000000000001, 8.58, 8.71, 8.84, 8.97, 9.1, 9.23, 9.36, 9.49, 9.620000000000001, 9.75, 9.88, 10.01, 10.14, 10.27, 10.4, 10.530000000000001, 10.66, 10.790000000000001, 10.92, 11.05, 11.18, 11.31, 11.440000000000001, 11.57, 11.700000000000001, 11.83, 11.96, 12.09, 12.22, 12.35, 12.48, 12.610000000000001, 12.74, 12.870000000000001, 13.0], \"xaxis\": \"x\", \"y\": [0.999131450782161, 0.9989724844102149, 0.9987861116982168, 0.9985627785517036, 0.9982673383548728, 0.9979469077122387, 0.9976570185254284, 0.9973743492669309, 0.9971578591205708, 0.9969285908787661, 0.9967275440208176, 0.9965866151393213, 0.9962622232904448, 0.9956190228965771, 0.9946081558484098, 0.9935002680080102, 0.9923509756653531, 0.9910003046095275, 0.9893272002191109, 0.9873420033308947, 0.9854261887466792, 0.9834817944831068, 0.9812445766028883, 0.9799451882639516, 0.9785953630673132, 0.9775290121285723, 0.977625631234256, 0.9773361410787204, 0.976655016724063, 0.9756015404483613, 0.9744241368680089, 0.9730744746489883, 0.9714081749220177, 0.9703398387842341, 0.9693627035589508, 0.9687275349627655, 0.9679615652153987, 0.9660123387913852, 0.9637237785701109, 0.9615744269149261, 0.9604900694359213, 0.9607092224721387, 0.961598283055227, 0.9639654749824476, 0.9674559319806241, 0.9700024074434707, 0.9719513541808478, 0.9721836813115706, 0.9730171021899823, 0.9736983669177238, 0.9741569682718111, 0.9757003939401433, 0.9779274455475808, 0.9795130231817888, 0.9801929022971794, 0.9801723418749018, 0.980096087422363, 0.981657383165318, 0.9831679997342233, 0.9850459495951587, 0.9866880499571125, 0.9881304794750475, 0.9894643317594927, 0.9912206061570005, 0.992512846010136, 0.9935500862113549, 0.9945719675781458, 0.9955258638638042, 0.9963783135774347, 0.9971207509616581, 0.997755290147328, 0.9982789741559042, 0.9986452908865514, 0.9989206322270122, 0.9991430356489613, 0.9993253890638288, 0.9994651698843113, 0.9995814327021367, 0.9996737125954082, 0.9997465830158797, 0.9998041321919877, 0.9998488462057079, 0.9998840362787751, 0.9999120972875073, 0.999933368519836, 0.9999494926701565, 0.9999616259984239, 0.9999710116595366, 0.9999781690170845, 0.9999832392442564, 0.9999868852698994, 0.9999895057138977, 0.9999915585820369, 0.9999932098755534, 0.9999945381480567, 0.9999955942468302, 0.9999964351701507, 0.999997115587432, 0.9999976674784682, 0.9999981126280814, 0.9999984705038744, 0.9999987605207978], \"yaxis\": \"y\"}, {\"customdata\": [[\"</br>id: rks</br>prediction: 0.972</br>Pregnancies: 6.0</br></br>Glucose: 148.0</br>BloodPressure: 72.0</br>BMI: 33.6</br>DiabetesPedigreeFunction: 0.627</br>Age: 50.0</br>\"]], \"hovertemplate\": \"%{customdata[0]}<extra></extra>\", \"legendgroup\": \"\", \"marker\": {\"color\": \"#371ea3\", \"size\": 10, \"symbol\": \"circle\"}, \"mode\": \"markers\", \"name\": \"\", \"opacity\": 1, \"orientation\": \"v\", \"showlegend\": false, \"type\": \"scatter\", \"x\": [6.0], \"xaxis\": \"x\", \"y\": [0.9721836813115706], \"yaxis\": \"y\"}],\n",
       "                        {\"annotations\": [{\"font\": {\"size\": 13}, \"showarrow\": false, \"text\": \"Pregnancies\", \"x\": 0.5, \"xanchor\": \"center\", \"xref\": \"paper\", \"y\": 1.0, \"yanchor\": \"bottom\", \"yref\": \"paper\"}, {\"font\": {\"size\": 13}, \"showarrow\": false, \"text\": \"prediction\", \"textangle\": -90, \"x\": -0.07, \"xref\": \"paper\", \"y\": 0.5, \"yref\": \"paper\"}], \"font\": {\"color\": \"#371ea3\"}, \"height\": 489, \"hoverlabel\": {\"bgcolor\": \"rgba(0,0,0,0.8)\"}, \"hovermode\": \"closest\", \"legend\": {\"font\": {\"size\": 11}, \"itemsizing\": \"constant\", \"orientation\": \"h\", \"title\": {\"font\": {\"size\": 12}, \"text\": \"label\"}, \"tracegroupgap\": 0, \"x\": 1, \"xanchor\": \"right\", \"y\": 1.0613496932515338, \"yanchor\": \"bottom\"}, \"margin\": {\"b\": 71, \"r\": 30, \"t\": 78}, \"template\": {\"data\": {\"scatter\": [{\"type\": \"scatter\"}]}}, \"title\": {\"font\": {\"size\": 16}, \"text\": \"Ceteris Paribus Profiles\", \"x\": 0.15}, \"xaxis\": {\"anchor\": \"y\", \"automargin\": true, \"domain\": [0.0, 1.0], \"fixedrange\": true, \"gridwidth\": 2, \"showticklabels\": true, \"tickcolor\": \"white\", \"ticklen\": 3, \"ticks\": \"outside\", \"title\": {\"text\": \"\"}, \"type\": \"linear\", \"zeroline\": false}, \"yaxis\": {\"anchor\": \"x\", \"automargin\": true, \"domain\": [0.0, 1.0], \"fixedrange\": true, \"gridwidth\": 2, \"range\": [0.9565392003274337, 1.0039496296292856], \"tickcolor\": \"white\", \"ticklen\": 3, \"ticks\": \"outside\", \"title\": {\"text\": \"\"}, \"type\": \"linear\", \"zeroline\": false}},\n",
       "                        {\"displaylogo\": false, \"staticPlot\": false, \"toImageButtonOptions\": {\"height\": null, \"width\": null}, \"modeBarButtonsToRemove\": [\"sendDataToCloud\", \"lasso2d\", \"autoScale2d\", \"select2d\", \"zoom2d\", \"pan2d\", \"zoomIn2d\", \"zoomOut2d\", \"resetScale2d\", \"toggleSpikelines\", \"hoverCompareCartesian\", \"hoverClosestCartesian\"], \"responsive\": true}\n",
       "                    ).then(function(){\n",
       "                            \n",
       "var gd = document.getElementById('4af69e1c-4332-4527-b9ac-d28155c3f536');\n",
       "var x = new MutationObserver(function (mutations, observer) {{\n",
       "        var display = window.getComputedStyle(gd).display;\n",
       "        if (!display || display === 'none') {{\n",
       "            console.log([gd, 'removed!']);\n",
       "            Plotly.purge(gd);\n",
       "            observer.disconnect();\n",
       "        }}\n",
       "}});\n",
       "\n",
       "// Listen for the removal of the full notebook cells\n",
       "var notebookContainer = gd.closest('#notebook-container');\n",
       "if (notebookContainer) {{\n",
       "    x.observe(notebookContainer, {childList: true});\n",
       "}}\n",
       "\n",
       "// Listen for the clearing of the current output cell\n",
       "var outputEl = gd.closest('.output');\n",
       "if (outputEl) {{\n",
       "    x.observe(outputEl, {childList: true});\n",
       "}}\n",
       "\n",
       "                        })\n",
       "                };\n",
       "                });\n",
       "            </script>\n",
       "        </div>"
      ]
     },
     "metadata": {},
     "output_type": "display_data"
    }
   ],
   "source": [
    "exp_rks = exp_mlp.predict_profile(rks)\n",
    "exp_rks.plot(variables = ['Pregnancies'])"
   ]
  },
  {
   "cell_type": "code",
   "execution_count": null,
   "metadata": {},
   "outputs": [],
   "source": []
  }
 ],
 "metadata": {
  "kernelspec": {
   "display_name": "Python 3",
   "language": "python",
   "name": "python3"
  },
  "language_info": {
   "codemirror_mode": {
    "name": "ipython",
    "version": 3
   },
   "file_extension": ".py",
   "mimetype": "text/x-python",
   "name": "python",
   "nbconvert_exporter": "python",
   "pygments_lexer": "ipython3",
   "version": "3.7.6"
  }
 },
 "nbformat": 4,
 "nbformat_minor": 4
}
