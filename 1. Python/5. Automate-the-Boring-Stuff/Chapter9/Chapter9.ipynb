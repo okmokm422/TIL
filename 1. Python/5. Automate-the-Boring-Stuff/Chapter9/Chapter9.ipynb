{
 "cells": [
  {
   "cell_type": "markdown",
   "metadata": {},
   "source": [
    "# Chapter9 ファイルの管理"
   ]
  },
  {
   "cell_type": "markdown",
   "metadata": {},
   "source": [
    "## 9.1 shutilモジュール"
   ]
  },
  {
   "cell_type": "markdown",
   "metadata": {},
   "source": [
    "### 9.1.1 ファイルやフォルダをコピーする"
   ]
  },
  {
   "cell_type": "code",
   "execution_count": 480,
   "metadata": {},
   "outputs": [],
   "source": [
    "import shutil, os"
   ]
  },
  {
   "cell_type": "code",
   "execution_count": 481,
   "metadata": {},
   "outputs": [],
   "source": [
    "!rm -r testdir/\n",
    "!mkdir testdir/\n",
    "!mkdir testdir/delicious\n",
    "!touch testdir/eggs.txt\n",
    "!touch testdir/spam.txt"
   ]
  },
  {
   "cell_type": "code",
   "execution_count": 482,
   "metadata": {},
   "outputs": [
    {
     "data": {
      "text/plain": [
       "'/Users/oka/Desktop/TIL/1. Python/5. Automate-the-Boring-Stuff/Chapter9'"
      ]
     },
     "execution_count": 482,
     "metadata": {},
     "output_type": "execute_result"
    }
   ],
   "source": [
    "os.getcwd()"
   ]
  },
  {
   "cell_type": "code",
   "execution_count": 483,
   "metadata": {},
   "outputs": [],
   "source": [
    "os.chdir('./testdir/')"
   ]
  },
  {
   "cell_type": "code",
   "execution_count": 484,
   "metadata": {},
   "outputs": [
    {
     "data": {
      "text/plain": [
       "'/Users/oka/Desktop/TIL/1. Python/5. Automate-the-Boring-Stuff/Chapter9/testdir'"
      ]
     },
     "execution_count": 484,
     "metadata": {},
     "output_type": "execute_result"
    }
   ],
   "source": [
    "os.getcwd()"
   ]
  },
  {
   "cell_type": "code",
   "execution_count": 485,
   "metadata": {},
   "outputs": [
    {
     "data": {
      "text/plain": [
       "'delicious/spam.txt'"
      ]
     },
     "execution_count": 485,
     "metadata": {},
     "output_type": "execute_result"
    }
   ],
   "source": [
    "shutil.copy('spam.txt', 'delicious/')"
   ]
  },
  {
   "cell_type": "code",
   "execution_count": 486,
   "metadata": {},
   "outputs": [
    {
     "data": {
      "text/plain": [
       "'delicious/eggs2.txt'"
      ]
     },
     "execution_count": 486,
     "metadata": {},
     "output_type": "execute_result"
    }
   ],
   "source": [
    "shutil.copy('eggs.txt', 'delicious/eggs2.txt')"
   ]
  },
  {
   "cell_type": "code",
   "execution_count": 487,
   "metadata": {},
   "outputs": [],
   "source": [
    "os.chdir('..')"
   ]
  },
  {
   "cell_type": "code",
   "execution_count": 488,
   "metadata": {},
   "outputs": [
    {
     "data": {
      "text/plain": [
       "'/Users/oka/Desktop/TIL/1. Python/5. Automate-the-Boring-Stuff/Chapter9'"
      ]
     },
     "execution_count": 488,
     "metadata": {},
     "output_type": "execute_result"
    }
   ],
   "source": [
    "os.getcwd()"
   ]
  },
  {
   "cell_type": "code",
   "execution_count": 489,
   "metadata": {},
   "outputs": [],
   "source": [
    "!mkdir testdir/bacon"
   ]
  },
  {
   "cell_type": "code",
   "execution_count": 490,
   "metadata": {},
   "outputs": [
    {
     "data": {
      "text/plain": [
       "'testdir/bacon_backup'"
      ]
     },
     "execution_count": 490,
     "metadata": {},
     "output_type": "execute_result"
    }
   ],
   "source": [
    "shutil.copytree('testdir/bacon', 'testdir/bacon_backup')"
   ]
  },
  {
   "cell_type": "markdown",
   "metadata": {},
   "source": [
    "### 9.1.2 ファイルやフォルダを移動したり名前を変更したりする"
   ]
  },
  {
   "cell_type": "code",
   "execution_count": 491,
   "metadata": {},
   "outputs": [],
   "source": [
    "!touch testdir/bacon.txt\n",
    "!mkdir testdir/eggs"
   ]
  },
  {
   "cell_type": "code",
   "execution_count": 492,
   "metadata": {},
   "outputs": [
    {
     "data": {
      "text/plain": [
       "'testdir/eggs/bacon.txt'"
      ]
     },
     "execution_count": 492,
     "metadata": {},
     "output_type": "execute_result"
    }
   ],
   "source": [
    "shutil.move('testdir/bacon.txt', 'testdir/eggs/')"
   ]
  },
  {
   "cell_type": "code",
   "execution_count": 493,
   "metadata": {},
   "outputs": [],
   "source": [
    "!touch testdir/bacon.txt"
   ]
  },
  {
   "cell_type": "code",
   "execution_count": 494,
   "metadata": {},
   "outputs": [
    {
     "data": {
      "text/plain": [
       "'testdir/eggs/new_bacon.txt'"
      ]
     },
     "execution_count": 494,
     "metadata": {},
     "output_type": "execute_result"
    }
   ],
   "source": [
    "shutil.move('testdir/bacon.txt', 'testdir/eggs/new_bacon.txt')"
   ]
  },
  {
   "cell_type": "code",
   "execution_count": 495,
   "metadata": {},
   "outputs": [],
   "source": [
    "!rm -r testdir/eggs/\n",
    "!touch testdir/bacon.txt"
   ]
  },
  {
   "cell_type": "code",
   "execution_count": 496,
   "metadata": {},
   "outputs": [
    {
     "data": {
      "text/plain": [
       "'testdir/eggs'"
      ]
     },
     "execution_count": 496,
     "metadata": {},
     "output_type": "execute_result"
    }
   ],
   "source": [
    "shutil.move('testdir/bacon.txt', 'testdir/eggs')"
   ]
  },
  {
   "cell_type": "markdown",
   "metadata": {},
   "source": [
    "### 9.1.3 ファイルやフォルダを完全に削除する"
   ]
  },
  {
   "cell_type": "code",
   "execution_count": 497,
   "metadata": {},
   "outputs": [],
   "source": [
    "# os.unlink(path)\n",
    "# os.rmdir(path)\n",
    "# os.rmtree(path)"
   ]
  },
  {
   "cell_type": "markdown",
   "metadata": {},
   "source": [
    "### 9.1.4 send2trashモジュールを用いて安全に削除する"
   ]
  },
  {
   "cell_type": "code",
   "execution_count": 498,
   "metadata": {},
   "outputs": [],
   "source": [
    "import send2trash"
   ]
  },
  {
   "cell_type": "code",
   "execution_count": 499,
   "metadata": {},
   "outputs": [],
   "source": [
    "bacon_file = open('testdir/bacon.txt', 'a') # ファイルを作成"
   ]
  },
  {
   "cell_type": "code",
   "execution_count": 500,
   "metadata": {},
   "outputs": [
    {
     "data": {
      "text/plain": [
       "25"
      ]
     },
     "execution_count": 500,
     "metadata": {},
     "output_type": "execute_result"
    }
   ],
   "source": [
    "bacon_file.write('Bacon is not a vegetable.')"
   ]
  },
  {
   "cell_type": "code",
   "execution_count": 501,
   "metadata": {},
   "outputs": [],
   "source": [
    "bacon_file.close()"
   ]
  },
  {
   "cell_type": "code",
   "execution_count": 502,
   "metadata": {},
   "outputs": [
    {
     "data": {
      "text/plain": [
       "'/Users/oka/Desktop/TIL/1. Python/5. Automate-the-Boring-Stuff/Chapter9'"
      ]
     },
     "execution_count": 502,
     "metadata": {},
     "output_type": "execute_result"
    }
   ],
   "source": [
    "os.getcwd()"
   ]
  },
  {
   "cell_type": "code",
   "execution_count": 503,
   "metadata": {},
   "outputs": [],
   "source": [
    "send2trash.send2trash('testdir/bacon.txt')"
   ]
  },
  {
   "cell_type": "markdown",
   "metadata": {},
   "source": []
  },
  {
   "cell_type": "markdown",
   "metadata": {},
   "source": [
    "## 9.2 ディレクトリーツリーを渡り歩く"
   ]
  },
  {
   "cell_type": "code",
   "execution_count": 504,
   "metadata": {},
   "outputs": [
    {
     "name": "stdout",
     "output_type": "stream",
     "text": [
      "The current folder is .\n",
      "SUBFOLDER OF .: testdir\n",
      "SUBFOLDER OF .: .ipynb_checkpoints\n",
      "FILE INSIDE .: .DS_Store\n",
      "FILE INSIDE .: Chapter9.ipynb\n",
      "FILE INSIDE .: walking_dir.py\n",
      "\n",
      "The current folder is ./testdir\n",
      "SUBFOLDER OF ./testdir: bacon_backup\n",
      "SUBFOLDER OF ./testdir: delicious\n",
      "SUBFOLDER OF ./testdir: bacon\n",
      "FILE INSIDE ./testdir: eggs.txt\n",
      "FILE INSIDE ./testdir: spam.txt\n",
      "FILE INSIDE ./testdir: eggs\n",
      "\n",
      "The current folder is ./testdir/bacon_backup\n",
      "\n",
      "The current folder is ./testdir/delicious\n",
      "FILE INSIDE ./testdir/delicious: eggs2.txt\n",
      "FILE INSIDE ./testdir/delicious: spam.txt\n",
      "\n",
      "The current folder is ./testdir/bacon\n",
      "\n",
      "The current folder is ./.ipynb_checkpoints\n",
      "FILE INSIDE ./.ipynb_checkpoints: Chapter9-checkpoint.ipynb\n",
      "\n"
     ]
    }
   ],
   "source": [
    "!python walking_dir.py"
   ]
  },
  {
   "cell_type": "markdown",
   "metadata": {},
   "source": [
    "### 9.2.1 zipfileモジュールを用いてファイルを圧縮できる"
   ]
  },
  {
   "cell_type": "markdown",
   "metadata": {},
   "source": [
    "### 9.2.2 ZIPファイルを読み込む"
   ]
  },
  {
   "cell_type": "code",
   "execution_count": 505,
   "metadata": {},
   "outputs": [
    {
     "name": "stdout",
     "output_type": "stream",
     "text": [
      "  adding: testdir/example/ (stored 0%)\n",
      "  adding: testdir/example/cats/ (stored 0%)\n",
      "  adding: testdir/example/cats/catnames.txt (stored 0%)\n",
      "  adding: testdir/example/cats/zophie.jpg (stored 0%)\n",
      "  adding: testdir/example/spam.txt (stored 0%)\n"
     ]
    }
   ],
   "source": [
    "!mkdir testdir/example\n",
    "!touch testdir/example/spam.txt\n",
    "!mkdir testdir/example/cats/\n",
    "!touch testdir/example/cats/catnames.txt\n",
    "!touch testdir/example/cats/zophie.jpg\n",
    "!zip -r testdir/example.zip testdir/example/\n",
    "!rm -r testdir/example/"
   ]
  },
  {
   "cell_type": "code",
   "execution_count": 506,
   "metadata": {},
   "outputs": [],
   "source": [
    "import zipfile, os"
   ]
  },
  {
   "cell_type": "code",
   "execution_count": 507,
   "metadata": {},
   "outputs": [],
   "source": [
    "example_zip = zipfile.ZipFile('testdir/example.zip')"
   ]
  },
  {
   "cell_type": "code",
   "execution_count": 508,
   "metadata": {},
   "outputs": [
    {
     "data": {
      "text/plain": [
       "['testdir/example/',\n",
       " 'testdir/example/cats/',\n",
       " 'testdir/example/cats/catnames.txt',\n",
       " 'testdir/example/cats/zophie.jpg',\n",
       " 'testdir/example/spam.txt']"
      ]
     },
     "execution_count": 508,
     "metadata": {},
     "output_type": "execute_result"
    }
   ],
   "source": [
    "example_zip.namelist()"
   ]
  },
  {
   "cell_type": "code",
   "execution_count": 509,
   "metadata": {},
   "outputs": [
    {
     "data": {
      "text/plain": [
       "<ZipInfo filename='testdir/example/spam.txt' filemode='-rw-r--r--' file_size=0>"
      ]
     },
     "execution_count": 509,
     "metadata": {},
     "output_type": "execute_result"
    }
   ],
   "source": [
    "spam_info = example_zip.getinfo('testdir/example/spam.txt')\n",
    "spam_info"
   ]
  },
  {
   "cell_type": "code",
   "execution_count": 510,
   "metadata": {},
   "outputs": [],
   "source": [
    "example_zip.close()"
   ]
  },
  {
   "cell_type": "markdown",
   "metadata": {},
   "source": [
    "### 9.2.3 ZIPファイルを展開する"
   ]
  },
  {
   "cell_type": "code",
   "execution_count": 511,
   "metadata": {},
   "outputs": [],
   "source": [
    "import zipfile, os"
   ]
  },
  {
   "cell_type": "code",
   "execution_count": null,
   "metadata": {},
   "outputs": [],
   "source": [
    "os.chdir('')"
   ]
  }
 ],
 "metadata": {
  "kernelspec": {
   "display_name": "Python 3",
   "language": "python",
   "name": "python3"
  },
  "language_info": {
   "codemirror_mode": {
    "name": "ipython",
    "version": 3
   },
   "file_extension": ".py",
   "mimetype": "text/x-python",
   "name": "python",
   "nbconvert_exporter": "python",
   "pygments_lexer": "ipython3",
   "version": "3.8.5"
  }
 },
 "nbformat": 4,
 "nbformat_minor": 4
}
