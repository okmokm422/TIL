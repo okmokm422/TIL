{
 "cells": [
  {
   "cell_type": "markdown",
   "metadata": {},
   "source": [
    "# Chapter9 ファイルの管理"
   ]
  },
  {
   "cell_type": "markdown",
   "metadata": {},
   "source": [
    "## 9.1 shutilモジュール"
   ]
  },
  {
   "cell_type": "markdown",
   "metadata": {},
   "source": [
    "### 9.1.1 ファイルやフォルダをコピーする"
   ]
  },
  {
   "cell_type": "code",
   "execution_count": 358,
   "metadata": {},
   "outputs": [],
   "source": [
    "import shutil, os"
   ]
  },
  {
   "cell_type": "code",
   "execution_count": 359,
   "metadata": {},
   "outputs": [],
   "source": [
    "os.chdir('/Users/oka/Desktop/TIL/1. Python/5. Automate-the-Boring-Stuff/Chapter9/')"
   ]
  },
  {
   "cell_type": "code",
   "execution_count": 360,
   "metadata": {},
   "outputs": [],
   "source": [
    "!rm -r testdir/\n",
    "!mkdir testdir/\n",
    "!mkdir testdir/delicious\n",
    "!touch testdir/eggs.txt\n",
    "!touch testdir/spam.txt"
   ]
  },
  {
   "cell_type": "code",
   "execution_count": 361,
   "metadata": {},
   "outputs": [
    {
     "data": {
      "text/plain": [
       "'/Users/oka/Desktop/TIL/1. Python/5. Automate-the-Boring-Stuff/Chapter9'"
      ]
     },
     "execution_count": 361,
     "metadata": {},
     "output_type": "execute_result"
    }
   ],
   "source": [
    "os.getcwd()"
   ]
  },
  {
   "cell_type": "code",
   "execution_count": 362,
   "metadata": {},
   "outputs": [],
   "source": [
    "os.chdir('./testdir/')"
   ]
  },
  {
   "cell_type": "code",
   "execution_count": 363,
   "metadata": {},
   "outputs": [
    {
     "data": {
      "text/plain": [
       "'/Users/oka/Desktop/TIL/1. Python/5. Automate-the-Boring-Stuff/Chapter9/testdir'"
      ]
     },
     "execution_count": 363,
     "metadata": {},
     "output_type": "execute_result"
    }
   ],
   "source": [
    "os.getcwd()"
   ]
  },
  {
   "cell_type": "code",
   "execution_count": 364,
   "metadata": {},
   "outputs": [
    {
     "data": {
      "text/plain": [
       "'delicious/spam.txt'"
      ]
     },
     "execution_count": 364,
     "metadata": {},
     "output_type": "execute_result"
    }
   ],
   "source": [
    "shutil.copy('spam.txt', 'delicious/')"
   ]
  },
  {
   "cell_type": "code",
   "execution_count": 365,
   "metadata": {},
   "outputs": [
    {
     "data": {
      "text/plain": [
       "'delicious/eggs2.txt'"
      ]
     },
     "execution_count": 365,
     "metadata": {},
     "output_type": "execute_result"
    }
   ],
   "source": [
    "shutil.copy('eggs.txt', 'delicious/eggs2.txt')"
   ]
  },
  {
   "cell_type": "code",
   "execution_count": 366,
   "metadata": {},
   "outputs": [],
   "source": [
    "os.chdir('..')"
   ]
  },
  {
   "cell_type": "code",
   "execution_count": 367,
   "metadata": {},
   "outputs": [
    {
     "data": {
      "text/plain": [
       "'/Users/oka/Desktop/TIL/1. Python/5. Automate-the-Boring-Stuff/Chapter9'"
      ]
     },
     "execution_count": 367,
     "metadata": {},
     "output_type": "execute_result"
    }
   ],
   "source": [
    "os.getcwd()"
   ]
  },
  {
   "cell_type": "code",
   "execution_count": 368,
   "metadata": {},
   "outputs": [],
   "source": [
    "!mkdir testdir/bacon"
   ]
  },
  {
   "cell_type": "code",
   "execution_count": 369,
   "metadata": {},
   "outputs": [
    {
     "data": {
      "text/plain": [
       "'testdir/bacon_backup'"
      ]
     },
     "execution_count": 369,
     "metadata": {},
     "output_type": "execute_result"
    }
   ],
   "source": [
    "shutil.copytree('testdir/bacon', 'testdir/bacon_backup')"
   ]
  },
  {
   "cell_type": "markdown",
   "metadata": {},
   "source": [
    "### 9.1.2 ファイルやフォルダを移動したり名前を変更したりする"
   ]
  },
  {
   "cell_type": "code",
   "execution_count": 370,
   "metadata": {},
   "outputs": [],
   "source": [
    "!touch testdir/bacon.txt\n",
    "!mkdir testdir/eggs"
   ]
  },
  {
   "cell_type": "code",
   "execution_count": 371,
   "metadata": {},
   "outputs": [
    {
     "data": {
      "text/plain": [
       "'testdir/eggs/bacon.txt'"
      ]
     },
     "execution_count": 371,
     "metadata": {},
     "output_type": "execute_result"
    }
   ],
   "source": [
    "shutil.move('testdir/bacon.txt', 'testdir/eggs/')"
   ]
  },
  {
   "cell_type": "code",
   "execution_count": 372,
   "metadata": {},
   "outputs": [],
   "source": [
    "!touch testdir/bacon.txt"
   ]
  },
  {
   "cell_type": "code",
   "execution_count": 373,
   "metadata": {},
   "outputs": [
    {
     "data": {
      "text/plain": [
       "'testdir/eggs/new_bacon.txt'"
      ]
     },
     "execution_count": 373,
     "metadata": {},
     "output_type": "execute_result"
    }
   ],
   "source": [
    "shutil.move('testdir/bacon.txt', 'testdir/eggs/new_bacon.txt')"
   ]
  },
  {
   "cell_type": "code",
   "execution_count": 374,
   "metadata": {},
   "outputs": [],
   "source": [
    "!rm -r testdir/eggs/\n",
    "!touch testdir/bacon.txt"
   ]
  },
  {
   "cell_type": "code",
   "execution_count": 375,
   "metadata": {},
   "outputs": [
    {
     "data": {
      "text/plain": [
       "'testdir/eggs'"
      ]
     },
     "execution_count": 375,
     "metadata": {},
     "output_type": "execute_result"
    }
   ],
   "source": [
    "shutil.move('testdir/bacon.txt', 'testdir/eggs')"
   ]
  },
  {
   "cell_type": "markdown",
   "metadata": {},
   "source": [
    "### 9.1.3 ファイルやフォルダを完全に削除する"
   ]
  },
  {
   "cell_type": "code",
   "execution_count": 376,
   "metadata": {},
   "outputs": [],
   "source": [
    "# os.unlink(path)\n",
    "# os.rmdir(path)\n",
    "# os.rmtree(path)"
   ]
  },
  {
   "cell_type": "markdown",
   "metadata": {},
   "source": [
    "### 9.1.4 send2trashモジュールを用いて安全に削除する"
   ]
  },
  {
   "cell_type": "code",
   "execution_count": 377,
   "metadata": {},
   "outputs": [],
   "source": [
    "import send2trash"
   ]
  },
  {
   "cell_type": "code",
   "execution_count": 378,
   "metadata": {},
   "outputs": [],
   "source": [
    "bacon_file = open('testdir/bacon.txt', 'a') # ファイルを作成"
   ]
  },
  {
   "cell_type": "code",
   "execution_count": 379,
   "metadata": {},
   "outputs": [
    {
     "data": {
      "text/plain": [
       "25"
      ]
     },
     "execution_count": 379,
     "metadata": {},
     "output_type": "execute_result"
    }
   ],
   "source": [
    "bacon_file.write('Bacon is not a vegetable.')"
   ]
  },
  {
   "cell_type": "code",
   "execution_count": 380,
   "metadata": {},
   "outputs": [],
   "source": [
    "bacon_file.close()"
   ]
  },
  {
   "cell_type": "code",
   "execution_count": 381,
   "metadata": {},
   "outputs": [
    {
     "data": {
      "text/plain": [
       "'/Users/oka/Desktop/TIL/1. Python/5. Automate-the-Boring-Stuff/Chapter9'"
      ]
     },
     "execution_count": 381,
     "metadata": {},
     "output_type": "execute_result"
    }
   ],
   "source": [
    "os.getcwd()"
   ]
  },
  {
   "cell_type": "code",
   "execution_count": 382,
   "metadata": {},
   "outputs": [],
   "source": [
    "send2trash.send2trash('testdir/bacon.txt')"
   ]
  },
  {
   "cell_type": "markdown",
   "metadata": {},
   "source": []
  },
  {
   "cell_type": "markdown",
   "metadata": {},
   "source": [
    "## 9.2 ディレクトリーツリーを渡り歩く"
   ]
  },
  {
   "cell_type": "code",
   "execution_count": 383,
   "metadata": {},
   "outputs": [
    {
     "name": "stdout",
     "output_type": "stream",
     "text": [
      "The current folder is .\n",
      "SUBFOLDER OF .: testdir\n",
      "SUBFOLDER OF .: .ipynb_checkpoints\n",
      "FILE INSIDE .: .DS_Store\n",
      "FILE INSIDE .: Chapter9.ipynb\n",
      "FILE INSIDE .: walking_dir.py\n",
      "\n",
      "The current folder is ./testdir\n",
      "SUBFOLDER OF ./testdir: bacon_backup\n",
      "SUBFOLDER OF ./testdir: delicious\n",
      "SUBFOLDER OF ./testdir: bacon\n",
      "FILE INSIDE ./testdir: eggs.txt\n",
      "FILE INSIDE ./testdir: spam.txt\n",
      "FILE INSIDE ./testdir: eggs\n",
      "\n",
      "The current folder is ./testdir/bacon_backup\n",
      "\n",
      "The current folder is ./testdir/delicious\n",
      "FILE INSIDE ./testdir/delicious: eggs2.txt\n",
      "FILE INSIDE ./testdir/delicious: spam.txt\n",
      "\n",
      "The current folder is ./testdir/bacon\n",
      "\n",
      "The current folder is ./.ipynb_checkpoints\n",
      "FILE INSIDE ./.ipynb_checkpoints: Chapter9-checkpoint.ipynb\n",
      "\n"
     ]
    }
   ],
   "source": [
    "!python3 walking_dir.py"
   ]
  },
  {
   "cell_type": "markdown",
   "metadata": {},
   "source": [
    "### 9.2.1 zipfileモジュールを用いてファイルを圧縮できる"
   ]
  },
  {
   "cell_type": "markdown",
   "metadata": {},
   "source": [
    "### 9.2.2 ZIPファイルを読み込む"
   ]
  },
  {
   "cell_type": "code",
   "execution_count": 384,
   "metadata": {},
   "outputs": [
    {
     "name": "stdout",
     "output_type": "stream",
     "text": [
      "  adding: testdir/example/ (stored 0%)\n",
      "  adding: testdir/example/cats/ (stored 0%)\n",
      "  adding: testdir/example/cats/catnames.txt (stored 0%)\n",
      "  adding: testdir/example/cats/zophie.jpg (stored 0%)\n",
      "  adding: testdir/example/spam.txt (stored 0%)\n"
     ]
    }
   ],
   "source": [
    "!mkdir testdir/example\n",
    "!touch testdir/example/spam.txt\n",
    "!mkdir testdir/example/cats/\n",
    "!touch testdir/example/cats/catnames.txt\n",
    "!touch testdir/example/cats/zophie.jpg\n",
    "!zip -r testdir/example.zip testdir/example/\n",
    "!rm -r testdir/example/"
   ]
  },
  {
   "cell_type": "code",
   "execution_count": 385,
   "metadata": {},
   "outputs": [],
   "source": [
    "import zipfile, os"
   ]
  },
  {
   "cell_type": "code",
   "execution_count": 386,
   "metadata": {},
   "outputs": [],
   "source": [
    "example_zip = zipfile.ZipFile('testdir/example.zip')"
   ]
  },
  {
   "cell_type": "code",
   "execution_count": 387,
   "metadata": {},
   "outputs": [
    {
     "data": {
      "text/plain": [
       "['testdir/example/',\n",
       " 'testdir/example/cats/',\n",
       " 'testdir/example/cats/catnames.txt',\n",
       " 'testdir/example/cats/zophie.jpg',\n",
       " 'testdir/example/spam.txt']"
      ]
     },
     "execution_count": 387,
     "metadata": {},
     "output_type": "execute_result"
    }
   ],
   "source": [
    "example_zip.namelist()"
   ]
  },
  {
   "cell_type": "code",
   "execution_count": 388,
   "metadata": {},
   "outputs": [
    {
     "data": {
      "text/plain": [
       "<ZipInfo filename='testdir/example/spam.txt' filemode='-rw-r--r--' file_size=0>"
      ]
     },
     "execution_count": 388,
     "metadata": {},
     "output_type": "execute_result"
    }
   ],
   "source": [
    "spam_info = example_zip.getinfo('testdir/example/spam.txt')\n",
    "spam_info"
   ]
  },
  {
   "cell_type": "code",
   "execution_count": 389,
   "metadata": {},
   "outputs": [],
   "source": [
    "example_zip.close()"
   ]
  },
  {
   "cell_type": "markdown",
   "metadata": {},
   "source": [
    "### 9.2.3 ZIPファイルを展開する"
   ]
  },
  {
   "cell_type": "code",
   "execution_count": 390,
   "metadata": {},
   "outputs": [],
   "source": [
    "import zipfile, os"
   ]
  },
  {
   "cell_type": "code",
   "execution_count": 391,
   "metadata": {},
   "outputs": [],
   "source": [
    "example_zip = zipfile.ZipFile('testdir/example.zip') # *.zipのファイル名を文字列として渡す"
   ]
  },
  {
   "cell_type": "code",
   "execution_count": 392,
   "metadata": {},
   "outputs": [],
   "source": [
    "example_zip.extractall() # ファイルを展開"
   ]
  },
  {
   "cell_type": "code",
   "execution_count": 393,
   "metadata": {},
   "outputs": [
    {
     "data": {
      "text/plain": [
       "'/Users/oka/Desktop/TIL/1. Python/5. Automate-the-Boring-Stuff/Chapter9/testdir/example/spam.txt'"
      ]
     },
     "execution_count": 393,
     "metadata": {},
     "output_type": "execute_result"
    }
   ],
   "source": [
    "example_zip.extract('testdir/example/spam.txt') # ファイルを展開"
   ]
  },
  {
   "cell_type": "code",
   "execution_count": 394,
   "metadata": {},
   "outputs": [],
   "source": [
    "example_zip.close()"
   ]
  },
  {
   "cell_type": "markdown",
   "metadata": {},
   "source": [
    "### 9.2.4 ZIPファイルを作成したり追加したりする"
   ]
  },
  {
   "cell_type": "code",
   "execution_count": 395,
   "metadata": {},
   "outputs": [],
   "source": [
    "import zipfile"
   ]
  },
  {
   "cell_type": "code",
   "execution_count": 396,
   "metadata": {},
   "outputs": [],
   "source": [
    "new_zip = zipfile.ZipFile('testdir/new.zip', 'w') # 書き込みモードでnew.zipを新規に作る\n",
    "new_zip.write('testdir/spam.txt', compress_type=zipfile.ZIP_DEFLATED) # span.txtをnew.zipに追加 typeで圧縮アルゴリズムを指定\n",
    "new_zip.close()"
   ]
  },
  {
   "cell_type": "code",
   "execution_count": null,
   "metadata": {},
   "outputs": [],
   "source": []
  }
 ],
 "metadata": {
  "kernelspec": {
   "display_name": "Python 3",
   "language": "python",
   "name": "python3"
  },
  "language_info": {
   "codemirror_mode": {
    "name": "ipython",
    "version": 3
   },
   "file_extension": ".py",
   "mimetype": "text/x-python",
   "name": "python",
   "nbconvert_exporter": "python",
   "pygments_lexer": "ipython3",
   "version": "3.8.5"
  }
 },
 "nbformat": 4,
 "nbformat_minor": 4
}
