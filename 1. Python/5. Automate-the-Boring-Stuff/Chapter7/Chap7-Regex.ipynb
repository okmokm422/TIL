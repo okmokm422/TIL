{
 "metadata": {
  "language_info": {
   "codemirror_mode": {
    "name": "ipython",
    "version": 3
   },
   "file_extension": ".py",
   "mimetype": "text/x-python",
   "name": "python",
   "nbconvert_exporter": "python",
   "pygments_lexer": "ipython3",
   "version": "3.8.5-final"
  },
  "orig_nbformat": 2,
  "kernelspec": {
   "name": "python3",
   "display_name": "Python 3"
  }
 },
 "nbformat": 4,
 "nbformat_minor": 2,
 "cells": [
  {
   "source": [
    "# Chapter7 正規表現"
   ],
   "cell_type": "markdown",
   "metadata": {}
  },
  {
   "cell_type": "code",
   "execution_count": 78,
   "metadata": {},
   "outputs": [],
   "source": [
    "import re"
   ]
  },
  {
   "source": [
    "#### 正規表現\n",
    "1. ```import re```で正規表現モジュールをimport  \n",
    "2. ```re.compile()```でRegexオブジェクトを生成  \n",
    "3. Regexオブジェクトの```search()```メソッドに検索対象の文字列を渡す  \n",
    "    →Matchオブジェクトを返す  \n",
    "4. Matchオブジェクトの```group()|groups()```メソッドで実際にマッチした文字列を返す  "
   ],
   "cell_type": "markdown",
   "metadata": {}
  },
  {
   "source": [
    "### 7.3.1 丸カッコを用いたグルーピング\n",
    "\n",
    "- 検索パターン　→　```()```でgroup化"
   ],
   "cell_type": "markdown",
   "metadata": {}
  },
  {
   "cell_type": "code",
   "execution_count": 79,
   "metadata": {},
   "outputs": [],
   "source": [
    "phone_num_regex = re.compile(r'(\\d\\d\\d)-(\\d\\d\\d-\\d\\d\\d\\d)')\n",
    "mo = phone_num_regex.search('電話番号は123-456-7890です。')"
   ]
  },
  {
   "cell_type": "code",
   "execution_count": 80,
   "metadata": {},
   "outputs": [
    {
     "output_type": "execute_result",
     "data": {
      "text/plain": [
       "'123-456-7890'"
      ]
     },
     "metadata": {},
     "execution_count": 80
    }
   ],
   "source": [
    "mo.group()"
   ]
  },
  {
   "cell_type": "code",
   "execution_count": 81,
   "metadata": {},
   "outputs": [
    {
     "output_type": "execute_result",
     "data": {
      "text/plain": [
       "('123', '456-7890')"
      ]
     },
     "metadata": {},
     "execution_count": 81
    }
   ],
   "source": [
    "mo.groups()"
   ]
  },
  {
   "source": [
    "### 7.3.2 縦線を使って複数グループとマッチング\n",
    "\n",
    "- ```re.compile(A|B)```でひとつとマッチするか確認\n",
    "- 両方ある場合は最初に出現した方にマッチ"
   ],
   "cell_type": "markdown",
   "metadata": {}
  },
  {
   "cell_type": "code",
   "execution_count": 82,
   "metadata": {},
   "outputs": [],
   "source": [
    "here_regex = re.compile(r'Batman|Tina Fey')\n",
    "mo1 = here_regex.search('Batman and Tina Fey')\n",
    "mo2 = here_regex.search('Tina Fey and Batman')"
   ]
  },
  {
   "cell_type": "code",
   "execution_count": 83,
   "metadata": {},
   "outputs": [
    {
     "output_type": "execute_result",
     "data": {
      "text/plain": [
       "'Batman'"
      ]
     },
     "metadata": {},
     "execution_count": 83
    }
   ],
   "source": [
    "mo1.group()"
   ]
  },
  {
   "cell_type": "code",
   "execution_count": 84,
   "metadata": {},
   "outputs": [
    {
     "output_type": "execute_result",
     "data": {
      "text/plain": [
       "'Tina Fey'"
      ]
     },
     "metadata": {},
     "execution_count": 84
    }
   ],
   "source": [
    "mo2.group()"
   ]
  },
  {
   "source": [
    "### 7.3.3 疑問符を用いた任意のマッチ\n",
    "\n",
    "- ```(グループ)?```  \n",
    "    直前のグループに0回か1回マッチする"
   ],
   "cell_type": "markdown",
   "metadata": {}
  },
  {
   "cell_type": "code",
   "execution_count": 85,
   "metadata": {},
   "outputs": [],
   "source": [
    "bat_regex = re.compile(r'Bat(wo)?man')"
   ]
  },
  {
   "cell_type": "code",
   "execution_count": 86,
   "metadata": {},
   "outputs": [
    {
     "output_type": "execute_result",
     "data": {
      "text/plain": [
       "'Batman'"
      ]
     },
     "metadata": {},
     "execution_count": 86
    }
   ],
   "source": [
    "mo1 = bat_regex.search('The Adventures of Batman')\n",
    "mo1.group()"
   ]
  },
  {
   "cell_type": "code",
   "execution_count": 87,
   "metadata": {},
   "outputs": [
    {
     "output_type": "execute_result",
     "data": {
      "text/plain": [
       "'Batwoman'"
      ]
     },
     "metadata": {},
     "execution_count": 87
    }
   ],
   "source": [
    "mo2 = bat_regex.search('The Adventures of Batwoman')\n",
    "mo2.group()"
   ]
  },
  {
   "source": [
    "### 7.3.4 アスタリスクを用いた0回以上のマッチ\n",
    "\n",
    "- ```(グループ)*```  \n",
    "    直前のグループに0回以上マッチする"
   ],
   "cell_type": "markdown",
   "metadata": {}
  },
  {
   "cell_type": "code",
   "execution_count": 88,
   "metadata": {},
   "outputs": [],
   "source": [
    "bat_regex = re.compile(r'Bat(wo)*man')"
   ]
  },
  {
   "cell_type": "code",
   "execution_count": 89,
   "metadata": {},
   "outputs": [
    {
     "output_type": "execute_result",
     "data": {
      "text/plain": [
       "'Batman'"
      ]
     },
     "metadata": {},
     "execution_count": 89
    }
   ],
   "source": [
    "mo1 = bat_regex.search('The Adventured of Batman')\n",
    "mo1.group()"
   ]
  },
  {
   "cell_type": "code",
   "execution_count": 90,
   "metadata": {},
   "outputs": [
    {
     "output_type": "execute_result",
     "data": {
      "text/plain": [
       "'Batwoman'"
      ]
     },
     "metadata": {},
     "execution_count": 90
    }
   ],
   "source": [
    "mo2 = bat_regex.search('The Adventured of Batwoman')\n",
    "mo2.group()"
   ]
  },
  {
   "cell_type": "code",
   "execution_count": 91,
   "metadata": {},
   "outputs": [
    {
     "output_type": "execute_result",
     "data": {
      "text/plain": [
       "'Batwowowowowowoman'"
      ]
     },
     "metadata": {},
     "execution_count": 91
    }
   ],
   "source": [
    "mo3 = bat_regex.search('The Adventured of Batwowowowowowoman')\n",
    "mo3.group()"
   ]
  },
  {
   "cell_type": "code",
   "execution_count": null,
   "metadata": {},
   "outputs": [],
   "source": []
  }
 ]
}