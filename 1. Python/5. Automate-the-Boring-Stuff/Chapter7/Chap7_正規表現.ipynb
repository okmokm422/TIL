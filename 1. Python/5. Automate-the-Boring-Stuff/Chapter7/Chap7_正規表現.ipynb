{
 "metadata": {
  "language_info": {
   "codemirror_mode": {
    "name": "ipython",
    "version": 3
   },
   "file_extension": ".py",
   "mimetype": "text/x-python",
   "name": "python",
   "nbconvert_exporter": "python",
   "pygments_lexer": "ipython3",
   "version": "3.8.5-final"
  },
  "orig_nbformat": 2,
  "kernelspec": {
   "name": "python3",
   "display_name": "Python 3"
  }
 },
 "nbformat": 4,
 "nbformat_minor": 2,
 "cells": [
  {
   "source": [
    "# Chapter7 正規表現"
   ],
   "cell_type": "markdown",
   "metadata": {}
  },
  {
   "cell_type": "code",
   "execution_count": 189,
   "metadata": {},
   "outputs": [],
   "source": [
    "import re"
   ]
  },
  {
   "source": [
    "#### 正規表現\n",
    "1. ```import re```で正規表現モジュールをimport  \n",
    "2. ```re.compile()```に正規表現パターンを渡し、Regexオブジェクトを生成  \n",
    "3. Regexオブジェクトの```search()```メソッドに検索対象の文字列を渡す  \n",
    "    →Matchオブジェクトを返す  \n",
    "4. Matchオブジェクトの```group()|groups()```メソッドで実際にマッチした文字列を返す  "
   ],
   "cell_type": "markdown",
   "metadata": {}
  },
  {
   "source": [
    "### 7.3.1 丸カッコを用いたグルーピング\n",
    "\n",
    "- 検索パターン　→　```()```でgroup化"
   ],
   "cell_type": "markdown",
   "metadata": {}
  },
  {
   "cell_type": "code",
   "execution_count": 190,
   "metadata": {},
   "outputs": [],
   "source": [
    "phone_num_regex = re.compile(r'(\\d\\d\\d)-(\\d\\d\\d-\\d\\d\\d\\d)')\n",
    "mo = phone_num_regex.search('電話番号は123-456-7890です。')"
   ]
  },
  {
   "cell_type": "code",
   "execution_count": 191,
   "metadata": {},
   "outputs": [
    {
     "output_type": "execute_result",
     "data": {
      "text/plain": [
       "'123-456-7890'"
      ]
     },
     "metadata": {},
     "execution_count": 191
    }
   ],
   "source": [
    "mo.group()"
   ]
  },
  {
   "cell_type": "code",
   "execution_count": 192,
   "metadata": {},
   "outputs": [
    {
     "output_type": "execute_result",
     "data": {
      "text/plain": [
       "('123', '456-7890')"
      ]
     },
     "metadata": {},
     "execution_count": 192
    }
   ],
   "source": [
    "mo.groups()"
   ]
  },
  {
   "source": [
    "### 7.3.2 縦線を使って複数グループとマッチング\n",
    "\n",
    "- ```re.compile(A|B)```でひとつとマッチするか確認\n",
    "- 両方ある場合は最初に出現した方にマッチ"
   ],
   "cell_type": "markdown",
   "metadata": {}
  },
  {
   "cell_type": "code",
   "execution_count": 193,
   "metadata": {},
   "outputs": [],
   "source": [
    "here_regex = re.compile(r'Batman|Tina Fey')\n",
    "mo1 = here_regex.search('Batman and Tina Fey')\n",
    "mo2 = here_regex.search('Tina Fey and Batman')"
   ]
  },
  {
   "cell_type": "code",
   "execution_count": 194,
   "metadata": {},
   "outputs": [
    {
     "output_type": "execute_result",
     "data": {
      "text/plain": [
       "'Batman'"
      ]
     },
     "metadata": {},
     "execution_count": 194
    }
   ],
   "source": [
    "mo1.group()"
   ]
  },
  {
   "cell_type": "code",
   "execution_count": 195,
   "metadata": {},
   "outputs": [
    {
     "output_type": "execute_result",
     "data": {
      "text/plain": [
       "'Tina Fey'"
      ]
     },
     "metadata": {},
     "execution_count": 195
    }
   ],
   "source": [
    "mo2.group()"
   ]
  },
  {
   "source": [
    "### 7.3.3 疑問符を用いた任意のマッチ\n",
    "\n",
    "- ```(グループ)?```  \n",
    "    直前のグループに0回か1回マッチする"
   ],
   "cell_type": "markdown",
   "metadata": {}
  },
  {
   "cell_type": "code",
   "execution_count": 196,
   "metadata": {},
   "outputs": [],
   "source": [
    "bat_regex = re.compile(r'Bat(wo)?man')"
   ]
  },
  {
   "cell_type": "code",
   "execution_count": 197,
   "metadata": {},
   "outputs": [
    {
     "output_type": "execute_result",
     "data": {
      "text/plain": [
       "'Batman'"
      ]
     },
     "metadata": {},
     "execution_count": 197
    }
   ],
   "source": [
    "mo1 = bat_regex.search('The Adventures of Batman')\n",
    "mo1.group()"
   ]
  },
  {
   "cell_type": "code",
   "execution_count": 198,
   "metadata": {},
   "outputs": [
    {
     "output_type": "execute_result",
     "data": {
      "text/plain": [
       "'Batwoman'"
      ]
     },
     "metadata": {},
     "execution_count": 198
    }
   ],
   "source": [
    "mo2 = bat_regex.search('The Adventures of Batwoman')\n",
    "mo2.group()"
   ]
  },
  {
   "source": [
    "### 7.3.4 アスタリスクを用いた0回以上のマッチ\n",
    "\n",
    "- ```(グループ)*```  \n",
    "    直前のグループに0回以上マッチする"
   ],
   "cell_type": "markdown",
   "metadata": {}
  },
  {
   "cell_type": "code",
   "execution_count": 199,
   "metadata": {},
   "outputs": [],
   "source": [
    "bat_regex = re.compile(r'Bat(wo)*man')"
   ]
  },
  {
   "cell_type": "code",
   "execution_count": 200,
   "metadata": {},
   "outputs": [
    {
     "output_type": "execute_result",
     "data": {
      "text/plain": [
       "'Batman'"
      ]
     },
     "metadata": {},
     "execution_count": 200
    }
   ],
   "source": [
    "mo1 = bat_regex.search('The Adventured of Batman')\n",
    "mo1.group()"
   ]
  },
  {
   "cell_type": "code",
   "execution_count": 201,
   "metadata": {},
   "outputs": [
    {
     "output_type": "execute_result",
     "data": {
      "text/plain": [
       "'Batwoman'"
      ]
     },
     "metadata": {},
     "execution_count": 201
    }
   ],
   "source": [
    "mo2 = bat_regex.search('The Adventured of Batwoman')\n",
    "mo2.group()"
   ]
  },
  {
   "cell_type": "code",
   "execution_count": 202,
   "metadata": {},
   "outputs": [
    {
     "output_type": "execute_result",
     "data": {
      "text/plain": [
       "'Batwowowowowowoman'"
      ]
     },
     "metadata": {},
     "execution_count": 202
    }
   ],
   "source": [
    "mo3 = bat_regex.search('The Adventured of Batwowowowowowoman')\n",
    "mo3.group()"
   ]
  },
  {
   "source": [
    "### 7.3.5 プラスを用いた1回以上のマッチ"
   ],
   "cell_type": "markdown",
   "metadata": {}
  },
  {
   "source": [
    "- ```(グループ)+```  \n",
    "    直前のグループに1回以上マッチする"
   ],
   "cell_type": "markdown",
   "metadata": {}
  },
  {
   "cell_type": "code",
   "execution_count": 203,
   "metadata": {},
   "outputs": [],
   "source": [
    "bat_regex = re.compile(r'Bat(wo)+man')"
   ]
  },
  {
   "cell_type": "code",
   "execution_count": 204,
   "metadata": {},
   "outputs": [
    {
     "output_type": "execute_result",
     "data": {
      "text/plain": [
       "'Batwoman'"
      ]
     },
     "metadata": {},
     "execution_count": 204
    }
   ],
   "source": [
    "mo1 = bat_regex.search('The adventures of Batwoman')\n",
    "mo1.group()"
   ]
  },
  {
   "cell_type": "code",
   "execution_count": 205,
   "metadata": {},
   "outputs": [
    {
     "output_type": "execute_result",
     "data": {
      "text/plain": [
       "'Batwowowowowoman'"
      ]
     },
     "metadata": {},
     "execution_count": 205
    }
   ],
   "source": [
    "mo2 = bat_regex.search('The Adventure of Batwowowowowoman')\n",
    "mo2.group()"
   ]
  },
  {
   "cell_type": "code",
   "execution_count": 206,
   "metadata": {},
   "outputs": [
    {
     "output_type": "execute_result",
     "data": {
      "text/plain": [
       "True"
      ]
     },
     "metadata": {},
     "execution_count": 206
    }
   ],
   "source": [
    "mo3 = bat_regex.search('The Adventure of Batman')\n",
    "mo3 == None"
   ]
  },
  {
   "source": [
    "### 7.3.6 波括弧を用いて繰り返し回数を指定する"
   ],
   "cell_type": "markdown",
   "metadata": {}
  },
  {
   "source": [
    "- ```(グループ){回数} / (グループ){最小値,最大値}```  \n",
    "    回数分/最小値~最大値のグループを繰り返す"
   ],
   "cell_type": "markdown",
   "metadata": {}
  },
  {
   "cell_type": "code",
   "execution_count": 207,
   "metadata": {},
   "outputs": [],
   "source": [
    "ha_regex = re.compile(r'(Ha){3,5}') # 3,5の間にスペースを入れない"
   ]
  },
  {
   "cell_type": "code",
   "execution_count": 208,
   "metadata": {},
   "outputs": [
    {
     "output_type": "execute_result",
     "data": {
      "text/plain": [
       "'HaHaHaHaHa'"
      ]
     },
     "metadata": {},
     "execution_count": 208
    }
   ],
   "source": [
    "mo1 = ha_regex.search('HaHaHaHaHa')\n",
    "mo1.group()"
   ]
  },
  {
   "cell_type": "code",
   "execution_count": 209,
   "metadata": {},
   "outputs": [
    {
     "output_type": "execute_result",
     "data": {
      "text/plain": [
       "True"
      ]
     },
     "metadata": {},
     "execution_count": 209
    }
   ],
   "source": [
    "mo2 = ha_regex.search('Ha')\n",
    "mo2 == None"
   ]
  },
  {
   "source": [
    "## 7.4 貪欲マッチと非貪欲マッチ"
   ],
   "cell_type": "markdown",
   "metadata": {}
  },
  {
   "cell_type": "code",
   "execution_count": 210,
   "metadata": {},
   "outputs": [],
   "source": [
    "greedy_Ha_regex = re.compile(r'(Ha){3,5}')"
   ]
  },
  {
   "source": [
    "mo1 = greedy_Ha_regex.search('HaHaHaHaHa')\n",
    "mo1.group()"
   ],
   "cell_type": "code",
   "metadata": {},
   "execution_count": 211,
   "outputs": [
    {
     "output_type": "execute_result",
     "data": {
      "text/plain": [
       "'HaHaHaHaHa'"
      ]
     },
     "metadata": {},
     "execution_count": 211
    }
   ]
  },
  {
   "cell_type": "code",
   "execution_count": 212,
   "metadata": {},
   "outputs": [],
   "source": [
    "nongreedy_Ha_regex = re.compile(r'(Ha){3,5}?')"
   ]
  },
  {
   "cell_type": "code",
   "execution_count": 213,
   "metadata": {},
   "outputs": [
    {
     "output_type": "execute_result",
     "data": {
      "text/plain": [
       "'HaHaHa'"
      ]
     },
     "metadata": {},
     "execution_count": 213
    }
   ],
   "source": [
    "mo2 = nongreedy_Ha_regex.search('HaHaHaHaHa')\n",
    "mo2.group()"
   ]
  },
  {
   "source": [
    "## 7.5 findall()メソッド"
   ],
   "cell_type": "markdown",
   "metadata": {}
  },
  {
   "source": [
    "- ```findall(文字列)```  \n",
    "    見つかったすべての文字列を返す"
   ],
   "cell_type": "markdown",
   "metadata": {}
  },
  {
   "cell_type": "code",
   "execution_count": 214,
   "metadata": {},
   "outputs": [],
   "source": [
    "phone_num_regex = re.compile(r'\\d\\d\\d-\\d\\d\\d-\\d\\d\\d\\d')"
   ]
  },
  {
   "cell_type": "code",
   "execution_count": 215,
   "metadata": {},
   "outputs": [
    {
     "output_type": "execute_result",
     "data": {
      "text/plain": [
       "'415-555-9999'"
      ]
     },
     "metadata": {},
     "execution_count": 215
    }
   ],
   "source": [
    "mo = phone_num_regex.search('Cell: 415-555-9999 Work: 212-555-0000')\n",
    "mo.group()"
   ]
  },
  {
   "cell_type": "code",
   "execution_count": 216,
   "metadata": {},
   "outputs": [
    {
     "output_type": "execute_result",
     "data": {
      "text/plain": [
       "['415-555-9999', '212-555-0000']"
      ]
     },
     "metadata": {},
     "execution_count": 216
    }
   ],
   "source": [
    "phone_num_regex.findall('Cell: 415-555-9999 Work: 212-555-0000')"
   ]
  },
  {
   "cell_type": "code",
   "execution_count": 217,
   "metadata": {},
   "outputs": [
    {
     "output_type": "execute_result",
     "data": {
      "text/plain": [
       "[('415', '555', '9999'), ('212', '555', '0000')]"
      ]
     },
     "metadata": {},
     "execution_count": 217
    }
   ],
   "source": [
    "phone_num_regex = re.compile(r'(\\d\\d\\d)-(\\d\\d\\d)-(\\d\\d\\d\\d)') # グループあり\n",
    "phone_num_regex.findall('Cell: 415-555-9999 Work: 212-555-0000')"
   ]
  },
  {
   "source": [
    "## 7.6 文字集合"
   ],
   "cell_type": "markdown",
   "metadata": {}
  },
  {
   "cell_type": "code",
   "execution_count": 218,
   "metadata": {},
   "outputs": [
    {
     "output_type": "execute_result",
     "data": {
      "text/plain": [
       "['12 drummers',\n",
       " '11 pipers',\n",
       " '10 loads',\n",
       " '9 ladies',\n",
       " '8 maids',\n",
       " '7 swans',\n",
       " '6 geese',\n",
       " '5 rings',\n",
       " '4 birds',\n",
       " '3 hens',\n",
       " '2 doves',\n",
       " '1 partridge']"
      ]
     },
     "metadata": {},
     "execution_count": 218
    }
   ],
   "source": [
    "xmas_regex = re.compile(r'\\d+\\s\\w+')\n",
    "xmas_regex.findall('12 drummers, 11 pipers, 10 loads, 9 ladies, 8 maids, 7 swans, 6 geese, 5 rings, 4 birds, 3 hens, 2 doves, 1 partridge')"
   ]
  },
  {
   "source": [
    "## 7.7 独自に文字集合を定義する"
   ],
   "cell_type": "markdown",
   "metadata": {}
  },
  {
   "source": [
    "- ```[文字集合]```  \n",
    "    独自の文字集合を定義\n",
    "- ```[^文字集合]```  \n",
    "    文字集合の補集合"
   ],
   "cell_type": "markdown",
   "metadata": {}
  },
  {
   "cell_type": "code",
   "execution_count": 219,
   "metadata": {},
   "outputs": [
    {
     "output_type": "execute_result",
     "data": {
      "text/plain": [
       "['o', 'o', 'o', 'e', 'a', 'a', 'o', 'o', 'A', 'O', 'O']"
      ]
     },
     "metadata": {},
     "execution_count": 219
    }
   ],
   "source": [
    "vowel_regex = re.compile(r'[aeiouAEIOU]')\n",
    "vowel_regex.findall('RoboCop eats baby food. BABY FOOD.')"
   ]
  },
  {
   "cell_type": "code",
   "execution_count": 220,
   "metadata": {},
   "outputs": [
    {
     "output_type": "execute_result",
     "data": {
      "text/plain": [
       "['R',\n",
       " 'b',\n",
       " 'C',\n",
       " 'p',\n",
       " ' ',\n",
       " 't',\n",
       " 's',\n",
       " ' ',\n",
       " 'b',\n",
       " 'b',\n",
       " 'y',\n",
       " ' ',\n",
       " 'f',\n",
       " 'd',\n",
       " '.',\n",
       " ' ',\n",
       " 'B',\n",
       " 'B',\n",
       " 'Y',\n",
       " ' ',\n",
       " 'F',\n",
       " 'D',\n",
       " '.']"
      ]
     },
     "metadata": {},
     "execution_count": 220
    }
   ],
   "source": [
    "consonant_regex = re.compile(r'[^aeiouAEIOU]')\n",
    "consonant_regex.findall('RoboCop eats baby food. BABY FOOD.')"
   ]
  },
  {
   "source": [
    "## 7.8 キャレットとドル記号"
   ],
   "cell_type": "markdown",
   "metadata": {}
  },
  {
   "source": [
    "- ```^文字列```  \n",
    "    文字列の先頭にマッチする\n",
    "- ```文字列$```  \n",
    "    文字列の末尾にマッチする\n",
    "    "
   ],
   "cell_type": "markdown",
   "metadata": {}
  },
  {
   "cell_type": "code",
   "execution_count": 221,
   "metadata": {},
   "outputs": [],
   "source": [
    "begins_with_hello = re.compile(r'^Hello')"
   ]
  },
  {
   "cell_type": "code",
   "execution_count": 222,
   "metadata": {},
   "outputs": [
    {
     "output_type": "execute_result",
     "data": {
      "text/plain": [
       "<re.Match object; span=(0, 5), match='Hello'>"
      ]
     },
     "metadata": {},
     "execution_count": 222
    }
   ],
   "source": [
    "begins_with_hello.search('Hello World')"
   ]
  },
  {
   "cell_type": "code",
   "execution_count": 223,
   "metadata": {},
   "outputs": [
    {
     "output_type": "execute_result",
     "data": {
      "text/plain": [
       "True"
      ]
     },
     "metadata": {},
     "execution_count": 223
    }
   ],
   "source": [
    "begins_with_hello.search('He said Hello.') == None"
   ]
  },
  {
   "cell_type": "code",
   "execution_count": 224,
   "metadata": {},
   "outputs": [],
   "source": [
    "ends_begin_number = re.compile(r'\\d$')"
   ]
  },
  {
   "cell_type": "code",
   "execution_count": 225,
   "metadata": {},
   "outputs": [
    {
     "output_type": "execute_result",
     "data": {
      "text/plain": [
       "<re.Match object; span=(16, 17), match='2'>"
      ]
     },
     "metadata": {},
     "execution_count": 225
    }
   ],
   "source": [
    "ends_begin_number.search('Your number is 42')"
   ]
  },
  {
   "cell_type": "code",
   "execution_count": 226,
   "metadata": {},
   "outputs": [
    {
     "output_type": "execute_result",
     "data": {
      "text/plain": [
       "True"
      ]
     },
     "metadata": {},
     "execution_count": 226
    }
   ],
   "source": [
    "ends_begin_number.search('You are 42 years old.') == None"
   ]
  },
  {
   "cell_type": "code",
   "execution_count": 227,
   "metadata": {},
   "outputs": [],
   "source": [
    "# 全体が1文字以上の数値とマッチ\n",
    "whole_string_is_num = re.compile(r'^\\d+$')"
   ]
  },
  {
   "cell_type": "code",
   "execution_count": 228,
   "metadata": {},
   "outputs": [
    {
     "output_type": "execute_result",
     "data": {
      "text/plain": [
       "<re.Match object; span=(0, 10), match='1234567890'>"
      ]
     },
     "metadata": {},
     "execution_count": 228
    }
   ],
   "source": [
    "whole_string_is_num.search('1234567890')"
   ]
  },
  {
   "cell_type": "code",
   "execution_count": 229,
   "metadata": {},
   "outputs": [
    {
     "output_type": "execute_result",
     "data": {
      "text/plain": [
       "True"
      ]
     },
     "metadata": {},
     "execution_count": 229
    }
   ],
   "source": [
    "whole_string_is_num.search('12345xyz67890') == None"
   ]
  },
  {
   "cell_type": "code",
   "execution_count": 230,
   "metadata": {},
   "outputs": [
    {
     "output_type": "execute_result",
     "data": {
      "text/plain": [
       "True"
      ]
     },
     "metadata": {},
     "execution_count": 230
    }
   ],
   "source": [
    "whole_string_is_num.search('12 34567890') == None"
   ]
  },
  {
   "source": [
    "## 7.9 ワイルドカード文字\n"
   ],
   "cell_type": "markdown",
   "metadata": {}
  },
  {
   "source": [
    "- ```.```  \n",
    "    改行以外の任意の文字"
   ],
   "cell_type": "markdown",
   "metadata": {}
  },
  {
   "cell_type": "code",
   "execution_count": 231,
   "metadata": {},
   "outputs": [],
   "source": [
    "at_regex = re.compile(r'.at')"
   ]
  },
  {
   "cell_type": "code",
   "execution_count": 232,
   "metadata": {},
   "outputs": [
    {
     "output_type": "execute_result",
     "data": {
      "text/plain": [
       "['cat', 'hat', 'sat', 'lat', 'mat']"
      ]
     },
     "metadata": {},
     "execution_count": 232
    }
   ],
   "source": [
    "at_regex.findall('The cat in the hat sat on the flat mat.')"
   ]
  },
  {
   "source": [
    "### 7.9.1 ドットとアスタリスクであらゆる文字列とマッチする"
   ],
   "cell_type": "markdown",
   "metadata": {}
  },
  {
   "source": [
    "- ```.*```  \n",
    "    なんでもに相当する正規表現  \n",
    "    デフォルトでは貪欲モード（最も長いのにマッチ）  \n",
    "    非貪欲モードにするには：```.*?```"
   ],
   "cell_type": "markdown",
   "metadata": {}
  },
  {
   "cell_type": "code",
   "execution_count": 233,
   "metadata": {},
   "outputs": [],
   "source": [
    "name_regex = re.compile(r'First Name: (.*) Last Name: (.*)')"
   ]
  },
  {
   "cell_type": "code",
   "execution_count": 234,
   "metadata": {},
   "outputs": [],
   "source": [
    "mo = name_regex.search('First Name: Al Last Name: Sweigart')"
   ]
  },
  {
   "cell_type": "code",
   "execution_count": 235,
   "metadata": {},
   "outputs": [
    {
     "output_type": "execute_result",
     "data": {
      "text/plain": [
       "'Al'"
      ]
     },
     "metadata": {},
     "execution_count": 235
    }
   ],
   "source": [
    "mo.group(1)"
   ]
  },
  {
   "cell_type": "code",
   "execution_count": 236,
   "metadata": {},
   "outputs": [],
   "source": [
    "nongreedy_regex = re.compile(r'<.*?>') # 非貪欲"
   ]
  },
  {
   "cell_type": "code",
   "execution_count": 237,
   "metadata": {},
   "outputs": [
    {
     "output_type": "execute_result",
     "data": {
      "text/plain": [
       "'<To serve man>'"
      ]
     },
     "metadata": {},
     "execution_count": 237
    }
   ],
   "source": [
    "mo = nongreedy_regex.search('<To serve man> for dinner.')\n",
    "mo.group()"
   ]
  },
  {
   "cell_type": "code",
   "execution_count": 238,
   "metadata": {},
   "outputs": [],
   "source": [
    "greedy_regex = re.compile(r'<.*>') # 貪欲"
   ]
  },
  {
   "cell_type": "code",
   "execution_count": 239,
   "metadata": {},
   "outputs": [
    {
     "output_type": "execute_result",
     "data": {
      "text/plain": [
       "'<To serve man>'"
      ]
     },
     "metadata": {},
     "execution_count": 239
    }
   ],
   "source": [
    "mo = greedy_regex.search('<To serve man> for dinner.')\n",
    "mo.group()"
   ]
  },
  {
   "source": [
    "### 7.9.2 ドット文字を改行とマッチさせる"
   ],
   "cell_type": "markdown",
   "metadata": {}
  },
  {
   "cell_type": "code",
   "execution_count": 243,
   "metadata": {},
   "outputs": [
    {
     "output_type": "execute_result",
     "data": {
      "text/plain": [
       "'Serve the public trust. '"
      ]
     },
     "metadata": {},
     "execution_count": 243
    }
   ],
   "source": [
    "no_newline_regex = re.compile(r'.*')\n",
    "no_newline_regex.search('Serve the public trust. \\nProtect the innocent.\\nUphold the law.').group()"
   ]
  },
  {
   "cell_type": "code",
   "execution_count": 244,
   "metadata": {},
   "outputs": [
    {
     "output_type": "execute_result",
     "data": {
      "text/plain": [
       "'Serve the public trust. \\nProtect the innocent.\\nUphold the law.'"
      ]
     },
     "metadata": {},
     "execution_count": 244
    }
   ],
   "source": [
    "newline_regex = re.compile(r'.*', re.DOTALL)\n",
    "newline_regex.search('Serve the public trust. \\nProtect the innocent.\\nUphold the law.').group()"
   ]
  },
  {
   "source": [
    "## 7.10 正規表現に用いる記号のまとめ"
   ],
   "cell_type": "markdown",
   "metadata": {}
  },
  {
   "source": [
    "## 7.11 大文字・小文字を無視したマッチ "
   ],
   "cell_type": "markdown",
   "metadata": {}
  },
  {
   "cell_type": "code",
   "execution_count": 249,
   "metadata": {},
   "outputs": [],
   "source": [
    "# 第２引数にre.Iを渡す\n",
    "robocop = re.compile(r'robocop', re.I)"
   ]
  },
  {
   "cell_type": "code",
   "execution_count": 250,
   "metadata": {},
   "outputs": [
    {
     "output_type": "execute_result",
     "data": {
      "text/plain": [
       "'RoboCop'"
      ]
     },
     "metadata": {},
     "execution_count": 250
    }
   ],
   "source": [
    "robocop.search('RoboCop is part man, part machine, all cop.').group()"
   ]
  },
  {
   "cell_type": "code",
   "execution_count": 251,
   "metadata": {},
   "outputs": [
    {
     "output_type": "execute_result",
     "data": {
      "text/plain": [
       "'ROBOCOP'"
      ]
     },
     "metadata": {},
     "execution_count": 251
    }
   ],
   "source": [
    "robocop.search('ROBOCOP is part man, part machine, all cop.').group()"
   ]
  },
  {
   "source": [
    "## 7.12 sub()メソッドを用いて文字列を置換する"
   ],
   "cell_type": "markdown",
   "metadata": {}
  },
  {
   "source": [
    "- ```sub(置き換える文字列, 置き換え対象の文字列)```"
   ],
   "cell_type": "markdown",
   "metadata": {}
  },
  {
   "cell_type": "code",
   "execution_count": 252,
   "metadata": {},
   "outputs": [],
   "source": [
    "names_regex = re.compile(r'Agent \\w+')"
   ]
  },
  {
   "cell_type": "code",
   "execution_count": 253,
   "metadata": {},
   "outputs": [
    {
     "output_type": "execute_result",
     "data": {
      "text/plain": [
       "'CENSORED gave the secret documents to CENSORED.'"
      ]
     },
     "metadata": {},
     "execution_count": 253
    }
   ],
   "source": [
    "names_regex.sub('CENSORED', 'Agent Alice gave the secret documents to Agent Bob.')"
   ]
  },
  {
   "cell_type": "code",
   "execution_count": 254,
   "metadata": {},
   "outputs": [
    {
     "output_type": "execute_result",
     "data": {
      "text/plain": [
       "'A**** told C**** that E**** B**** was a double agent.'"
      ]
     },
     "metadata": {},
     "execution_count": 254
    }
   ],
   "source": [
    "agent_names_regex = re.compile(r'Agent (\\w)\\w*')\n",
    "agent_names_regex.sub(r'\\1****', 'Agent Alice told Agent Carol that Agent Eve Agent Bob was a double agent.')"
   ]
  },
  {
   "source": [
    "## 7.13 複雑な正規表現を管理する"
   ],
   "cell_type": "markdown",
   "metadata": {}
  },
  {
   "source": [
    "- ```re.compile(r'', re.VERBOSE)```  \n",
    "    正規表現を複数行に分けてコメントを入れる"
   ],
   "cell_type": "markdown",
   "metadata": {}
  },
  {
   "cell_type": "code",
   "execution_count": 256,
   "metadata": {},
   "outputs": [],
   "source": [
    "phone_regex = re.compile(r'''\n",
    "    (\\d{3}|\\(\\d{3}\\))? # 3桁の市外局番\n",
    "    (\\s|-|\\.)? # 区切り（スペースかハイフンかドット）\n",
    "    \\d{3} # 3桁の市外局番\n",
    "    (\\s|-|.) # 区切り\n",
    "    \\d{4} # 4桁の番号\n",
    "    (\\s*(ext|x|ext.)\\s*\\d{2, 5})? # 2~5桁の内線番号\n",
    "    ''', re.VERBOSE)"
   ]
  },
  {
   "source": [
    "## 7.14 re.IGNORECASEとre.DOTALLとre.VERBOSEを組み合わせる"
   ],
   "cell_type": "markdown",
   "metadata": {}
  },
  {
   "source": [
    "- ```some_regex_value = re.compile(正規表現, re.IGNORECASE | re.DOTALL | re.VERBOSE)```  \n",
    "    論理和演算子で組み合わせ可能"
   ],
   "cell_type": "markdown",
   "metadata": {}
  },
  {
   "source": [
    "## "
   ],
   "cell_type": "markdown",
   "metadata": {}
  }
 ]
}