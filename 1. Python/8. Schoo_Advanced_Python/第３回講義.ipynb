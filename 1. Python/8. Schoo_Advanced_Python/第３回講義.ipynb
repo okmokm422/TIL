{
 "cells": [
  {
   "cell_type": "markdown",
   "metadata": {},
   "source": [
    "# 第３回講義"
   ]
  },
  {
   "cell_type": "markdown",
   "metadata": {},
   "source": [
    "- ジェネレータ\n",
    "- デコレータ\n",
    "- コルーチン（Coroutine）\n",
    "- yield\n",
    "- @xxx\n",
    "- PEP"
   ]
  },
  {
   "cell_type": "markdown",
   "metadata": {},
   "source": [
    "## PEPを読もう\n",
    "\n",
    "- Python Enhancement Proposal"
   ]
  },
  {
   "cell_type": "markdown",
   "metadata": {},
   "source": [
    "## ジェネレータ関数"
   ]
  },
  {
   "cell_type": "markdown",
   "metadata": {},
   "source": [
    "- yield文を含む関数は「ジェネレータ」を返す（ジェネレータ関数）\n",
    "\n",
    "- ジェネレータはnext()に対してyield文の結果を順番に返す"
   ]
  },
  {
   "cell_type": "code",
   "execution_count": 1,
   "metadata": {},
   "outputs": [],
   "source": [
    "# 従来の関数\n",
    "def square_fun(n):\n",
    "    return n * n"
   ]
  },
  {
   "cell_type": "code",
   "execution_count": 2,
   "metadata": {},
   "outputs": [
    {
     "data": {
      "text/plain": [
       "25"
      ]
     },
     "execution_count": 2,
     "metadata": {},
     "output_type": "execute_result"
    }
   ],
   "source": [
    "val = square_fun(5)\n",
    "val"
   ]
  },
  {
   "cell_type": "code",
   "execution_count": 3,
   "metadata": {},
   "outputs": [],
   "source": [
    "# ジェネレータ関数\n",
    "# 関数を実行するためのオブジェクトが返される\n",
    "def square_gen(n):\n",
    "    yield n * n"
   ]
  },
  {
   "cell_type": "code",
   "execution_count": 4,
   "metadata": {},
   "outputs": [
    {
     "data": {
      "text/plain": [
       "<generator object square_gen at 0x7f8b2ffaa350>"
      ]
     },
     "execution_count": 4,
     "metadata": {},
     "output_type": "execute_result"
    }
   ],
   "source": [
    "# ジェネレータ関数からジェネレータが返される\n",
    "# 関数は実行されない\n",
    "g = square_gen(5)\n",
    "g"
   ]
  },
  {
   "cell_type": "code",
   "execution_count": 5,
   "metadata": {},
   "outputs": [
    {
     "data": {
      "text/plain": [
       "25"
      ]
     },
     "execution_count": 5,
     "metadata": {},
     "output_type": "execute_result"
    }
   ],
   "source": [
    "val = next(g) # __next__に対してyield文の結果を順番に返す\n",
    "val"
   ]
  },
  {
   "cell_type": "code",
   "execution_count": 6,
   "metadata": {},
   "outputs": [],
   "source": [
    "def square_gen_1(n):\n",
    "    for i in range(n):\n",
    "        yield i * i"
   ]
  },
  {
   "cell_type": "code",
   "execution_count": 7,
   "metadata": {},
   "outputs": [
    {
     "name": "stdout",
     "output_type": "stream",
     "text": [
      "0\n",
      "1\n",
      "4\n",
      "9\n",
      "16\n"
     ]
    }
   ],
   "source": [
    "for x in square_gen_1(5):\n",
    "    print(x)"
   ]
  },
  {
   "cell_type": "markdown",
   "metadata": {},
   "source": [
    "- ジェネレータは関数が呼び出された直後は処理を実行しない"
   ]
  },
  {
   "cell_type": "code",
   "execution_count": 8,
   "metadata": {},
   "outputs": [],
   "source": [
    "def square_gen_2(n):\n",
    "    print(\"started\")\n",
    "    for i in range(n):\n",
    "        yield i * i\n",
    "    print(\"ended\")"
   ]
  },
  {
   "cell_type": "code",
   "execution_count": 9,
   "metadata": {},
   "outputs": [
    {
     "name": "stdout",
     "output_type": "stream",
     "text": [
      "created\n",
      "started\n",
      "0\n",
      "1\n",
      "4\n",
      "9\n",
      "16\n",
      "ended\n"
     ]
    }
   ],
   "source": [
    "g = square_gen_2(5)\n",
    "print(\"created\")\n",
    "for x in g:\n",
    "    print(x)"
   ]
  },
  {
   "cell_type": "code",
   "execution_count": 10,
   "metadata": {},
   "outputs": [],
   "source": [
    "def foo(n):\n",
    "    if n in (0, 1):\n",
    "        return [1]\n",
    "    for item in range(n):\n",
    "        yield item * 2"
   ]
  },
  {
   "cell_type": "code",
   "execution_count": 11,
   "metadata": {},
   "outputs": [
    {
     "name": "stdout",
     "output_type": "stream",
     "text": [
      "0\n",
      "2\n"
     ]
    }
   ],
   "source": [
    "g = foo(2)\n",
    "for x in g:\n",
    "    print(x)"
   ]
  },
  {
   "cell_type": "markdown",
   "metadata": {},
   "source": [
    "- サブルーチンはコルーチンの一種"
   ]
  },
  {
   "cell_type": "markdown",
   "metadata": {},
   "source": [
    "## FizzBuzz"
   ]
  },
  {
   "cell_type": "code",
   "execution_count": 12,
   "metadata": {},
   "outputs": [],
   "source": [
    "def fizzbuzz(n):\n",
    "    for i in range(1, n + 1):\n",
    "        if i % 3 == 0 and i % 5 == 0:\n",
    "            print(\"FizzBuzz\")\n",
    "        elif i % 3 == 0:\n",
    "            print(\"Fizz\")\n",
    "        elif i % 5 == 0:\n",
    "            print(\"Buzz\")\n",
    "        else:\n",
    "            print(i)"
   ]
  },
  {
   "cell_type": "code",
   "execution_count": 13,
   "metadata": {},
   "outputs": [
    {
     "name": "stdout",
     "output_type": "stream",
     "text": [
      "1\n",
      "2\n",
      "Fizz\n",
      "4\n",
      "Buzz\n",
      "Fizz\n",
      "7\n",
      "8\n",
      "Fizz\n",
      "Buzz\n",
      "11\n",
      "Fizz\n",
      "13\n",
      "14\n",
      "FizzBuzz\n"
     ]
    }
   ],
   "source": [
    "fizzbuzz(15)"
   ]
  },
  {
   "cell_type": "markdown",
   "metadata": {},
   "source": [
    "## ジェネレータ版FizzBuzz"
   ]
  },
  {
   "cell_type": "code",
   "execution_count": 14,
   "metadata": {},
   "outputs": [],
   "source": [
    "def fizzbuzz_gen():\n",
    "    i = 1\n",
    "    while True:\n",
    "        if i % 3 == 0 and i % 5 == 0:\n",
    "            yield \"FizzBuzz\"\n",
    "        elif i % 3 == 0:\n",
    "            yield \"Fizz\"\n",
    "        elif i % 5 == 0:\n",
    "            yield \"Buzz\"\n",
    "        else:\n",
    "            str(i)\n",
    "        i += 1"
   ]
  },
  {
   "cell_type": "code",
   "execution_count": 15,
   "metadata": {},
   "outputs": [
    {
     "name": "stdout",
     "output_type": "stream",
     "text": [
      "Fizz\n",
      "Buzz\n",
      "Fizz\n",
      "Fizz\n",
      "Buzz\n",
      "Fizz\n",
      "FizzBuzz\n"
     ]
    }
   ],
   "source": [
    "for s in fizzbuzz_gen():\n",
    "    print(s)\n",
    "    if s == \"FizzBuzz\":\n",
    "        break"
   ]
  },
  {
   "cell_type": "markdown",
   "metadata": {},
   "source": [
    "## yield from"
   ]
  },
  {
   "cell_type": "markdown",
   "metadata": {},
   "source": [
    "- ```yield from <expr>```で他のジェネレータに処理を移譲できる"
   ]
  },
  {
   "cell_type": "code",
   "execution_count": 16,
   "metadata": {},
   "outputs": [],
   "source": [
    "def traverse(node):\n",
    "    for elem in node:\n",
    "        if isinstance(elem, int):\n",
    "            yield elem\n",
    "        else:\n",
    "            yield from traverse(elem) # 再帰的に引数が再度traverseの中に入る"
   ]
  },
  {
   "cell_type": "code",
   "execution_count": 17,
   "metadata": {},
   "outputs": [
    {
     "name": "stdout",
     "output_type": "stream",
     "text": [
      "1\n",
      "2\n",
      "3\n",
      "4\n",
      "5\n",
      "6\n",
      "7\n",
      "8\n",
      "9\n",
      "10\n"
     ]
    }
   ],
   "source": [
    "node = (1, (2, 3), 4, 5, (6, ((7, 8), 9)), 10)\n",
    "for i in traverse(node):\n",
    "    print(i)"
   ]
  },
  {
   "cell_type": "markdown",
   "metadata": {},
   "source": [
    "## ジェネレータ関数におけるreturn"
   ]
  },
  {
   "cell_type": "markdown",
   "metadata": {},
   "source": [
    "- ジェネレータ関数で、returnの結果はStopIteration例外に渡される"
   ]
  },
  {
   "cell_type": "code",
   "execution_count": 18,
   "metadata": {},
   "outputs": [],
   "source": [
    "def square_gen_3(n):\n",
    "    for i in range(n):\n",
    "        yield i * i\n",
    "        return \"<finished>\""
   ]
  },
  {
   "cell_type": "markdown",
   "metadata": {},
   "source": [
    "```Python\n",
    "it = square_gen_3(3)\n",
    "while True:\n",
    "    print(next(it))\n",
    "```\n",
    "```\n",
    "---------------------------------------------------------------------------\n",
    "StopIteration                             Traceback (most recent call last)\n",
    "<ipython-input-20-bb44bfa83be3> in <module>\n",
    "      1 it = square_gen_3(3)\n",
    "      2 while True:\n",
    "----> 3     print(next(it))\n",
    "\n",
    "StopIteration: <finished>\n",
    "```"
   ]
  },
  {
   "cell_type": "markdown",
   "metadata": {},
   "source": [
    "## ジェネレータ式"
   ]
  },
  {
   "cell_type": "code",
   "execution_count": 19,
   "metadata": {},
   "outputs": [
    {
     "data": {
      "text/plain": [
       "<generator object <genexpr> at 0x7f8b30101190>"
      ]
     },
     "execution_count": 19,
     "metadata": {},
     "output_type": "execute_result"
    }
   ],
   "source": [
    "# ジェネレータ式\n",
    "# 内包表記よりメモリ効率が良い\n",
    "(x**2 for x in range(10))"
   ]
  },
  {
   "cell_type": "code",
   "execution_count": 20,
   "metadata": {},
   "outputs": [
    {
     "data": {
      "text/plain": [
       "285"
      ]
     },
     "execution_count": 20,
     "metadata": {},
     "output_type": "execute_result"
    }
   ],
   "source": [
    "sum((x**2 for x in range(10))) # (ジェレータ式を明示するカッコ)は省略できる"
   ]
  },
  {
   "cell_type": "markdown",
   "metadata": {},
   "source": [
    "## ジェネレータのsend(), throw()"
   ]
  },
  {
   "cell_type": "markdown",
   "metadata": {},
   "source": [
    "- ジェネレータに値と例外を送ることができる"
   ]
  },
  {
   "cell_type": "code",
   "execution_count": 21,
   "metadata": {},
   "outputs": [],
   "source": [
    "def gen_square(initial_i):\n",
    "    i = initial_i\n",
    "    try:\n",
    "        while True:\n",
    "            i = yield i ** 2\n",
    "    except Exception as e:\n",
    "        return 'Received \"{}\"'.format(e)"
   ]
  },
  {
   "cell_type": "code",
   "execution_count": 22,
   "metadata": {},
   "outputs": [
    {
     "data": {
      "text/plain": [
       "<generator object gen_square at 0x7f8b30101a50>"
      ]
     },
     "execution_count": 22,
     "metadata": {},
     "output_type": "execute_result"
    }
   ],
   "source": [
    "g = gen_square(1)\n",
    "g"
   ]
  },
  {
   "cell_type": "code",
   "execution_count": 23,
   "metadata": {},
   "outputs": [
    {
     "name": "stdout",
     "output_type": "stream",
     "text": [
      "1\n",
      "4\n"
     ]
    }
   ],
   "source": [
    "print(next(g))\n",
    "print(g.send(2))"
   ]
  },
  {
   "cell_type": "markdown",
   "metadata": {},
   "source": [
    "```Python\n",
    "g.throw(RuntimeError(\"Stop\")) # 例外を渡して処理を止める\n",
    "```\n",
    "```\n",
    "---------------------------------------------------------------------------\n",
    "StopIteration                             Traceback (most recent call last)\n",
    "<ipython-input-24-c44525700109> in <module>\n",
    "----> 1 g.throw(RuntimeError(\"Stop\")) # 例外を渡して処理を止める\n",
    "\n",
    "StopIteration: Received \"Stop\"\n",
    "```"
   ]
  },
  {
   "cell_type": "markdown",
   "metadata": {},
   "source": [
    "## コルーチン"
   ]
  },
  {
   "cell_type": "markdown",
   "metadata": {},
   "source": [
    "- 並列化の一種\n",
    "- ひとつのスレッドに複数の実行コンテクストを持つ仕組み"
   ]
  },
  {
   "cell_type": "markdown",
   "metadata": {},
   "source": [
    "## ジェネレータはコルーチン"
   ]
  },
  {
   "cell_type": "code",
   "execution_count": 24,
   "metadata": {},
   "outputs": [],
   "source": [
    "def calc_average(): # 平均値を与え続けるジェネレータ\n",
    "    count, total, ave = 0, 0.0, None\n",
    "    while True:\n",
    "        val = yield ave\n",
    "        count += 1\n",
    "        total += val\n",
    "        ave = total / count"
   ]
  },
  {
   "cell_type": "code",
   "execution_count": 25,
   "metadata": {},
   "outputs": [],
   "source": [
    "coro_averave = calc_average()\n",
    "next(coro_averave)"
   ]
  },
  {
   "cell_type": "code",
   "execution_count": 26,
   "metadata": {},
   "outputs": [
    {
     "name": "stdout",
     "output_type": "stream",
     "text": [
      "6.0\n",
      "3.5\n",
      "3.0\n",
      "3.5\n",
      "4.4\n"
     ]
    }
   ],
   "source": [
    "for val in [6, 1, 2, 5, 8]:\n",
    "    print(coro_averave.send(val))"
   ]
  },
  {
   "cell_type": "markdown",
   "metadata": {},
   "source": [
    "## asyncioモジュールと「ネイティブコルーチン」"
   ]
  },
  {
   "cell_type": "markdown",
   "metadata": {},
   "source": [
    "- ジェネレータベースコルーチンとネイティブコルーチンがある"
   ]
  },
  {
   "cell_type": "markdown",
   "metadata": {},
   "source": [
    "## デコレータとは\n",
    "\n",
    "- 関数を返す関数"
   ]
  },
  {
   "cell_type": "code",
   "execution_count": 27,
   "metadata": {},
   "outputs": [],
   "source": [
    "def as_is(func):\n",
    "    return func\n",
    "\n",
    "def get_hello():\n",
    "    return \"Hello\""
   ]
  },
  {
   "cell_type": "code",
   "execution_count": 28,
   "metadata": {},
   "outputs": [
    {
     "name": "stdout",
     "output_type": "stream",
     "text": [
      "Hello\n"
     ]
    }
   ],
   "source": [
    "get_hello = as_is(get_hello)\n",
    "print(get_hello())"
   ]
  },
  {
   "cell_type": "code",
   "execution_count": 29,
   "metadata": {},
   "outputs": [],
   "source": [
    "@as_is\n",
    "def get_hello():\n",
    "    return \"Hello\""
   ]
  },
  {
   "cell_type": "code",
   "execution_count": 30,
   "metadata": {},
   "outputs": [
    {
     "name": "stdout",
     "output_type": "stream",
     "text": [
      "Hello\n"
     ]
    }
   ],
   "source": [
    "print(get_hello())"
   ]
  },
  {
   "cell_type": "markdown",
   "metadata": {},
   "source": [
    "## 戻り値を加工するジェネレータ"
   ]
  },
  {
   "cell_type": "code",
   "execution_count": 31,
   "metadata": {},
   "outputs": [],
   "source": [
    "def strong(func):\n",
    "    def wrap():\n",
    "        return \"<strong>\" + func() + \"</strong>\"\n",
    "    return wrap"
   ]
  },
  {
   "cell_type": "code",
   "execution_count": 32,
   "metadata": {},
   "outputs": [],
   "source": [
    "@strong\n",
    "def get_hello():\n",
    "    return \"Hello\""
   ]
  },
  {
   "cell_type": "code",
   "execution_count": 33,
   "metadata": {},
   "outputs": [
    {
     "name": "stdout",
     "output_type": "stream",
     "text": [
      "<strong>Hello</strong>\n"
     ]
    }
   ],
   "source": [
    "print(get_hello())"
   ]
  },
  {
   "cell_type": "markdown",
   "metadata": {},
   "source": [
    "## 引数を受け取るデコレータ"
   ]
  },
  {
   "cell_type": "code",
   "execution_count": 34,
   "metadata": {},
   "outputs": [],
   "source": [
    "def tag(name):\n",
    "    def deco(func):\n",
    "        def wrap():\n",
    "            return (\"<{}>{}</{}>\".format(name, func(), name))\n",
    "        return wrap\n",
    "    return deco"
   ]
  },
  {
   "cell_type": "code",
   "execution_count": 35,
   "metadata": {},
   "outputs": [],
   "source": [
    "@tag(\"italic\")\n",
    "def get_hello():\n",
    "    return \"Hello\""
   ]
  },
  {
   "cell_type": "code",
   "execution_count": 36,
   "metadata": {},
   "outputs": [
    {
     "name": "stdout",
     "output_type": "stream",
     "text": [
      "<italic>Hello</italic>\n"
     ]
    }
   ],
   "source": [
    "print(get_hello())"
   ]
  },
  {
   "cell_type": "markdown",
   "metadata": {},
   "source": [
    "## 修飾対象の引数を考慮する"
   ]
  },
  {
   "cell_type": "code",
   "execution_count": 37,
   "metadata": {},
   "outputs": [],
   "source": [
    "def upper(func):\n",
    "    def wrap(*args, **kargs):\n",
    "        return func(*args, **kargs).upper()\n",
    "    return wrap"
   ]
  },
  {
   "cell_type": "code",
   "execution_count": 38,
   "metadata": {},
   "outputs": [],
   "source": [
    "@upper\n",
    "def get_hello():\n",
    "    return \"Hello\""
   ]
  },
  {
   "cell_type": "code",
   "execution_count": 39,
   "metadata": {},
   "outputs": [],
   "source": [
    "@upper\n",
    "def get_something(something):\n",
    "    return something"
   ]
  },
  {
   "cell_type": "code",
   "execution_count": 40,
   "metadata": {},
   "outputs": [
    {
     "name": "stdout",
     "output_type": "stream",
     "text": [
      "HELLO\n",
      "GOOD EVENING\n"
     ]
    }
   ],
   "source": [
    "print(get_hello())\n",
    "print(get_something(\"Good Evening\"))"
   ]
  },
  {
   "cell_type": "markdown",
   "metadata": {},
   "source": [
    "## デコレータを理解するうえでのヒント"
   ]
  },
  {
   "cell_type": "markdown",
   "metadata": {},
   "source": [
    "- ジェネレータ関数と異なり、デコレータはただの関数\n",
    "- 後から取り外せない"
   ]
  },
  {
   "cell_type": "code",
   "execution_count": 41,
   "metadata": {},
   "outputs": [],
   "source": [
    "def deco_debug(func):\n",
    "    def wrap(*args, **kargs):\n",
    "        print(f'DEBUG: {func.__name__} started')\n",
    "        ret = func(*args, **kargs)\n",
    "        print(f'DEBUG: {func.__name__} ended')\n",
    "        return ret\n",
    "    return wrap\n",
    "\n",
    "def say_hello():\n",
    "    print(\"Hello\")"
   ]
  },
  {
   "cell_type": "code",
   "execution_count": 42,
   "metadata": {},
   "outputs": [
    {
     "name": "stdout",
     "output_type": "stream",
     "text": [
      "Hello\n"
     ]
    }
   ],
   "source": [
    "say_hello()"
   ]
  },
  {
   "cell_type": "code",
   "execution_count": 43,
   "metadata": {},
   "outputs": [
    {
     "name": "stdout",
     "output_type": "stream",
     "text": [
      "DEBUG: say_hello started\n",
      "Hello\n",
      "DEBUG: say_hello ended\n"
     ]
    }
   ],
   "source": [
    "deco_debug(say_hello)() # say_helloの呼び出しでエラーはあるかどうかチェックできる"
   ]
  },
  {
   "cell_type": "markdown",
   "metadata": {},
   "source": [
    "## functools.wraps()\n",
    "\n",
    "- 主要な情報をコピーできる"
   ]
  },
  {
   "cell_type": "code",
   "execution_count": 44,
   "metadata": {},
   "outputs": [],
   "source": [
    "from functools import wraps\n",
    "def strong(func):\n",
    "    @wraps(func)\n",
    "    def wrap():\n",
    "        return \"<strong>\" + func() + \"</strong>\"\n",
    "    return wrap\n",
    "\n",
    "@strong\n",
    "def get_hello():\n",
    "    \"\"\"Helloという文字列を得る\"\"\"\n",
    "    return \"Hello\""
   ]
  },
  {
   "cell_type": "code",
   "execution_count": 45,
   "metadata": {},
   "outputs": [
    {
     "data": {
      "text/plain": [
       "'<strong>Hello</strong>'"
      ]
     },
     "execution_count": 45,
     "metadata": {},
     "output_type": "execute_result"
    }
   ],
   "source": [
    "get_hello()"
   ]
  },
  {
   "cell_type": "code",
   "execution_count": 46,
   "metadata": {},
   "outputs": [
    {
     "data": {
      "text/plain": [
       "'get_hello'"
      ]
     },
     "execution_count": 46,
     "metadata": {},
     "output_type": "execute_result"
    }
   ],
   "source": [
    "# @wrapsで名前を承継できる\n",
    "get_hello.__name__"
   ]
  },
  {
   "cell_type": "markdown",
   "metadata": {},
   "source": [
    "- ジェネレータ"
   ]
  }
 ],
 "metadata": {
  "kernelspec": {
   "display_name": "Python 3",
   "language": "python",
   "name": "python3"
  },
  "language_info": {
   "codemirror_mode": {
    "name": "ipython",
    "version": 3
   },
   "file_extension": ".py",
   "mimetype": "text/x-python",
   "name": "python",
   "nbconvert_exporter": "python",
   "pygments_lexer": "ipython3",
   "version": "3.8.5"
  }
 },
 "nbformat": 4,
 "nbformat_minor": 4
}
