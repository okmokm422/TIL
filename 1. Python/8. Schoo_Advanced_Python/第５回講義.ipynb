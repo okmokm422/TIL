{
 "cells": [
  {
   "cell_type": "markdown",
   "metadata": {},
   "source": [
    "# 第５回講義"
   ]
  },
  {
   "cell_type": "markdown",
   "metadata": {},
   "source": [
    "## 型システム"
   ]
  },
  {
   "cell_type": "markdown",
   "metadata": {},
   "source": [
    "- 値を種類に従って分類し、プログラミングが正しく振る舞うことをチェックする"
   ]
  },
  {
   "cell_type": "markdown",
   "metadata": {},
   "source": [
    "## Pythonにおける型の基本"
   ]
  },
  {
   "cell_type": "markdown",
   "metadata": {},
   "source": [
    "- Pythonランタイムでの実行は動的型付け\n",
    "- ダックタイピング好む\n",
    "    - メソッドが実行されているならばそれで良い"
   ]
  },
  {
   "cell_type": "markdown",
   "metadata": {},
   "source": [
    "## \\_\\_xxx\\_\\_()とダックタイピング"
   ]
  },
  {
   "cell_type": "markdown",
   "metadata": {},
   "source": [
    "- オブジェクトがあるインタフェースのすべてのメソッドを持っているならば、  \n",
    "    たとえそのクラスがそのインタフェースを宣言的に実装していなくとも、  \n",
    "    オブジェクトはそのインタフェースを実行時に実装しているとみなせる\n",
    "- [ダック・タイピング](https://ja.wikipedia.org/wiki/%E3%83%80%E3%83%83%E3%82%AF%E3%83%BB%E3%82%BF%E3%82%A4%E3%83%94%E3%83%B3%E3%82%B0)"
   ]
  },
  {
   "cell_type": "markdown",
   "metadata": {},
   "source": [
    "## クラスの承継の基本"
   ]
  },
  {
   "cell_type": "code",
   "execution_count": 1,
   "metadata": {},
   "outputs": [
    {
     "name": "stdout",
     "output_type": "stream",
     "text": [
      "Hi, I am B\n",
      "Hello, I am A\n",
      "True\n",
      "True\n"
     ]
    }
   ],
   "source": [
    "class A:\n",
    "    def hello(self):\n",
    "        print(\"Hello, I am A\")\n",
    "\n",
    "class B(A): # クラスAを承継\n",
    "    def hello(self):\n",
    "        print(\"Hi, I am B\")\n",
    "        super().hello() # 親クラスのhelloを呼び出す\n",
    "        \n",
    "b = B()\n",
    "b.hello()\n",
    "print(issubclass(B, A))\n",
    "print(isinstance(b, A))"
   ]
  },
  {
   "cell_type": "markdown",
   "metadata": {},
   "source": [
    "## クラス継承を調べる"
   ]
  },
  {
   "cell_type": "code",
   "execution_count": 2,
   "metadata": {},
   "outputs": [
    {
     "data": {
      "text/plain": [
       "(object,)"
      ]
     },
     "execution_count": 2,
     "metadata": {},
     "output_type": "execute_result"
    }
   ],
   "source": [
    "A.__bases__"
   ]
  },
  {
   "cell_type": "code",
   "execution_count": 3,
   "metadata": {},
   "outputs": [
    {
     "data": {
      "text/plain": [
       "(__main__.A,)"
      ]
     },
     "execution_count": 3,
     "metadata": {},
     "output_type": "execute_result"
    }
   ],
   "source": [
    "B.__bases__"
   ]
  },
  {
   "cell_type": "markdown",
   "metadata": {},
   "source": [
    "## 多重継承"
   ]
  },
  {
   "cell_type": "code",
   "execution_count": 4,
   "metadata": {},
   "outputs": [
    {
     "name": "stdout",
     "output_type": "stream",
     "text": [
      "Yo, I am C\n",
      "Hi, I am B1\n",
      "Hi, I am B2\n",
      "Hello, I am A\n",
      "[<class '__main__.C'>, <class '__main__.B1'>, <class '__main__.B2'>, <class '__main__.A'>, <class 'object'>]\n"
     ]
    }
   ],
   "source": [
    "class A:\n",
    "    def hello(self):\n",
    "        print(\"Hello, I am A\")\n",
    "\n",
    "class B1(A):\n",
    "    def hello(self):\n",
    "        print(\"Hi, I am B1\")\n",
    "        super().hello()\n",
    "\n",
    "class B2(A):\n",
    "    def hello(self):\n",
    "        print(\"Hi, I am B2\")\n",
    "        super().hello()\n",
    "        \n",
    "class C(B1, B2):\n",
    "    def hello(self):\n",
    "        print(\"Yo, I am C\")\n",
    "        super().hello()\n",
    "\n",
    "c = C()\n",
    "c.hello()\n",
    "print(C.mro())"
   ]
  },
  {
   "cell_type": "markdown",
   "metadata": {},
   "source": [
    "## クラス承継の謎"
   ]
  },
  {
   "cell_type": "code",
   "execution_count": 5,
   "metadata": {},
   "outputs": [
    {
     "name": "stdout",
     "output_type": "stream",
     "text": [
      "True\n",
      "True\n",
      "<class 'object'>\n"
     ]
    }
   ],
   "source": [
    "from collections.abc import Sequence\n",
    "\n",
    "l = list()\n",
    "print(issubclass(list, Sequence))\n",
    "print(isinstance(l, Sequence))\n",
    "print(list.__base__) # listはSquenceを継承していない"
   ]
  },
  {
   "cell_type": "markdown",
   "metadata": {},
   "source": [
    "## 抽象基底クラス"
   ]
  },
  {
   "cell_type": "markdown",
   "metadata": {},
   "source": [
    "- 抽象基底クラスとは  \n",
    "    基底クラス（親クラス）でなくともそのように振る舞うこともできるように設計されたPython独自の機構"
   ]
  },
  {
   "cell_type": "markdown",
   "metadata": {},
   "source": [
    "## メタクラス\n",
    "\n",
    "- クラスオブジェクトを生成するためのクラス"
   ]
  },
  {
   "cell_type": "markdown",
   "metadata": {},
   "source": [
    "## collections.abc\n",
    "\n",
    "- 標準的に使われるインターフェイスを抽象基底クラスを利用して実装したもの"
   ]
  },
  {
   "cell_type": "markdown",
   "metadata": {},
   "source": [
    "## Python型チェック\n",
    "\n",
    "- オプショナル型チェック  \n",
    "    外部ツールを使えば型チェックができるという意味  \n",
    "    型が間違っていてもPythonランタイムは気にしない\n",
    "- mypy\n",
    "- typing"
   ]
  },
  {
   "cell_type": "code",
   "execution_count": null,
   "metadata": {},
   "outputs": [],
   "source": []
  }
 ],
 "metadata": {
  "kernelspec": {
   "display_name": "Python 3",
   "language": "python",
   "name": "python3"
  },
  "language_info": {
   "codemirror_mode": {
    "name": "ipython",
    "version": 3
   },
   "file_extension": ".py",
   "mimetype": "text/x-python",
   "name": "python",
   "nbconvert_exporter": "python",
   "pygments_lexer": "ipython3",
   "version": "3.8.5"
  }
 },
 "nbformat": 4,
 "nbformat_minor": 4
}
