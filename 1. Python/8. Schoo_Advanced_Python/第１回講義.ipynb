{
 "cells": [
  {
   "cell_type": "markdown",
   "metadata": {},
   "source": [
    "# 第一回講義"
   ]
  },
  {
   "cell_type": "markdown",
   "metadata": {},
   "source": [
    "## 例題\n",
    "\n",
    "- 1~100を足した合計\n",
    "- 1~1000のうち、7もしくは13で割り切れる数の合計を計算"
   ]
  },
  {
   "cell_type": "markdown",
   "metadata": {},
   "source": [
    "自分の回答"
   ]
  },
  {
   "cell_type": "code",
   "execution_count": 1,
   "metadata": {},
   "outputs": [
    {
     "name": "stdout",
     "output_type": "stream",
     "text": [
      "5050\n"
     ]
    }
   ],
   "source": [
    "total = 0\n",
    "for i in range(1, 101):\n",
    "    total += i\n",
    "print(total)"
   ]
  },
  {
   "cell_type": "code",
   "execution_count": 2,
   "metadata": {},
   "outputs": [
    {
     "name": "stdout",
     "output_type": "stream",
     "text": [
      "104104\n"
     ]
    }
   ],
   "source": [
    "total = 0\n",
    "for i in range(1, 1001):\n",
    "    if i % 7 == 0 or i % 13 == 0:\n",
    "        total += i\n",
    "print(total)"
   ]
  },
  {
   "cell_type": "markdown",
   "metadata": {},
   "source": [
    "回答例"
   ]
  },
  {
   "cell_type": "code",
   "execution_count": 3,
   "metadata": {},
   "outputs": [
    {
     "name": "stdout",
     "output_type": "stream",
     "text": [
      "5050\n"
     ]
    }
   ],
   "source": [
    "i, total = 1, 0\n",
    "while i <= 100:\n",
    "    total += i\n",
    "    i += 1\n",
    "print(total)"
   ]
  },
  {
   "cell_type": "code",
   "execution_count": 4,
   "metadata": {},
   "outputs": [
    {
     "name": "stdout",
     "output_type": "stream",
     "text": [
      "104104\n"
     ]
    }
   ],
   "source": [
    "total = 0\n",
    "for i in range(1, 1001):\n",
    "    if i % 7 == 0 or i % 13 == 0:\n",
    "        total += i\n",
    "print(total)"
   ]
  },
  {
   "cell_type": "markdown",
   "metadata": {},
   "source": [
    "工夫した回答例"
   ]
  },
  {
   "cell_type": "code",
   "execution_count": 5,
   "metadata": {},
   "outputs": [
    {
     "data": {
      "text/plain": [
       "5050"
      ]
     },
     "execution_count": 5,
     "metadata": {},
     "output_type": "execute_result"
    }
   ],
   "source": [
    "sum(range(1, 101))"
   ]
  },
  {
   "cell_type": "code",
   "execution_count": 6,
   "metadata": {},
   "outputs": [
    {
     "data": {
      "text/plain": [
       "104104"
      ]
     },
     "execution_count": 6,
     "metadata": {},
     "output_type": "execute_result"
    }
   ],
   "source": [
    "sum(i for i in range(1, 1001)\n",
    "    if i % 7 == 0 or i % 13 == 0)"
   ]
  },
  {
   "cell_type": "code",
   "execution_count": 7,
   "metadata": {},
   "outputs": [
    {
     "data": {
      "text/plain": [
       "104104"
      ]
     },
     "execution_count": 7,
     "metadata": {},
     "output_type": "execute_result"
    }
   ],
   "source": [
    "sum([i for i in range(1, 1001) if i % 7 == 0 or i % 13 == 0])"
   ]
  },
  {
   "cell_type": "markdown",
   "metadata": {},
   "source": [
    "## 公式ドキュメントを読もう"
   ]
  },
  {
   "cell_type": "markdown",
   "metadata": {},
   "source": [
    "for文でのelse  \n",
    "    elseはbreakが実行されなかったときに実行されるブロック"
   ]
  },
  {
   "cell_type": "markdown",
   "metadata": {},
   "source": [
    "## ドキュメントを読むにも慣れが必要"
   ]
  },
  {
   "cell_type": "markdown",
   "metadata": {},
   "source": [
    "```Python\n",
    "sum(iterable[, start])\n",
    "```\n",
    "- ```イテラブル```がいきなり出てくる"
   ]
  },
  {
   "cell_type": "markdown",
   "metadata": {},
   "source": [
    "## 変数関数名でのアンダースコア"
   ]
  },
  {
   "cell_type": "markdown",
   "metadata": {},
   "source": [
    "```_xxx```\n",
    "- 先頭に１つ：「名前を隠したい」という意思表示\n",
    "\n",
    "```__xxx```\n",
    "- 先頭に２つ：「名前を隠したい」という意思表示\n",
    "- （クラスで)名前のマングリングが発生する\n",
    "\n",
    "```__xxx__```\n",
    "- 先頭と最後に２つずつ\n",
    "- Pythonの処理系が使用する特殊な名前"
   ]
  },
  {
   "cell_type": "markdown",
   "metadata": {},
   "source": [
    "## クラスでのアンダースコア\n",
    "\n",
    "- ```__xxx```\n",
    "    名前のマングリングが起きる  \n",
    "    継承したときに名前の衝突が起きないように\n",
    "- Pythonには完全なPrivateは存在しない\n",
    "- 一般的にはアンダーバー2つはprivateにするという意味"
   ]
  },
  {
   "cell_type": "code",
   "execution_count": 12,
   "metadata": {},
   "outputs": [
    {
     "name": "stdout",
     "output_type": "stream",
     "text": [
      "1\n",
      "2\n",
      "3\n"
     ]
    }
   ],
   "source": [
    "class MyClass:\n",
    "    def __init__(self):\n",
    "        self.x = 1\n",
    "        self._x = 2\n",
    "        self.__x = 3\n",
    "\n",
    "o = MyClass()\n",
    "print(o.x)\n",
    "print(o._x)\n",
    "print(o._MyClass__x) # 名前のマングリングが起きている→元の名前にクラス名がついている"
   ]
  },
  {
   "cell_type": "markdown",
   "metadata": {},
   "source": [
    "## イテラブルとイテレーターを考える"
   ]
  },
  {
   "cell_type": "markdown",
   "metadata": {},
   "source": [
    "```__xxx__```\n",
    "- アンダースコアが前後についている名前  \n",
    "- Pythonのシステムによって定義されている\n",
    "- ユーザーが独自に定義できない\n",
    "- ```Dunder```と呼ばれることがある"
   ]
  },
  {
   "cell_type": "code",
   "execution_count": 13,
   "metadata": {},
   "outputs": [],
   "source": [
    "lst = [1, 2, 3, 4, 5]"
   ]
  },
  {
   "cell_type": "code",
   "execution_count": 14,
   "metadata": {},
   "outputs": [
    {
     "data": {
      "text/plain": [
       "[2, 3]"
      ]
     },
     "execution_count": 14,
     "metadata": {},
     "output_type": "execute_result"
    }
   ],
   "source": [
    "lst[1:3]"
   ]
  },
  {
   "cell_type": "code",
   "execution_count": 15,
   "metadata": {},
   "outputs": [
    {
     "data": {
      "text/plain": [
       "[2, 3]"
      ]
     },
     "execution_count": 15,
     "metadata": {},
     "output_type": "execute_result"
    }
   ],
   "source": [
    "lst.__getitem__(slice(1, 3))"
   ]
  },
  {
   "cell_type": "markdown",
   "metadata": {},
   "source": [
    "## 舞台裏にはDender```__xxx__```あり"
   ]
  },
  {
   "cell_type": "code",
   "execution_count": 19,
   "metadata": {},
   "outputs": [
    {
     "data": {
      "text/plain": [
       "[1, 2, 3, 4, 5]"
      ]
     },
     "execution_count": 19,
     "metadata": {},
     "output_type": "execute_result"
    }
   ],
   "source": [
    "lst"
   ]
  },
  {
   "cell_type": "code",
   "execution_count": 16,
   "metadata": {},
   "outputs": [
    {
     "data": {
      "text/plain": [
       "5"
      ]
     },
     "execution_count": 16,
     "metadata": {},
     "output_type": "execute_result"
    }
   ],
   "source": [
    "len(lst)"
   ]
  },
  {
   "cell_type": "code",
   "execution_count": 17,
   "metadata": {},
   "outputs": [
    {
     "data": {
      "text/plain": [
       "5"
      ]
     },
     "execution_count": 17,
     "metadata": {},
     "output_type": "execute_result"
    }
   ],
   "source": [
    "lst.__len__()"
   ]
  },
  {
   "cell_type": "code",
   "execution_count": 18,
   "metadata": {},
   "outputs": [
    {
     "data": {
      "text/plain": [
       "3"
      ]
     },
     "execution_count": 18,
     "metadata": {},
     "output_type": "execute_result"
    }
   ],
   "source": [
    "lst.__getitem__(2)"
   ]
  },
  {
   "cell_type": "code",
   "execution_count": 21,
   "metadata": {},
   "outputs": [
    {
     "data": {
      "text/plain": [
       "3"
      ]
     },
     "execution_count": 21,
     "metadata": {},
     "output_type": "execute_result"
    }
   ],
   "source": [
    "a = 1\n",
    "b = 2\n",
    "a.__add__(b)"
   ]
  },
  {
   "cell_type": "markdown",
   "metadata": {},
   "source": [
    "## for文をwhile文で書くと"
   ]
  },
  {
   "cell_type": "code",
   "execution_count": 22,
   "metadata": {},
   "outputs": [
    {
     "name": "stdout",
     "output_type": "stream",
     "text": [
      "5050\n"
     ]
    }
   ],
   "source": [
    "total = 0\n",
    "for i in range(1, 101):\n",
    "    total += i\n",
    "print(total)"
   ]
  },
  {
   "cell_type": "code",
   "execution_count": 23,
   "metadata": {},
   "outputs": [
    {
     "name": "stdout",
     "output_type": "stream",
     "text": [
      "5050\n"
     ]
    }
   ],
   "source": [
    "total = 0\n",
    "my_iterator = iter(range(1, 101)) # イテレーター\n",
    "try:\n",
    "    while True:\n",
    "        i = next(my_iterator) # 要素がある限りnextがmy_iteratiorを呼ぶ\n",
    "        total += i\n",
    "except StopIteration:\n",
    "    pass\n",
    "print(total)"
   ]
  },
  {
   "cell_type": "markdown",
   "metadata": {},
   "source": [
    "## 正確に「iterable/iterator」を知る"
   ]
  },
  {
   "cell_type": "markdown",
   "metadata": {},
   "source": [
    "- イテラブル（iterable）  \n",
    "    - ```__iter__()```に与えられたとき、Iteratorを返すクラス・オブジェクト\n",
    "    - ```__iter__()```を実装しているとは限らない\n",
    "    - （ものすごく簡単にいうと）for文に与えられるもの\n",
    "\n",
    "\n",
    "- イテレータ（iterator）  \n",
    "    - ```__next__()```メソッドで元のIterableの「次の要素」を返すか、  \n",
    "    要素がない場合StopItrration例外を送出するクラス・オブジェクト\n",
    "    - 自分自身を返す```__iter__()```を実装する\n",
    "    - for文の中にイテラブルを回す管理をするもの "
   ]
  },
  {
   "cell_type": "markdown",
   "metadata": {},
   "source": [
    "## Python Documentでおすすめのページ\n",
    "\n",
    "- [Python 標準ライブラリ](https://docs.python.org/ja/3/library/index.html)\n",
    "\n",
    "- [用語集](https://docs.python.org/ja/3/glossary.html)\n",
    "\n",
    "- [チュートリアル](https://docs.python.org/ja/3/tutorial/index.html)"
   ]
  },
  {
   "cell_type": "markdown",
   "metadata": {},
   "source": [
    "## 注意\n",
    "\n",
    "- イテラブル、イテレータ、シーケンスを区別すること"
   ]
  },
  {
   "cell_type": "code",
   "execution_count": null,
   "metadata": {},
   "outputs": [],
   "source": []
  }
 ],
 "metadata": {
  "kernelspec": {
   "display_name": "Python 3",
   "language": "python",
   "name": "python3"
  },
  "language_info": {
   "codemirror_mode": {
    "name": "ipython",
    "version": 3
   },
   "file_extension": ".py",
   "mimetype": "text/x-python",
   "name": "python",
   "nbconvert_exporter": "python",
   "pygments_lexer": "ipython3",
   "version": "3.8.5"
  }
 },
 "nbformat": 4,
 "nbformat_minor": 4
}
