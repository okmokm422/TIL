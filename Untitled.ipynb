{
 "cells": [
  {
   "cell_type": "code",
   "execution_count": 10,
   "metadata": {},
   "outputs": [],
   "source": [
    "from glob import glob\n",
    "\n",
    "import numpy as np\n",
    "import pandas as pd\n",
    "import matplotlib.pyplot as plt"
   ]
  },
  {
   "cell_type": "code",
   "execution_count": 9,
   "metadata": {},
   "outputs": [
    {
     "data": {
      "text/html": [
       "<div>\n",
       "<style scoped>\n",
       "    .dataframe tbody tr th:only-of-type {\n",
       "        vertical-align: middle;\n",
       "    }\n",
       "\n",
       "    .dataframe tbody tr th {\n",
       "        vertical-align: top;\n",
       "    }\n",
       "\n",
       "    .dataframe thead th {\n",
       "        text-align: right;\n",
       "    }\n",
       "</style>\n",
       "<table border=\"1\" class=\"dataframe\">\n",
       "  <thead>\n",
       "    <tr style=\"text-align: right;\">\n",
       "      <th></th>\n",
       "      <th>prediction_target</th>\n",
       "      <th>Effective Date</th>\n",
       "      <th>Local Code</th>\n",
       "      <th>Name (English)</th>\n",
       "      <th>Section/Products</th>\n",
       "      <th>33 Sector(Code)</th>\n",
       "      <th>33 Sector(name)</th>\n",
       "      <th>17 Sector(Code)</th>\n",
       "      <th>17 Sector(name)</th>\n",
       "      <th>Size Code (New Index Series)</th>\n",
       "      <th>Size (New Index Series)</th>\n",
       "      <th>IssuedShareEquityQuote AccountingStandard</th>\n",
       "      <th>IssuedShareEquityQuote ModifyDate</th>\n",
       "      <th>IssuedShareEquityQuote IssuedShare</th>\n",
       "    </tr>\n",
       "  </thead>\n",
       "  <tbody>\n",
       "    <tr>\n",
       "      <th>0</th>\n",
       "      <td>True</td>\n",
       "      <td>20201230</td>\n",
       "      <td>1301</td>\n",
       "      <td>KYOKUYO CO.,LTD.</td>\n",
       "      <td>First Section (Domestic)</td>\n",
       "      <td>50</td>\n",
       "      <td>Fishery, Agriculture and Forestry</td>\n",
       "      <td>1</td>\n",
       "      <td>FOODS</td>\n",
       "      <td>7</td>\n",
       "      <td>TOPIX Small 2</td>\n",
       "      <td>ConsolidatedJP</td>\n",
       "      <td>2020/11/06</td>\n",
       "      <td>10928283.0</td>\n",
       "    </tr>\n",
       "    <tr>\n",
       "      <th>1</th>\n",
       "      <td>True</td>\n",
       "      <td>20201230</td>\n",
       "      <td>1332</td>\n",
       "      <td>Nippon Suisan Kaisha,Ltd.</td>\n",
       "      <td>First Section (Domestic)</td>\n",
       "      <td>50</td>\n",
       "      <td>Fishery, Agriculture and Forestry</td>\n",
       "      <td>1</td>\n",
       "      <td>FOODS</td>\n",
       "      <td>4</td>\n",
       "      <td>TOPIX Mid400</td>\n",
       "      <td>ConsolidatedJP</td>\n",
       "      <td>2020/11/05</td>\n",
       "      <td>312430277.0</td>\n",
       "    </tr>\n",
       "    <tr>\n",
       "      <th>2</th>\n",
       "      <td>True</td>\n",
       "      <td>20201230</td>\n",
       "      <td>1333</td>\n",
       "      <td>Maruha Nichiro Corporation</td>\n",
       "      <td>First Section (Domestic)</td>\n",
       "      <td>50</td>\n",
       "      <td>Fishery, Agriculture and Forestry</td>\n",
       "      <td>1</td>\n",
       "      <td>FOODS</td>\n",
       "      <td>4</td>\n",
       "      <td>TOPIX Mid400</td>\n",
       "      <td>ConsolidatedJP</td>\n",
       "      <td>2020/11/02</td>\n",
       "      <td>52656910.0</td>\n",
       "    </tr>\n",
       "    <tr>\n",
       "      <th>3</th>\n",
       "      <td>True</td>\n",
       "      <td>20201230</td>\n",
       "      <td>1352</td>\n",
       "      <td>HOHSUI CORPORATION</td>\n",
       "      <td>First Section (Domestic)</td>\n",
       "      <td>6050</td>\n",
       "      <td>Wholesale Trade</td>\n",
       "      <td>13</td>\n",
       "      <td>COMMERCIAL &amp; WHOLESALE TRADE</td>\n",
       "      <td>7</td>\n",
       "      <td>TOPIX Small 2</td>\n",
       "      <td>ConsolidatedJP</td>\n",
       "      <td>2020/10/30</td>\n",
       "      <td>8379000.0</td>\n",
       "    </tr>\n",
       "    <tr>\n",
       "      <th>4</th>\n",
       "      <td>False</td>\n",
       "      <td>20201230</td>\n",
       "      <td>1375</td>\n",
       "      <td>YUKIGUNI MAITAKE CO.,LTD.</td>\n",
       "      <td>First Section (Domestic)</td>\n",
       "      <td>50</td>\n",
       "      <td>Fishery, Agriculture and Forestry</td>\n",
       "      <td>1</td>\n",
       "      <td>FOODS</td>\n",
       "      <td>7</td>\n",
       "      <td>TOPIX Small 2</td>\n",
       "      <td>ConsolidatedIFRS</td>\n",
       "      <td>2020/11/05</td>\n",
       "      <td>39850000.0</td>\n",
       "    </tr>\n",
       "  </tbody>\n",
       "</table>\n",
       "</div>"
      ],
      "text/plain": [
       "   prediction_target  Effective Date  Local Code              Name (English)  \\\n",
       "0               True        20201230        1301            KYOKUYO CO.,LTD.   \n",
       "1               True        20201230        1332   Nippon Suisan Kaisha,Ltd.   \n",
       "2               True        20201230        1333  Maruha Nichiro Corporation   \n",
       "3               True        20201230        1352          HOHSUI CORPORATION   \n",
       "4              False        20201230        1375   YUKIGUNI MAITAKE CO.,LTD.   \n",
       "\n",
       "           Section/Products  33 Sector(Code)  \\\n",
       "0  First Section (Domestic)               50   \n",
       "1  First Section (Domestic)               50   \n",
       "2  First Section (Domestic)               50   \n",
       "3  First Section (Domestic)             6050   \n",
       "4  First Section (Domestic)               50   \n",
       "\n",
       "                     33 Sector(name)  17 Sector(Code)  \\\n",
       "0  Fishery, Agriculture and Forestry                1   \n",
       "1  Fishery, Agriculture and Forestry                1   \n",
       "2  Fishery, Agriculture and Forestry                1   \n",
       "3                    Wholesale Trade               13   \n",
       "4  Fishery, Agriculture and Forestry                1   \n",
       "\n",
       "                 17 Sector(name) Size Code (New Index Series)  \\\n",
       "0                         FOODS                             7   \n",
       "1                         FOODS                             4   \n",
       "2                         FOODS                             4   \n",
       "3  COMMERCIAL & WHOLESALE TRADE                             7   \n",
       "4                         FOODS                             7   \n",
       "\n",
       "  Size (New Index Series) IssuedShareEquityQuote AccountingStandard  \\\n",
       "0           TOPIX Small 2                            ConsolidatedJP   \n",
       "1            TOPIX Mid400                            ConsolidatedJP   \n",
       "2            TOPIX Mid400                            ConsolidatedJP   \n",
       "3           TOPIX Small 2                            ConsolidatedJP   \n",
       "4           TOPIX Small 2                          ConsolidatedIFRS   \n",
       "\n",
       "  IssuedShareEquityQuote ModifyDate  IssuedShareEquityQuote IssuedShare  \n",
       "0                        2020/11/06                          10928283.0  \n",
       "1                        2020/11/05                         312430277.0  \n",
       "2                        2020/11/02                          52656910.0  \n",
       "3                        2020/10/30                           8379000.0  \n",
       "4                        2020/11/05                          39850000.0  "
      ]
     },
     "execution_count": 9,
     "metadata": {},
     "output_type": "execute_result"
    }
   ],
   "source": [
    "data_path = os.path."
   ]
  },
  {
   "cell_type": "code",
   "execution_count": 3,
   "metadata": {},
   "outputs": [
    {
     "data": {
      "text/plain": [
       "3706"
      ]
     },
     "execution_count": 3,
     "metadata": {},
     "output_type": "execute_result"
    }
   ],
   "source": [
    "df_stock_list[\"Name (English)\"].nunique()"
   ]
  },
  {
   "cell_type": "code",
   "execution_count": 8,
   "metadata": {},
   "outputs": [
    {
     "data": {
      "text/plain": [
       "Name (English)\n",
       "JTEC CORPORATION    2\n",
       "Shinwa Co.,Ltd.     2\n",
       "TOA CORPORATION     2\n",
       "dtype: int64"
      ]
     },
     "execution_count": 8,
     "metadata": {},
     "output_type": "execute_result"
    }
   ],
   "source": [
    "df = df_stock_list.groupby(\"Name (English)\").size()\n",
    "df[df == 2]"
   ]
  },
  {
   "cell_type": "code",
   "execution_count": null,
   "metadata": {},
   "outputs": [],
   "source": []
  }
 ],
 "metadata": {
  "kernelspec": {
   "display_name": "Python 3",
   "language": "python",
   "name": "python3"
  },
  "language_info": {
   "codemirror_mode": {
    "name": "ipython",
    "version": 3
   },
   "file_extension": ".py",
   "mimetype": "text/x-python",
   "name": "python",
   "nbconvert_exporter": "python",
   "pygments_lexer": "ipython3",
   "version": "3.8.5"
  }
 },
 "nbformat": 4,
 "nbformat_minor": 4
}
