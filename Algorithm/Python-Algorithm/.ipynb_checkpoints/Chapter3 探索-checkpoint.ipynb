{
 "cells": [
  {
   "cell_type": "markdown",
   "metadata": {},
   "source": [
    "## 3-1 探索アルゴリズム"
   ]
  },
  {
   "cell_type": "markdown",
   "metadata": {},
   "source": [
    "- 線形探索\n",
    "- ２分探索\n",
    "- ハッシュ法\n",
    "    - チェイン法\n",
    "    - オープンアドレス法"
   ]
  },
  {
   "cell_type": "markdown",
   "metadata": {},
   "source": [
    "## 3-2 線形探索"
   ]
  },
  {
   "cell_type": "markdown",
   "metadata": {},
   "source": [
    "### 線形探索"
   ]
  },
  {
   "cell_type": "markdown",
   "metadata": {},
   "source": [
    "List 3-1 線形探索（while文）"
   ]
  },
  {
   "cell_type": "code",
   "execution_count": 5,
   "metadata": {},
   "outputs": [
    {
     "name": "stdout",
     "output_type": "stream",
     "text": [
      "from typing import Any, Sequence\r\n",
      "\r\n",
      "def seq_search(a: Sequence, key: Any):\r\n",
      "    # シーケンスaからkeyと等価な要素を線形探索（while文）\r\n",
      "    i = 0\r\n",
      "\r\n",
      "    while True:\r\n",
      "        if i == len(a): # シーケンスaの長さがiと同じ＝探索すべき値を通り過ぎた＝探索失敗\r\n",
      "            return -1\r\n",
      "        if a[i] == key: # 探索成功（添字を返却）\r\n",
      "            return i\r\n",
      "        i += 1\r\n",
      "\r\n",
      "if __name__ == '__main__':\r\n",
      "    num = int(input('要素数：'))\r\n",
      "    x = [None] * num # 要素数numの配列を作成\r\n",
      "\r\n",
      "    for i in range(num):\r\n",
      "        x[i] = int(input(f'x[{i}]：')) # 要素数num分の数値を入力してxシーケンス完成\r\n",
      "    \r\n",
      "    ky = int(input('探す値：')) # キーkyの読込み\r\n",
      "    \r\n",
      "    idx = seq_search(x, ky) # kyと等価な要素をxから探索\r\n",
      "\r\n",
      "    if idx == -1: # 探索失敗のとき\r\n",
      "        print('その値の要素は存在しません。')\r\n",
      "    else: # 探索成功のとき\r\n",
      "        print(f'それはx[{idx}]にあります。')"
     ]
    }
   ],
   "source": [
    "%cat ssearch_while.py"
   ]
  },
  {
   "cell_type": "code",
   "execution_count": 6,
   "metadata": {},
   "outputs": [
    {
     "name": "stdout",
     "output_type": "stream",
     "text": [
      "要素数：5\n",
      "x[0]：2\n",
      "x[1]：7\n",
      "x[2]：5\n",
      "x[3]：3\n",
      "x[4]：9\n",
      "探す値：7\n",
      "それはx[1]にあります。\n"
     ]
    }
   ],
   "source": [
    "%run ssearch_while.py"
   ]
  },
  {
   "cell_type": "markdown",
   "metadata": {},
   "source": [
    "List 3-2 線形探索（for文）"
   ]
  },
  {
   "cell_type": "code",
   "execution_count": 7,
   "metadata": {},
   "outputs": [
    {
     "name": "stdout",
     "output_type": "stream",
     "text": [
      "from typing import Any, Sequence\r\n",
      "\r\n",
      "def seq_search(a: Sequence, key: Any) -> int:\r\n",
      "    # シーケンスaからkeyと等価な要素を線形探索（for文）\r\n",
      "    for i in range(len(a)):\r\n",
      "        if a[i] == key:\r\n",
      "            return i # 探索成功、添字を返却\r\n",
      "    return -1 # 探索失敗、-1を返却\r\n",
      "\r\n",
      "if __name__ == '__main__':\r\n",
      "    num = int(input('要素数：'))\r\n",
      "    x = [None] * num # 要素数numの配列を作成\r\n",
      "\r\n",
      "    for i in range(num):\r\n",
      "        x[i] = int(input(f'x[{i}]：')) # 要素数num分の数値を入力してxシーケンス完成\r\n",
      "    \r\n",
      "    ky = int(input('探す値：')) # キーkyの読込み\r\n",
      "    \r\n",
      "    idx = seq_search(x, ky) # kyと等価な要素をxから探索\r\n",
      "\r\n",
      "    if idx == -1: # 探索失敗のとき\r\n",
      "        print('その値の要素は存在しません。')\r\n",
      "    else: # 探索成功のとき\r\n",
      "        print(f'それはx[{idx}]にあります。')"
     ]
    }
   ],
   "source": [
    "%cat ssearch_for.py"
   ]
  },
  {
   "cell_type": "code",
   "execution_count": 8,
   "metadata": {},
   "outputs": [
    {
     "name": "stdout",
     "output_type": "stream",
     "text": [
      "要素数：5\n",
      "x[0]：34\n",
      "x[1]：8\n",
      "x[2]：6\n",
      "x[3]：456\n",
      "x[4]：2\n",
      "探す値：2\n",
      "それはx[4]にあります。\n"
     ]
    }
   ],
   "source": [
    "%run ssearch_for.py"
   ]
  },
  {
   "cell_type": "markdown",
   "metadata": {},
   "source": [
    "### Column 3-1"
   ]
  },
  {
   "cell_type": "markdown",
   "metadata": {},
   "source": [
    "List 3C-1 線形探索を行う関数seq_searchの利用例（その１）"
   ]
  },
  {
   "cell_type": "code",
   "execution_count": 10,
   "metadata": {},
   "outputs": [
    {
     "name": "stdout",
     "output_type": "stream",
     "text": [
      "実数の探索を行います。\n",
      "注：\"End\"で　入力終了。\n",
      "x[0]：6\n",
      "x[1]：7\n",
      "x[2]：10\n",
      "x[3]：100\n",
      "x[4]：4\n",
      "x[5]：70\n",
      "x[6]：End\n",
      "探す値：6\n",
      "それはx[0]にあります。\n"
     ]
    }
   ],
   "source": [
    "from ssearch_while import seq_search\n",
    "\n",
    "print('実数の探索を行います。')\n",
    "print('注：\"End\"で　入力終了。')\n",
    "\n",
    "number = 0\n",
    "x = [] # seq_searchに入力するシーケンスx\n",
    "\n",
    "while True:\n",
    "    s = input(f'x[{number}]：')\n",
    "    if s == 'End':\n",
    "        break # inputがEndだったら終わり\n",
    "    x.append(float(s)) # 末尾に追加\n",
    "    number += 1\n",
    "    \n",
    "ky = float(input('探す値：')) # キーkyの読込み\n",
    "\n",
    "idx = seq_search(x, ky)\n",
    "if idx == -1:\n",
    "    print('その値の要素は存在しません。')\n",
    "else:\n",
    "    print(f'それはx[{idx}]にあります。')"
   ]
  },
  {
   "cell_type": "markdown",
   "metadata": {},
   "source": [
    "List 3C-2 線形探索を行う関数seq_searchの利用例（その２）"
   ]
  },
  {
   "cell_type": "code",
   "execution_count": 28,
   "metadata": {},
   "outputs": [
    {
     "name": "stdout",
     "output_type": "stream",
     "text": [
      "(4, 7, 5.6, 2, 3.14, 1)中の5.6の添字は2です。\n",
      "\n",
      "string中の\"n\"の添字は4です。\n",
      "\n",
      "['DTS', 'AAC', 'FLAC']中の\"DTS\"の添字は0です。\n"
     ]
    }
   ],
   "source": [
    "from ssearch_while import seq_search\n",
    "\n",
    "t = (4, 7, 5.6, 2, 3.14, 1)\n",
    "s = 'string'\n",
    "a = ['DTS', 'AAC', 'FLAC']\n",
    "\n",
    "print(f'{t}中の5.6の添字は{seq_search(t, 5.6)}です。', end = '\\n\\n')\n",
    "print(f'{s}中の\"n\"の添字は{seq_search(s, \"n\")}です。', end = '\\n\\n')\n",
    "print(f'{a}中の\"DTS\"の添字は{seq_search(a, \"DTS\")}です。')"
   ]
  },
  {
   "cell_type": "markdown",
   "metadata": {},
   "source": [
    "### 番兵法"
   ]
  },
  {
   "cell_type": "code",
   "execution_count": 10,
   "metadata": {},
   "outputs": [
    {
     "name": "stdout",
     "output_type": "stream",
     "text": [
      "from typing import Any, Sequence\r\n",
      "import copy\r\n",
      "\r\n",
      "def seq_search(seq: Sequence, key: Any) -> int:\r\n",
      "    # シーケンスseqからkeyと一致する要素を線形探索（番兵法）\r\n",
      "    a = copy.deepcopy(seq) # seqのコピー\r\n",
      "    a.append(key) # 番兵を追加\r\n",
      "\r\n",
      "    i = 0\r\n",
      "    while True: # 探索成功でbreakするまで探し続ける。\r\n",
      "        if a[i] == key:\r\n",
      "            break # 探索成功\r\n",
      "        i += 1\r\n",
      "    return -1 if i == len(seq) else i\r\n",
      "\r\n",
      "if __name__ == '__main__':\r\n",
      "    num = int(input('要素数：'))\r\n",
      "    x = [None] * num # 要素数numのリストを作成\r\n",
      "\r\n",
      "    for i in range(num): # num回inputを繰り返しリストの中身を作る\r\n",
      "        x[i] = int(input(f'x[{i}]：'))\r\n",
      "\r\n",
      "    ky = int(input('探す値：')) # kyの読込み\r\n",
      "\r\n",
      "    idx = seq_search(x, ky) # kyと等価な要素をxから探索\r\n",
      "    \r\n",
      "    if idx == -1:\r\n",
      "         print('その値の要素は存在しません。')\r\n",
      "    else:\r\n",
      "        print(f'それはx[{idx}]にあります。')"
     ]
    }
   ],
   "source": [
    "%cat ssearch_sentinel.py"
   ]
  },
  {
   "cell_type": "code",
   "execution_count": 11,
   "metadata": {},
   "outputs": [
    {
     "name": "stdout",
     "output_type": "stream",
     "text": [
      "要素数：5\n",
      "x[0]：10\n",
      "x[1]：40\n",
      "x[2]：3\n",
      "x[3]：6\n",
      "x[4]：7\n",
      "探す値：3\n",
      "それはx[2]にあります。\n"
     ]
    }
   ],
   "source": [
    "%run ssearch_sentinel.py"
   ]
  },
  {
   "cell_type": "markdown",
   "metadata": {},
   "source": [
    "## 3-3 2分探索"
   ]
  },
  {
   "cell_type": "markdown",
   "metadata": {},
   "source": [
    "### 2分探索"
   ]
  },
  {
   "cell_type": "code",
   "execution_count": null,
   "metadata": {},
   "outputs": [],
   "source": []
  }
 ],
 "metadata": {
  "kernelspec": {
   "display_name": "Python 3",
   "language": "python",
   "name": "python3"
  },
  "language_info": {
   "codemirror_mode": {
    "name": "ipython",
    "version": 3
   },
   "file_extension": ".py",
   "mimetype": "text/x-python",
   "name": "python",
   "nbconvert_exporter": "python",
   "pygments_lexer": "ipython3",
   "version": "3.7.6"
  },
  "latex_envs": {
   "LaTeX_envs_menu_present": true,
   "autoclose": false,
   "autocomplete": true,
   "bibliofile": "biblio.bib",
   "cite_by": "apalike",
   "current_citInitial": 1,
   "eqLabelWithNumbers": true,
   "eqNumInitial": 1,
   "hotkeys": {
    "equation": "Ctrl-E",
    "itemize": "Ctrl-I"
   },
   "labels_anchors": false,
   "latex_user_defs": false,
   "report_style_numbering": false,
   "user_envs_cfg": false
  },
  "toc": {
   "base_numbering": 1,
   "nav_menu": {},
   "number_sections": false,
   "sideBar": true,
   "skip_h1_title": false,
   "title_cell": "Table of Contents",
   "title_sidebar": "Contents",
   "toc_cell": false,
   "toc_position": {},
   "toc_section_display": true,
   "toc_window_display": true
  }
 },
 "nbformat": 4,
 "nbformat_minor": 4
}
