{
 "cells": [
  {
   "cell_type": "markdown",
   "metadata": {},
   "source": [
    "## 3-1 探索アルゴリズム"
   ]
  },
  {
   "cell_type": "markdown",
   "metadata": {},
   "source": [
    "- 線形探索\n",
    "- ２分探索\n",
    "- ハッシュ法\n",
    "    - チェイン法\n",
    "    - オープンアドレス法"
   ]
  },
  {
   "cell_type": "markdown",
   "metadata": {},
   "source": [
    "## 3-2 線形探索"
   ]
  },
  {
   "cell_type": "markdown",
   "metadata": {},
   "source": [
    "### 線形探索"
   ]
  },
  {
   "cell_type": "markdown",
   "metadata": {},
   "source": [
    "List 3-1 線形探索（while文）"
   ]
  },
  {
   "cell_type": "code",
   "execution_count": 5,
   "metadata": {},
   "outputs": [
    {
     "name": "stdout",
     "output_type": "stream",
     "text": [
      "from typing import Any, Sequence\r\n",
      "\r\n",
      "def seq_search(a: Sequence, key: Any):\r\n",
      "    # シーケンスaからkeyと等価な要素を線形探索（while文）\r\n",
      "    i = 0\r\n",
      "\r\n",
      "    while True:\r\n",
      "        if i == len(a): # シーケンスaの長さがiと同じ＝探索すべき値を通り過ぎた＝探索失敗\r\n",
      "            return -1\r\n",
      "        if a[i] == key: # 探索成功（添字を返却）\r\n",
      "            return i\r\n",
      "        i += 1\r\n",
      "\r\n",
      "if __name__ == '__main__':\r\n",
      "    num = int(input('要素数：'))\r\n",
      "    x = [None] * num # 要素数numの配列を作成\r\n",
      "\r\n",
      "    for i in range(num):\r\n",
      "        x[i] = int(input(f'x[{i}]：')) # 要素数num分の数値を入力してxシーケンス完成\r\n",
      "    \r\n",
      "    ky = int(input('探す値：')) # キーkyの読込み\r\n",
      "    \r\n",
      "    idx = seq_search(x, ky) # kyと等価な要素をxから探索\r\n",
      "\r\n",
      "    if idx == -1: # 探索失敗のとき\r\n",
      "        print('その値の要素は存在しません。')\r\n",
      "    else: # 探索成功のとき\r\n",
      "        print(f'それはx[{idx}]にあります。')"
     ]
    }
   ],
   "source": [
    "%cat ssearch_while.py"
   ]
  },
  {
   "cell_type": "code",
   "execution_count": 6,
   "metadata": {},
   "outputs": [
    {
     "name": "stdout",
     "output_type": "stream",
     "text": [
      "要素数：5\n",
      "x[0]：2\n",
      "x[1]：7\n",
      "x[2]：5\n",
      "x[3]：3\n",
      "x[4]：9\n",
      "探す値：7\n",
      "それはx[1]にあります。\n"
     ]
    }
   ],
   "source": [
    "%run ssearch_while.py"
   ]
  },
  {
   "cell_type": "markdown",
   "metadata": {},
   "source": [
    "List 3-2 線形探索（for文）"
   ]
  },
  {
   "cell_type": "code",
   "execution_count": 7,
   "metadata": {},
   "outputs": [
    {
     "name": "stdout",
     "output_type": "stream",
     "text": [
      "from typing import Any, Sequence\r\n",
      "\r\n",
      "def seq_search(a: Sequence, key: Any) -> int:\r\n",
      "    # シーケンスaからkeyと等価な要素を線形探索（for文）\r\n",
      "    for i in range(len(a)):\r\n",
      "        if a[i] == key:\r\n",
      "            return i # 探索成功、添字を返却\r\n",
      "    return -1 # 探索失敗、-1を返却\r\n",
      "\r\n",
      "if __name__ == '__main__':\r\n",
      "    num = int(input('要素数：'))\r\n",
      "    x = [None] * num # 要素数numの配列を作成\r\n",
      "\r\n",
      "    for i in range(num):\r\n",
      "        x[i] = int(input(f'x[{i}]：')) # 要素数num分の数値を入力してxシーケンス完成\r\n",
      "    \r\n",
      "    ky = int(input('探す値：')) # キーkyの読込み\r\n",
      "    \r\n",
      "    idx = seq_search(x, ky) # kyと等価な要素をxから探索\r\n",
      "\r\n",
      "    if idx == -1: # 探索失敗のとき\r\n",
      "        print('その値の要素は存在しません。')\r\n",
      "    else: # 探索成功のとき\r\n",
      "        print(f'それはx[{idx}]にあります。')"
     ]
    }
   ],
   "source": [
    "%cat ssearch_for.py"
   ]
  },
  {
   "cell_type": "code",
   "execution_count": 8,
   "metadata": {},
   "outputs": [
    {
     "name": "stdout",
     "output_type": "stream",
     "text": [
      "要素数：5\n",
      "x[0]：34\n",
      "x[1]：8\n",
      "x[2]：6\n",
      "x[3]：456\n",
      "x[4]：2\n",
      "探す値：2\n",
      "それはx[4]にあります。\n"
     ]
    }
   ],
   "source": [
    "%run ssearch_for.py"
   ]
  },
  {
   "cell_type": "markdown",
   "metadata": {},
   "source": [
    "### Column 3-1"
   ]
  },
  {
   "cell_type": "markdown",
   "metadata": {},
   "source": [
    "List 3C-1 線形探索を行う関数seq_searchの利用例（その１）"
   ]
  },
  {
   "cell_type": "code",
   "execution_count": 10,
   "metadata": {},
   "outputs": [
    {
     "name": "stdout",
     "output_type": "stream",
     "text": [
      "実数の探索を行います。\n",
      "注：\"End\"で　入力終了。\n",
      "x[0]：6\n",
      "x[1]：7\n",
      "x[2]：10\n",
      "x[3]：100\n",
      "x[4]：4\n",
      "x[5]：70\n",
      "x[6]：End\n",
      "探す値：6\n",
      "それはx[0]にあります。\n"
     ]
    }
   ],
   "source": [
    "from ssearch_while import seq_search\n",
    "\n",
    "print('実数の探索を行います。')\n",
    "print('注：\"End\"で　入力終了。')\n",
    "\n",
    "number = 0\n",
    "x = [] # seq_searchに入力するシーケンスx\n",
    "\n",
    "while True:\n",
    "    s = input(f'x[{number}]：')\n",
    "    if s == 'End':\n",
    "        break # inputがEndだったら終わり\n",
    "    x.append(float(s)) # 末尾に追加\n",
    "    number += 1\n",
    "    \n",
    "ky = float(input('探す値：')) # キーkyの読込み\n",
    "\n",
    "idx = seq_search(x, ky)\n",
    "if idx == -1:\n",
    "    print('その値の要素は存在しません。')\n",
    "else:\n",
    "    print(f'それはx[{idx}]にあります。')"
   ]
  },
  {
   "cell_type": "markdown",
   "metadata": {},
   "source": [
    "List 3C-2 線形探索を行う関数seq_searchの利用例（その２）"
   ]
  },
  {
   "cell_type": "code",
   "execution_count": 28,
   "metadata": {},
   "outputs": [
    {
     "name": "stdout",
     "output_type": "stream",
     "text": [
      "(4, 7, 5.6, 2, 3.14, 1)中の5.6の添字は2です。\n",
      "\n",
      "string中の\"n\"の添字は4です。\n",
      "\n",
      "['DTS', 'AAC', 'FLAC']中の\"DTS\"の添字は0です。\n"
     ]
    }
   ],
   "source": [
    "from ssearch_while import seq_search\n",
    "\n",
    "t = (4, 7, 5.6, 2, 3.14, 1)\n",
    "s = 'string'\n",
    "a = ['DTS', 'AAC', 'FLAC']\n",
    "\n",
    "print(f'{t}中の5.6の添字は{seq_search(t, 5.6)}です。', end = '\\n\\n')\n",
    "print(f'{s}中の\"n\"の添字は{seq_search(s, \"n\")}です。', end = '\\n\\n')\n",
    "print(f'{a}中の\"DTS\"の添字は{seq_search(a, \"DTS\")}です。')"
   ]
  },
  {
   "cell_type": "markdown",
   "metadata": {},
   "source": [
    "### 番兵法"
   ]
  },
  {
   "cell_type": "code",
   "execution_count": 10,
   "metadata": {},
   "outputs": [
    {
     "name": "stdout",
     "output_type": "stream",
     "text": [
      "from typing import Any, Sequence\r\n",
      "import copy\r\n",
      "\r\n",
      "def seq_search(seq: Sequence, key: Any) -> int:\r\n",
      "    # シーケンスseqからkeyと一致する要素を線形探索（番兵法）\r\n",
      "    a = copy.deepcopy(seq) # seqのコピー\r\n",
      "    a.append(key) # 番兵を追加\r\n",
      "\r\n",
      "    i = 0\r\n",
      "    while True: # 探索成功でbreakするまで探し続ける。\r\n",
      "        if a[i] == key:\r\n",
      "            break # 探索成功\r\n",
      "        i += 1\r\n",
      "    return -1 if i == len(seq) else i\r\n",
      "\r\n",
      "if __name__ == '__main__':\r\n",
      "    num = int(input('要素数：'))\r\n",
      "    x = [None] * num # 要素数numのリストを作成\r\n",
      "\r\n",
      "    for i in range(num): # num回inputを繰り返しリストの中身を作る\r\n",
      "        x[i] = int(input(f'x[{i}]：'))\r\n",
      "\r\n",
      "    ky = int(input('探す値：')) # kyの読込み\r\n",
      "\r\n",
      "    idx = seq_search(x, ky) # kyと等価な要素をxから探索\r\n",
      "    \r\n",
      "    if idx == -1:\r\n",
      "         print('その値の要素は存在しません。')\r\n",
      "    else:\r\n",
      "        print(f'それはx[{idx}]にあります。')"
     ]
    }
   ],
   "source": [
    "%cat ssearch_sentinel.py"
   ]
  },
  {
   "cell_type": "code",
   "execution_count": 11,
   "metadata": {},
   "outputs": [
    {
     "name": "stdout",
     "output_type": "stream",
     "text": [
      "要素数：5\n",
      "x[0]：10\n",
      "x[1]：40\n",
      "x[2]：3\n",
      "x[3]：6\n",
      "x[4]：7\n",
      "探す値：3\n",
      "それはx[2]にあります。\n"
     ]
    }
   ],
   "source": [
    "%run ssearch_sentinel.py"
   ]
  },
  {
   "cell_type": "markdown",
   "metadata": {},
   "source": [
    "## 3-3 2分探索"
   ]
  },
  {
   "cell_type": "markdown",
   "metadata": {},
   "source": [
    "### 2分探索"
   ]
  },
  {
   "cell_type": "code",
   "execution_count": 6,
   "metadata": {},
   "outputs": [
    {
     "name": "stdout",
     "output_type": "stream",
     "text": [
      "from typing import Any, Sequence\r\n",
      "\r\n",
      "def bin_search(a: Sequence, key: Any) -> int:\r\n",
      "    # シーケンスaからkeyと一致する要素を二分探索\r\n",
      "    pl = 0 # 先頭の添字\r\n",
      "    pr = len(a) - 1 # 末尾の添字\r\n",
      "\r\n",
      "    while True:\r\n",
      "        pc = (pl + pr) // 2 # 中央要素の添字\r\n",
      "        if a[pc] == key:\r\n",
      "            return pc # 探索成功\r\n",
      "        elif a[pc] < key: # keyが中央要素より後半にあるとき\r\n",
      "            pl = pc + 1 # 探索範囲を後半に絞り込む。先頭の添字を前回の中央要素+1に。\r\n",
      "        else: # keyが中央要素より前半にあるとき\r\n",
      "            pr = pc - 1 # 対象範囲を前半に絞り込む。末尾の添字を前回の中央要素-1に。\r\n",
      "        if pl > pr:\r\n",
      "            break\r\n",
      "    return -1\r\n",
      "\r\n",
      "if if __name__ == \"__main__\":\r\n",
      "    num = int(input('要素数：'))\r\n",
      "    x = [None] * num # 要素数numの配列を作成\r\n",
      "\r\n",
      "    print('昇順に入力してください。')\r\n",
      "\r\n",
      "    x[0] = int(input('x[0]：'))\r\n",
      "\r\n",
      "    for i in range(1, num):\r\n",
      "        while True:\r\n",
      "            x[i] = int(input(f'x[{i}]：'))\r\n",
      "            if x[i] >= x[i-1]:\r\n",
      "                break\r\n",
      "\r\n",
      "    ky = input('探す値：') # キーkyの読込み\r\n",
      "\r\n",
      "    idx = bin_search(x, ky) # kyと等価な要素をxから探索\r\n",
      "\r\n",
      "    if idx == -1:\r\n",
      "        print('その値の要素は存在しません。')\r\n",
      "    else:\r\n",
      "        print(f'その値はx[{idx}]にあります。')"
     ]
    }
   ],
   "source": [
    "%cat bsearch.py"
   ]
  },
  {
   "cell_type": "code",
   "execution_count": 12,
   "metadata": {},
   "outputs": [
    {
     "name": "stdout",
     "output_type": "stream",
     "text": [
      "要素数：10\n",
      "昇順に入力してください。\n",
      "x[0]：2\n",
      "x[1]：5\n",
      "x[2]：7\n",
      "x[3]：9\n",
      "x[4]：10\n",
      "x[5]：13\n",
      "x[6]：17\n",
      "x[7]：20\n",
      "x[8]：21\n",
      "x[9]：25\n",
      "探す値：21\n",
      "その値はx[8]にあります。\n"
     ]
    }
   ],
   "source": [
    "%run bsearch.py"
   ]
  },
  {
   "cell_type": "markdown",
   "metadata": {},
   "source": [
    "### 計算量"
   ]
  },
  {
   "cell_type": "markdown",
   "metadata": {},
   "source": [
    "- 時間計算量\n",
    "- 領域計算量"
   ]
  },
  {
   "cell_type": "markdown",
   "metadata": {},
   "source": [
    "#### 線形探索の時間計算量"
   ]
  },
  {
   "cell_type": "markdown",
   "metadata": {},
   "source": [
    "計算量は$O(n)$"
   ]
  },
  {
   "cell_type": "code",
   "execution_count": 3,
   "metadata": {},
   "outputs": [],
   "source": [
    "from typing import Any, Sequence\n",
    "import time\n",
    "\n",
    "def seq_search(a: Sequence, key: Any) -> int:\n",
    "    i = 0\n",
    "    \n",
    "    while i < n:\n",
    "        if a[i] == key:\n",
    "            return i # 探索成功（添字を返却）\n",
    "        i += 1\n",
    "        \n",
    "    return -1 # 探索失敗（-1を返却）"
   ]
  },
  {
   "cell_type": "markdown",
   "metadata": {},
   "source": [
    "#### 二分探索の時間計算量"
   ]
  },
  {
   "cell_type": "markdown",
   "metadata": {},
   "source": [
    "計算量は$O(log(n))$"
   ]
  },
  {
   "cell_type": "code",
   "execution_count": 4,
   "metadata": {},
   "outputs": [],
   "source": [
    "def bin_search(a: Sequence, key: Any) -> int:\n",
    "    # シーケンスaからkeyと一致する要素を二分探索\n",
    "    pl = 0 # 探索範囲先頭の添字\n",
    "    pr = len(a) - 1 # 探索範囲末尾の添字\n",
    "    \n",
    "    while True:\n",
    "        pc = (pl + pr) // 2 # 中央要素の添字\n",
    "        if a[pc] == key:\n",
    "            return pc\n",
    "        elif a[pc] < key:\n",
    "            pl = pc + 1 # 探索範囲を後半に絞り込む\n",
    "        else:\n",
    "            pr = pc - 1 # 探索範囲を前半に絞り込む\n",
    "        if pl > pr:\n",
    "            break\n",
    "    return -1 # 探索失敗"
   ]
  },
  {
   "cell_type": "markdown",
   "metadata": {},
   "source": [
    "#### Column 3-3 ２分探索の途中結果の表示"
   ]
  },
  {
   "cell_type": "markdown",
   "metadata": {},
   "source": [
    "List 3C-3"
   ]
  },
  {
   "cell_type": "code",
   "execution_count": 23,
   "metadata": {},
   "outputs": [],
   "source": [
    "def bin_search(a: Sequence, key: Any) -> int:\n",
    "    # シーケンスaからkeyと一致する要素を二分探索\n",
    "    pl = 0 # 探索範囲先頭の添字\n",
    "    pr = len(a) - 1  # 探索範囲末尾の添字\n",
    "    \n",
    "    print('    |', end='')\n",
    "    for i in range(len(a)):\n",
    "        print(f'{i :4}', end=' ')\n",
    "    print()\n",
    "    print('---+' + (4 * len(a) + 2) * '-')\n",
    "    \n",
    "    while True:\n",
    "        pc = (pl + pr) // 2 # 中央要素の添字\n",
    "        \n",
    "        print('    |', end=' ')\n",
    "        if pl != pc:\n",
    "            print((pl * 4 + 1) * ' ' + '<-' + ((pc - pl) * 4) * ' ' + ' + ', end='')\n",
    "        else:\n",
    "            print((pc * 4 + 1) * ' ' + '<+', end='')\n",
    "        if pc != pr:\n",
    "            print(((pr - pc) * 4 - 2) * ' ' + '->')\n",
    "        else:\n",
    "            print('->')\n",
    "        print(f'{pc:3}|', end='')\n",
    "        for i in range(len(a)):\n",
    "            print(f'{a[i]:4}', end='')\n",
    "        print('\\n    |')\n",
    "        \n",
    "        if a[pc] == key:\n",
    "            return pc\n",
    "        elif a[pc] < key:\n",
    "            pl = pc + 1\n",
    "        else:\n",
    "            pr = pc - 1\n",
    "        if pl > pr:\n",
    "            break\n",
    "    return -1"
   ]
  },
  {
   "cell_type": "code",
   "execution_count": 24,
   "metadata": {},
   "outputs": [
    {
     "name": "stdout",
     "output_type": "stream",
     "text": [
      "    |   0    1    2    3    4    5    6    7    8    9   10 \n",
      "---+----------------------------------------------\n",
      "    |  <-                     +                   ->\n",
      "  5|   1   2   3   4   5   6   7   8   9  10  11\n",
      "    |\n",
      "    |                          <-         +       ->\n",
      "  8|   1   2   3   4   5   6   7   8   9  10  11\n",
      "    |\n",
      "    |                          <+  ->\n",
      "  6|   1   2   3   4   5   6   7   8   9  10  11\n",
      "    |\n",
      "    |                              <+->\n",
      "  7|   1   2   3   4   5   6   7   8   9  10  11\n",
      "    |\n"
     ]
    },
    {
     "data": {
      "text/plain": [
       "7"
      ]
     },
     "execution_count": 24,
     "metadata": {},
     "output_type": "execute_result"
    }
   ],
   "source": [
    "a = [1,2,3,4,5,6,7,8,9,10,11]\n",
    "key = 8\n",
    "\n",
    "bin_search(a, key)"
   ]
  },
  {
   "cell_type": "markdown",
   "metadata": {},
   "source": [
    "## 3-4 ハッシュ法"
   ]
  },
  {
   "cell_type": "markdown",
   "metadata": {},
   "source": [
    "### ソート済み配列の操作"
   ]
  },
  {
   "cell_type": "markdown",
   "metadata": {},
   "source": [
    "ソートされた配列に要素を追加するときは、挿入すべき位置を二分探索法によって調べる。  \n",
    "→見つけた位置の後方要素を１つずつ後ろにずらす  \n",
    "→要素を代入する"
   ]
  },
  {
   "cell_type": "markdown",
   "metadata": {},
   "source": [
    "### ハッシュ法"
   ]
  },
  {
   "cell_type": "markdown",
   "metadata": {},
   "source": [
    "- 探索だけではなく追加・削除も効率よく行うのがハッシュ法\n",
    "- ハッシュ値  \n",
    "    各要素の値　÷　要素数　の余り\n",
    "- ハッシュ表  \n",
    "    ハッシュ値が添え字となるように、キーを格納した配列表  \n",
    "    各要素をバケットという\n",
    "- ハッシュ関数  \n",
    "    キーからハッシュ値への変換を行う手続き"
   ]
  },
  {
   "cell_type": "markdown",
   "metadata": {},
   "source": [
    "### 衝突"
   ]
  },
  {
   "cell_type": "markdown",
   "metadata": {},
   "source": [
    "- 衝突    \n",
    "    格納すべき各要素（バケット）が重複する現象\n",
    "- 衝突が起きたときの対処方法  \n",
    "    - チェイン法  \n",
    "    - オープンアドレス法"
   ]
  },
  {
   "cell_type": "markdown",
   "metadata": {},
   "source": [
    "### チェイン法"
   ]
  },
  {
   "cell_type": "markdown",
   "metadata": {},
   "source": [
    "同一ハッシュ値を持つデータを線形リスト（鎖＝チェイン）で繋ぐ方法"
   ]
  },
  {
   "cell_type": "code",
   "execution_count": null,
   "metadata": {},
   "outputs": [],
   "source": [
    "# チェイン法によるハッシュ\n",
    "from __future__ import annotations\n",
    "from typing import Any, Type\n",
    "import hashlib\n",
    "\n",
    "class Node:\n",
    "    # ハッシュを構成するノード\n",
    "    def __init__(self, key: Any, value: Any, next:Node) -> None:\n",
    "        # 初期化\n",
    "        self.key = key # キー、各要素の値\n",
    "        self.value = value # 値\n",
    "        self.next = next # 後続ノードへの参照"
   ]
  },
  {
   "cell_type": "code",
   "execution_count": null,
   "metadata": {},
   "outputs": [],
   "source": [
    "# チェイン法を実現するハッシュクラス\n",
    "class ChainedHash:\n",
    "    \n",
    "    def __init__(self, capacity: int) -> None:\n",
    "        # 初期化、空のハッシュ表を生成\n",
    "        self.capacity = capacity # ハッシュ表の容量\n",
    "        self.table = [None] * self.capacity # ハッシュ表（リスト）\n",
    "        \n",
    "    # ハッシュ値を求める\n",
    "    def hash_value(self, key: Any) -> int:\n",
    "        if isinstance(key, int): # keyがintのときハッシュ値を求める\n",
    "            return key %  self.capacity\n",
    "        # keyがintではないとき\n",
    "        # hashlib.sha256() 与えられたバイト文字列のハッシュ値を求める\n",
    "        # encode() バイト文字列を生成\n",
    "        # hexdigest() ハッシュ値を16進の文字列として取り出す\n",
    "        return (int(hashlib.sha256(str(key).encode()).hexdigest(), 16) % self.capacity)\n",
    "    \n",
    "    # keyをもつ要素の探索（値を返却）\n",
    "    def search(self, key: Any) -> Any:\n",
    "        hash = self.hash_value(key) #　探索するキーのハッシュ値\n",
    "        p = self. table[hash] # 着目ノード"
   ]
  }
 ],
 "metadata": {
  "kernelspec": {
   "display_name": "Python 3",
   "language": "python",
   "name": "python3"
  },
  "language_info": {
   "codemirror_mode": {
    "name": "ipython",
    "version": 3
   },
   "file_extension": ".py",
   "mimetype": "text/x-python",
   "name": "python",
   "nbconvert_exporter": "python",
   "pygments_lexer": "ipython3",
   "version": "3.7.6"
  },
  "latex_envs": {
   "LaTeX_envs_menu_present": true,
   "autoclose": false,
   "autocomplete": true,
   "bibliofile": "biblio.bib",
   "cite_by": "apalike",
   "current_citInitial": 1,
   "eqLabelWithNumbers": true,
   "eqNumInitial": 1,
   "hotkeys": {
    "equation": "Ctrl-E",
    "itemize": "Ctrl-I"
   },
   "labels_anchors": false,
   "latex_user_defs": false,
   "report_style_numbering": false,
   "user_envs_cfg": false
  },
  "toc": {
   "base_numbering": 1,
   "nav_menu": {},
   "number_sections": false,
   "sideBar": true,
   "skip_h1_title": false,
   "title_cell": "Table of Contents",
   "title_sidebar": "Contents",
   "toc_cell": false,
   "toc_position": {
    "height": "calc(100% - 180px)",
    "left": "10px",
    "top": "150px",
    "width": "288px"
   },
   "toc_section_display": true,
   "toc_window_display": true
  }
 },
 "nbformat": 4,
 "nbformat_minor": 4
}
