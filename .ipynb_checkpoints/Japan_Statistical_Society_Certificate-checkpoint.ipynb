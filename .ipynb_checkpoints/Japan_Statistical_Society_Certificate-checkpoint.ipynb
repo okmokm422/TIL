{
 "cells": [
  {
   "cell_type": "markdown",
   "metadata": {},
   "source": [
    "[統計Web　統計学の時間](https://bellcurve.jp/statistics/course/)より"
   ]
  },
  {
   "cell_type": "markdown",
   "metadata": {},
   "source": [
    "# 18. 母平均の点推定"
   ]
  },
  {
   "cell_type": "markdown",
   "metadata": {},
   "source": [
    "## 18-1. 点推定とは"
   ]
  },
  {
   "cell_type": "markdown",
   "metadata": {},
   "source": [
    "- 推定  \n",
    "    母集団を特徴づける<font color='red'>母数</font>を推測\n",
    "\n",
    "\n",
    "- 検定  \n",
    "    母集団から抽出された<font color='red'>標本</font>の統計量に関する仮説が正しいかを統計学的に判定  "
   ]
  },
  {
   "cell_type": "markdown",
   "metadata": {},
   "source": [
    "## 18-2. 母平均の点推定と推定量・推定値"
   ]
  },
  {
   "cell_type": "markdown",
   "metadata": {},
   "source": [
    "- 標本平均を母集団の平均値（母平均）と見なす。  \n",
    "\n",
    "\n",
    "- 標本平均の期待値$E(\\overline{x})$は母平均$\\mu$と一致する（大数の法則）を用いている。"
   ]
  },
  {
   "cell_type": "markdown",
   "metadata": {},
   "source": [
    "## 18-3. 推定量の性質"
   ]
  },
  {
   "cell_type": "markdown",
   "metadata": {},
   "source": [
    "母平均の推定量は以下の２つの性質をもつため、標本平均の値を母平均の推定量として使うことができる。\n",
    "- 一致性  \n",
    "    nが大きくなれば、推定量がだんだんと真のパラメータに近づく性質。\n",
    "    \n",
    "  \n",
    "- 不偏性  \n",
    "    nの値に関係なく、推定量$\\widehat{\\theta}$の期待値が真のパラメータ$\\theta$であること。"
   ]
  },
  {
   "cell_type": "markdown",
   "metadata": {},
   "source": [
    "## 18-4. 標本分散と不偏分散"
   ]
  },
  {
   "cell_type": "markdown",
   "metadata": {},
   "source": [
    "- 標本分散  \n",
    "    $\\displaystyle \\widehat{\\sigma} ^{2}=\\frac{1}{n} \\sum_{i=1}^{n}(x_{i}- \\overline{x})^{2}$  \n",
    "\n",
    "    nが十分に大きくない場合には標本分散の期待値は母分散に一致せず、母分散より小さくなる。  \n",
    "\n",
    "\n",
    "- 不偏分散  \n",
    "    $\\displaystyle s^{2}= \\displaystyle \\frac{n}{n-1} \\times \\displaystyle \\frac{1}{n} \\sum_{i=1}^{n}(x_{i}- \\overline{x})^{2} =\\frac{1}{n-1} \\sum_{i=1}^{n}(x_{i}- \\overline{x})^{2}$  \n",
    "    \n",
    "    標本分散の期待値が母分散に一致するように標本分散の算出式にn/(n-1)をかけたもの。"
   ]
  },
  {
   "cell_type": "markdown",
   "metadata": {},
   "source": [
    "## 18-5. 標準偏差と標準誤差"
   ]
  },
  {
   "cell_type": "markdown",
   "metadata": {},
   "source": [
    "- 標準偏差  \n",
    "    \n",
    "    $\\displaystyle s= \\sqrt{\\frac{1}{n-1} \\sum_{i=1}^{n}{(x_{i}- \\overline{x})^{2}}}$  \n",
    "    \n",
    "\n",
    "- 標準誤差  \n",
    "    \n",
    "    $\\displaystyle SE=\\frac{s}{\\sqrt{n}}=\\frac{\\sqrt{\\frac{1}{n-1} \\sum_{i=1}^{n}{(x_{i}- \\overline{x})^{2}}}}{\\sqrt{n}} $  \n",
    "    \n",
    "    推定量の標準偏差であり、標本から得られる推定量そのもののバラつき（＝精度）を表すもの。  \n",
    "    標準誤差は、一般的に「標本平均の標準偏差」を意味する。"
   ]
  },
  {
   "cell_type": "markdown",
   "metadata": {},
   "source": [
    "# 19. 母平均の区間推定（母分散既知）"
   ]
  },
  {
   "cell_type": "markdown",
   "metadata": {},
   "source": [
    "## 19-1. 区間推定とは"
   ]
  },
  {
   "cell_type": "markdown",
   "metadata": {},
   "source": [
    "- 区間推定  \n",
    "    母集団の従う分布が正規分布であると仮定できるときに、標本から得られた値を使ってある区間でもって母平均などの母数を推定する方法。\n",
    "    \n",
    "    \n",
    "- 信頼区間  \n",
    "    区間推定で推定した値の区間のことを「信頼区間」という。  \n",
    "    論文などでは略語表記として「CI」が用いられる。  \n",
    "    \n",
    "    \n",
    "- 信頼係数/信頼度  \n",
    "    ある区間に母数が含まれる確率のこと。"
   ]
  },
  {
   "cell_type": "markdown",
   "metadata": {},
   "source": [
    "<B>母平均の区間推定について</B>\n",
    "\n",
    "- 母分散が分かっている場合（母分散既知）  \n",
    "    母分散$\\sigma^{2}$の値を使い、標準正規分布を用いて信頼区間を算出する。  \n",
    "\n",
    "\n",
    "- 母分散が分からない場合（母分散未知）  \n",
    "    不偏分散$s^{2}$の値を使い、t分布を用いて信頼区間を算出する。　　"
   ]
  },
  {
   "cell_type": "markdown",
   "metadata": {},
   "source": [
    "## 19-2. 母平均の信頼区間の求め方（母分散既知）"
   ]
  },
  {
   "cell_type": "markdown",
   "metadata": {},
   "source": [
    "<B>母平均の95%信頼区間</B>\n",
    "\n",
    "- 標本平均$ \\overline{x} $を求める。  \n",
    "\n",
    "\n",
    "- 標本平均の標準化を行う。\n",
    "\n",
    "    母平均を$\\mu$、母分散を$\\sigma^{2}$、抽出したサンプルサイズを$n$とすると、次の式から標本平均を標準化できる。  \n",
    "    \n",
    "    $\\displaystyle \\frac{\\overline{x}-\\mu}{\\sqrt{\\frac{\\sigma^{2}}{n}}}$ \n",
    "\n",
    "\n",
    "- 標準化した値が標準正規分布の95%の面積（＝確率）の範囲にあればよい。\n",
    "    \n",
    "    $\\displaystyle -1.96 \\leq \\frac{\\overline{x}-\\mu}{\\sqrt{\\frac{\\sigma^{2}}{n}}}  \\leq 1.96$"
   ]
  },
  {
   "cell_type": "markdown",
   "metadata": {},
   "source": [
    "<B>一般化</B>\n",
    "\n",
    "- 信頼係数$\\alpha（＝100\\alpha％）$の場合には、標準正規分布の上側確率を用いて次のように表すことができる。  \n",
    "\n",
    "- $\\displaystyle z_{\\frac{1-\\alpha}{2}}$は標準正規分布表の上側確率が$\\displaystyle \\frac{1-\\alpha}{2}$となる値（z値）を表す。  \n",
    "\n",
    "    $\\displaystyle \\overline{x}-z_{\\frac{1-\\alpha}{2}} \\times \\sqrt{\\frac{\\sigma^{2}}{n}} \\leq \\mu  \\leq \\overline{x}+z_{\\frac{1-\\alpha}{2}} \\times \\sqrt{\\frac{\\sigma^{2}}{n}}$"
   ]
  },
  {
   "cell_type": "markdown",
   "metadata": {},
   "source": [
    "## 19-3. 95％信頼区間のもつ意味"
   ]
  },
  {
   "cell_type": "markdown",
   "metadata": {},
   "source": [
    "- 母平均が95%の確率でその範囲にあるということを表している。\n",
    "\n",
    "- 「母集団から標本を取ってきて、その平均から95%信頼区間を求める、という作業を100回やったときに、95回はその区間の中に母平均が含まれる」という意味。"
   ]
  },
  {
   "cell_type": "markdown",
   "metadata": {},
   "source": [
    "# 20. 母平均の区間推定（母分散未知）"
   ]
  },
  {
   "cell_type": "markdown",
   "metadata": {},
   "source": [
    "## 20-1. 標本とt分布"
   ]
  },
  {
   "cell_type": "markdown",
   "metadata": {},
   "source": [
    "- 母分散$\\sigma^{2}$の代わりに不偏分散$s^{2}$を使う。\n",
    "\n",
    "\n",
    "- $s^{2}$を使って母平均の区間推定を行う場合には、標準正規分布ではなく「t分布」を使う。\n",
    "\n",
    "\n",
    "- 平均$\\mu$、不偏分散$s^{2}$の正規分布に従う母集団から抽出したサンプルサイズnの標本を使って算出される次に示す統計量tの値は、自由度(n-1)のt分布に従う。\n",
    "\n",
    "    $  \\displaystyle t=\\frac{\\overline{x}-\\mu}{\\sqrt{\\frac{s^{2}}{n}}} $\n",
    "    \n",
    "\n",
    "- 確率変数Xが自由度mのt分布に従っている時、Xの期待値E(X)と分散V(X)は次のようになる。\n",
    "\n",
    "    $\\displaystyle E(X)=0~~~~(m>1) $  \n",
    "\n",
    "    $\\displaystyle V(X)=\\frac{m}{m-2}~~~~(m>2) $\n"
   ]
  },
  {
   "cell_type": "markdown",
   "metadata": {},
   "source": [
    "## 20-2. t分布表"
   ]
  },
  {
   "cell_type": "markdown",
   "metadata": {},
   "source": [
    "- 抽出するサンプルサイズが十分に大きい場合、  \n",
    "    抽出されたデータから得られた統計量tの従う分布は標準正規分布N(0, 1)に近似\n",
    "\n",
    "\n",
    "- サンプルサイズが30以上であれば、ほぼ正規分布"
   ]
  },
  {
   "cell_type": "markdown",
   "metadata": {},
   "source": [
    "## 20-3. 母平均の信頼区間の求め方（母分散未知）"
   ]
  },
  {
   "cell_type": "markdown",
   "metadata": {},
   "source": [
    "$ \\displaystyle \\overline{x}-t_{\\alpha/2}(n-1) \\times \\sqrt{\\frac{s^{2}}{n}} \\leq \\mu  \\leq \\overline{x}+t_{\\alpha/2}(n-1) \\times \\sqrt{\\frac{s^{2}}{n}} $\n",
    "\n",
    "※「$t_{\\alpha/2}(n-1)$」は「自由度が(n-1)」のt分布における上側確率が$\\displaystyle \\frac{\\alpha}{2}$となる値（t値）を示す。"
   ]
  },
  {
   "cell_type": "markdown",
   "metadata": {},
   "source": [
    "## 20-4. 母平均の信頼区間の求め方（母分散未知）－エクセル統計"
   ]
  },
  {
   "cell_type": "markdown",
   "metadata": {},
   "source": [
    "## 20-5. さまざまな信頼区間（母分散未知）"
   ]
  },
  {
   "cell_type": "markdown",
   "metadata": {},
   "source": [
    "- 信頼係数が大きいほど、信頼区間の幅は広くなる。\n",
    "- サンプルサイズｎが大きいほど、区間は狭くなる。"
   ]
  },
  {
   "cell_type": "markdown",
   "metadata": {},
   "source": [
    "## 20-6. 母平均の差の信頼区間"
   ]
  },
  {
   "cell_type": "markdown",
   "metadata": {},
   "source": [
    "#### 対応があるデータの場合"
   ]
  },
  {
   "cell_type": "markdown",
   "metadata": {},
   "source": [
    "$ \\displaystyle \\overline{x}_{d}-t_{\\alpha/2}(n-1) \\times \\sqrt{\\frac{s_{d}^{2}}{n}} \\leq \\mu_{d}  \\leq \\overline{x}_{d}+t_{\\alpha/2}(n-1) \\times \\sqrt{\\frac{s_{d}^{2}}{n}} $\n",
    "\n",
    "- 差の平均値　$\\overline{x}_{d}$\n",
    "- 不偏分散　$s_{d}^{2}$\n",
    "- $t_{\\alpha/2}(n-1)$は自由度が$(n-1)$、信頼係数が$(1-\\alpha)×100$%のときのt分布表の値。"
   ]
  },
  {
   "cell_type": "markdown",
   "metadata": {},
   "source": [
    "#### 対応がないデータの場合"
   ]
  },
  {
   "cell_type": "markdown",
   "metadata": {},
   "source": [
    "- 分散$s_{p}^{2}$（プールされた分散）を、次の式から算出。  \n",
    "\n",
    "    $\\displaystyle s_{p}^{2}=\\frac{(n_{1}-1)s_{1}^{2}+(n_{2}-1)s_{2}^{2}}{n_{1}+n_{2}-2}$\n",
    "\n",
    "\n",
    "- 母平均の差$\\mu_{1}-\\mu_{2}$の信頼区間\n",
    "\n",
    "    $ \\displaystyle (\\overline{x}_{1}-\\overline{x}_{2})-t_{\\alpha/2}(n_{1}+n_{2}-2) \\times \\sqrt{s_{p}^{2}\\left(\\frac{1}{n_{1}}+\\frac{1}{n_{2}}\\right)} \\leq \\mu_{1}-\\mu_{2}  \\leq (\\overline{x}_{1}-\\overline{x}_{2})+t_{\\alpha/2}(n_{1}+n_{2}-2) \\times \\sqrt{s_{p}^{2}\\left(\\frac{1}{n_{1}}+\\frac{1}{n_{2}}\\right)}$  \n",
    "    \n",
    "    \n",
    "$t_{\\alpha/2} (n_{1}+n_{2}-2)$は自由度が$(n_{1}+n_{2}-2)$、信頼係数が$(1-\\alpha)×100$%のときのt分布表の値を示す。"
   ]
  },
  {
   "cell_type": "markdown",
   "metadata": {},
   "source": [
    "# 21. 母比率の区間推定"
   ]
  },
  {
   "cell_type": "markdown",
   "metadata": {},
   "source": [
    "## 21-1. 母比率の信頼区間の求め方1"
   ]
  },
  {
   "cell_type": "markdown",
   "metadata": {},
   "source": [
    "- 母比率の信頼区間は以下の式で求められる。\n",
    "\n",
    "    $ \\displaystyle \\widehat{p}-z_{\\frac{\\alpha}{2}} \\times \\sqrt{\\frac{\\widehat{p}(1-\\widehat{p})}{n}} \\leq p \\leq \\widehat{p} + z_{\\frac{\\alpha}{2}} \\times \\sqrt{\\frac{\\widehat{p}(1-\\widehat{p})}{n}} $\n",
    "    \n",
    "    ただし、$\\displaystyle z_{\\frac{\\alpha}{2}}$は標準正規分布における上側確率が$\\displaystyle \\frac{\\alpha}{2}$となる値（z値）を表す。\n"
   ]
  },
  {
   "cell_type": "markdown",
   "metadata": {},
   "source": [
    "## 21-2. 母比率の信頼区間の求め方2"
   ]
  },
  {
   "cell_type": "markdown",
   "metadata": {},
   "source": [
    "## 21-3. 母比率の信頼区間の求め方－エクセル統計"
   ]
  },
  {
   "cell_type": "markdown",
   "metadata": {},
   "source": [
    "## 21-4. 必要なサンプルサイズ1"
   ]
  },
  {
   "cell_type": "markdown",
   "metadata": {},
   "source": [
    "- $\\displaystyle 2 \\times z_{\\frac{1-\\alpha}{2}} \\times \\sqrt{\\frac{\\widehat{p}(1-\\widehat{p})}{n}}$\n",
    "\n",
    "\n",
    "\n",
    "- $n$が大きくなると信頼区間の幅は狭くなり、より正確な推定ができる\n",
    "    \n",
    "    \n",
    "- $\\widehat{p}$が0.5のとき、最も信頼区間が広くなり、0.5から外れるごとに信頼区間は狭くなる\n",
    "    \n",
    "    \n",
    "- 信頼区間の幅は$\\displaystyle z_{\\frac{1-\\alpha}{2}}$に比例する"
   ]
  },
  {
   "cell_type": "markdown",
   "metadata": {},
   "source": [
    "## 21-5. 必要なサンプルサイズ2"
   ]
  },
  {
   "cell_type": "markdown",
   "metadata": {},
   "source": [
    "- $\\widehat{p}$の値が分からないときは、$\\widehat{p}=0.5$を使う。  \n",
    "    信頼区間の幅が最も大きくなるのは$\\widehat{p}=0.5$の場合だから。"
   ]
  },
  {
   "cell_type": "markdown",
   "metadata": {},
   "source": [
    "## 21-6. 母比率の差の信頼区間"
   ]
  },
  {
   "cell_type": "markdown",
   "metadata": {},
   "source": [
    "- 確率変数Xが二項分布$B(n, p)$に従うとき、$n$が大きい場合には、  \n",
    "    $\\widehat{p}$は近似的に正規分布$N(p, \\frac{p(1-p)}{n})$に従うため、これらの和もまた正規分布に従う。\n",
    "    \n",
    "    $\\displaystyle \\widehat{p_1}-\\widehat{p_2} \\sim N \\left( p_1-p_2, \\frac{p_1(1-p_1)}{n_1}+\\frac{p_2(1-p_2)}{n_2}  \\right) $"
   ]
  },
  {
   "cell_type": "markdown",
   "metadata": {},
   "source": [
    "- 信頼係数を$(1-\\alpha)(=100(1-\\alpha)\\%)$とすると、次の式から母比率の差の$(100(1-\\alpha)\\%)$信頼区間を求められる。  \n",
    "\n",
    "    $ \\displaystyle (\\widehat{p_1}-\\widehat{p_2})-z_{\\frac{\\alpha}{2}} \\times \\sqrt{\\frac{\\widehat{p_1}(1-\\widehat{p_1})}{n_1}+\\frac{\\widehat{p_2}(1-\\widehat{p_2})}{n_2}} \\leq p_1-p_2 \\leq (\\widehat{p_1}-\\widehat{p_2})+z_{\\frac{\\alpha}{2}} \\times \\sqrt{\\frac{\\widehat{p_1}(1-\\widehat{p_1})}{n_1}+\\frac{\\widehat{p_2}(1-\\widehat{p_2})}{n_2}}$\n",
    "    \n",
    "    ただし、$p_1$、サンプルサイズを$n_1$、2群目の標本比率を$p_2$、サンプルサイズを$n_2$とする。  \n",
    "    $\\displaystyle z_{\\frac{\\alpha}{2}}$は標準正規分布における上側確率が$\\displaystyle \\frac{\\alpha}{2}$となる値（$z$値）を表す。"
   ]
  },
  {
   "cell_type": "markdown",
   "metadata": {},
   "source": [
    "#  22. 母分散の区間推定"
   ]
  },
  {
   "cell_type": "markdown",
   "metadata": {},
   "source": [
    "##  22-1. カイ二乗分布"
   ]
  },
  {
   "cell_type": "markdown",
   "metadata": {},
   "source": [
    "- カイ二乗分布は、$Z_{1}, Z_{2}, …, Z_{k}$が互いに独立で標準正規分布$N(0, 1)$に従う確率変数であるとき、  \n",
    "    次の式から算出される自由度$k$の$\\chi^{2}$が従う確率分布。\n",
    "    \n",
    "    $ \\displaystyle \\chi^{2}=Z_{1}^{2}+Z_{2}^{2}+\\cdots+Z_{k}^{2} $"
   ]
  },
  {
   "cell_type": "markdown",
   "metadata": {},
   "source": [
    "- 確率変数Xが自由度$k$のカイ二乗分布に従っている時、$X$の期待値$E(X)$と分散$V(X)$は次のようになる。\n",
    "\n",
    "    $\\displaystyle E(X)=k$\n",
    "\n",
    "    $\\displaystyle V(X)=2k$"
   ]
  },
  {
   "cell_type": "markdown",
   "metadata": {},
   "source": [
    "## 22-2. カイ二乗分布表"
   ]
  },
  {
   "cell_type": "markdown",
   "metadata": {},
   "source": [
    "## 22-3. 母分散の信頼区間の求め方1"
   ]
  },
  {
   "cell_type": "markdown",
   "metadata": {},
   "source": [
    "- 母集団が母分散$\\sigma^{2}$の正規分布に従う時、  \n",
    "    抽出された標本のサンプルサイズを$n$、不偏分散を$s^{2}$とすると、   \n",
    "    次の式で表される$\\chi^{2}$（カイ二乗）が自由度$(n-1)$のカイ二乗分布に従う。\n",
    "    \n",
    "    $\\displaystyle \\chi^{2}=\\frac{(n-1)s^{2}}{\\sigma^{2}}$"
   ]
  },
  {
   "cell_type": "markdown",
   "metadata": {},
   "source": [
    "- サンプルサイズを$n$、母分散を$\\sigma^{2}$、標本から得られた不偏分散を$s^{2}$、  \n",
    "    信頼係数を$(1-\\alpha)(=100(1-\\alpha)\\%)$とすると、  \n",
    "    次の式から母分散$\\sigma^{2}$の$(100(1-\\alpha))\\$%信頼区間を求めることができる。\n",
    "        \n",
    "    $\\displaystyle \\frac{(n-1)s^{2}}{\\chi_{\\alpha/2}^{2}(n-1)} \\leq \\sigma^{2} \\leq \\frac{(n-1)s^{2}}{\\chi_{1-\\alpha/2}^{2}(n-1)} $\n",
    "    \n",
    "    \n",
    "- 「$\\chi_{\\alpha/2}^{2}(n-1)$」は  「自由度が$(n-1)$」のカイ二乗分布における上側確率が$\\displaystyle \\frac{\\alpha}{2}$となる値を、  \n",
    "    「$\\chi_{1-\\alpha/2}^{2}(n-1)$」は下側確率が$\\displaystyle \\frac{\\alpha}{2}$となる値を示す。"
   ]
  },
  {
   "cell_type": "markdown",
   "metadata": {},
   "source": [
    "## 22-4. 母分散の信頼区間の求め方2"
   ]
  },
  {
   "cell_type": "markdown",
   "metadata": {},
   "source": [
    "#  23. 検定の前に"
   ]
  },
  {
   "cell_type": "markdown",
   "metadata": {},
   "source": [
    "## 23-1. 検定とは"
   ]
  },
  {
   "cell_type": "markdown",
   "metadata": {},
   "source": [
    "- 統計的仮説検定（「検定」とも言う）：　確率をもとに結論を導く方法。\n",
    "\n",
    "\n",
    "- 検定は「最初に仮説を立て、実際に起こった結果を確率的に検証し、結論を導く」という手順で行う。\n",
    "\n",
    "\n",
    "- 結論を導くには「背理法」を用いる。\n",
    "\n",
    "\n",
    "- 背理法とは「最初に仮説を設定し、仮説が正しいとした条件で考えて矛盾が起こった場合に仮説が間違っていると判断する」方法。"
   ]
  },
  {
   "cell_type": "markdown",
   "metadata": {},
   "source": [
    "## 23-2. 検定で使う用語"
   ]
  },
  {
   "cell_type": "markdown",
   "metadata": {},
   "source": [
    "- 検定統計量から算出されたP値を元に検定の結論を導く。\n",
    "\n",
    "\n",
    "- 検定統計量  \n",
    "    帰無仮説が正しいと仮定したときに、観測した事象よりも稀なことが起こる確率を計算するための値。\n",
    "\n",
    "\n",
    "- P値  \n",
    "    帰無仮説が正しいとした仮定とき、観測した事象よりも極端なことが起こる確率。\n",
    "    \n",
    "\n",
    "- 有意水準  \n",
    "    帰無仮説を棄却するための基準となる確率。\n",
    "\n",
    "\n",
    "- 棄却  \n",
    "    仮説を捨てること。P値が有意水準よりも小さい時は、帰無仮説を捨て対立仮説を採択する。"
   ]
  },
  {
   "cell_type": "markdown",
   "metadata": {},
   "source": [
    "## 23-3. 有意水準と検出力"
   ]
  },
  {
   "cell_type": "markdown",
   "metadata": {},
   "source": [
    "- 有意水準  \n",
    "    有意水準を0.05に設定するということは、  \n",
    "    「5%以下の確率で起こる事象は、100回に5回以下しか起こらない事象だ。  \n",
    "    したがってこのようなまれな事象が起こった場合、偶然起こったものではないとしてしまおう」   \n",
    "    ということ。\n",
    "\n",
    "\n",
    "- 検出力  \n",
    "    帰無仮説$H_{0}$が正しくないときに、正しく$H_{0}$を棄却する確率"
   ]
  },
  {
   "cell_type": "markdown",
   "metadata": {},
   "source": [
    "## 23-4. 第1種の過誤と第2種の過誤"
   ]
  },
  {
   "cell_type": "markdown",
   "metadata": {},
   "source": [
    "- 第一種の過誤  \n",
    "    帰無仮説が真であるのにもかかわらず、帰無仮説を偽として棄却してしまう誤り。\n",
    "\n",
    "\n",
    "- 第二種の過誤  \n",
    "    帰無仮説が偽であるのにもかかわらずそれを真として棄却しない誤り。"
   ]
  },
  {
   "cell_type": "markdown",
   "metadata": {},
   "source": [
    "## 23-5. 検定統計量と棄却域・採択域"
   ]
  },
  {
   "cell_type": "markdown",
   "metadata": {},
   "source": [
    "- 統計量z（=z値）  \n",
    "    $\\displaystyle z=\\frac{\\overline{x}-\\mu}{\\sqrt{\\frac{\\sigma^{2}}{n}}}$  \n",
    "    \n",
    "    統計量$z$を用いた検定を行う際には標準正規分布を使う。\n",
    "    \n",
    "    \n",
    "- 統計量t（=t値）  \n",
    "    $\\displaystyle t=\\frac{\\overline{x}-\\mu}{\\sqrt{\\frac{s^{2}}{n}}}$  \n",
    "    \n",
    "    統計量tを用いた検定を行う際には自由度$(n-1)$のt分布を使う。"
   ]
  },
  {
   "cell_type": "markdown",
   "metadata": {},
   "source": [
    "## 23-6. 両側検定と片側検定"
   ]
  },
  {
   "cell_type": "markdown",
   "metadata": {},
   "source": [
    "- 両側検定  \n",
    "    帰無仮説が$H_0\\colon \\mu_A = \\mu_B$、対立仮説が$H_1\\colon \\mu_A \\neq \\mu_B$であるときに行う検定のこと。\n",
    "\n",
    "\n",
    "- 片側検定  \n",
    "    帰無仮説が$H_{0}:\\mu _{A}=\\mu _{B}$のときに、対立仮説が$H_{1}:\\mu _{A}>\\mu _{B}$または$H_{2}:\\mu _{A}<\\mu _{B}$であるときに行う検定のこと。  \n",
    "    一方の群に対して大小関係が予想できる場合に用いることができる。"
   ]
  },
  {
   "cell_type": "markdown",
   "metadata": {},
   "source": [
    "# 24. 平均値の検定"
   ]
  },
  {
   "cell_type": "markdown",
   "metadata": {},
   "source": [
    "## 24-1. 母平均の検定（両側t検定）"
   ]
  },
  {
   "cell_type": "markdown",
   "metadata": {},
   "source": [
    "## 24-2. 母平均の検定（片側t検定）"
   ]
  },
  {
   "cell_type": "markdown",
   "metadata": {},
   "source": [
    "## 24-3. 2標本t検定とは"
   ]
  },
  {
   "cell_type": "markdown",
   "metadata": {},
   "source": [
    "##### ■対応がない場合の2標本t検定の方法"
   ]
  },
  {
   "cell_type": "markdown",
   "metadata": {},
   "source": [
    "- 2標本t検定  \n",
    "    2つの独立した母集団があり、それぞれの母集団から抽出した標本の平均に差があるかどうかを検定すること\n",
    "    \n",
    "\n",
    "- 2標本t検定のための統計量tを求める式は、2標本の母分散が等しいという前提のもとに使う。"
   ]
  },
  {
   "cell_type": "markdown",
   "metadata": {},
   "source": [
    "- 母分散が分からない場合、  \n",
    "    1群目の標本平均を$\\overline{x}_{1}$、母平均を$\\mu_1$、サンプルサイズを$n_{1}$、  \n",
    "    2群目の標本平均を$\\overline{x}_{2}$、母平均を$\\mu_2$、サンプルサイズを$n_{2}$としたときに、  \n",
    "    次の式から算出される統計量tを使う。\n",
    "    （「母平均が等しい」という仮説が正しいとすると、$(\\mu_1-\\mu_2)=0$であるから）\n",
    "    検定で用いるのは自由度$(n_{1}+n_{2}-2)$のt分布。  \n",
    "    \n",
    "    $ \\displaystyle t=\\frac{\\overline{x}_{1}-\\overline{x}_{2}}{\\sqrt{s^{2}\\left(\\frac{1}{n_{1}}+\\frac{1}{n_{2}}\\right)}}=\\frac{\\overline{x}_{1}-\\overline{x}_{2}}{s\\sqrt{\\frac{1}{n_{1}}+\\frac{1}{n_{2}}}} $\n"
   ]
  },
  {
   "cell_type": "markdown",
   "metadata": {},
   "source": [
    "- $s^{2}$は、以下のプールした分散を利用する。\n",
    "\n",
    "    $ \\displaystyle s^{2}=\\frac{(n_{1}-1) \\times {s_{1}}^{2}+(n_{2}-1) \\times {s_{2}}^{2}}{n_{1}+n_{2}-2} $"
   ]
  },
  {
   "cell_type": "markdown",
   "metadata": {},
   "source": [
    "##### ■対応がある場合の2標本t検定の方法"
   ]
  },
  {
   "cell_type": "markdown",
   "metadata": {},
   "source": [
    "- 対応がある場合の2標本t検定では、「対応のあるデータの差」を用いて検定を行う。  \n",
    "    差を用いると実質は1標本の検定となる。\n",
    "    \n",
    "    \n",
    "- 帰無仮説$H_{0}$は「対応のあるデータの差の平均は0である」となります。"
   ]
  },
  {
   "cell_type": "markdown",
   "metadata": {},
   "source": [
    "## 24-4. 対応のない2標本t検定"
   ]
  },
  {
   "cell_type": "markdown",
   "metadata": {},
   "source": [
    "## 24-5. 対応のある2標本t検定"
   ]
  },
  {
   "cell_type": "markdown",
   "metadata": {},
   "source": [
    "$\\overline{d}$は差の平均、$\\mu$は差の母平均、$n$はサンプルサイズを表す。\n",
    "\n",
    "$ \\displaystyle t=\\frac{\\overline{d}-\\mu}{\\sqrt{\\frac{s^{2}}{n}}}=\\frac{\\overline{d}-\\mu}{\\frac{s}{\\sqrt{n}}} $\n"
   ]
  },
  {
   "cell_type": "markdown",
   "metadata": {},
   "source": [
    "# 25. さまざまな検定"
   ]
  },
  {
   "cell_type": "markdown",
   "metadata": {},
   "source": [
    "## 25-1. 母比率の検定"
   ]
  },
  {
   "cell_type": "markdown",
   "metadata": {},
   "source": [
    "- 母集団が正規分布に従わない場合でも、  \n",
    "    標本が十分に大きい場合には標本平均の分布は正規分布に従うことから（中心極限定理）、  \n",
    "    標準正規分布を用いて検定を行うことができる。"
   ]
  },
  {
   "cell_type": "code",
   "execution_count": null,
   "metadata": {},
   "outputs": [],
   "source": []
  }
 ],
 "metadata": {
  "kernelspec": {
   "display_name": "Python 3",
   "language": "python",
   "name": "python3"
  },
  "language_info": {
   "codemirror_mode": {
    "name": "ipython",
    "version": 3
   },
   "file_extension": ".py",
   "mimetype": "text/x-python",
   "name": "python",
   "nbconvert_exporter": "python",
   "pygments_lexer": "ipython3",
   "version": "3.7.7"
  },
  "latex_envs": {
   "LaTeX_envs_menu_present": true,
   "autoclose": false,
   "autocomplete": true,
   "bibliofile": "biblio.bib",
   "cite_by": "apalike",
   "current_citInitial": 1,
   "eqLabelWithNumbers": true,
   "eqNumInitial": 1,
   "hotkeys": {
    "equation": "Ctrl-E",
    "itemize": "Ctrl-I"
   },
   "labels_anchors": false,
   "latex_user_defs": false,
   "report_style_numbering": false,
   "user_envs_cfg": false
  },
  "toc": {
   "base_numbering": 1,
   "nav_menu": {},
   "number_sections": false,
   "sideBar": true,
   "skip_h1_title": false,
   "title_cell": "Table of Contents",
   "title_sidebar": "Contents",
   "toc_cell": false,
   "toc_position": {
    "height": "calc(100% - 180px)",
    "left": "10px",
    "top": "150px",
    "width": "256px"
   },
   "toc_section_display": true,
   "toc_window_display": true
  }
 },
 "nbformat": 4,
 "nbformat_minor": 4
}
