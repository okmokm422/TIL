{
 "cells": [
  {
   "cell_type": "markdown",
   "metadata": {},
   "source": [
    "# Global Wheat Detection Note"
   ]
  },
  {
   "cell_type": "markdown",
   "metadata": {},
   "source": [
    "## Overview"
   ]
  },
  {
   "cell_type": "markdown",
   "metadata": {},
   "source": [
    "### Description"
   ]
  },
  {
   "cell_type": "markdown",
   "metadata": {},
   "source": [
    "- 世界中のイメージデータから、小麦の穂の数とサイズを識別する。\n",
    "- 訓練データは欧米のもの3000個、テストデータはオーストラリア・日本・中国のもの1000個。"
   ]
  },
  {
   "cell_type": "markdown",
   "metadata": {},
   "source": [
    "### Evaluation"
   ]
  },
  {
   "cell_type": "markdown",
   "metadata": {},
   "source": [
    "- intersection over union (IoU)  \n",
    "\n",
    "    - $\\displaystyle IoU(A,B) = \\frac{A \\cap B}{ A \\cup B}$\n",
    "    - ２つのbounding boxの重なり合う領域　÷　２つのbounding boxのすべての領域\n",
    "\n",
    "\n",
    "-  The average precision of a single image  \n",
    "\n",
    "    - $\\displaystyle \\frac{1}{|thresholds|} \\sum_t \\frac{TP(t)}{TP(t) + FP(t) + FN(t)}$\n",
    "    \n",
    "\n",
    "- submission data\n",
    "     \n",
    "    - image_id, confidence level, x, y, width, height"
   ]
  },
  {
   "cell_type": "markdown",
   "metadata": {},
   "source": [
    "## Discussion"
   ]
  },
  {
   "cell_type": "markdown",
   "metadata": {},
   "source": [
    "### [Competition Rules](https://www.kaggle.com/c/global-wheat-detection/discussion/165735)"
   ]
  },
  {
   "cell_type": "markdown",
   "metadata": {},
   "source": [
    "- 最終提出の２つのsubmissionはMIT Licenseを満たす必要がある。"
   ]
  },
  {
   "cell_type": "markdown",
   "metadata": {},
   "source": [
    "### [To anyone using YoloV5, torchvision, etc: a warning about licensing](https://www.kaggle.com/c/global-wheat-detection/discussion/164845#923524)"
   ]
  },
  {
   "cell_type": "markdown",
   "metadata": {},
   "source": [
    "- 今回のコンペではGPL（YoloV5）やBSD-3（torchvision）はライセンスとして認められない。\n",
    "\n",
    "\n",
    "- [ライブラリの使い方について](https://www.kaggle.com/c/global-wheat-detection/discussion/164845#919913)  \n",
    "    YoloV5はimportしてもよいが、ソースコードの変更は認められない（ちょっと微妙？）\n",
    "\n",
    "\n",
    "- [torchvisionのimportについて](https://www.kaggle.com/c/global-wheat-detection/discussion/164845#926760)  \n",
    "\n",
    "\n",
    "- [efficientdetのルール](https://www.kaggle.com/c/global-wheat-detection/discussion/164845#922158)"
   ]
  },
  {
   "cell_type": "code",
   "execution_count": null,
   "metadata": {},
   "outputs": [],
   "source": []
  }
 ],
 "metadata": {
  "kernelspec": {
   "display_name": "Python 3",
   "language": "python",
   "name": "python3"
  },
  "language_info": {
   "codemirror_mode": {
    "name": "ipython",
    "version": 3
   },
   "file_extension": ".py",
   "mimetype": "text/x-python",
   "name": "python",
   "nbconvert_exporter": "python",
   "pygments_lexer": "ipython3",
   "version": "3.7.6"
  }
 },
 "nbformat": 4,
 "nbformat_minor": 4
}
